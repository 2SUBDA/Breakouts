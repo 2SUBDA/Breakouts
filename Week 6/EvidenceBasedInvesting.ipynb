{
  "nbformat": 4,
  "nbformat_minor": 0,
  "metadata": {
    "colab": {
      "name": "EvidenceBasedInvesting.ipynb",
      "version": "0.3.2",
      "provenance": [],
      "collapsed_sections": [],
      "include_colab_link": true
    },
    "kernelspec": {
      "name": "python3",
      "display_name": "Python 3"
    }
  },
  "cells": [
    {
      "cell_type": "markdown",
      "metadata": {
        "id": "view-in-github",
        "colab_type": "text"
      },
      "source": [
        "<a href=\"https://colab.research.google.com/github/2SUBDA/Breakouts/blob/Week6/EvidenceBasedInvesting.ipynb\" target=\"_parent\"><img src=\"https://colab.research.google.com/assets/colab-badge.svg\" alt=\"Open In Colab\"/></a>"
      ]
    },
    {
      "metadata": {
        "id": "jAVh5Y-DLPgq",
        "colab_type": "text"
      },
      "cell_type": "markdown",
      "source": [
        "Based on the Monte Carlo Simulation notebook developed by Matt Macarty\n"
      ]
    },
    {
      "metadata": {
        "id": "Ot7AI1jLKzQ3",
        "colab_type": "code",
        "colab": {}
      },
      "cell_type": "code",
      "source": [
        "# Install base libraries\n",
        "\n",
        "import numpy as np\n",
        "from pandas import Series, DataFrame\n",
        "%matplotlib inline\n",
        "import matplotlib.pyplot as plots\n",
        "from babel.numbers import format_currency\n",
        "\n",
        "plots.style.use('fivethirtyeight')\n"
      ],
      "execution_count": 0,
      "outputs": []
    },
    {
      "metadata": {
        "id": "VAOtrdwcNn_g",
        "colab_type": "code",
        "colab": {
          "base_uri": "https://localhost:8080/",
          "height": 545
        },
        "outputId": "0efff3fc-cd89-4d31-ea34-edcd20a83959"
      },
      "cell_type": "code",
      "source": [
        "# OBTAIN - Build Base Investment and Calculate Growth\n",
        "\n",
        "pv = 10000\n",
        "time_horizon = 30\n",
        "i =.07\n",
        "additions = 10000\n",
        "\n",
        "for year in range(time_horizon):\n",
        "    ending = pv * (1+i) + additions\n",
        "    print(format_currency(ending, 'USD'))\n",
        "    pv = ending"
      ],
      "execution_count": 42,
      "outputs": [
        {
          "output_type": "stream",
          "text": [
            "$20,700.00\n",
            "$32,149.00\n",
            "$44,399.43\n",
            "$57,507.39\n",
            "$71,532.91\n",
            "$86,540.21\n",
            "$102,598.03\n",
            "$119,779.89\n",
            "$138,164.48\n",
            "$157,835.99\n",
            "$178,884.51\n",
            "$201,406.43\n",
            "$225,504.88\n",
            "$251,290.22\n",
            "$278,880.54\n",
            "$308,402.17\n",
            "$339,990.33\n",
            "$373,789.65\n",
            "$409,954.92\n",
            "$448,651.77\n",
            "$490,057.39\n",
            "$534,361.41\n",
            "$581,766.71\n",
            "$632,490.38\n",
            "$686,764.70\n",
            "$744,838.23\n",
            "$806,976.91\n",
            "$873,465.29\n",
            "$944,607.86\n",
            "$1,020,730.41\n"
          ],
          "name": "stdout"
        }
      ]
    },
    {
      "metadata": {
        "id": "spt0H7_UOZL4",
        "colab_type": "code",
        "colab": {
          "base_uri": "https://localhost:8080/",
          "height": 562
        },
        "outputId": "70b26cd7-9cc8-4b37-eab0-d39f273e1739"
      },
      "cell_type": "code",
      "source": [
        "# OBTAIN - Using random variation based on market history - 7.10% - S&P 500\n",
        "\n",
        "\n",
        "pv = 10000\n",
        "expected_return = .071\n",
        "volatility = .10\n",
        "time_horizon = 30\n",
        "annual_addition = 10000\n",
        "\n",
        "#print(\"\\tEnding Value\".rjust(9))\n",
        "print(\"\\tReturn\", \"\\t\\tEnding Value\".rjust(18))\n",
        "for year in range(time_horizon):\n",
        "    market_return = np.random.normal(expected_return, volatility)\n",
        "    fv = pv * (1 + market_return) + annual_addition\n",
        "    print(\"\\t{}\".ljust(10).format(round(market_return,4)), \"\\t{}\".rjust(10).format(format_currency(fv, 'USD')))\n",
        "    #print(format_currency(fv, 'USD') )\n",
        "    pv = fv"
      ],
      "execution_count": 43,
      "outputs": [
        {
          "output_type": "stream",
          "text": [
            "\tReturn     \t\tEnding Value\n",
            "\t0.0317               \t$20,317.41\n",
            "\t0.0557               \t$31,449.76\n",
            "\t0.1098               \t$44,903.96\n",
            "\t-0.0765               \t$51,470.68\n",
            "\t0.1252               \t$67,912.60\n",
            "\t0.1107               \t$85,432.10\n",
            "\t0.081               \t$102,351.21\n",
            "\t0.0399               \t$116,434.46\n",
            "\t0.0235               \t$129,170.87\n",
            "\t0.1704               \t$161,175.75\n",
            "\t0.0769               \t$183,576.78\n",
            "\t-0.0793               \t$179,016.29\n",
            "\t0.1084               \t$208,418.07\n",
            "\t0.0507               \t$228,975.08\n",
            "\t0.0924               \t$260,139.74\n",
            "\t-0.0668               \t$252,770.97\n",
            "\t0.1886               \t$310,432.06\n",
            "\t0.309               \t$416,353.55\n",
            "\t-0.0343               \t$412,065.00\n",
            "\t0.0973               \t$462,145.25\n",
            "\t-0.0385               \t$454,360.88\n",
            "\t0.1247               \t$521,017.22\n",
            "\t0.3162               \t$695,753.53\n",
            "\t0.0385               \t$732,554.17\n",
            "\t0.1957               \t$885,940.07\n",
            "\t0.0612               \t$950,203.43\n",
            "\t0.0009               \t$961,059.19\n",
            "\t-0.0252               \t$946,830.94\n",
            "\t0.0203               \t$976,052.51\n",
            "\t0.0796               \t$1,063,778.98\n"
          ],
          "name": "stdout"
        }
      ]
    },
    {
      "metadata": {
        "id": "snYB_SaxLXfb",
        "colab_type": "code",
        "colab": {}
      },
      "cell_type": "code",
      "source": [
        "# MODEL - Simulate Multiple Outcomes\n",
        "\n",
        "sim = DataFrame()\n",
        "iterations = 5000\n",
        "\n",
        "\n",
        "for x in range(iterations):\n",
        "    expected_return = .071 # Return of S&P 500 - 10 year avg\n",
        "    volatility = .15 # Frequency and severity that market price fluctuates\n",
        "    time_horizon = 30\n",
        "    pv = 10000\n",
        "    annual_investment = 10000\n",
        "    stream = []\n",
        "    for i in range(time_horizon):\n",
        "        end = round(pv * (1 + np.random.normal(expected_return,volatility)) + annual_investment,2)\n",
        "        \n",
        "        stream.append(end)\n",
        "\n",
        "        pv = end\n",
        "\n",
        "    \n",
        "    sim[x] = stream"
      ],
      "execution_count": 0,
      "outputs": []
    },
    {
      "metadata": {
        "id": "SMrs_2AELoEZ",
        "colab_type": "code",
        "colab": {
          "base_uri": "https://localhost:8080/",
          "height": 935
        },
        "outputId": "07465a50-f96a-4b25-e505-908d3d72be5d"
      },
      "cell_type": "code",
      "source": [
        "# EXPLORE  - Look at sample of annual ending values\n",
        "\n",
        "first_five = list(range(5))\n",
        "sim[first_five]\n"
      ],
      "execution_count": 63,
      "outputs": [
        {
          "output_type": "execute_result",
          "data": {
            "text/html": [
              "<div>\n",
              "<style scoped>\n",
              "    .dataframe tbody tr th:only-of-type {\n",
              "        vertical-align: middle;\n",
              "    }\n",
              "\n",
              "    .dataframe tbody tr th {\n",
              "        vertical-align: top;\n",
              "    }\n",
              "\n",
              "    .dataframe thead th {\n",
              "        text-align: right;\n",
              "    }\n",
              "</style>\n",
              "<table border=\"1\" class=\"dataframe\">\n",
              "  <thead>\n",
              "    <tr style=\"text-align: right;\">\n",
              "      <th></th>\n",
              "      <th>0</th>\n",
              "      <th>1</th>\n",
              "      <th>2</th>\n",
              "      <th>3</th>\n",
              "      <th>4</th>\n",
              "    </tr>\n",
              "  </thead>\n",
              "  <tbody>\n",
              "    <tr>\n",
              "      <th>0</th>\n",
              "      <td>20407.23</td>\n",
              "      <td>17960.70</td>\n",
              "      <td>24002.46</td>\n",
              "      <td>20565.14</td>\n",
              "      <td>21473.30</td>\n",
              "    </tr>\n",
              "    <tr>\n",
              "      <th>1</th>\n",
              "      <td>35225.70</td>\n",
              "      <td>24836.79</td>\n",
              "      <td>36600.52</td>\n",
              "      <td>29821.70</td>\n",
              "      <td>37642.27</td>\n",
              "    </tr>\n",
              "    <tr>\n",
              "      <th>2</th>\n",
              "      <td>58419.08</td>\n",
              "      <td>33679.82</td>\n",
              "      <td>47807.54</td>\n",
              "      <td>44324.56</td>\n",
              "      <td>49792.33</td>\n",
              "    </tr>\n",
              "    <tr>\n",
              "      <th>3</th>\n",
              "      <td>74238.23</td>\n",
              "      <td>52401.99</td>\n",
              "      <td>64244.28</td>\n",
              "      <td>56416.85</td>\n",
              "      <td>49542.71</td>\n",
              "    </tr>\n",
              "    <tr>\n",
              "      <th>4</th>\n",
              "      <td>101760.84</td>\n",
              "      <td>57808.14</td>\n",
              "      <td>76962.22</td>\n",
              "      <td>69670.41</td>\n",
              "      <td>64525.06</td>\n",
              "    </tr>\n",
              "    <tr>\n",
              "      <th>5</th>\n",
              "      <td>139918.18</td>\n",
              "      <td>61642.47</td>\n",
              "      <td>86157.13</td>\n",
              "      <td>80776.32</td>\n",
              "      <td>77541.23</td>\n",
              "    </tr>\n",
              "    <tr>\n",
              "      <th>6</th>\n",
              "      <td>151437.49</td>\n",
              "      <td>77976.97</td>\n",
              "      <td>121870.84</td>\n",
              "      <td>90095.73</td>\n",
              "      <td>112380.27</td>\n",
              "    </tr>\n",
              "    <tr>\n",
              "      <th>7</th>\n",
              "      <td>179252.50</td>\n",
              "      <td>84190.36</td>\n",
              "      <td>127736.26</td>\n",
              "      <td>99131.25</td>\n",
              "      <td>123527.12</td>\n",
              "    </tr>\n",
              "    <tr>\n",
              "      <th>8</th>\n",
              "      <td>194995.77</td>\n",
              "      <td>106074.04</td>\n",
              "      <td>167514.36</td>\n",
              "      <td>128828.83</td>\n",
              "      <td>141647.77</td>\n",
              "    </tr>\n",
              "    <tr>\n",
              "      <th>9</th>\n",
              "      <td>118954.55</td>\n",
              "      <td>142618.28</td>\n",
              "      <td>166207.00</td>\n",
              "      <td>127626.96</td>\n",
              "      <td>164304.04</td>\n",
              "    </tr>\n",
              "    <tr>\n",
              "      <th>10</th>\n",
              "      <td>115802.37</td>\n",
              "      <td>114818.90</td>\n",
              "      <td>184182.38</td>\n",
              "      <td>161612.09</td>\n",
              "      <td>227375.66</td>\n",
              "    </tr>\n",
              "    <tr>\n",
              "      <th>11</th>\n",
              "      <td>142230.23</td>\n",
              "      <td>127693.09</td>\n",
              "      <td>251899.99</td>\n",
              "      <td>209799.30</td>\n",
              "      <td>243452.29</td>\n",
              "    </tr>\n",
              "    <tr>\n",
              "      <th>12</th>\n",
              "      <td>118854.47</td>\n",
              "      <td>160158.46</td>\n",
              "      <td>334339.17</td>\n",
              "      <td>189427.74</td>\n",
              "      <td>258528.50</td>\n",
              "    </tr>\n",
              "    <tr>\n",
              "      <th>13</th>\n",
              "      <td>165464.47</td>\n",
              "      <td>185454.51</td>\n",
              "      <td>361701.01</td>\n",
              "      <td>230547.32</td>\n",
              "      <td>284278.79</td>\n",
              "    </tr>\n",
              "    <tr>\n",
              "      <th>14</th>\n",
              "      <td>173371.15</td>\n",
              "      <td>223495.07</td>\n",
              "      <td>394712.53</td>\n",
              "      <td>236569.50</td>\n",
              "      <td>366042.38</td>\n",
              "    </tr>\n",
              "    <tr>\n",
              "      <th>15</th>\n",
              "      <td>216210.33</td>\n",
              "      <td>275544.00</td>\n",
              "      <td>437293.33</td>\n",
              "      <td>234467.91</td>\n",
              "      <td>452269.38</td>\n",
              "    </tr>\n",
              "    <tr>\n",
              "      <th>16</th>\n",
              "      <td>192344.62</td>\n",
              "      <td>273934.86</td>\n",
              "      <td>560169.69</td>\n",
              "      <td>266838.20</td>\n",
              "      <td>318276.60</td>\n",
              "    </tr>\n",
              "    <tr>\n",
              "      <th>17</th>\n",
              "      <td>181276.36</td>\n",
              "      <td>242586.36</td>\n",
              "      <td>629568.76</td>\n",
              "      <td>358641.09</td>\n",
              "      <td>380241.23</td>\n",
              "    </tr>\n",
              "    <tr>\n",
              "      <th>18</th>\n",
              "      <td>191752.81</td>\n",
              "      <td>259397.45</td>\n",
              "      <td>666806.43</td>\n",
              "      <td>411921.33</td>\n",
              "      <td>410588.14</td>\n",
              "    </tr>\n",
              "    <tr>\n",
              "      <th>19</th>\n",
              "      <td>193099.87</td>\n",
              "      <td>266048.73</td>\n",
              "      <td>743350.48</td>\n",
              "      <td>492086.95</td>\n",
              "      <td>339325.33</td>\n",
              "    </tr>\n",
              "    <tr>\n",
              "      <th>20</th>\n",
              "      <td>259030.73</td>\n",
              "      <td>344415.90</td>\n",
              "      <td>810976.90</td>\n",
              "      <td>541269.68</td>\n",
              "      <td>295566.21</td>\n",
              "    </tr>\n",
              "    <tr>\n",
              "      <th>21</th>\n",
              "      <td>275580.43</td>\n",
              "      <td>460614.54</td>\n",
              "      <td>840712.97</td>\n",
              "      <td>596296.28</td>\n",
              "      <td>311698.42</td>\n",
              "    </tr>\n",
              "    <tr>\n",
              "      <th>22</th>\n",
              "      <td>373087.65</td>\n",
              "      <td>403201.91</td>\n",
              "      <td>984012.72</td>\n",
              "      <td>794787.16</td>\n",
              "      <td>321008.75</td>\n",
              "    </tr>\n",
              "    <tr>\n",
              "      <th>23</th>\n",
              "      <td>396486.28</td>\n",
              "      <td>440705.84</td>\n",
              "      <td>1234856.96</td>\n",
              "      <td>861267.54</td>\n",
              "      <td>264720.79</td>\n",
              "    </tr>\n",
              "    <tr>\n",
              "      <th>24</th>\n",
              "      <td>377188.90</td>\n",
              "      <td>572357.76</td>\n",
              "      <td>1164211.86</td>\n",
              "      <td>800203.33</td>\n",
              "      <td>275475.02</td>\n",
              "    </tr>\n",
              "    <tr>\n",
              "      <th>25</th>\n",
              "      <td>465188.13</td>\n",
              "      <td>603766.69</td>\n",
              "      <td>1157151.34</td>\n",
              "      <td>654440.03</td>\n",
              "      <td>233669.85</td>\n",
              "    </tr>\n",
              "    <tr>\n",
              "      <th>26</th>\n",
              "      <td>473112.25</td>\n",
              "      <td>530287.56</td>\n",
              "      <td>1238579.55</td>\n",
              "      <td>727161.57</td>\n",
              "      <td>223298.19</td>\n",
              "    </tr>\n",
              "    <tr>\n",
              "      <th>27</th>\n",
              "      <td>631648.72</td>\n",
              "      <td>666412.52</td>\n",
              "      <td>1427511.94</td>\n",
              "      <td>764539.78</td>\n",
              "      <td>274148.86</td>\n",
              "    </tr>\n",
              "    <tr>\n",
              "      <th>28</th>\n",
              "      <td>713700.47</td>\n",
              "      <td>551275.49</td>\n",
              "      <td>1463841.89</td>\n",
              "      <td>655044.10</td>\n",
              "      <td>324009.84</td>\n",
              "    </tr>\n",
              "    <tr>\n",
              "      <th>29</th>\n",
              "      <td>738201.01</td>\n",
              "      <td>607530.94</td>\n",
              "      <td>1526879.97</td>\n",
              "      <td>531285.35</td>\n",
              "      <td>399325.84</td>\n",
              "    </tr>\n",
              "  </tbody>\n",
              "</table>\n",
              "</div>"
            ],
            "text/plain": [
              "            0          1           2          3          4\n",
              "0    20407.23   17960.70    24002.46   20565.14   21473.30\n",
              "1    35225.70   24836.79    36600.52   29821.70   37642.27\n",
              "2    58419.08   33679.82    47807.54   44324.56   49792.33\n",
              "3    74238.23   52401.99    64244.28   56416.85   49542.71\n",
              "4   101760.84   57808.14    76962.22   69670.41   64525.06\n",
              "5   139918.18   61642.47    86157.13   80776.32   77541.23\n",
              "6   151437.49   77976.97   121870.84   90095.73  112380.27\n",
              "7   179252.50   84190.36   127736.26   99131.25  123527.12\n",
              "8   194995.77  106074.04   167514.36  128828.83  141647.77\n",
              "9   118954.55  142618.28   166207.00  127626.96  164304.04\n",
              "10  115802.37  114818.90   184182.38  161612.09  227375.66\n",
              "11  142230.23  127693.09   251899.99  209799.30  243452.29\n",
              "12  118854.47  160158.46   334339.17  189427.74  258528.50\n",
              "13  165464.47  185454.51   361701.01  230547.32  284278.79\n",
              "14  173371.15  223495.07   394712.53  236569.50  366042.38\n",
              "15  216210.33  275544.00   437293.33  234467.91  452269.38\n",
              "16  192344.62  273934.86   560169.69  266838.20  318276.60\n",
              "17  181276.36  242586.36   629568.76  358641.09  380241.23\n",
              "18  191752.81  259397.45   666806.43  411921.33  410588.14\n",
              "19  193099.87  266048.73   743350.48  492086.95  339325.33\n",
              "20  259030.73  344415.90   810976.90  541269.68  295566.21\n",
              "21  275580.43  460614.54   840712.97  596296.28  311698.42\n",
              "22  373087.65  403201.91   984012.72  794787.16  321008.75\n",
              "23  396486.28  440705.84  1234856.96  861267.54  264720.79\n",
              "24  377188.90  572357.76  1164211.86  800203.33  275475.02\n",
              "25  465188.13  603766.69  1157151.34  654440.03  233669.85\n",
              "26  473112.25  530287.56  1238579.55  727161.57  223298.19\n",
              "27  631648.72  666412.52  1427511.94  764539.78  274148.86\n",
              "28  713700.47  551275.49  1463841.89  655044.10  324009.84\n",
              "29  738201.01  607530.94  1526879.97  531285.35  399325.84"
            ]
          },
          "metadata": {
            "tags": []
          },
          "execution_count": 63
        }
      ]
    },
    {
      "metadata": {
        "id": "vLLsR_NwRvEv",
        "colab_type": "code",
        "colab": {
          "base_uri": "https://localhost:8080/",
          "height": 369
        },
        "outputId": "8dfac689-b710-4070-c34d-31e87e1572e9"
      },
      "cell_type": "code",
      "source": [
        "# EXPLORE - Plot simulated portfolios\n",
        "\n",
        "plots.plot(sim[first_five])\n"
      ],
      "execution_count": 47,
      "outputs": [
        {
          "output_type": "execute_result",
          "data": {
            "text/plain": [
              "[<matplotlib.lines.Line2D at 0x7f6b51c7ccc0>,\n",
              " <matplotlib.lines.Line2D at 0x7f6b51c7ce48>,\n",
              " <matplotlib.lines.Line2D at 0x7f6b51c7cfd0>,\n",
              " <matplotlib.lines.Line2D at 0x7f6b51c81198>,\n",
              " <matplotlib.lines.Line2D at 0x7f6b51c81320>]"
            ]
          },
          "metadata": {
            "tags": []
          },
          "execution_count": 47
        },
        {
          "output_type": "display_data",
          "data": {
            "image/png": "[encoded data removed]",
            "text/plain": [
              "<Figure size 432x288 with 1 Axes>"
            ]
          },
          "metadata": {
            "tags": []
          }
        }
      ]
    },
    {
      "metadata": {
        "id": "zJ5D1ZPSSH6n",
        "colab_type": "code",
        "colab": {
          "base_uri": "https://localhost:8080/",
          "height": 105
        },
        "outputId": "31e8b59d-5112-4997-98a4-765f6e6a18ad"
      },
      "cell_type": "code",
      "source": [
        "# EXPLORE - Look at summary statistics\n",
        "\n",
        "\n",
        "print(\"Count:\", len(sim.loc[29]))\n",
        "print(\"Mean: \", format_currency(np.mean(sim.loc[29]), 'USD'))\n",
        "print(\"SD: \",format_currency(np.std(sim.loc[29]),'USD'))\n",
        "print(\"Max: \",format_currency(np.max(sim.loc[29]), 'USD'))\n",
        "print(\"Min: \", format_currency(np.min(sim.loc[29]), 'USD'))"
      ],
      "execution_count": 48,
      "outputs": [
        {
          "output_type": "stream",
          "text": [
            "Count: 10000\n",
            "Mean:  $1,953,079.64\n",
            "SD:  $1,766,764.48\n",
            "Max:  $24,057,259.34\n",
            "Min:  $111,962.50\n"
          ],
          "name": "stdout"
        }
      ]
    },
    {
      "metadata": {
        "id": "bMQhmsZcSoYv",
        "colab_type": "code",
        "colab": {
          "base_uri": "https://localhost:8080/",
          "height": 175
        },
        "outputId": "f5514a0d-4bae-471d-90c9-e3e402b3c115"
      },
      "cell_type": "code",
      "source": [
        "# EXPLORE - Look at summary statistics with Pandas\n",
        "\n",
        "ending_values = sim.loc[29]\n",
        "ending_values.describe()"
      ],
      "execution_count": 64,
      "outputs": [
        {
          "output_type": "execute_result",
          "data": {
            "text/plain": [
              "count    5.000000e+03\n",
              "mean     1.042977e+06\n",
              "std      6.336589e+05\n",
              "min      1.308136e+05\n",
              "25%      6.175947e+05\n",
              "50%      8.841491e+05\n",
              "75%      1.290344e+06\n",
              "max      7.710860e+06\n",
              "Name: 29, dtype: float64"
            ]
          },
          "metadata": {
            "tags": []
          },
          "execution_count": 64
        }
      ]
    },
    {
      "metadata": {
        "id": "ZqghCrqFTR9v",
        "colab_type": "code",
        "colab": {
          "base_uri": "https://localhost:8080/",
          "height": 897
        },
        "outputId": "8b9b9135-eea1-40e3-a6f6-580ee78493a5"
      },
      "cell_type": "code",
      "source": [
        "# EXPLORE - Look at histogram\n",
        "\n",
        "plots.hist(ending_values, bins=100)\n"
      ],
      "execution_count": 65,
      "outputs": [
        {
          "output_type": "execute_result",
          "data": {
            "text/plain": [
              "(array([ 10.,  56., 144., 256., 290., 352., 326., 390., 357., 342., 288.,\n",
              "        278., 244., 195., 169., 174., 135., 109., 127.,  83.,  83.,  57.,\n",
              "         62.,  67.,  41.,  55.,  44.,  22.,  33.,  28.,  17.,  17.,  15.,\n",
              "          6.,  12.,  18.,  12.,  10.,   7.,  10.,   2.,   5.,   7.,   9.,\n",
              "          3.,   4.,   2.,   2.,   4.,   1.,   2.,   1.,   2.,   0.,   1.,\n",
              "          0.,   1.,   1.,   1.,   1.,   0.,   1.,   1.,   1.,   0.,   2.,\n",
              "          0.,   0.,   0.,   0.,   1.,   0.,   1.,   0.,   0.,   0.,   0.,\n",
              "          0.,   0.,   0.,   1.,   1.,   0.,   0.,   0.,   0.,   0.,   0.,\n",
              "          0.,   0.,   0.,   0.,   0.,   0.,   0.,   0.,   0.,   0.,   0.,\n",
              "          1.]), array([ 130813.64  ,  206614.1001,  282414.5602,  358215.0203,\n",
              "         434015.4804,  509815.9405,  585616.4006,  661416.8607,\n",
              "         737217.3208,  813017.7809,  888818.241 ,  964618.7011,\n",
              "        1040419.1612, 1116219.6213, 1192020.0814, 1267820.5415,\n",
              "        1343621.0016, 1419421.4617, 1495221.9218, 1571022.3819,\n",
              "        1646822.842 , 1722623.3021, 1798423.7622, 1874224.2223,\n",
              "        1950024.6824, 2025825.1425, 2101625.6026, 2177426.0627,\n",
              "        2253226.5228, 2329026.9829, 2404827.443 , 2480627.9031,\n",
              "        2556428.3632, 2632228.8233, 2708029.2834, 2783829.7435,\n",
              "        2859630.2036, 2935430.6637, 3011231.1238, 3087031.5839,\n",
              "        3162832.044 , 3238632.5041, 3314432.9642, 3390233.4243,\n",
              "        3466033.8844, 3541834.3445, 3617634.8046, 3693435.2647,\n",
              "        3769235.7248, 3845036.1849, 3920836.645 , 3996637.1051,\n",
              "        4072437.5652, 4148238.0253, 4224038.4854, 4299838.9455,\n",
              "        4375639.4056, 4451439.8657, 4527240.3258, 4603040.7859,\n",
              "        4678841.246 , 4754641.7061, 4830442.1662, 4906242.6263,\n",
              "        4982043.0864, 5057843.5465, 5133644.0066, 5209444.4667,\n",
              "        5285244.9268, 5361045.3869, 5436845.847 , 5512646.3071,\n",
              "        5588446.7672, 5664247.2273, 5740047.6874, 5815848.1475,\n",
              "        5891648.6076, 5967449.0677, 6043249.5278, 6119049.9879,\n",
              "        6194850.448 , 6270650.9081, 6346451.3682, 6422251.8283,\n",
              "        6498052.2884, 6573852.7485, 6649653.2086, 6725453.6687,\n",
              "        6801254.1288, 6877054.5889, 6952855.049 , 7028655.5091,\n",
              "        7104455.9692, 7180256.4293, 7256056.8894, 7331857.3495,\n",
              "        7407657.8096, 7483458.2697, 7559258.7298, 7635059.1899,\n",
              "        7710859.65  ]), <a list of 100 Patch objects>)"
            ]
          },
          "metadata": {
            "tags": []
          },
          "execution_count": 65
        },
        {
          "output_type": "display_data",
          "data": {
            "image/png": "[encoded data removed]",
            "text/plain": [
              "<Figure size 432x288 with 1 Axes>"
            ]
          },
          "metadata": {
            "tags": []
          }
        }
      ]
    },
    {
      "metadata": {
        "id": "8OJoMk71TaMX",
        "colab_type": "code",
        "colab": {
          "base_uri": "https://localhost:8080/",
          "height": 34
        },
        "outputId": "c2c425bb-f113-4c28-b2fa-437777a0629c"
      },
      "cell_type": "code",
      "source": [
        "# ANALYZE - Probability of seeing greater than a specific value?\n",
        "\n",
        "len(ending_values[ending_values>1000000]) / len(ending_values)\n"
      ],
      "execution_count": 66,
      "outputs": [
        {
          "output_type": "execute_result",
          "data": {
            "text/plain": [
              "0.4112"
            ]
          },
          "metadata": {
            "tags": []
          },
          "execution_count": 66
        }
      ]
    },
    {
      "metadata": {
        "id": "WRiuD-tITki2",
        "colab_type": "code",
        "colab": {
          "base_uri": "https://localhost:8080/",
          "height": 158
        },
        "outputId": "0d03b447-e4b1-4bb3-b126-a89bb8128125"
      },
      "cell_type": "code",
      "source": [
        "# ANALYZE - Tableof all percentiles\n",
        "\n",
        "\n",
        "p_tiles = np.percentile(ending_values,[5,10,15,25,75,85,90, 95])\n",
        "for p in range(len(p_tiles)):\n",
        "    l = [5,10,15,25,75,85,90,95]\n",
        "    print( \"{}%-ile: \".format(l[p]).rjust(15),\"{}\".format(format_currency(p_tiles[p], 'USD')))"
      ],
      "execution_count": 67,
      "outputs": [
        {
          "output_type": "stream",
          "text": [
            "       5%-ile:  $374,731.33\n",
            "      10%-ile:  $443,163.37\n",
            "      15%-ile:  $509,044.20\n",
            "      25%-ile:  $617,594.71\n",
            "      75%-ile:  $1,290,343.77\n",
            "      85%-ile:  $1,575,486.40\n",
            "      90%-ile:  $1,835,087.95\n",
            "      95%-ile:  $2,216,578.67\n"
          ],
          "name": "stdout"
        }
      ]
    }
  ]
}