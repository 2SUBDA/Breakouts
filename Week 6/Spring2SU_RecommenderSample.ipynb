{
  "nbformat": 4,
  "nbformat_minor": 0,
  "metadata": {
    "colab": {
      "name": "Spring2SU.RecommenderSample.ipynb",
      "version": "0.3.2",
      "provenance": [],
      "collapsed_sections": [],
      "include_colab_link": true
    },
    "kernelspec": {
      "name": "python3",
      "display_name": "Python 3"
    }
  },
  "cells": [
    {
      "cell_type": "markdown",
      "metadata": {
        "id": "view-in-github",
        "colab_type": "text"
      },
      "source": [
        "<a href=\"https://colab.research.google.com/github/2SUBDA/Breakouts/blob/Week6/Spring2SU_RecommenderSample.ipynb\" target=\"_parent\"><img src=\"https://colab.research.google.com/assets/colab-badge.svg\" alt=\"Open In Colab\"/></a>"
      ]
    },
    {
      "cell_type": "code",
      "metadata": {
        "id": "eB8xwQAWkJVe",
        "colab_type": "code",
        "colab": {}
      },
      "source": [
        "# BASED on code from Derrick Mwiti - More here:\n",
        "# https://github.com/mwitiderrick\n",
        "\n",
        "%matplotlib inline\n",
        "from datetime import datetime\n",
        "from IPython.display import Markdown\n",
        "from os.path import join\n",
        "from os.path import exists\n",
        "import matplotlib.pyplot as plt\n",
        "import numpy as np\n",
        "import pandas as pd\n",
        "import seaborn as sns\n",
        "\n",
        "import warnings\n",
        "warnings.filterwarnings('ignore')\n",
        "\n",
        "\n",
        "# Use Nate Silver's Sports & Politics Style\n",
        "plt.style.use('fivethirtyeight')"
      ],
      "execution_count": 0,
      "outputs": []
    },
    {
      "cell_type": "code",
      "metadata": {
        "id": "ELFnGyiOnmlk",
        "colab_type": "code",
        "outputId": "2e853b4d-01d8-46ac-e9a0-da616cc16b19",
        "colab": {
          "base_uri": "https://localhost:8080/",
          "height": 510
        }
      },
      "source": [
        "# OBTAIN\n",
        "\n",
        "!mkdir -p raw\n",
        "!curl -O http://files.grouplens.org/datasets/movielens/ml-100k.zip\n",
        "!unzip -o ml-100k.zip -d raw/\n",
        "!rm ml-100k.zip"
      ],
      "execution_count": 2,
      "outputs": [
        {
          "output_type": "stream",
          "text": [
            "  % Total    % Received % Xferd  Average Speed   Time    Time     Time  Current\n",
            "                                 Dload  Upload   Total   Spent    Left  Speed\n",
            "100 4808k  100 4808k    0     0  7466k      0 --:--:-- --:--:-- --:--:-- 7466k\n",
            "Archive:  ml-100k.zip\n",
            "   creating: raw/ml-100k/\n",
            "  inflating: raw/ml-100k/allbut.pl   \n",
            "  inflating: raw/ml-100k/mku.sh      \n",
            "  inflating: raw/ml-100k/README      \n",
            "  inflating: raw/ml-100k/u.data      \n",
            "  inflating: raw/ml-100k/u.genre     \n",
            "  inflating: raw/ml-100k/u.info      \n",
            "  inflating: raw/ml-100k/u.item      \n",
            "  inflating: raw/ml-100k/u.occupation  \n",
            "  inflating: raw/ml-100k/u.user      \n",
            "  inflating: raw/ml-100k/u1.base     \n",
            "  inflating: raw/ml-100k/u1.test     \n",
            "  inflating: raw/ml-100k/u2.base     \n",
            "  inflating: raw/ml-100k/u2.test     \n",
            "  inflating: raw/ml-100k/u3.base     \n",
            "  inflating: raw/ml-100k/u3.test     \n",
            "  inflating: raw/ml-100k/u4.base     \n",
            "  inflating: raw/ml-100k/u4.test     \n",
            "  inflating: raw/ml-100k/u5.base     \n",
            "  inflating: raw/ml-100k/u5.test     \n",
            "  inflating: raw/ml-100k/ua.base     \n",
            "  inflating: raw/ml-100k/ua.test     \n",
            "  inflating: raw/ml-100k/ub.base     \n",
            "  inflating: raw/ml-100k/ub.test     \n"
          ],
          "name": "stdout"
        }
      ]
    },
    {
      "cell_type": "code",
      "metadata": {
        "id": "RzA64a7hnr9i",
        "colab_type": "code",
        "outputId": "e40d811e-52d9-40a1-b8f1-db985e5008ad",
        "colab": {
          "base_uri": "https://localhost:8080/",
          "height": 426
        }
      },
      "source": [
        "# <!-- collapse=True -->\n",
        "ratings_df = pd.read_csv('raw/ml-100k/u.data', sep='\\t', header=None, \n",
        "                         names=['userId', 'movieId', 'rating', 'timestamp'])\n",
        "ratings_df['timestamp'] = ratings_df['timestamp'].apply(datetime.fromtimestamp)\n",
        "ratings_df['year'] = ratings_df['timestamp'].dt.year\n",
        "ratings_df['month'] = ratings_df['timestamp'].dt.month\n",
        "ratings_df = ratings_df.sort_values('timestamp')\n",
        "print('First 5:')\n",
        "display(ratings_df.head())\n",
        "print()\n",
        "print('Last 5:')\n",
        "display(ratings_df.tail())"
      ],
      "execution_count": 13,
      "outputs": [
        {
          "output_type": "stream",
          "text": [
            "First 5:\n"
          ],
          "name": "stdout"
        },
        {
          "output_type": "display_data",
          "data": {
            "text/html": [
              "<div>\n",
              "<style scoped>\n",
              "    .dataframe tbody tr th:only-of-type {\n",
              "        vertical-align: middle;\n",
              "    }\n",
              "\n",
              "    .dataframe tbody tr th {\n",
              "        vertical-align: top;\n",
              "    }\n",
              "\n",
              "    .dataframe thead th {\n",
              "        text-align: right;\n",
              "    }\n",
              "</style>\n",
              "<table border=\"1\" class=\"dataframe\">\n",
              "  <thead>\n",
              "    <tr style=\"text-align: right;\">\n",
              "      <th></th>\n",
              "      <th>userId</th>\n",
              "      <th>movieId</th>\n",
              "      <th>rating</th>\n",
              "      <th>timestamp</th>\n",
              "      <th>year</th>\n",
              "      <th>month</th>\n",
              "    </tr>\n",
              "  </thead>\n",
              "  <tbody>\n",
              "    <tr>\n",
              "      <th>214</th>\n",
              "      <td>259</td>\n",
              "      <td>255</td>\n",
              "      <td>4</td>\n",
              "      <td>1997-09-20 03:05:10</td>\n",
              "      <td>1997</td>\n",
              "      <td>9</td>\n",
              "    </tr>\n",
              "    <tr>\n",
              "      <th>83965</th>\n",
              "      <td>259</td>\n",
              "      <td>286</td>\n",
              "      <td>4</td>\n",
              "      <td>1997-09-20 03:05:27</td>\n",
              "      <td>1997</td>\n",
              "      <td>9</td>\n",
              "    </tr>\n",
              "    <tr>\n",
              "      <th>43027</th>\n",
              "      <td>259</td>\n",
              "      <td>298</td>\n",
              "      <td>4</td>\n",
              "      <td>1997-09-20 03:05:54</td>\n",
              "      <td>1997</td>\n",
              "      <td>9</td>\n",
              "    </tr>\n",
              "    <tr>\n",
              "      <th>21396</th>\n",
              "      <td>259</td>\n",
              "      <td>185</td>\n",
              "      <td>4</td>\n",
              "      <td>1997-09-20 03:06:21</td>\n",
              "      <td>1997</td>\n",
              "      <td>9</td>\n",
              "    </tr>\n",
              "    <tr>\n",
              "      <th>82655</th>\n",
              "      <td>259</td>\n",
              "      <td>173</td>\n",
              "      <td>4</td>\n",
              "      <td>1997-09-20 03:07:23</td>\n",
              "      <td>1997</td>\n",
              "      <td>9</td>\n",
              "    </tr>\n",
              "  </tbody>\n",
              "</table>\n",
              "</div>"
            ],
            "text/plain": [
              "       userId  movieId  rating           timestamp  year  month\n",
              "214       259      255       4 1997-09-20 03:05:10  1997      9\n",
              "83965     259      286       4 1997-09-20 03:05:27  1997      9\n",
              "43027     259      298       4 1997-09-20 03:05:54  1997      9\n",
              "21396     259      185       4 1997-09-20 03:06:21  1997      9\n",
              "82655     259      173       4 1997-09-20 03:07:23  1997      9"
            ]
          },
          "metadata": {
            "tags": []
          }
        },
        {
          "output_type": "stream",
          "text": [
            "\n",
            "Last 5:\n"
          ],
          "name": "stdout"
        },
        {
          "output_type": "display_data",
          "data": {
            "text/html": [
              "<div>\n",
              "<style scoped>\n",
              "    .dataframe tbody tr th:only-of-type {\n",
              "        vertical-align: middle;\n",
              "    }\n",
              "\n",
              "    .dataframe tbody tr th {\n",
              "        vertical-align: top;\n",
              "    }\n",
              "\n",
              "    .dataframe thead th {\n",
              "        text-align: right;\n",
              "    }\n",
              "</style>\n",
              "<table border=\"1\" class=\"dataframe\">\n",
              "  <thead>\n",
              "    <tr style=\"text-align: right;\">\n",
              "      <th></th>\n",
              "      <th>userId</th>\n",
              "      <th>movieId</th>\n",
              "      <th>rating</th>\n",
              "      <th>timestamp</th>\n",
              "      <th>year</th>\n",
              "      <th>month</th>\n",
              "    </tr>\n",
              "  </thead>\n",
              "  <tbody>\n",
              "    <tr>\n",
              "      <th>46773</th>\n",
              "      <td>729</td>\n",
              "      <td>689</td>\n",
              "      <td>4</td>\n",
              "      <td>1998-04-22 23:10:38</td>\n",
              "      <td>1998</td>\n",
              "      <td>4</td>\n",
              "    </tr>\n",
              "    <tr>\n",
              "      <th>73008</th>\n",
              "      <td>729</td>\n",
              "      <td>313</td>\n",
              "      <td>3</td>\n",
              "      <td>1998-04-22 23:10:38</td>\n",
              "      <td>1998</td>\n",
              "      <td>4</td>\n",
              "    </tr>\n",
              "    <tr>\n",
              "      <th>46574</th>\n",
              "      <td>729</td>\n",
              "      <td>328</td>\n",
              "      <td>3</td>\n",
              "      <td>1998-04-22 23:10:38</td>\n",
              "      <td>1998</td>\n",
              "      <td>4</td>\n",
              "    </tr>\n",
              "    <tr>\n",
              "      <th>64312</th>\n",
              "      <td>729</td>\n",
              "      <td>748</td>\n",
              "      <td>4</td>\n",
              "      <td>1998-04-22 23:10:38</td>\n",
              "      <td>1998</td>\n",
              "      <td>4</td>\n",
              "    </tr>\n",
              "    <tr>\n",
              "      <th>79208</th>\n",
              "      <td>729</td>\n",
              "      <td>272</td>\n",
              "      <td>4</td>\n",
              "      <td>1998-04-22 23:10:38</td>\n",
              "      <td>1998</td>\n",
              "      <td>4</td>\n",
              "    </tr>\n",
              "  </tbody>\n",
              "</table>\n",
              "</div>"
            ],
            "text/plain": [
              "       userId  movieId  rating           timestamp  year  month\n",
              "46773     729      689       4 1998-04-22 23:10:38  1998      4\n",
              "73008     729      313       3 1998-04-22 23:10:38  1998      4\n",
              "46574     729      328       3 1998-04-22 23:10:38  1998      4\n",
              "64312     729      748       4 1998-04-22 23:10:38  1998      4\n",
              "79208     729      272       4 1998-04-22 23:10:38  1998      4"
            ]
          },
          "metadata": {
            "tags": []
          }
        }
      ]
    },
    {
      "cell_type": "markdown",
      "metadata": {
        "id": "VjvnmehjoPx6",
        "colab_type": "text"
      },
      "source": [
        "CONSIDER DOING EXPLORATORY DATA ANALYSIS"
      ]
    },
    {
      "cell_type": "code",
      "metadata": {
        "id": "qoH66xYfvqij",
        "colab_type": "code",
        "outputId": "23e636c7-e885-419a-9783-49dffcb3d641",
        "colab": {
          "base_uri": "https://localhost:8080/",
          "height": 195
        }
      },
      "source": [
        "# Consider adding titles\n",
        "\n",
        "movie_titles = pd.read_csv('https://raw.githubusercontent.com/mwitiderrick/simple-recommender-/master/Movie_Id_Titles',\n",
        "                           header = 1, names=['movieId', 'title'])\n",
        "\n",
        "#movie_titles = pd.read_csv('raw/ml-100k/u.item', sep='\\t', header=None, \n",
        "#                         names=['movieId', 'movie_titles', 'releasedate',\n",
        "#                                'videodate', 'IMDb', 'unknown', 'Action', 'Adventure',\n",
        "#                                'Animation', 'Children', 'Comedy', 'Crime', 'Documentary',\n",
        "#                                'Drama', 'Fantasy', 'Noir', 'Horror', 'Musical', 'Mystery',\n",
        "#                                'Romance',  'SciFi', 'Thriller', 'War', 'Western'])\n",
        "\n",
        "movie_titles.head()\n"
      ],
      "execution_count": 53,
      "outputs": [
        {
          "output_type": "execute_result",
          "data": {
            "text/html": [
              "<div>\n",
              "<style scoped>\n",
              "    .dataframe tbody tr th:only-of-type {\n",
              "        vertical-align: middle;\n",
              "    }\n",
              "\n",
              "    .dataframe tbody tr th {\n",
              "        vertical-align: top;\n",
              "    }\n",
              "\n",
              "    .dataframe thead th {\n",
              "        text-align: right;\n",
              "    }\n",
              "</style>\n",
              "<table border=\"1\" class=\"dataframe\">\n",
              "  <thead>\n",
              "    <tr style=\"text-align: right;\">\n",
              "      <th></th>\n",
              "      <th>movieId</th>\n",
              "      <th>title</th>\n",
              "    </tr>\n",
              "  </thead>\n",
              "  <tbody>\n",
              "    <tr>\n",
              "      <th>0</th>\n",
              "      <td>2</td>\n",
              "      <td>GoldenEye (1995)</td>\n",
              "    </tr>\n",
              "    <tr>\n",
              "      <th>1</th>\n",
              "      <td>3</td>\n",
              "      <td>Four Rooms (1995)</td>\n",
              "    </tr>\n",
              "    <tr>\n",
              "      <th>2</th>\n",
              "      <td>4</td>\n",
              "      <td>Get Shorty (1995)</td>\n",
              "    </tr>\n",
              "    <tr>\n",
              "      <th>3</th>\n",
              "      <td>5</td>\n",
              "      <td>Copycat (1995)</td>\n",
              "    </tr>\n",
              "    <tr>\n",
              "      <th>4</th>\n",
              "      <td>6</td>\n",
              "      <td>Shanghai Triad (Yao a yao yao dao waipo qiao) ...</td>\n",
              "    </tr>\n",
              "  </tbody>\n",
              "</table>\n",
              "</div>"
            ],
            "text/plain": [
              "   movieId                                              title\n",
              "0        2                                   GoldenEye (1995)\n",
              "1        3                                  Four Rooms (1995)\n",
              "2        4                                  Get Shorty (1995)\n",
              "3        5                                     Copycat (1995)\n",
              "4        6  Shanghai Triad (Yao a yao yao dao waipo qiao) ..."
            ]
          },
          "metadata": {
            "tags": []
          },
          "execution_count": 53
        }
      ]
    },
    {
      "cell_type": "code",
      "metadata": {
        "id": "fx3PzZNEU48c",
        "colab_type": "code",
        "outputId": "e899899c-a102-4545-9a05-fa5932e9a6bb",
        "colab": {
          "base_uri": "https://localhost:8080/",
          "height": 195
        }
      },
      "source": [
        "ratings = pd.merge(ratings_df, movie_titles, on='movieId')\n",
        "ratings.head()"
      ],
      "execution_count": 54,
      "outputs": [
        {
          "output_type": "execute_result",
          "data": {
            "text/html": [
              "<div>\n",
              "<style scoped>\n",
              "    .dataframe tbody tr th:only-of-type {\n",
              "        vertical-align: middle;\n",
              "    }\n",
              "\n",
              "    .dataframe tbody tr th {\n",
              "        vertical-align: top;\n",
              "    }\n",
              "\n",
              "    .dataframe thead th {\n",
              "        text-align: right;\n",
              "    }\n",
              "</style>\n",
              "<table border=\"1\" class=\"dataframe\">\n",
              "  <thead>\n",
              "    <tr style=\"text-align: right;\">\n",
              "      <th></th>\n",
              "      <th>userId</th>\n",
              "      <th>movieId</th>\n",
              "      <th>rating</th>\n",
              "      <th>timestamp</th>\n",
              "      <th>year</th>\n",
              "      <th>month</th>\n",
              "      <th>title</th>\n",
              "    </tr>\n",
              "  </thead>\n",
              "  <tbody>\n",
              "    <tr>\n",
              "      <th>0</th>\n",
              "      <td>259</td>\n",
              "      <td>255</td>\n",
              "      <td>4</td>\n",
              "      <td>1997-09-20 03:05:10</td>\n",
              "      <td>1997</td>\n",
              "      <td>9</td>\n",
              "      <td>My Best Friend's Wedding (1997)</td>\n",
              "    </tr>\n",
              "    <tr>\n",
              "      <th>1</th>\n",
              "      <td>119</td>\n",
              "      <td>255</td>\n",
              "      <td>3</td>\n",
              "      <td>1997-09-20 17:18:34</td>\n",
              "      <td>1997</td>\n",
              "      <td>9</td>\n",
              "      <td>My Best Friend's Wedding (1997)</td>\n",
              "    </tr>\n",
              "    <tr>\n",
              "      <th>2</th>\n",
              "      <td>130</td>\n",
              "      <td>255</td>\n",
              "      <td>4</td>\n",
              "      <td>1997-09-22 18:43:14</td>\n",
              "      <td>1997</td>\n",
              "      <td>9</td>\n",
              "      <td>My Best Friend's Wedding (1997)</td>\n",
              "    </tr>\n",
              "    <tr>\n",
              "      <th>3</th>\n",
              "      <td>342</td>\n",
              "      <td>255</td>\n",
              "      <td>4</td>\n",
              "      <td>1997-09-23 03:16:14</td>\n",
              "      <td>1997</td>\n",
              "      <td>9</td>\n",
              "      <td>My Best Friend's Wedding (1997)</td>\n",
              "    </tr>\n",
              "    <tr>\n",
              "      <th>4</th>\n",
              "      <td>30</td>\n",
              "      <td>255</td>\n",
              "      <td>4</td>\n",
              "      <td>1997-09-24 00:13:04</td>\n",
              "      <td>1997</td>\n",
              "      <td>9</td>\n",
              "      <td>My Best Friend's Wedding (1997)</td>\n",
              "    </tr>\n",
              "  </tbody>\n",
              "</table>\n",
              "</div>"
            ],
            "text/plain": [
              "   userId  movieId  rating           timestamp  year  month  \\\n",
              "0     259      255       4 1997-09-20 03:05:10  1997      9   \n",
              "1     119      255       3 1997-09-20 17:18:34  1997      9   \n",
              "2     130      255       4 1997-09-22 18:43:14  1997      9   \n",
              "3     342      255       4 1997-09-23 03:16:14  1997      9   \n",
              "4      30      255       4 1997-09-24 00:13:04  1997      9   \n",
              "\n",
              "                             title  \n",
              "0  My Best Friend's Wedding (1997)  \n",
              "1  My Best Friend's Wedding (1997)  \n",
              "2  My Best Friend's Wedding (1997)  \n",
              "3  My Best Friend's Wedding (1997)  \n",
              "4  My Best Friend's Wedding (1997)  "
            ]
          },
          "metadata": {
            "tags": []
          },
          "execution_count": 54
        }
      ]
    },
    {
      "cell_type": "code",
      "metadata": {
        "id": "GnMVYoqpoU3y",
        "colab_type": "code",
        "outputId": "37ef6027-d3ef-4194-b16c-ad6d3372b871",
        "colab": {
          "base_uri": "https://localhost:8080/",
          "height": 225
        }
      },
      "source": [
        "# EXPLORE\n",
        "\n",
        "# ratingsEDA = pd.DataFrame(ratings.groupby('month')['rating'].mean())\n",
        "\n",
        "# ratingsEDA.head()"
      ],
      "execution_count": 15,
      "outputs": [
        {
          "output_type": "execute_result",
          "data": {
            "text/html": [
              "<div>\n",
              "<style scoped>\n",
              "    .dataframe tbody tr th:only-of-type {\n",
              "        vertical-align: middle;\n",
              "    }\n",
              "\n",
              "    .dataframe tbody tr th {\n",
              "        vertical-align: top;\n",
              "    }\n",
              "\n",
              "    .dataframe thead th {\n",
              "        text-align: right;\n",
              "    }\n",
              "</style>\n",
              "<table border=\"1\" class=\"dataframe\">\n",
              "  <thead>\n",
              "    <tr style=\"text-align: right;\">\n",
              "      <th></th>\n",
              "      <th>rating</th>\n",
              "    </tr>\n",
              "    <tr>\n",
              "      <th>month</th>\n",
              "      <th></th>\n",
              "    </tr>\n",
              "  </thead>\n",
              "  <tbody>\n",
              "    <tr>\n",
              "      <th>1</th>\n",
              "      <td>3.395796</td>\n",
              "    </tr>\n",
              "    <tr>\n",
              "      <th>2</th>\n",
              "      <td>3.453773</td>\n",
              "    </tr>\n",
              "    <tr>\n",
              "      <th>3</th>\n",
              "      <td>3.548525</td>\n",
              "    </tr>\n",
              "    <tr>\n",
              "      <th>4</th>\n",
              "      <td>3.572884</td>\n",
              "    </tr>\n",
              "    <tr>\n",
              "      <th>9</th>\n",
              "      <td>3.536293</td>\n",
              "    </tr>\n",
              "  </tbody>\n",
              "</table>\n",
              "</div>"
            ],
            "text/plain": [
              "         rating\n",
              "month          \n",
              "1      3.395796\n",
              "2      3.453773\n",
              "3      3.548525\n",
              "4      3.572884\n",
              "9      3.536293"
            ]
          },
          "metadata": {
            "tags": []
          },
          "execution_count": 15
        }
      ]
    },
    {
      "cell_type": "code",
      "metadata": {
        "id": "Z6PnYoSwso40",
        "colab_type": "code",
        "outputId": "c6e382d3-8e2a-4d13-bfa7-093eb50facf8",
        "colab": {
          "base_uri": "https://localhost:8080/",
          "height": 195
        }
      },
      "source": [
        "# SCRUB - ADD NUMBER OF RATINGS TO MOVIE ID\n",
        "ratings['number_of_ratings'] = ratings_df.groupby('movieId')['rating'].count()\n",
        "ratings.head()"
      ],
      "execution_count": 55,
      "outputs": [
        {
          "output_type": "execute_result",
          "data": {
            "text/html": [
              "<div>\n",
              "<style scoped>\n",
              "    .dataframe tbody tr th:only-of-type {\n",
              "        vertical-align: middle;\n",
              "    }\n",
              "\n",
              "    .dataframe tbody tr th {\n",
              "        vertical-align: top;\n",
              "    }\n",
              "\n",
              "    .dataframe thead th {\n",
              "        text-align: right;\n",
              "    }\n",
              "</style>\n",
              "<table border=\"1\" class=\"dataframe\">\n",
              "  <thead>\n",
              "    <tr style=\"text-align: right;\">\n",
              "      <th></th>\n",
              "      <th>userId</th>\n",
              "      <th>movieId</th>\n",
              "      <th>rating</th>\n",
              "      <th>timestamp</th>\n",
              "      <th>year</th>\n",
              "      <th>month</th>\n",
              "      <th>title</th>\n",
              "      <th>number_of_ratings</th>\n",
              "    </tr>\n",
              "  </thead>\n",
              "  <tbody>\n",
              "    <tr>\n",
              "      <th>0</th>\n",
              "      <td>259</td>\n",
              "      <td>255</td>\n",
              "      <td>4</td>\n",
              "      <td>1997-09-20 03:05:10</td>\n",
              "      <td>1997</td>\n",
              "      <td>9</td>\n",
              "      <td>My Best Friend's Wedding (1997)</td>\n",
              "      <td>NaN</td>\n",
              "    </tr>\n",
              "    <tr>\n",
              "      <th>1</th>\n",
              "      <td>119</td>\n",
              "      <td>255</td>\n",
              "      <td>3</td>\n",
              "      <td>1997-09-20 17:18:34</td>\n",
              "      <td>1997</td>\n",
              "      <td>9</td>\n",
              "      <td>My Best Friend's Wedding (1997)</td>\n",
              "      <td>452.0</td>\n",
              "    </tr>\n",
              "    <tr>\n",
              "      <th>2</th>\n",
              "      <td>130</td>\n",
              "      <td>255</td>\n",
              "      <td>4</td>\n",
              "      <td>1997-09-22 18:43:14</td>\n",
              "      <td>1997</td>\n",
              "      <td>9</td>\n",
              "      <td>My Best Friend's Wedding (1997)</td>\n",
              "      <td>131.0</td>\n",
              "    </tr>\n",
              "    <tr>\n",
              "      <th>3</th>\n",
              "      <td>342</td>\n",
              "      <td>255</td>\n",
              "      <td>4</td>\n",
              "      <td>1997-09-23 03:16:14</td>\n",
              "      <td>1997</td>\n",
              "      <td>9</td>\n",
              "      <td>My Best Friend's Wedding (1997)</td>\n",
              "      <td>90.0</td>\n",
              "    </tr>\n",
              "    <tr>\n",
              "      <th>4</th>\n",
              "      <td>30</td>\n",
              "      <td>255</td>\n",
              "      <td>4</td>\n",
              "      <td>1997-09-24 00:13:04</td>\n",
              "      <td>1997</td>\n",
              "      <td>9</td>\n",
              "      <td>My Best Friend's Wedding (1997)</td>\n",
              "      <td>209.0</td>\n",
              "    </tr>\n",
              "  </tbody>\n",
              "</table>\n",
              "</div>"
            ],
            "text/plain": [
              "   userId  movieId  rating           timestamp  year  month  \\\n",
              "0     259      255       4 1997-09-20 03:05:10  1997      9   \n",
              "1     119      255       3 1997-09-20 17:18:34  1997      9   \n",
              "2     130      255       4 1997-09-22 18:43:14  1997      9   \n",
              "3     342      255       4 1997-09-23 03:16:14  1997      9   \n",
              "4      30      255       4 1997-09-24 00:13:04  1997      9   \n",
              "\n",
              "                             title  number_of_ratings  \n",
              "0  My Best Friend's Wedding (1997)                NaN  \n",
              "1  My Best Friend's Wedding (1997)              452.0  \n",
              "2  My Best Friend's Wedding (1997)              131.0  \n",
              "3  My Best Friend's Wedding (1997)               90.0  \n",
              "4  My Best Friend's Wedding (1997)              209.0  "
            ]
          },
          "metadata": {
            "tags": []
          },
          "execution_count": 55
        }
      ]
    },
    {
      "cell_type": "code",
      "metadata": {
        "id": "ols_-5yKs3ES",
        "colab_type": "code",
        "outputId": "50b96435-8484-4ca2-8688-d10f15afd730",
        "colab": {
          "base_uri": "https://localhost:8080/",
          "height": 301
        }
      },
      "source": [
        "# EXPLORE - Look at distribution of ratings\n",
        "# ratings['rating'].hist(bins=50)"
      ],
      "execution_count": 17,
      "outputs": [
        {
          "output_type": "execute_result",
          "data": {
            "text/plain": [
              "<matplotlib.axes._subplots.AxesSubplot at 0x7f091f2ab2b0>"
            ]
          },
          "metadata": {
            "tags": []
          },
          "execution_count": 17
        },
        {
          "output_type": "display_data",
          "data": {
            "image/png": "[encoded data removed]",
            "text/plain": [
              "<Figure size 432x288 with 1 Axes>"
            ]
          },
          "metadata": {
            "tags": []
          }
        }
      ]
    },
    {
      "cell_type": "code",
      "metadata": {
        "id": "DCk717-qs_0q",
        "colab_type": "code",
        "outputId": "090ea478-5741-4afe-93f2-be0b2acd8144",
        "colab": {
          "base_uri": "https://localhost:8080/",
          "height": 299
        }
      },
      "source": [
        "# EXPLORE - Look at number of ratings \n",
        "# ratings['number_of_ratings'].hist(bins=60)\n"
      ],
      "execution_count": 18,
      "outputs": [
        {
          "output_type": "execute_result",
          "data": {
            "text/plain": [
              "<matplotlib.axes._subplots.AxesSubplot at 0x7f0921c94080>"
            ]
          },
          "metadata": {
            "tags": []
          },
          "execution_count": 18
        },
        {
          "output_type": "display_data",
          "data": {
            "image/png": "[encoded data removed]",
            "text/plain": [
              "<Figure size 432x288 with 1 Axes>"
            ]
          },
          "metadata": {
            "tags": []
          }
        }
      ]
    },
    {
      "cell_type": "code",
      "metadata": {
        "id": "_9txU1SQtNLa",
        "colab_type": "code",
        "outputId": "ddd98047-799b-41d5-fe35-da619f096a35",
        "colab": {
          "base_uri": "https://localhost:8080/",
          "height": 450
        }
      },
      "source": [
        "# EXPLORE - Look at relationship between # of ratings and rating\n",
        "# sns.jointplot(x='rating', y='number_of_ratings', data=ratings)\n"
      ],
      "execution_count": 19,
      "outputs": [
        {
          "output_type": "execute_result",
          "data": {
            "text/plain": [
              "<seaborn.axisgrid.JointGrid at 0x7f091f15dbe0>"
            ]
          },
          "metadata": {
            "tags": []
          },
          "execution_count": 19
        },
        {
          "output_type": "display_data",
          "data": {
            "image/png": "[encoded data removed]",
            "text/plain": [
              "<Figure size 432x432 with 3 Axes>"
            ]
          },
          "metadata": {
            "tags": []
          }
        }
      ]
    },
    {
      "cell_type": "code",
      "metadata": {
        "id": "JumFF4gMtcaq",
        "colab_type": "code",
        "outputId": "efc37ec0-579e-4940-bcf0-a7e0f1b0fb07",
        "colab": {
          "base_uri": "https://localhost:8080/",
          "height": 374
        }
      },
      "source": [
        "# SCRUB - Create matrix for recommender system\n",
        "\n",
        "movie_matrix = ratings.pivot_table(index='userId', columns='title', values='rating')\n",
        "movie_matrix.head()"
      ],
      "execution_count": 56,
      "outputs": [
        {
          "output_type": "execute_result",
          "data": {
            "text/html": [
              "<div>\n",
              "<style scoped>\n",
              "    .dataframe tbody tr th:only-of-type {\n",
              "        vertical-align: middle;\n",
              "    }\n",
              "\n",
              "    .dataframe tbody tr th {\n",
              "        vertical-align: top;\n",
              "    }\n",
              "\n",
              "    .dataframe thead th {\n",
              "        text-align: right;\n",
              "    }\n",
              "</style>\n",
              "<table border=\"1\" class=\"dataframe\">\n",
              "  <thead>\n",
              "    <tr style=\"text-align: right;\">\n",
              "      <th>title</th>\n",
              "      <th>'Til There Was You (1997)</th>\n",
              "      <th>1-900 (1994)</th>\n",
              "      <th>101 Dalmatians (1996)</th>\n",
              "      <th>12 Angry Men (1957)</th>\n",
              "      <th>187 (1997)</th>\n",
              "      <th>2 Days in the Valley (1996)</th>\n",
              "      <th>20,000 Leagues Under the Sea (1954)</th>\n",
              "      <th>2001: A Space Odyssey (1968)</th>\n",
              "      <th>3 Ninjas: High Noon At Mega Mountain (1998)</th>\n",
              "      <th>39 Steps, The (1935)</th>\n",
              "      <th>...</th>\n",
              "      <th>Yankee Zulu (1994)</th>\n",
              "      <th>Year of the Horse (1997)</th>\n",
              "      <th>You So Crazy (1994)</th>\n",
              "      <th>Young Frankenstein (1974)</th>\n",
              "      <th>Young Guns (1988)</th>\n",
              "      <th>Young Guns II (1990)</th>\n",
              "      <th>Young Poisoner's Handbook, The (1995)</th>\n",
              "      <th>Zeus and Roxanne (1997)</th>\n",
              "      <th>unknown</th>\n",
              "      <th>Á köldum klaka (Cold Fever) (1994)</th>\n",
              "    </tr>\n",
              "    <tr>\n",
              "      <th>userId</th>\n",
              "      <th></th>\n",
              "      <th></th>\n",
              "      <th></th>\n",
              "      <th></th>\n",
              "      <th></th>\n",
              "      <th></th>\n",
              "      <th></th>\n",
              "      <th></th>\n",
              "      <th></th>\n",
              "      <th></th>\n",
              "      <th></th>\n",
              "      <th></th>\n",
              "      <th></th>\n",
              "      <th></th>\n",
              "      <th></th>\n",
              "      <th></th>\n",
              "      <th></th>\n",
              "      <th></th>\n",
              "      <th></th>\n",
              "      <th></th>\n",
              "      <th></th>\n",
              "    </tr>\n",
              "  </thead>\n",
              "  <tbody>\n",
              "    <tr>\n",
              "      <th>1</th>\n",
              "      <td>NaN</td>\n",
              "      <td>NaN</td>\n",
              "      <td>2.0</td>\n",
              "      <td>5.0</td>\n",
              "      <td>NaN</td>\n",
              "      <td>NaN</td>\n",
              "      <td>3.0</td>\n",
              "      <td>4.0</td>\n",
              "      <td>NaN</td>\n",
              "      <td>NaN</td>\n",
              "      <td>...</td>\n",
              "      <td>NaN</td>\n",
              "      <td>NaN</td>\n",
              "      <td>NaN</td>\n",
              "      <td>5.0</td>\n",
              "      <td>3.0</td>\n",
              "      <td>NaN</td>\n",
              "      <td>NaN</td>\n",
              "      <td>NaN</td>\n",
              "      <td>4.0</td>\n",
              "      <td>NaN</td>\n",
              "    </tr>\n",
              "    <tr>\n",
              "      <th>2</th>\n",
              "      <td>NaN</td>\n",
              "      <td>NaN</td>\n",
              "      <td>NaN</td>\n",
              "      <td>NaN</td>\n",
              "      <td>NaN</td>\n",
              "      <td>NaN</td>\n",
              "      <td>NaN</td>\n",
              "      <td>NaN</td>\n",
              "      <td>1.0</td>\n",
              "      <td>NaN</td>\n",
              "      <td>...</td>\n",
              "      <td>NaN</td>\n",
              "      <td>NaN</td>\n",
              "      <td>NaN</td>\n",
              "      <td>NaN</td>\n",
              "      <td>NaN</td>\n",
              "      <td>NaN</td>\n",
              "      <td>NaN</td>\n",
              "      <td>NaN</td>\n",
              "      <td>NaN</td>\n",
              "      <td>NaN</td>\n",
              "    </tr>\n",
              "    <tr>\n",
              "      <th>3</th>\n",
              "      <td>NaN</td>\n",
              "      <td>NaN</td>\n",
              "      <td>NaN</td>\n",
              "      <td>NaN</td>\n",
              "      <td>2.0</td>\n",
              "      <td>NaN</td>\n",
              "      <td>NaN</td>\n",
              "      <td>NaN</td>\n",
              "      <td>NaN</td>\n",
              "      <td>NaN</td>\n",
              "      <td>...</td>\n",
              "      <td>NaN</td>\n",
              "      <td>NaN</td>\n",
              "      <td>NaN</td>\n",
              "      <td>NaN</td>\n",
              "      <td>NaN</td>\n",
              "      <td>NaN</td>\n",
              "      <td>NaN</td>\n",
              "      <td>NaN</td>\n",
              "      <td>NaN</td>\n",
              "      <td>NaN</td>\n",
              "    </tr>\n",
              "    <tr>\n",
              "      <th>4</th>\n",
              "      <td>NaN</td>\n",
              "      <td>NaN</td>\n",
              "      <td>NaN</td>\n",
              "      <td>NaN</td>\n",
              "      <td>NaN</td>\n",
              "      <td>NaN</td>\n",
              "      <td>NaN</td>\n",
              "      <td>NaN</td>\n",
              "      <td>NaN</td>\n",
              "      <td>NaN</td>\n",
              "      <td>...</td>\n",
              "      <td>NaN</td>\n",
              "      <td>NaN</td>\n",
              "      <td>NaN</td>\n",
              "      <td>NaN</td>\n",
              "      <td>NaN</td>\n",
              "      <td>NaN</td>\n",
              "      <td>NaN</td>\n",
              "      <td>NaN</td>\n",
              "      <td>NaN</td>\n",
              "      <td>NaN</td>\n",
              "    </tr>\n",
              "    <tr>\n",
              "      <th>5</th>\n",
              "      <td>NaN</td>\n",
              "      <td>NaN</td>\n",
              "      <td>2.0</td>\n",
              "      <td>NaN</td>\n",
              "      <td>NaN</td>\n",
              "      <td>NaN</td>\n",
              "      <td>NaN</td>\n",
              "      <td>4.0</td>\n",
              "      <td>NaN</td>\n",
              "      <td>NaN</td>\n",
              "      <td>...</td>\n",
              "      <td>NaN</td>\n",
              "      <td>NaN</td>\n",
              "      <td>NaN</td>\n",
              "      <td>4.0</td>\n",
              "      <td>NaN</td>\n",
              "      <td>NaN</td>\n",
              "      <td>NaN</td>\n",
              "      <td>NaN</td>\n",
              "      <td>4.0</td>\n",
              "      <td>NaN</td>\n",
              "    </tr>\n",
              "  </tbody>\n",
              "</table>\n",
              "<p>5 rows × 1663 columns</p>\n",
              "</div>"
            ],
            "text/plain": [
              "title   'Til There Was You (1997)  1-900 (1994)  101 Dalmatians (1996)  \\\n",
              "userId                                                                   \n",
              "1                             NaN           NaN                    2.0   \n",
              "2                             NaN           NaN                    NaN   \n",
              "3                             NaN           NaN                    NaN   \n",
              "4                             NaN           NaN                    NaN   \n",
              "5                             NaN           NaN                    2.0   \n",
              "\n",
              "title   12 Angry Men (1957)  187 (1997)  2 Days in the Valley (1996)  \\\n",
              "userId                                                                 \n",
              "1                       5.0         NaN                          NaN   \n",
              "2                       NaN         NaN                          NaN   \n",
              "3                       NaN         2.0                          NaN   \n",
              "4                       NaN         NaN                          NaN   \n",
              "5                       NaN         NaN                          NaN   \n",
              "\n",
              "title   20,000 Leagues Under the Sea (1954)  2001: A Space Odyssey (1968)  \\\n",
              "userId                                                                      \n",
              "1                                       3.0                           4.0   \n",
              "2                                       NaN                           NaN   \n",
              "3                                       NaN                           NaN   \n",
              "4                                       NaN                           NaN   \n",
              "5                                       NaN                           4.0   \n",
              "\n",
              "title   3 Ninjas: High Noon At Mega Mountain (1998)  39 Steps, The (1935)  \\\n",
              "userId                                                                      \n",
              "1                                               NaN                   NaN   \n",
              "2                                               1.0                   NaN   \n",
              "3                                               NaN                   NaN   \n",
              "4                                               NaN                   NaN   \n",
              "5                                               NaN                   NaN   \n",
              "\n",
              "title   ...  Yankee Zulu (1994)  Year of the Horse (1997)  \\\n",
              "userId  ...                                                 \n",
              "1       ...                 NaN                       NaN   \n",
              "2       ...                 NaN                       NaN   \n",
              "3       ...                 NaN                       NaN   \n",
              "4       ...                 NaN                       NaN   \n",
              "5       ...                 NaN                       NaN   \n",
              "\n",
              "title   You So Crazy (1994)  Young Frankenstein (1974)  Young Guns (1988)  \\\n",
              "userId                                                                      \n",
              "1                       NaN                        5.0                3.0   \n",
              "2                       NaN                        NaN                NaN   \n",
              "3                       NaN                        NaN                NaN   \n",
              "4                       NaN                        NaN                NaN   \n",
              "5                       NaN                        4.0                NaN   \n",
              "\n",
              "title   Young Guns II (1990)  Young Poisoner's Handbook, The (1995)  \\\n",
              "userId                                                                \n",
              "1                        NaN                                    NaN   \n",
              "2                        NaN                                    NaN   \n",
              "3                        NaN                                    NaN   \n",
              "4                        NaN                                    NaN   \n",
              "5                        NaN                                    NaN   \n",
              "\n",
              "title   Zeus and Roxanne (1997)  unknown  Á köldum klaka (Cold Fever) (1994)  \n",
              "userId                                                                        \n",
              "1                           NaN      4.0                                 NaN  \n",
              "2                           NaN      NaN                                 NaN  \n",
              "3                           NaN      NaN                                 NaN  \n",
              "4                           NaN      NaN                                 NaN  \n",
              "5                           NaN      4.0                                 NaN  \n",
              "\n",
              "[5 rows x 1663 columns]"
            ]
          },
          "metadata": {
            "tags": []
          },
          "execution_count": 56
        }
      ]
    },
    {
      "cell_type": "code",
      "metadata": {
        "id": "ibpRL0hIt09a",
        "colab_type": "code",
        "outputId": "92bef366-e783-4a3b-9358-dadc0866b9fb",
        "colab": {
          "base_uri": "https://localhost:8080/",
          "height": 343
        }
      },
      "source": [
        "# SCRUB - Order by movies with most number of ratings\n",
        "\n",
        "ratings.sort_values('number_of_ratings', ascending=False).head(10)\n"
      ],
      "execution_count": 57,
      "outputs": [
        {
          "output_type": "execute_result",
          "data": {
            "text/html": [
              "<div>\n",
              "<style scoped>\n",
              "    .dataframe tbody tr th:only-of-type {\n",
              "        vertical-align: middle;\n",
              "    }\n",
              "\n",
              "    .dataframe tbody tr th {\n",
              "        vertical-align: top;\n",
              "    }\n",
              "\n",
              "    .dataframe thead th {\n",
              "        text-align: right;\n",
              "    }\n",
              "</style>\n",
              "<table border=\"1\" class=\"dataframe\">\n",
              "  <thead>\n",
              "    <tr style=\"text-align: right;\">\n",
              "      <th></th>\n",
              "      <th>userId</th>\n",
              "      <th>movieId</th>\n",
              "      <th>rating</th>\n",
              "      <th>timestamp</th>\n",
              "      <th>year</th>\n",
              "      <th>month</th>\n",
              "      <th>title</th>\n",
              "      <th>number_of_ratings</th>\n",
              "    </tr>\n",
              "  </thead>\n",
              "  <tbody>\n",
              "    <tr>\n",
              "      <th>50</th>\n",
              "      <td>672</td>\n",
              "      <td>255</td>\n",
              "      <td>2</td>\n",
              "      <td>1997-11-17 17:54:38</td>\n",
              "      <td>1997</td>\n",
              "      <td>11</td>\n",
              "      <td>My Best Friend's Wedding (1997)</td>\n",
              "      <td>583.0</td>\n",
              "    </tr>\n",
              "    <tr>\n",
              "      <th>258</th>\n",
              "      <td>140</td>\n",
              "      <td>286</td>\n",
              "      <td>5</td>\n",
              "      <td>1997-11-08 18:26:57</td>\n",
              "      <td>1997</td>\n",
              "      <td>11</td>\n",
              "      <td>English Patient, The (1996)</td>\n",
              "      <td>509.0</td>\n",
              "    </tr>\n",
              "    <tr>\n",
              "      <th>100</th>\n",
              "      <td>671</td>\n",
              "      <td>255</td>\n",
              "      <td>5</td>\n",
              "      <td>1998-01-09 19:47:01</td>\n",
              "      <td>1998</td>\n",
              "      <td>1</td>\n",
              "      <td>My Best Friend's Wedding (1997)</td>\n",
              "      <td>508.0</td>\n",
              "    </tr>\n",
              "    <tr>\n",
              "      <th>181</th>\n",
              "      <td>76</td>\n",
              "      <td>286</td>\n",
              "      <td>5</td>\n",
              "      <td>1997-09-23 15:06:46</td>\n",
              "      <td>1997</td>\n",
              "      <td>9</td>\n",
              "      <td>English Patient, The (1996)</td>\n",
              "      <td>507.0</td>\n",
              "    </tr>\n",
              "    <tr>\n",
              "      <th>294</th>\n",
              "      <td>750</td>\n",
              "      <td>286</td>\n",
              "      <td>4</td>\n",
              "      <td>1997-11-13 18:29:15</td>\n",
              "      <td>1997</td>\n",
              "      <td>11</td>\n",
              "      <td>English Patient, The (1996)</td>\n",
              "      <td>485.0</td>\n",
              "    </tr>\n",
              "    <tr>\n",
              "      <th>286</th>\n",
              "      <td>321</td>\n",
              "      <td>286</td>\n",
              "      <td>4</td>\n",
              "      <td>1997-11-13 16:35:32</td>\n",
              "      <td>1997</td>\n",
              "      <td>11</td>\n",
              "      <td>English Patient, The (1996)</td>\n",
              "      <td>481.0</td>\n",
              "    </tr>\n",
              "    <tr>\n",
              "      <th>288</th>\n",
              "      <td>47</td>\n",
              "      <td>286</td>\n",
              "      <td>3</td>\n",
              "      <td>1997-11-13 16:36:24</td>\n",
              "      <td>1997</td>\n",
              "      <td>11</td>\n",
              "      <td>English Patient, The (1996)</td>\n",
              "      <td>478.0</td>\n",
              "    </tr>\n",
              "    <tr>\n",
              "      <th>1</th>\n",
              "      <td>119</td>\n",
              "      <td>255</td>\n",
              "      <td>3</td>\n",
              "      <td>1997-09-20 17:18:34</td>\n",
              "      <td>1997</td>\n",
              "      <td>9</td>\n",
              "      <td>My Best Friend's Wedding (1997)</td>\n",
              "      <td>452.0</td>\n",
              "    </tr>\n",
              "    <tr>\n",
              "      <th>300</th>\n",
              "      <td>754</td>\n",
              "      <td>286</td>\n",
              "      <td>3</td>\n",
              "      <td>1997-11-13 19:55:47</td>\n",
              "      <td>1997</td>\n",
              "      <td>11</td>\n",
              "      <td>English Patient, The (1996)</td>\n",
              "      <td>431.0</td>\n",
              "    </tr>\n",
              "    <tr>\n",
              "      <th>121</th>\n",
              "      <td>83</td>\n",
              "      <td>255</td>\n",
              "      <td>5</td>\n",
              "      <td>1998-02-16 21:43:42</td>\n",
              "      <td>1998</td>\n",
              "      <td>2</td>\n",
              "      <td>My Best Friend's Wedding (1997)</td>\n",
              "      <td>429.0</td>\n",
              "    </tr>\n",
              "  </tbody>\n",
              "</table>\n",
              "</div>"
            ],
            "text/plain": [
              "     userId  movieId  rating           timestamp  year  month  \\\n",
              "50      672      255       2 1997-11-17 17:54:38  1997     11   \n",
              "258     140      286       5 1997-11-08 18:26:57  1997     11   \n",
              "100     671      255       5 1998-01-09 19:47:01  1998      1   \n",
              "181      76      286       5 1997-09-23 15:06:46  1997      9   \n",
              "294     750      286       4 1997-11-13 18:29:15  1997     11   \n",
              "286     321      286       4 1997-11-13 16:35:32  1997     11   \n",
              "288      47      286       3 1997-11-13 16:36:24  1997     11   \n",
              "1       119      255       3 1997-09-20 17:18:34  1997      9   \n",
              "300     754      286       3 1997-11-13 19:55:47  1997     11   \n",
              "121      83      255       5 1998-02-16 21:43:42  1998      2   \n",
              "\n",
              "                               title  number_of_ratings  \n",
              "50   My Best Friend's Wedding (1997)              583.0  \n",
              "258      English Patient, The (1996)              509.0  \n",
              "100  My Best Friend's Wedding (1997)              508.0  \n",
              "181      English Patient, The (1996)              507.0  \n",
              "294      English Patient, The (1996)              485.0  \n",
              "286      English Patient, The (1996)              481.0  \n",
              "288      English Patient, The (1996)              478.0  \n",
              "1    My Best Friend's Wedding (1997)              452.0  \n",
              "300      English Patient, The (1996)              431.0  \n",
              "121  My Best Friend's Wedding (1997)              429.0  "
            ]
          },
          "metadata": {
            "tags": []
          },
          "execution_count": 57
        }
      ]
    },
    {
      "cell_type": "code",
      "metadata": {
        "id": "TNoMxXBYxHJk",
        "colab_type": "code",
        "colab": {}
      },
      "source": [
        "# SCRUB - Pull out two movies for analysis\n",
        "\n",
        "AFO_user_rating = movie_matrix['Air Force One (1997)']\n",
        "young_user_rating = movie_matrix['Butcher Boy, The (1998)']\n",
        "#young_user_rating = movie_matrix['Young Guns (1988)']"
      ],
      "execution_count": 0,
      "outputs": []
    },
    {
      "cell_type": "code",
      "metadata": {
        "id": "bTADcqSLxYj6",
        "colab_type": "code",
        "colab": {
          "base_uri": "https://localhost:8080/",
          "height": 140
        },
        "outputId": "35f06eb7-f60e-40de-b240-3dbd11b7b8c9"
      },
      "source": [
        "# ANALYZE - NOW LOOK FOR TOP FIVE MOVIES RELATED TO AFO\n",
        "\n",
        "similar_to_air_force_one=movie_matrix.corrwith(AFO_user_rating)\n",
        "similar_to_air_force_one.head()\n"
      ],
      "execution_count": 81,
      "outputs": [
        {
          "output_type": "execute_result",
          "data": {
            "text/plain": [
              "title\n",
              "'Til There Was You (1997)    0.867722\n",
              "1-900 (1994)                      NaN\n",
              "101 Dalmatians (1996)        0.221943\n",
              "12 Angry Men (1957)          0.228031\n",
              "187 (1997)                   0.294232\n",
              "dtype: float64"
            ]
          },
          "metadata": {
            "tags": []
          },
          "execution_count": 81
        }
      ]
    },
    {
      "cell_type": "code",
      "metadata": {
        "id": "ozs89fHQxo6S",
        "colab_type": "code",
        "colab": {
          "base_uri": "https://localhost:8080/",
          "height": 228
        },
        "outputId": "3ba9d5ce-cc37-4f35-eadd-eed2d78f4c05"
      },
      "source": [
        "# ANALYZE - NOW LOOK FOR TOP FIVE MOVIES RELATED TO THE BUTCHER BOY\n",
        "# SECOND PASS LOOK FOR YOUNG GUNS\n",
        "\n",
        "similar_to_young=movie_matrix.corrwith(young_user_rating)\n",
        "similar_to_young.head(10)"
      ],
      "execution_count": 82,
      "outputs": [
        {
          "output_type": "execute_result",
          "data": {
            "text/plain": [
              "title\n",
              "'Til There Was You (1997)                     NaN\n",
              "1-900 (1994)                                  NaN\n",
              "101 Dalmatians (1996)                         NaN\n",
              "12 Angry Men (1957)                           NaN\n",
              "187 (1997)                                    NaN\n",
              "2 Days in the Valley (1996)                   NaN\n",
              "20,000 Leagues Under the Sea (1954)           NaN\n",
              "2001: A Space Odyssey (1968)                  NaN\n",
              "3 Ninjas: High Noon At Mega Mountain (1998)   NaN\n",
              "39 Steps, The (1935)                          NaN\n",
              "dtype: float64"
            ]
          },
          "metadata": {
            "tags": []
          },
          "execution_count": 82
        }
      ]
    },
    {
      "cell_type": "code",
      "metadata": {
        "id": "OknfMcfCz2Dz",
        "colab_type": "code",
        "colab": {
          "base_uri": "https://localhost:8080/",
          "height": 77
        },
        "outputId": "706f291d-edf1-4e93-a6d9-b6cde4da2544"
      },
      "source": [
        "# SCRUB - REMOVE NA FROM CORR MATRIX\n",
        "\n",
        "corr_young = pd.DataFrame(similar_to_young, columns=['Correlation'])\n",
        "corr_young.dropna(inplace=True)\n",
        "corr_young.sort_values('Correlation', ascending=False).head(10)"
      ],
      "execution_count": 83,
      "outputs": [
        {
          "output_type": "execute_result",
          "data": {
            "text/html": [
              "<div>\n",
              "<style scoped>\n",
              "    .dataframe tbody tr th:only-of-type {\n",
              "        vertical-align: middle;\n",
              "    }\n",
              "\n",
              "    .dataframe tbody tr th {\n",
              "        vertical-align: top;\n",
              "    }\n",
              "\n",
              "    .dataframe thead th {\n",
              "        text-align: right;\n",
              "    }\n",
              "</style>\n",
              "<table border=\"1\" class=\"dataframe\">\n",
              "  <thead>\n",
              "    <tr style=\"text-align: right;\">\n",
              "      <th></th>\n",
              "      <th>Correlation</th>\n",
              "    </tr>\n",
              "    <tr>\n",
              "      <th>title</th>\n",
              "      <th></th>\n",
              "    </tr>\n",
              "  </thead>\n",
              "  <tbody>\n",
              "  </tbody>\n",
              "</table>\n",
              "</div>"
            ],
            "text/plain": [
              "Empty DataFrame\n",
              "Columns: [Correlation]\n",
              "Index: []"
            ]
          },
          "metadata": {
            "tags": []
          },
          "execution_count": 83
        }
      ]
    }
  ]
}