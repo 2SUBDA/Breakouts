{
  "nbformat": 4,
  "nbformat_minor": 0,
  "metadata": {
    "colab": {
      "name": "StrawberriesQACreation.ipynb",
      "provenance": [],
      "collapsed_sections": [],
      "include_colab_link": true
    },
    "kernelspec": {
      "name": "python3",
      "display_name": "Python 3"
    }
  },
  "cells": [
    {
      "cell_type": "markdown",
      "metadata": {
        "id": "view-in-github",
        "colab_type": "text"
      },
      "source": [
        "<a href=\"https://colab.research.google.com/github/2SUBDA/Breakouts/blob/Week6/StrawberriesQACreation.ipynb\" target=\"_parent\"><img src=\"https://colab.research.google.com/assets/colab-badge.svg\" alt=\"Open In Colab\"/></a>"
      ]
    },
    {
      "cell_type": "code",
      "metadata": {
        "id": "AYeXUeczsbb8",
        "colab_type": "code",
        "colab": {}
      },
      "source": [
        "# BASED ON EXAMPLE FROM STACKEXCHANGE - JahKnows (2018)\n",
        "import numpy as np\n",
        "import pandas as pd\n",
        "\n",
        "from mpl_toolkits.mplot3d import Axes3D\n",
        "import matplotlib.pyplot as plt"
      ],
      "execution_count": 0,
      "outputs": []
    },
    {
      "cell_type": "code",
      "metadata": {
        "id": "b8K6YzDmsmS1",
        "colab_type": "code",
        "colab": {}
      },
      "source": [
        "# OBTAIN - OR RATHER CREATE SAMPLES BASED ON COLTON TEST DATA\n",
        "\n",
        "# Number of Samples\n",
        "n = 100000\n",
        "\n",
        "data = []\n",
        "for i in range(n):\n",
        "    temp = {}\n",
        "    \n",
        "    # RANDOM NORMAL BASED ON COLTON - MEAN = 34  VARIANCE = 3\n",
        "    # DISTRIBUTION CHOICES BASED ON ANALYSIS OF HISTORICAL OBSERVATIONS\n",
        "    temp.update({'temperature': np.random.normal(34, 3)})\n",
        "    \n",
        "    # GET A COLOR\n",
        "    color = 'red'\n",
        "    color_random_value = np.random.randint(0,10)\n",
        "    if color_random_value == 8:\n",
        "        color = 'yellow'\n",
        "    elif color_random_value == 9:\n",
        "        color = 'green'\n",
        "    temp.update({'color': color})\n",
        "    \n",
        "    # Get a random normally distributed moisture mean=96 and variance=2\n",
        "    temp.update({'moisture': np.random.normal(96, 2)})\n",
        "\n",
        "    # Verify if the instance is edible (label=0) or not (label=1)\n",
        "    label = 0\n",
        "    if temp['temperature'] < 31 or temp['temperature'] > 37:\n",
        "        label = 1\n",
        "    elif temp['color'] != 'red':\n",
        "        label = 1\n",
        "    elif temp['moisture'] < 94 or temp['moisture'] > 98:\n",
        "        label = 1\n",
        "    temp.update({'label': label})\n",
        "\n",
        "    data.append(temp)\n",
        "    \n",
        "    "
      ],
      "execution_count": 0,
      "outputs": []
    },
    {
      "cell_type": "code",
      "metadata": {
        "id": "giV1xRWq3aN6",
        "colab_type": "code",
        "outputId": "0778beea-984e-4416-e25e-f590bbd5e4a3",
        "colab": {
          "base_uri": "https://localhost:8080/",
          "height": 198
        }
      },
      "source": [
        "df = pd.DataFrame(data=data)\n",
        "df.head()"
      ],
      "execution_count": 3,
      "outputs": [
        {
          "output_type": "execute_result",
          "data": {
            "text/html": [
              "<div>\n",
              "<style scoped>\n",
              "    .dataframe tbody tr th:only-of-type {\n",
              "        vertical-align: middle;\n",
              "    }\n",
              "\n",
              "    .dataframe tbody tr th {\n",
              "        vertical-align: top;\n",
              "    }\n",
              "\n",
              "    .dataframe thead th {\n",
              "        text-align: right;\n",
              "    }\n",
              "</style>\n",
              "<table border=\"1\" class=\"dataframe\">\n",
              "  <thead>\n",
              "    <tr style=\"text-align: right;\">\n",
              "      <th></th>\n",
              "      <th>temperature</th>\n",
              "      <th>color</th>\n",
              "      <th>moisture</th>\n",
              "      <th>label</th>\n",
              "    </tr>\n",
              "  </thead>\n",
              "  <tbody>\n",
              "    <tr>\n",
              "      <th>0</th>\n",
              "      <td>32.618511</td>\n",
              "      <td>red</td>\n",
              "      <td>98.703895</td>\n",
              "      <td>1</td>\n",
              "    </tr>\n",
              "    <tr>\n",
              "      <th>1</th>\n",
              "      <td>35.919095</td>\n",
              "      <td>red</td>\n",
              "      <td>98.311813</td>\n",
              "      <td>1</td>\n",
              "    </tr>\n",
              "    <tr>\n",
              "      <th>2</th>\n",
              "      <td>33.371200</td>\n",
              "      <td>yellow</td>\n",
              "      <td>96.970946</td>\n",
              "      <td>1</td>\n",
              "    </tr>\n",
              "    <tr>\n",
              "      <th>3</th>\n",
              "      <td>32.467685</td>\n",
              "      <td>red</td>\n",
              "      <td>97.141090</td>\n",
              "      <td>0</td>\n",
              "    </tr>\n",
              "    <tr>\n",
              "      <th>4</th>\n",
              "      <td>30.184612</td>\n",
              "      <td>red</td>\n",
              "      <td>94.948105</td>\n",
              "      <td>1</td>\n",
              "    </tr>\n",
              "  </tbody>\n",
              "</table>\n",
              "</div>"
            ],
            "text/plain": [
              "   temperature   color   moisture  label\n",
              "0    32.618511     red  98.703895      1\n",
              "1    35.919095     red  98.311813      1\n",
              "2    33.371200  yellow  96.970946      1\n",
              "3    32.467685     red  97.141090      0\n",
              "4    30.184612     red  94.948105      1"
            ]
          },
          "metadata": {
            "tags": []
          },
          "execution_count": 3
        }
      ]
    },
    {
      "cell_type": "code",
      "metadata": {
        "id": "PNL9Gt8I4jSR",
        "colab_type": "code",
        "colab": {}
      },
      "source": [
        "# SCRUB\n",
        "\n",
        "df['color_codes'] =df['color'].astype('category').cat.codes\n"
      ],
      "execution_count": 0,
      "outputs": []
    },
    {
      "cell_type": "code",
      "metadata": {
        "id": "LJvuSdVR5Y_T",
        "colab_type": "code",
        "colab": {}
      },
      "source": [
        "# SCRUB\n",
        "\n",
        "X = np.asarray(df[['color_codes', 'moisture', 'temperature']])\n",
        "y = np.asarray(df['label'])"
      ],
      "execution_count": 0,
      "outputs": []
    },
    {
      "cell_type": "code",
      "metadata": {
        "id": "CLCx0NRY5kjK",
        "colab_type": "code",
        "outputId": "b7d090d3-c4b0-4864-e38c-b3fba2b935a4",
        "colab": {
          "base_uri": "https://localhost:8080/",
          "height": 248
        }
      },
      "source": [
        "fig = plt.figure()\n",
        "ax = fig.add_subplot(111, projection='3d')\n",
        "\n",
        "ax.scatter(X[:,0], X[:,1], X[:,2], c=y)\n",
        "\n",
        "ax.set_xlabel('Color')\n",
        "ax.set_ylabel('Moisture')\n",
        "ax.set_zlabel('Temperature')\n",
        "\n",
        "plt.show()"
      ],
      "execution_count": 6,
      "outputs": [
        {
          "output_type": "display_data",
          "data": {
            "image/png": "[encoded data removed]",
            "text/plain": [
              "<Figure size 432x288 with 1 Axes>"
            ]
          },
          "metadata": {
            "tags": [],
            "needs_background": "light"
          }
        }
      ]
    },
    {
      "cell_type": "code",
      "metadata": {
        "id": "49jb0-KG5dnS",
        "colab_type": "code",
        "colab": {}
      },
      "source": [
        "from sklearn.model_selection import train_test_split\n",
        "\n",
        "X_train, X_test, y_train, y_test = train_test_split(X, y, test_size=0.33)"
      ],
      "execution_count": 0,
      "outputs": []
    },
    {
      "cell_type": "code",
      "metadata": {
        "id": "reO6716G5sEq",
        "colab_type": "code",
        "outputId": "1c446891-aed3-4950-efd2-4ad39ca5613e",
        "colab": {
          "base_uri": "https://localhost:8080/",
          "height": 295
        }
      },
      "source": [
        "n_classes = 2\n",
        "\n",
        "training_counts = [None] * n_classes \n",
        "testing_counts = [None] * n_classes\n",
        "for i in range(n_classes):\n",
        "    training_counts[i] = len(y_train[y_train == i])/len(y_train)\n",
        "    testing_counts[i] = len(y_test[y_test == i])/len(y_test)\n",
        "\n",
        "# the histogram of the data\n",
        "train_bar = plt.bar(np.arange(n_classes)-0.2, training_counts, align='center', color = 'r', alpha=0.75, width = 0.41, label='Training')\n",
        "test_bar = plt.bar(np.arange(n_classes)+0.2, testing_counts, align='center', color = 'b', alpha=0.75, width = 0.41, label = 'Testing')\n",
        "\n",
        "plt.xlabel('Labels')\n",
        "plt.xticks((0,1))\n",
        "plt.ylabel('Count (%)')\n",
        "plt.title('Label distribution in the training and test set')\n",
        "plt.legend(bbox_to_anchor=(1.05, 1), handles=[train_bar, test_bar], loc=2)\n",
        "plt.grid(True)\n",
        "plt.show()"
      ],
      "execution_count": 8,
      "outputs": [
        {
          "output_type": "display_data",
          "data": {
            "image/png": "[encoded data removed]",
            "text/plain": [
              "<Figure size 432x288 with 1 Axes>"
            ]
          },
          "metadata": {
            "tags": [],
            "needs_background": "light"
          }
        }
      ]
    },
    {
      "cell_type": "code",
      "metadata": {
        "id": "ePtV9KYq5zhB",
        "colab_type": "code",
        "outputId": "a3928f00-5029-4ef0-89ee-a2aa61d653c7",
        "colab": {
          "base_uri": "https://localhost:8080/",
          "height": 35
        }
      },
      "source": [
        "# MODEL BUILD - LINEAR\n",
        "\n",
        "from sklearn import linear_model\n",
        "clf = linear_model.SGDClassifier(max_iter=1000)\n",
        "clf.fit(X_train, y_train)\n",
        "clf.score(X_test, y_test)"
      ],
      "execution_count": 9,
      "outputs": [
        {
          "output_type": "execute_result",
          "data": {
            "text/plain": [
              "0.6232424242424243"
            ]
          },
          "metadata": {
            "tags": []
          },
          "execution_count": 9
        }
      ]
    },
    {
      "cell_type": "code",
      "metadata": {
        "id": "QnNs-TC_58Sa",
        "colab_type": "code",
        "outputId": "9ef3cd58-0a93-48b2-b6b5-4b45c5bd1ef3",
        "colab": {
          "base_uri": "https://localhost:8080/",
          "height": 35
        }
      },
      "source": [
        "# MODEL BUILD - SUPPORT VECTOR\n",
        "\n",
        "from sklearn.svm import SVC\n",
        "clf = SVC()\n",
        "clf.fit(X_train, y_train)\n",
        "clf.score(X_test, y_test)"
      ],
      "execution_count": 15,
      "outputs": [
        {
          "output_type": "execute_result",
          "data": {
            "text/plain": [
              "0.6232424242424243"
            ]
          },
          "metadata": {
            "tags": []
          },
          "execution_count": 15
        }
      ]
    },
    {
      "cell_type": "code",
      "metadata": {
        "id": "pfkor84H5_IS",
        "colab_type": "code",
        "outputId": "3a2b077c-58b2-464d-8c0d-0f4e964735ad",
        "colab": {
          "base_uri": "https://localhost:8080/",
          "height": 35
        }
      },
      "source": [
        "# MODEL BUILD - K-Nearest Neighbors\n",
        "\n",
        "from sklearn.neighbors import KNeighborsClassifier\n",
        "neigh = KNeighborsClassifier(n_neighbors=3)\n",
        "neigh.fit(X_train, y_train)\n",
        "neigh.score(X_test, y_test)"
      ],
      "execution_count": 10,
      "outputs": [
        {
          "output_type": "execute_result",
          "data": {
            "text/plain": [
              "0.9973636363636363"
            ]
          },
          "metadata": {
            "tags": []
          },
          "execution_count": 10
        }
      ]
    },
    {
      "cell_type": "code",
      "metadata": {
        "id": "2n2ctDbGqlkH",
        "colab_type": "code",
        "outputId": "ba49947c-28f7-417d-9821-606db9b3ba05",
        "colab": {
          "base_uri": "https://localhost:8080/",
          "height": 35
        }
      },
      "source": [
        "# MODEL BUILD - K-Nearest Neighbors - Just fit/score Train\n",
        "\n",
        "neigh = KNeighborsClassifier(n_neighbors=3)\n",
        "neigh.fit(X_train, y_train)\n",
        "neigh.score(X_train, y_train)\n"
      ],
      "execution_count": 11,
      "outputs": [
        {
          "output_type": "execute_result",
          "data": {
            "text/plain": [
              "0.999"
            ]
          },
          "metadata": {
            "tags": []
          },
          "execution_count": 11
        }
      ]
    },
    {
      "cell_type": "code",
      "metadata": {
        "id": "ggZ8vtOzrkyq",
        "colab_type": "code",
        "outputId": "0a1ea14c-9544-41f1-fde0-e26f6c5998ed",
        "colab": {
          "base_uri": "https://localhost:8080/",
          "height": 35
        }
      },
      "source": [
        "# MODEL BUILD - K-Nearest Neighbors - Just fit/score Test\n",
        "\n",
        "neigh = KNeighborsClassifier(n_neighbors=3)\n",
        "neigh.fit(X_test, y_test)\n",
        "neigh.score(X_test, y_test)"
      ],
      "execution_count": 12,
      "outputs": [
        {
          "output_type": "execute_result",
          "data": {
            "text/plain": [
              "0.9984242424242424"
            ]
          },
          "metadata": {
            "tags": []
          },
          "execution_count": 12
        }
      ]
    },
    {
      "cell_type": "code",
      "metadata": {
        "id": "rL9NQieErH_Z",
        "colab_type": "code",
        "outputId": "a43a6d9b-9706-4dcd-c665-15da2e5b6d60",
        "colab": {
          "base_uri": "https://localhost:8080/",
          "height": 35
        }
      },
      "source": [
        "# MODEL BUILD - K-Nearest Neighbors - Just fit/score entire sample\n",
        "\n",
        "neigh = KNeighborsClassifier(n_neighbors=3)\n",
        "neigh.fit(X, y)\n",
        "neigh.score(X, y)\n"
      ],
      "execution_count": 13,
      "outputs": [
        {
          "output_type": "execute_result",
          "data": {
            "text/plain": [
              "0.99915"
            ]
          },
          "metadata": {
            "tags": []
          },
          "execution_count": 13
        }
      ]
    },
    {
      "cell_type": "markdown",
      "metadata": {
        "id": "-uSxBwo8r6cK",
        "colab_type": "text"
      },
      "source": [
        "NOTE:  K-Nearest Neighbors is a \"lazy\" algorithm - the separation of test & training is not truly necessary - we simply present the separation to align with the concept of comparing strawberries to strawberries :)\n",
        "More details available at https://scikit-learn.org/stable/modules/neighbors.html\n",
        "Shout out to Suzy Park for the catch & comments!"
      ]
    },
    {
      "cell_type": "code",
      "metadata": {
        "id": "amh-7-qd6CHj",
        "colab_type": "code",
        "outputId": "43b45c29-129b-45e5-e318-534784f252b6",
        "colab": {
          "base_uri": "https://localhost:8080/",
          "height": 35
        }
      },
      "source": [
        "# MODEL BUILD - RANDOM FORESTS\n",
        "\n",
        "from sklearn.ensemble import RandomForestClassifier \n",
        "\n",
        "forest = RandomForestClassifier(n_estimators = 100)\n",
        "forest.fit(X_train, y_train)\n",
        "print('Score: ', forest.score(X_test, y_test))\n",
        "predictions = forest.predict(X_test)"
      ],
      "execution_count": 14,
      "outputs": [
        {
          "output_type": "stream",
          "text": [
            "Score:  0.9998181818181818\n"
          ],
          "name": "stdout"
        }
      ]
    }
  ]
}