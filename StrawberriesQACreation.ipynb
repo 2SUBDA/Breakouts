{
  "nbformat": 4,
  "nbformat_minor": 0,
  "metadata": {
    "colab": {
      "name": "StrawberriesQACreation.ipynb",
      "provenance": [],
      "collapsed_sections": [],
      "include_colab_link": true
    },
    "kernelspec": {
      "name": "python3",
      "display_name": "Python 3"
    }
  },
  "cells": [
    {
      "cell_type": "markdown",
      "metadata": {
        "id": "view-in-github",
        "colab_type": "text"
      },
      "source": [
        "<a href=\"https://colab.research.google.com/github/2SUBDA/Breakouts/blob/Week6/StrawberriesQACreation.ipynb\" target=\"_parent\"><img src=\"https://colab.research.google.com/assets/colab-badge.svg\" alt=\"Open In Colab\"/></a>"
      ]
    },
    {
      "cell_type": "code",
      "metadata": {
        "id": "AYeXUeczsbb8",
        "colab_type": "code",
        "colab": {}
      },
      "source": [
        "# BASED ON EXAMPLE FROM STACKEXCHANGE - JahKnows (2018)\n",
        "import numpy as np\n",
        "import pandas as pd\n",
        "\n",
        "from mpl_toolkits.mplot3d import Axes3D\n",
        "import matplotlib.pyplot as plt"
      ],
      "execution_count": 0,
      "outputs": []
    },
    {
      "cell_type": "code",
      "metadata": {
        "id": "b8K6YzDmsmS1",
        "colab_type": "code",
        "colab": {}
      },
      "source": [
        "# OBTAIN - OR RATHER CREATE SAMPLES BASED ON COLTON TEST DATA\n",
        "\n",
        "# Number of Samples\n",
        "n = 100000\n",
        "\n",
        "data = []\n",
        "for i in range(n):\n",
        "    temp = {}\n",
        "    \n",
        "    # RANDOM NORMAL BASED ON COLTON - MEAN = 34  VARIANCE = 3\n",
        "    # DISTRIBUTION CHOICES BASED ON ANALYSIS OF HISTORICAL OBSERVATIONS\n",
        "    temp.update({'temperature': np.random.normal(34, 3)})\n",
        "    \n",
        "    # GET A COLOR\n",
        "    color = 'red'\n",
        "    color_random_value = np.random.randint(0,10)\n",
        "    if color_random_value == 8:\n",
        "        color = 'yellow'\n",
        "    elif color_random_value == 9:\n",
        "        color = 'green'\n",
        "    temp.update({'color': color})\n",
        "    \n",
        "    # Get a random normally distributed moisture mean=96 and variance=2\n",
        "    temp.update({'moisture': np.random.normal(96, 2)})\n",
        "\n",
        "    # Verify if the instance is edible (label=0) or not (label=1)\n",
        "    label = 0\n",
        "    if temp['temperature'] < 31 or temp['temperature'] > 37:\n",
        "        label = 1\n",
        "    elif temp['color'] != 'red':\n",
        "        label = 1\n",
        "    elif temp['moisture'] < 94 or temp['moisture'] > 98:\n",
        "        label = 1\n",
        "    temp.update({'label': label})\n",
        "\n",
        "    data.append(temp)\n",
        "    \n",
        "    "
      ],
      "execution_count": 0,
      "outputs": []
    },
    {
      "cell_type": "code",
      "metadata": {
        "id": "giV1xRWq3aN6",
        "colab_type": "code",
        "outputId": "e52eca87-ebf6-4565-837b-ad96a039e904",
        "colab": {
          "base_uri": "https://localhost:8080/",
          "height": 196
        }
      },
      "source": [
        "df = pd.DataFrame(data=data)\n",
        "df.head()"
      ],
      "execution_count": 4,
      "outputs": [
        {
          "output_type": "execute_result",
          "data": {
            "text/html": [
              "<div>\n",
              "<style scoped>\n",
              "    .dataframe tbody tr th:only-of-type {\n",
              "        vertical-align: middle;\n",
              "    }\n",
              "\n",
              "    .dataframe tbody tr th {\n",
              "        vertical-align: top;\n",
              "    }\n",
              "\n",
              "    .dataframe thead th {\n",
              "        text-align: right;\n",
              "    }\n",
              "</style>\n",
              "<table border=\"1\" class=\"dataframe\">\n",
              "  <thead>\n",
              "    <tr style=\"text-align: right;\">\n",
              "      <th></th>\n",
              "      <th>temperature</th>\n",
              "      <th>color</th>\n",
              "      <th>moisture</th>\n",
              "      <th>label</th>\n",
              "    </tr>\n",
              "  </thead>\n",
              "  <tbody>\n",
              "    <tr>\n",
              "      <th>0</th>\n",
              "      <td>33.897603</td>\n",
              "      <td>yellow</td>\n",
              "      <td>95.775869</td>\n",
              "      <td>1</td>\n",
              "    </tr>\n",
              "    <tr>\n",
              "      <th>1</th>\n",
              "      <td>33.655681</td>\n",
              "      <td>red</td>\n",
              "      <td>92.770644</td>\n",
              "      <td>1</td>\n",
              "    </tr>\n",
              "    <tr>\n",
              "      <th>2</th>\n",
              "      <td>34.509831</td>\n",
              "      <td>red</td>\n",
              "      <td>93.339745</td>\n",
              "      <td>1</td>\n",
              "    </tr>\n",
              "    <tr>\n",
              "      <th>3</th>\n",
              "      <td>32.646525</td>\n",
              "      <td>red</td>\n",
              "      <td>95.746202</td>\n",
              "      <td>0</td>\n",
              "    </tr>\n",
              "    <tr>\n",
              "      <th>4</th>\n",
              "      <td>32.805203</td>\n",
              "      <td>yellow</td>\n",
              "      <td>97.021473</td>\n",
              "      <td>1</td>\n",
              "    </tr>\n",
              "  </tbody>\n",
              "</table>\n",
              "</div>"
            ],
            "text/plain": [
              "   temperature   color   moisture  label\n",
              "0    33.897603  yellow  95.775869      1\n",
              "1    33.655681     red  92.770644      1\n",
              "2    34.509831     red  93.339745      1\n",
              "3    32.646525     red  95.746202      0\n",
              "4    32.805203  yellow  97.021473      1"
            ]
          },
          "metadata": {
            "tags": []
          },
          "execution_count": 4
        }
      ]
    },
    {
      "cell_type": "code",
      "metadata": {
        "id": "PNL9Gt8I4jSR",
        "colab_type": "code",
        "colab": {}
      },
      "source": [
        "# SCRUB\n",
        "\n",
        "df['color_codes'] =df['color'].astype('category').cat.codes\n"
      ],
      "execution_count": 0,
      "outputs": []
    },
    {
      "cell_type": "code",
      "metadata": {
        "id": "LJvuSdVR5Y_T",
        "colab_type": "code",
        "colab": {}
      },
      "source": [
        "# SCRUB\n",
        "\n",
        "X = np.asarray(df[['color_codes', 'moisture', 'temperature']])\n",
        "y = np.asarray(df['label'])"
      ],
      "execution_count": 0,
      "outputs": []
    },
    {
      "cell_type": "code",
      "metadata": {
        "id": "CLCx0NRY5kjK",
        "colab_type": "code",
        "outputId": "20e08068-0abe-4ab6-8ac8-169f30df5698",
        "colab": {
          "base_uri": "https://localhost:8080/",
          "height": 248
        }
      },
      "source": [
        "fig = plt.figure()\n",
        "ax = fig.add_subplot(111, projection='3d')\n",
        "\n",
        "ax.scatter(X[:,0], X[:,1], X[:,2], c=y)\n",
        "\n",
        "ax.set_xlabel('Color')\n",
        "ax.set_ylabel('Moisture')\n",
        "ax.set_zlabel('Temperature')\n",
        "\n",
        "plt.show()"
      ],
      "execution_count": 7,
      "outputs": [
        {
          "output_type": "display_data",
          "data": {
            "image/png": "[encoded data removed]",
            "text/plain": [
              "<Figure size 432x288 with 1 Axes>"
            ]
          },
          "metadata": {
            "tags": []
          }
        }
      ]
    },
    {
      "cell_type": "code",
      "metadata": {
        "id": "49jb0-KG5dnS",
        "colab_type": "code",
        "colab": {}
      },
      "source": [
        "from sklearn.model_selection import train_test_split\n",
        "\n",
        "X_train, X_test, y_train, y_test = train_test_split(X, y, test_size=0.33)"
      ],
      "execution_count": 0,
      "outputs": []
    },
    {
      "cell_type": "code",
      "metadata": {
        "id": "reO6716G5sEq",
        "colab_type": "code",
        "outputId": "451eae54-2f70-4315-c9c0-9dedb7cb7985",
        "colab": {
          "base_uri": "https://localhost:8080/",
          "height": 295
        }
      },
      "source": [
        "n_classes = 2\n",
        "\n",
        "training_counts = [None] * n_classes \n",
        "testing_counts = [None] * n_classes\n",
        "for i in range(n_classes):\n",
        "    training_counts[i] = len(y_train[y_train == i])/len(y_train)\n",
        "    testing_counts[i] = len(y_test[y_test == i])/len(y_test)\n",
        "\n",
        "# the histogram of the data\n",
        "train_bar = plt.bar(np.arange(n_classes)-0.2, training_counts, align='center', color = 'r', alpha=0.75, width = 0.41, label='Training')\n",
        "test_bar = plt.bar(np.arange(n_classes)+0.2, testing_counts, align='center', color = 'b', alpha=0.75, width = 0.41, label = 'Testing')\n",
        "\n",
        "plt.xlabel('Labels')\n",
        "plt.xticks((0,1))\n",
        "plt.ylabel('Count (%)')\n",
        "plt.title('Label distribution in the training and test set')\n",
        "plt.legend(bbox_to_anchor=(1.05, 1), handles=[train_bar, test_bar], loc=2)\n",
        "plt.grid(True)\n",
        "plt.show()"
      ],
      "execution_count": 9,
      "outputs": [
        {
          "output_type": "display_data",
          "data": {
            "image/png": "[encoded data removed]",
            "text/plain": [
              "<Figure size 432x288 with 1 Axes>"
            ]
          },
          "metadata": {
            "tags": []
          }
        }
      ]
    },
    {
      "cell_type": "code",
      "metadata": {
        "id": "ePtV9KYq5zhB",
        "colab_type": "code",
        "outputId": "11016d27-310a-4a64-e3e5-3b8dd44263a5",
        "colab": {
          "base_uri": "https://localhost:8080/",
          "height": 33
        }
      },
      "source": [
        "# MODEL BUILD - LINEAR\n",
        "\n",
        "from sklearn import linear_model\n",
        "clf = linear_model.SGDClassifier(max_iter=1000)\n",
        "clf.fit(X_train, y_train)\n",
        "clf.score(X_test, y_test)"
      ],
      "execution_count": 10,
      "outputs": [
        {
          "output_type": "execute_result",
          "data": {
            "text/plain": [
              "0.6290909090909091"
            ]
          },
          "metadata": {
            "tags": []
          },
          "execution_count": 10
        }
      ]
    },
    {
      "cell_type": "code",
      "metadata": {
        "id": "QnNs-TC_58Sa",
        "colab_type": "code",
        "outputId": "9e3b998d-af03-4aba-8b37-340298c47eac",
        "colab": {
          "base_uri": "https://localhost:8080/",
          "height": 87
        }
      },
      "source": [
        "# MODEL BUILD - SUPPORT VECTOR\n",
        "\n",
        "from sklearn.svm import SVC\n",
        "clf = SVC()\n",
        "clf.fit(X_train, y_train)\n",
        "clf.score(X_test, y_test)"
      ],
      "execution_count": 11,
      "outputs": [
        {
          "output_type": "stream",
          "text": [
            "/usr/local/lib/python3.6/dist-packages/sklearn/svm/base.py:193: FutureWarning: The default value of gamma will change from 'auto' to 'scale' in version 0.22 to account better for unscaled features. Set gamma explicitly to 'auto' or 'scale' to avoid this warning.\n",
            "  \"avoid this warning.\", FutureWarning)\n"
          ],
          "name": "stderr"
        },
        {
          "output_type": "execute_result",
          "data": {
            "text/plain": [
              "0.9954242424242424"
            ]
          },
          "metadata": {
            "tags": []
          },
          "execution_count": 11
        }
      ]
    },
    {
      "cell_type": "code",
      "metadata": {
        "id": "pfkor84H5_IS",
        "colab_type": "code",
        "outputId": "6b93057b-2cdc-4a2e-da5e-7b1271a86b32",
        "colab": {
          "base_uri": "https://localhost:8080/",
          "height": 33
        }
      },
      "source": [
        "# MODEL BUILD - K-Nearest Neighbors\n",
        "\n",
        "from sklearn.neighbors import KNeighborsClassifier\n",
        "neigh = KNeighborsClassifier(n_neighbors=3)\n",
        "neigh.fit(X_train, y_train)\n",
        "neigh.score(X_test, y_test)"
      ],
      "execution_count": 16,
      "outputs": [
        {
          "output_type": "execute_result",
          "data": {
            "text/plain": [
              "0.997030303030303"
            ]
          },
          "metadata": {
            "tags": []
          },
          "execution_count": 16
        }
      ]
    },
    {
      "cell_type": "code",
      "metadata": {
        "id": "2n2ctDbGqlkH",
        "colab_type": "code",
        "colab": {
          "base_uri": "https://localhost:8080/",
          "height": 33
        },
        "outputId": "112872d5-2c4e-485d-a4c9-8d6175d9ce7e"
      },
      "source": [
        "# MODEL BUILD - K-Nearest Neighbors - Just fit/score Train\n",
        "\n",
        "neigh = KNeighborsClassifier(n_neighbors=3)\n",
        "neigh.fit(X_train, y_train)\n",
        "neigh.score(X_train, y_train)\n"
      ],
      "execution_count": 17,
      "outputs": [
        {
          "output_type": "execute_result",
          "data": {
            "text/plain": [
              "0.9989253731343284"
            ]
          },
          "metadata": {
            "tags": []
          },
          "execution_count": 17
        }
      ]
    },
    {
      "cell_type": "code",
      "metadata": {
        "id": "ggZ8vtOzrkyq",
        "colab_type": "code",
        "colab": {
          "base_uri": "https://localhost:8080/",
          "height": 33
        },
        "outputId": "178a8511-4baa-491b-b46e-ee697b21c8de"
      },
      "source": [
        "# MODEL BUILD - K-Nearest Neighbors - Just fit/score Test\n",
        "\n",
        "neigh = KNeighborsClassifier(n_neighbors=3)\n",
        "neigh.fit(X_test, y_test)\n",
        "neigh.score(X_test, y_test)"
      ],
      "execution_count": 18,
      "outputs": [
        {
          "output_type": "execute_result",
          "data": {
            "text/plain": [
              "0.9984545454545455"
            ]
          },
          "metadata": {
            "tags": []
          },
          "execution_count": 18
        }
      ]
    },
    {
      "cell_type": "code",
      "metadata": {
        "id": "rL9NQieErH_Z",
        "colab_type": "code",
        "colab": {
          "base_uri": "https://localhost:8080/",
          "height": 33
        },
        "outputId": "69b6ec81-ab53-4e5a-84c2-d5c0669f4dae"
      },
      "source": [
        "# MODEL BUILD - K-Nearest Neighbors - Just fit/score entire sample\n",
        "\n",
        "neigh = KNeighborsClassifier(n_neighbors=3)\n",
        "neigh.fit(X, y)\n",
        "neigh.score(X, y)\n"
      ],
      "execution_count": 19,
      "outputs": [
        {
          "output_type": "execute_result",
          "data": {
            "text/plain": [
              "0.99906"
            ]
          },
          "metadata": {
            "tags": []
          },
          "execution_count": 19
        }
      ]
    },
    {
      "cell_type": "markdown",
      "metadata": {
        "id": "-uSxBwo8r6cK",
        "colab_type": "text"
      },
      "source": [
        "NOTE:  K-Nearest Neighbors is a \"lazy\" algorithm - the separation of test & training is not truly necessary - we simply present the separation to align with the concept of comparing strawberries to strawberries :)\n",
        "More details available at https://scikit-learn.org/stable/modules/neighbors.html\n",
        "Shout out to Suzy Park for the catch & comments!"
      ]
    },
    {
      "cell_type": "code",
      "metadata": {
        "id": "amh-7-qd6CHj",
        "colab_type": "code",
        "outputId": "324e901e-2942-477c-ef07-d4c19a7adabb",
        "colab": {
          "base_uri": "https://localhost:8080/",
          "height": 33
        }
      },
      "source": [
        "# MODEL BUILD - RANDOM FORESTS\n",
        "\n",
        "from sklearn.ensemble import RandomForestClassifier \n",
        "\n",
        "forest = RandomForestClassifier(n_estimators = 100)\n",
        "forest.fit(X_train, y_train)\n",
        "print('Score: ', forest.score(X_test, y_test))\n",
        "predictions = forest.predict(X_test)"
      ],
      "execution_count": 27,
      "outputs": [
        {
          "output_type": "stream",
          "text": [
            "Score:  0.999969696969697\n"
          ],
          "name": "stdout"
        }
      ]
    }
  ]
}