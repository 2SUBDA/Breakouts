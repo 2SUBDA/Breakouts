{
  "nbformat": 4,
  "nbformat_minor": 0,
  "metadata": {
    "colab": {
      "name": "StrawberriesQACreation.ipynb",
      "provenance": [],
      "collapsed_sections": [],
      "include_colab_link": true
    },
    "kernelspec": {
      "name": "python3",
      "display_name": "Python 3"
    }
  },
  "cells": [
    {
      "cell_type": "markdown",
      "metadata": {
        "id": "view-in-github",
        "colab_type": "text"
      },
      "source": [
        "<a href=\"https://colab.research.google.com/github/2SUBDA/Breakouts/blob/Week6/StrawberriesQACreation.ipynb\" target=\"_parent\"><img src=\"https://colab.research.google.com/assets/colab-badge.svg\" alt=\"Open In Colab\"/></a>"
      ]
    },
    {
      "cell_type": "code",
      "metadata": {
        "id": "AYeXUeczsbb8"
      },
      "source": [
        "# BASED ON EXAMPLE FROM STACKEXCHANGE - JahKnows (2018)\n",
        "import numpy as np\n",
        "import pandas as pd\n",
        "\n",
        "from mpl_toolkits.mplot3d import Axes3D\n",
        "import matplotlib.pyplot as plt"
      ],
      "execution_count": 1,
      "outputs": []
    },
    {
      "cell_type": "code",
      "metadata": {
        "id": "b8K6YzDmsmS1"
      },
      "source": [
        "# OBTAIN - OR RATHER CREATE SAMPLES BASED ON COLTON TEST DATA\n",
        "\n",
        "# Number of Samples\n",
        "n = 100000\n",
        "\n",
        "data = []\n",
        "for i in range(n):\n",
        "    temp = {}\n",
        "    \n",
        "    # RANDOM NORMAL BASED ON COLTON - MEAN = 34  VARIANCE = 3\n",
        "    # DISTRIBUTION CHOICES BASED ON ANALYSIS OF HISTORICAL OBSERVATIONS\n",
        "    temp.update({'temperature': np.random.normal(34, 3)})\n",
        "    \n",
        "    # GET A COLOR\n",
        "    color = 'red'\n",
        "    color_random_value = np.random.randint(0,10)\n",
        "    if color_random_value == 8:\n",
        "        color = 'yellow'\n",
        "    elif color_random_value == 9:\n",
        "        color = 'green'\n",
        "    temp.update({'color': color})\n",
        "    \n",
        "    # Get a random normally distributed moisture mean=96 and variance=2\n",
        "    temp.update({'moisture': np.random.normal(96, 2)})\n",
        "\n",
        "    # Verify if the instance is edible (label=0) or not (label=1)\n",
        "    label = 0\n",
        "    if temp['temperature'] < 31 or temp['temperature'] > 37:\n",
        "        label = 1\n",
        "    elif temp['color'] != 'red':\n",
        "        label = 1\n",
        "    elif temp['moisture'] < 94 or temp['moisture'] > 98:\n",
        "        label = 1\n",
        "    temp.update({'label': label})\n",
        "\n",
        "    data.append(temp)\n",
        "    \n",
        "    "
      ],
      "execution_count": 2,
      "outputs": []
    },
    {
      "cell_type": "code",
      "metadata": {
        "id": "giV1xRWq3aN6",
        "outputId": "79b4a346-8b8a-4882-84f7-85caa0eb318c",
        "colab": {
          "base_uri": "https://localhost:8080/",
          "height": 206
        }
      },
      "source": [
        "df = pd.DataFrame(data=data)\n",
        "df.head()"
      ],
      "execution_count": 3,
      "outputs": [
        {
          "output_type": "execute_result",
          "data": {
            "text/plain": [
              "   temperature color   moisture  label\n",
              "0    33.540525   red  93.167164      1\n",
              "1    32.317394   red  95.037325      0\n",
              "2    29.128084   red  96.953094      1\n",
              "3    32.096151   red  96.238079      0\n",
              "4    32.498002   red  93.825167      1"
            ],
            "text/html": [
              "\n",
              "  <div id=\"df-1054a5a7-e327-411d-919c-60aa221e0009\">\n",
              "    <div class=\"colab-df-container\">\n",
              "      <div>\n",
              "<style scoped>\n",
              "    .dataframe tbody tr th:only-of-type {\n",
              "        vertical-align: middle;\n",
              "    }\n",
              "\n",
              "    .dataframe tbody tr th {\n",
              "        vertical-align: top;\n",
              "    }\n",
              "\n",
              "    .dataframe thead th {\n",
              "        text-align: right;\n",
              "    }\n",
              "</style>\n",
              "<table border=\"1\" class=\"dataframe\">\n",
              "  <thead>\n",
              "    <tr style=\"text-align: right;\">\n",
              "      <th></th>\n",
              "      <th>temperature</th>\n",
              "      <th>color</th>\n",
              "      <th>moisture</th>\n",
              "      <th>label</th>\n",
              "    </tr>\n",
              "  </thead>\n",
              "  <tbody>\n",
              "    <tr>\n",
              "      <th>0</th>\n",
              "      <td>33.540525</td>\n",
              "      <td>red</td>\n",
              "      <td>93.167164</td>\n",
              "      <td>1</td>\n",
              "    </tr>\n",
              "    <tr>\n",
              "      <th>1</th>\n",
              "      <td>32.317394</td>\n",
              "      <td>red</td>\n",
              "      <td>95.037325</td>\n",
              "      <td>0</td>\n",
              "    </tr>\n",
              "    <tr>\n",
              "      <th>2</th>\n",
              "      <td>29.128084</td>\n",
              "      <td>red</td>\n",
              "      <td>96.953094</td>\n",
              "      <td>1</td>\n",
              "    </tr>\n",
              "    <tr>\n",
              "      <th>3</th>\n",
              "      <td>32.096151</td>\n",
              "      <td>red</td>\n",
              "      <td>96.238079</td>\n",
              "      <td>0</td>\n",
              "    </tr>\n",
              "    <tr>\n",
              "      <th>4</th>\n",
              "      <td>32.498002</td>\n",
              "      <td>red</td>\n",
              "      <td>93.825167</td>\n",
              "      <td>1</td>\n",
              "    </tr>\n",
              "  </tbody>\n",
              "</table>\n",
              "</div>\n",
              "      <button class=\"colab-df-convert\" onclick=\"convertToInteractive('df-1054a5a7-e327-411d-919c-60aa221e0009')\"\n",
              "              title=\"Convert this dataframe to an interactive table.\"\n",
              "              style=\"display:none;\">\n",
              "        \n",
              "  <svg xmlns=\"http://www.w3.org/2000/svg\" height=\"24px\"viewBox=\"0 0 24 24\"\n",
              "       width=\"24px\">\n",
              "    <path d=\"M0 0h24v24H0V0z\" fill=\"none\"/>\n",
              "    <path d=\"M18.56 5.44l.94 2.06.94-2.06 2.06-.94-2.06-.94-.94-2.06-.94 2.06-2.06.94zm-11 1L8.5 8.5l.94-2.06 2.06-.94-2.06-.94L8.5 2.5l-.94 2.06-2.06.94zm10 10l.94 2.06.94-2.06 2.06-.94-2.06-.94-.94-2.06-.94 2.06-2.06.94z\"/><path d=\"M17.41 7.96l-1.37-1.37c-.4-.4-.92-.59-1.43-.59-.52 0-1.04.2-1.43.59L10.3 9.45l-7.72 7.72c-.78.78-.78 2.05 0 2.83L4 21.41c.39.39.9.59 1.41.59.51 0 1.02-.2 1.41-.59l7.78-7.78 2.81-2.81c.8-.78.8-2.07 0-2.86zM5.41 20L4 18.59l7.72-7.72 1.47 1.35L5.41 20z\"/>\n",
              "  </svg>\n",
              "      </button>\n",
              "      \n",
              "  <style>\n",
              "    .colab-df-container {\n",
              "      display:flex;\n",
              "      flex-wrap:wrap;\n",
              "      gap: 12px;\n",
              "    }\n",
              "\n",
              "    .colab-df-convert {\n",
              "      background-color: #E8F0FE;\n",
              "      border: none;\n",
              "      border-radius: 50%;\n",
              "      cursor: pointer;\n",
              "      display: none;\n",
              "      fill: #1967D2;\n",
              "      height: 32px;\n",
              "      padding: 0 0 0 0;\n",
              "      width: 32px;\n",
              "    }\n",
              "\n",
              "    .colab-df-convert:hover {\n",
              "      background-color: #E2EBFA;\n",
              "      box-shadow: 0px 1px 2px rgba(60, 64, 67, 0.3), 0px 1px 3px 1px rgba(60, 64, 67, 0.15);\n",
              "      fill: #174EA6;\n",
              "    }\n",
              "\n",
              "    [theme=dark] .colab-df-convert {\n",
              "      background-color: #3B4455;\n",
              "      fill: #D2E3FC;\n",
              "    }\n",
              "\n",
              "    [theme=dark] .colab-df-convert:hover {\n",
              "      background-color: #434B5C;\n",
              "      box-shadow: 0px 1px 3px 1px rgba(0, 0, 0, 0.15);\n",
              "      filter: drop-shadow(0px 1px 2px rgba(0, 0, 0, 0.3));\n",
              "      fill: #FFFFFF;\n",
              "    }\n",
              "  </style>\n",
              "\n",
              "      <script>\n",
              "        const buttonEl =\n",
              "          document.querySelector('#df-1054a5a7-e327-411d-919c-60aa221e0009 button.colab-df-convert');\n",
              "        buttonEl.style.display =\n",
              "          google.colab.kernel.accessAllowed ? 'block' : 'none';\n",
              "\n",
              "        async function convertToInteractive(key) {\n",
              "          const element = document.querySelector('#df-1054a5a7-e327-411d-919c-60aa221e0009');\n",
              "          const dataTable =\n",
              "            await google.colab.kernel.invokeFunction('convertToInteractive',\n",
              "                                                     [key], {});\n",
              "          if (!dataTable) return;\n",
              "\n",
              "          const docLinkHtml = 'Like what you see? Visit the ' +\n",
              "            '<a target=\"_blank\" href=https://colab.research.google.com/notebooks/data_table.ipynb>data table notebook</a>'\n",
              "            + ' to learn more about interactive tables.';\n",
              "          element.innerHTML = '';\n",
              "          dataTable['output_type'] = 'display_data';\n",
              "          await google.colab.output.renderOutput(dataTable, element);\n",
              "          const docLink = document.createElement('div');\n",
              "          docLink.innerHTML = docLinkHtml;\n",
              "          element.appendChild(docLink);\n",
              "        }\n",
              "      </script>\n",
              "    </div>\n",
              "  </div>\n",
              "  "
            ]
          },
          "metadata": {},
          "execution_count": 3
        }
      ]
    },
    {
      "cell_type": "code",
      "metadata": {
        "id": "PNL9Gt8I4jSR"
      },
      "source": [
        "# SCRUB\n",
        "\n",
        "df['color_codes'] =df['color'].astype('category').cat.codes\n"
      ],
      "execution_count": 4,
      "outputs": []
    },
    {
      "cell_type": "code",
      "metadata": {
        "id": "LJvuSdVR5Y_T"
      },
      "source": [
        "# SCRUB\n",
        "\n",
        "X = np.asarray(df[['color_codes', 'moisture', 'temperature']])\n",
        "y = np.asarray(df['label'])"
      ],
      "execution_count": 5,
      "outputs": []
    },
    {
      "cell_type": "code",
      "metadata": {
        "id": "CLCx0NRY5kjK",
        "outputId": "db1b1804-ed4e-494c-93ce-76c0b5e2f954",
        "colab": {
          "base_uri": "https://localhost:8080/",
          "height": 248
        }
      },
      "source": [
        "# EXPLORE\n",
        "\n",
        "fig = plt.figure()\n",
        "ax = fig.add_subplot(111, projection='3d')\n",
        "\n",
        "ax.scatter(X[:,0], X[:,1], X[:,2], c=y)\n",
        "\n",
        "ax.set_xlabel('Color')\n",
        "ax.set_ylabel('Moisture')\n",
        "ax.set_zlabel('Temperature')\n",
        "\n",
        "plt.show()"
      ],
      "execution_count": 6,
      "outputs": [
        {
          "output_type": "display_data",
          "data": {
            "text/plain": [
              "<Figure size 432x288 with 1 Axes>"
            ],
            "image/png": "[encoded data removed]"
          },
          "metadata": {
            "needs_background": "light"
          }
        }
      ]
    },
    {
      "cell_type": "code",
      "metadata": {
        "id": "49jb0-KG5dnS"
      },
      "source": [
        "from sklearn.model_selection import train_test_split\n",
        "\n",
        "X_train, X_test, y_train, y_test = train_test_split(X, y, test_size=0.33)"
      ],
      "execution_count": 8,
      "outputs": []
    },
    {
      "cell_type": "code",
      "metadata": {
        "id": "reO6716G5sEq",
        "outputId": "29f899aa-ede3-41b1-9339-54a7ca5bf409",
        "colab": {
          "base_uri": "https://localhost:8080/",
          "height": 295
        }
      },
      "source": [
        "# EXPLORE\n",
        "n_classes = 2\n",
        "\n",
        "training_counts = [None] * n_classes \n",
        "testing_counts = [None] * n_classes\n",
        "for i in range(n_classes):\n",
        "    training_counts[i] = len(y_train[y_train == i])/len(y_train)\n",
        "    testing_counts[i] = len(y_test[y_test == i])/len(y_test)\n",
        "\n",
        "# the histogram of the data\n",
        "train_bar = plt.bar(np.arange(n_classes)-0.2, training_counts, align='center', color = 'r', alpha=0.75, width = 0.41, label='Training')\n",
        "test_bar = plt.bar(np.arange(n_classes)+0.2, testing_counts, align='center', color = 'b', alpha=0.75, width = 0.41, label = 'Testing')\n",
        "\n",
        "plt.xlabel('Labels')\n",
        "plt.xticks((0,1))\n",
        "plt.ylabel('Count (%)')\n",
        "plt.title('Label distribution in the training and test set')\n",
        "plt.legend(bbox_to_anchor=(1.05, 1), handles=[train_bar, test_bar], loc=2)\n",
        "plt.grid(True)\n",
        "plt.show()"
      ],
      "execution_count": 9,
      "outputs": [
        {
          "output_type": "display_data",
          "data": {
            "text/plain": [
              "<Figure size 432x288 with 1 Axes>"
            ],
            "image/png": "[encoded data removed]"
          },
          "metadata": {
            "needs_background": "light"
          }
        }
      ]
    },
    {
      "cell_type": "code",
      "metadata": {
        "id": "ePtV9KYq5zhB",
        "outputId": "c517b635-9011-4a01-fcce-de8863c7caa2",
        "colab": {
          "base_uri": "https://localhost:8080/"
        }
      },
      "source": [
        "# MODEL BUILD - LINEAR\n",
        "\n",
        "from sklearn import linear_model\n",
        "clf = linear_model.SGDClassifier(max_iter=1000)\n",
        "clf.fit(X_train, y_train)\n",
        "clf.score(X_test, y_test)"
      ],
      "execution_count": 10,
      "outputs": [
        {
          "output_type": "execute_result",
          "data": {
            "text/plain": [
              "0.6316969696969696"
            ]
          },
          "metadata": {},
          "execution_count": 10
        }
      ]
    },
    {
      "cell_type": "code",
      "metadata": {
        "id": "QnNs-TC_58Sa"
      },
      "source": [
        "# MODEL BUILD - SUPPORT VECTOR\n",
        "# THIS ONE RUNS A LITTLE LONG\n",
        "\n",
        "from sklearn.svm import SVC\n",
        "clf = SVC()\n",
        "clf.fit(X_train, y_train)\n",
        "clf.score(X_test, y_test)"
      ],
      "execution_count": null,
      "outputs": []
    },
    {
      "cell_type": "code",
      "metadata": {
        "id": "pfkor84H5_IS",
        "outputId": "c1200290-45af-489b-b761-c6aa8b910933",
        "colab": {
          "base_uri": "https://localhost:8080/"
        }
      },
      "source": [
        "# MODEL BUILD - K-Nearest Neighbors\n",
        "\n",
        "from sklearn.neighbors import KNeighborsClassifier\n",
        "neigh = KNeighborsClassifier(n_neighbors=3)\n",
        "neigh.fit(X_train, y_train)\n",
        "neigh.score(X_test, y_test)"
      ],
      "execution_count": 11,
      "outputs": [
        {
          "output_type": "execute_result",
          "data": {
            "text/plain": [
              "0.9976666666666667"
            ]
          },
          "metadata": {},
          "execution_count": 11
        }
      ]
    },
    {
      "cell_type": "code",
      "metadata": {
        "id": "2n2ctDbGqlkH",
        "outputId": "4fc7577d-af51-47d8-ce52-49e95a539898",
        "colab": {
          "base_uri": "https://localhost:8080/"
        }
      },
      "source": [
        "# MODEL BUILD - K-Nearest Neighbors - Just fit/score Train\n",
        "\n",
        "neigh = KNeighborsClassifier(n_neighbors=3)\n",
        "neigh.fit(X_train, y_train)\n",
        "neigh.score(X_train, y_train)\n"
      ],
      "execution_count": 12,
      "outputs": [
        {
          "output_type": "execute_result",
          "data": {
            "text/plain": [
              "0.9990597014925373"
            ]
          },
          "metadata": {},
          "execution_count": 12
        }
      ]
    },
    {
      "cell_type": "code",
      "metadata": {
        "id": "ggZ8vtOzrkyq",
        "outputId": "b550b27c-ea02-44fd-ab9c-0b5b4f83d024",
        "colab": {
          "base_uri": "https://localhost:8080/"
        }
      },
      "source": [
        "# MODEL BUILD - K-Nearest Neighbors - Just fit/score Test\n",
        "\n",
        "neigh = KNeighborsClassifier(n_neighbors=3)\n",
        "neigh.fit(X_test, y_test)\n",
        "neigh.score(X_test, y_test)"
      ],
      "execution_count": 13,
      "outputs": [
        {
          "output_type": "execute_result",
          "data": {
            "text/plain": [
              "0.9989090909090909"
            ]
          },
          "metadata": {},
          "execution_count": 13
        }
      ]
    },
    {
      "cell_type": "code",
      "metadata": {
        "id": "rL9NQieErH_Z",
        "outputId": "d2154e6e-800e-4c1e-af6d-55ef514b527c",
        "colab": {
          "base_uri": "https://localhost:8080/"
        }
      },
      "source": [
        "# MODEL BUILD - K-Nearest Neighbors - Just fit/score entire sample\n",
        "\n",
        "neigh = KNeighborsClassifier(n_neighbors=3)\n",
        "neigh.fit(X, y)\n",
        "neigh.score(X, y)\n"
      ],
      "execution_count": 14,
      "outputs": [
        {
          "output_type": "execute_result",
          "data": {
            "text/plain": [
              "0.99923"
            ]
          },
          "metadata": {},
          "execution_count": 14
        }
      ]
    },
    {
      "cell_type": "markdown",
      "metadata": {
        "id": "-uSxBwo8r6cK"
      },
      "source": [
        "NOTE:  K-Nearest Neighbors is a \"lazy\" algorithm - the separation of test & training is not truly necessary - we simply present the separation to align with the concept of comparing strawberries to strawberries :)\n",
        "More details available at https://scikit-learn.org/stable/modules/neighbors.html\n",
        "Shout out to Suzy Park for the catch & comments!"
      ]
    },
    {
      "cell_type": "code",
      "metadata": {
        "id": "amh-7-qd6CHj",
        "outputId": "a9eca3a0-dc1d-4e2e-ce79-eaea4208dcb1",
        "colab": {
          "base_uri": "https://localhost:8080/"
        }
      },
      "source": [
        "# MODEL BUILD - RANDOM FORESTS\n",
        "\n",
        "from sklearn.ensemble import RandomForestClassifier \n",
        "\n",
        "forest = RandomForestClassifier(n_estimators = 100)\n",
        "forest.fit(X_train, y_train)\n",
        "print('Score: ', forest.score(X_test, y_test))\n",
        "predictions = forest.predict(X_test)"
      ],
      "execution_count": 15,
      "outputs": [
        {
          "output_type": "stream",
          "name": "stdout",
          "text": [
            "Score:  1.0\n"
          ]
        }
      ]
    }
  ]
}