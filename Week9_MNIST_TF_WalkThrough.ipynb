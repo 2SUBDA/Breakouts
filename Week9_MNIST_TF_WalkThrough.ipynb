{
  "nbformat": 4,
  "nbformat_minor": 0,
  "metadata": {
    "colab": {
      "name": "Week9_MNIST_TF_WalkThrough.ipynb",
      "provenance": [],
      "collapsed_sections": [],
      "include_colab_link": true
    },
    "kernelspec": {
      "name": "python3",
      "display_name": "Python 3"
    },
    "accelerator": "GPU"
  },
  "cells": [
    {
      "cell_type": "markdown",
      "metadata": {
        "id": "view-in-github",
        "colab_type": "text"
      },
      "source": [
        "<a href=\"https://colab.research.google.com/github/2SUBDA/Breakouts/blob/Week9/Week9_MNIST_TF_WalkThrough.ipynb\" target=\"_parent\"><img src=\"https://colab.research.google.com/assets/colab-badge.svg\" alt=\"Open In Colab\"/></a>"
      ]
    },
    {
      "cell_type": "code",
      "metadata": {
        "id": "FpwdyFbG6UPH",
        "colab_type": "code",
        "colab": {}
      },
      "source": [
        "# SINGLE LAYER AND MULTI LAYER NETWORKS FOR MNIST\n",
        "# BASED ON CODE FROM TENSORFLOW TUTORIAL\n",
        "\n",
        "import tensorflow as tf"
      ],
      "execution_count": 0,
      "outputs": []
    },
    {
      "cell_type": "code",
      "metadata": {
        "id": "7-0Sh26C6jRR",
        "colab_type": "code",
        "outputId": "baa8fffa-531a-4d6c-9666-20e6996ba3dd",
        "colab": {
          "base_uri": "https://localhost:8080/",
          "height": 35
        }
      },
      "source": [
        "# MY TEST TO MAKE SURE TF IS WORKING\n",
        "\n",
        "hello = tf.constant('Hello, TensorFlow!')\n",
        "sess = tf.Session()\n",
        "print(sess.run(hello))"
      ],
      "execution_count": 7,
      "outputs": [
        {
          "output_type": "stream",
          "text": [
            "b'Hello, TensorFlow!'\n"
          ],
          "name": "stdout"
        }
      ]
    },
    {
      "cell_type": "code",
      "metadata": {
        "id": "0ut_K3Es6m1n",
        "colab_type": "code",
        "outputId": "746065f1-816e-45c2-9a7b-5e87ef4f935a",
        "colab": {
          "base_uri": "https://localhost:8080/",
          "height": 35
        }
      },
      "source": [
        "# MY TEST TO MAKE SURE I AM USING GPU\n",
        "\n",
        "tf.test.gpu_device_name()"
      ],
      "execution_count": 8,
      "outputs": [
        {
          "output_type": "execute_result",
          "data": {
            "text/plain": [
              "'/device:GPU:0'"
            ]
          },
          "metadata": {
            "tags": []
          },
          "execution_count": 8
        }
      ]
    },
    {
      "cell_type": "code",
      "metadata": {
        "id": "6atUAhyE6vy3",
        "colab_type": "code",
        "outputId": "eca57e34-f797-4cc7-d910-34f67b16e0ee",
        "colab": {
          "base_uri": "https://localhost:8080/",
          "height": 565
        }
      },
      "source": [
        "# OBTAIN DATA\n",
        "# DATA WITHIN TF TUTORIAL HAS BEEN PREPROCESSED\n",
        "\n",
        "from tensorflow.examples.tutorials.mnist import input_data\n",
        "mnist = input_data.read_data_sets(\"MNIST_data/\", one_hot=True)"
      ],
      "execution_count": 9,
      "outputs": [
        {
          "output_type": "stream",
          "text": [
            "WARNING:tensorflow:From <ipython-input-9-2bad89c735c8>:3: read_data_sets (from tensorflow.contrib.learn.python.learn.datasets.mnist) is deprecated and will be removed in a future version.\n",
            "Instructions for updating:\n",
            "Please use alternatives such as official/mnist/dataset.py from tensorflow/models.\n",
            "WARNING:tensorflow:From /usr/local/lib/python3.6/dist-packages/tensorflow_core/contrib/learn/python/learn/datasets/mnist.py:260: maybe_download (from tensorflow.contrib.learn.python.learn.datasets.base) is deprecated and will be removed in a future version.\n",
            "Instructions for updating:\n",
            "Please write your own downloading logic.\n",
            "WARNING:tensorflow:From /usr/local/lib/python3.6/dist-packages/tensorflow_core/contrib/learn/python/learn/datasets/base.py:252: _internal_retry.<locals>.wrap.<locals>.wrapped_fn (from tensorflow.contrib.learn.python.learn.datasets.base) is deprecated and will be removed in a future version.\n",
            "Instructions for updating:\n",
            "Please use urllib or similar directly.\n",
            "Successfully downloaded train-images-idx3-ubyte.gz 9912422 bytes.\n",
            "WARNING:tensorflow:From /usr/local/lib/python3.6/dist-packages/tensorflow_core/contrib/learn/python/learn/datasets/mnist.py:262: extract_images (from tensorflow.contrib.learn.python.learn.datasets.mnist) is deprecated and will be removed in a future version.\n",
            "Instructions for updating:\n",
            "Please use tf.data to implement this functionality.\n",
            "Extracting MNIST_data/train-images-idx3-ubyte.gz\n",
            "Successfully downloaded train-labels-idx1-ubyte.gz 28881 bytes.\n",
            "WARNING:tensorflow:From /usr/local/lib/python3.6/dist-packages/tensorflow_core/contrib/learn/python/learn/datasets/mnist.py:267: extract_labels (from tensorflow.contrib.learn.python.learn.datasets.mnist) is deprecated and will be removed in a future version.\n",
            "Instructions for updating:\n",
            "Please use tf.data to implement this functionality.\n",
            "Extracting MNIST_data/train-labels-idx1-ubyte.gz\n",
            "WARNING:tensorflow:From /usr/local/lib/python3.6/dist-packages/tensorflow_core/contrib/learn/python/learn/datasets/mnist.py:110: dense_to_one_hot (from tensorflow.contrib.learn.python.learn.datasets.mnist) is deprecated and will be removed in a future version.\n",
            "Instructions for updating:\n",
            "Please use tf.one_hot on tensors.\n",
            "Successfully downloaded t10k-images-idx3-ubyte.gz 1648877 bytes.\n",
            "Extracting MNIST_data/t10k-images-idx3-ubyte.gz\n",
            "Successfully downloaded t10k-labels-idx1-ubyte.gz 4542 bytes.\n",
            "Extracting MNIST_data/t10k-labels-idx1-ubyte.gz\n",
            "WARNING:tensorflow:From /usr/local/lib/python3.6/dist-packages/tensorflow_core/contrib/learn/python/learn/datasets/mnist.py:290: DataSet.__init__ (from tensorflow.contrib.learn.python.learn.datasets.mnist) is deprecated and will be removed in a future version.\n",
            "Instructions for updating:\n",
            "Please use alternatives such as official/mnist/dataset.py from tensorflow/models.\n"
          ],
          "name": "stdout"
        }
      ]
    },
    {
      "cell_type": "code",
      "metadata": {
        "id": "yiZVaH2m60ov",
        "colab_type": "code",
        "colab": {}
      },
      "source": [
        "# MODEL\n",
        "# CREATE PLACEHOLDER VARIABLES FOR OPERATION MANIPULATION\n",
        "# THE 784 MATCHES THE VECTOR SIZE OF THE MNIST IMAGES - 28*28\n",
        "\n",
        "x = tf.placeholder(tf.float32, [None, 784])"
      ],
      "execution_count": 0,
      "outputs": []
    },
    {
      "cell_type": "code",
      "metadata": {
        "id": "HihwnYn467vI",
        "colab_type": "code",
        "colab": {}
      },
      "source": [
        "# MODEL\n",
        "# CREATE WEIGHTS & BIASES VARIABLES\n",
        "# IN TF, OUR MODEL PARAMETERS ARE OFTEN MANAGED AS VARIABLES\n",
        "\n",
        "W = tf.Variable(tf.zeros([784, 10]))\n",
        "b = tf.Variable(tf.zeros([10]))"
      ],
      "execution_count": 0,
      "outputs": []
    },
    {
      "cell_type": "code",
      "metadata": {
        "id": "wikJANSm69f4",
        "colab_type": "code",
        "colab": {}
      },
      "source": [
        "# MODEL\n",
        "# CREATE MODEL - USES SOFTMAX AS THE ACTIVATION FUNCTION\n",
        "# REMEMBER GOAL FOR ACTIVATION FUNCTION IS TO \"SHAPE\" THE \n",
        "# OUTPUT INTO A PROBABILITY DISTRO OVER THE 10 CLASSES\n",
        "\n",
        "y = tf.nn.softmax(tf.matmul(x, W) + b)\n"
      ],
      "execution_count": 0,
      "outputs": []
    },
    {
      "cell_type": "markdown",
      "metadata": {
        "id": "qaS1eBiq4muZ",
        "colab_type": "text"
      },
      "source": [
        "The code below uses cross-entropy for the loss function.  The use of cross-entropy improves the performance of neural networks especially when using sigmoid & softmax outputs (see above).  Using cross-entropy loss functions is normally faster than using mean squared error loss functions (Goodfellow, Bengio, & Courville, 2016).\n",
        "More info on cross-entropy here - https://medium.com/@rafayak/how-do-tensorflow-and-keras-implement-binary-classification-and-the-binary-cross-entropy-function-e9413826da7.\n"
      ]
    },
    {
      "cell_type": "code",
      "metadata": {
        "id": "tT5kUsRb7CXI",
        "colab_type": "code",
        "colab": {}
      },
      "source": [
        "# MODEL\n",
        "# CREATE PREDICTED VARIABLE Y-HAT\n",
        "# AND USE CROSS ENTROPY TO DETERMINE LOSS\n",
        "# CROSS ENTROPY - HOW INEFFICIENT ARE OUR PREDICTIONS?\n",
        "\n",
        "y_ = tf.placeholder(tf.float32, [None, 10])\n",
        "cross_entropy = tf.reduce_mean(-tf.reduce_sum(y_ * tf.log(y), reduction_indices=[1]))\n",
        "\n"
      ],
      "execution_count": 0,
      "outputs": []
    },
    {
      "cell_type": "code",
      "metadata": {
        "id": "E7jOOxxL7E8g",
        "colab_type": "code",
        "colab": {}
      },
      "source": [
        "# MODEL\n",
        "# TRAIN USING GRADIENT DESCENT\n",
        "# LEARNING RATE AT MIDPOINT - .5 - MAKE SMALL ADJUSTMENTS TO MINIMIZE COST\n",
        "\n",
        "train_step = tf.train.GradientDescentOptimizer(0.5).minimize(cross_entropy)"
      ],
      "execution_count": 0,
      "outputs": []
    },
    {
      "cell_type": "code",
      "metadata": {
        "id": "LL4jQiNW6DNL",
        "colab_type": "code",
        "colab": {}
      },
      "source": [
        "# The following code can be used to explicitly release resources:\n",
        "\n",
        "# InteractiveSession.close()"
      ],
      "execution_count": 0,
      "outputs": []
    },
    {
      "cell_type": "code",
      "metadata": {
        "id": "wtCNIMKN7G_I",
        "colab_type": "code",
        "colab": {
          "base_uri": "https://localhost:8080/",
          "height": 74
        },
        "outputId": "c45d262e-a3f8-4a9f-ed5a-77afc28db802"
      },
      "source": [
        "# MODEL - RUN\n",
        "\n",
        "sess = tf.InteractiveSession()\n",
        "tf.global_variables_initializer().run()\n",
        "for _ in range(10000):\n",
        "  batch_xs, batch_ys = mnist.train.next_batch(100)\n",
        "  sess.run(train_step, feed_dict={x: batch_xs, y_: batch_ys})"
      ],
      "execution_count": 16,
      "outputs": [
        {
          "output_type": "stream",
          "text": [
            "/usr/local/lib/python3.6/dist-packages/tensorflow_core/python/client/session.py:1750: UserWarning: An interactive session is already active. This can cause out-of-memory errors in some cases. You must explicitly call `InteractiveSession.close()` to release resources held by the other session(s).\n",
            "  warnings.warn('An interactive session is already active. This can '\n"
          ],
          "name": "stderr"
        }
      ]
    },
    {
      "cell_type": "code",
      "metadata": {
        "id": "IY6FrouH7KTi",
        "colab_type": "code",
        "outputId": "c12e0244-cc90-439e-b8c3-2bd536f6012c",
        "colab": {
          "base_uri": "https://localhost:8080/",
          "height": 35
        }
      },
      "source": [
        "# EVALUATE MODEL\n",
        "\n",
        "correct_prediction = tf.equal(tf.argmax(y,1), tf.argmax(y_,1))\n",
        "accuracy = tf.reduce_mean(tf.cast(correct_prediction, tf.float32))\n",
        "print(sess.run(accuracy, feed_dict={x: mnist.test.images, y_: mnist.test.labels}))\n"
      ],
      "execution_count": 17,
      "outputs": [
        {
          "output_type": "stream",
          "text": [
            "0.9198\n"
          ],
          "name": "stdout"
        }
      ]
    },
    {
      "cell_type": "markdown",
      "metadata": {
        "id": "mIog9tH9Pagq",
        "colab_type": "text"
      },
      "source": [
        "## Block Two for MNIST on TensorFlow\n",
        "\n",
        "The following code offers an alternative approach to the MNIST classification problem.\n",
        "Using two convolution layers, we can significantly improve upon the original model and explore some of the options for a deep neural network."
      ]
    },
    {
      "cell_type": "code",
      "metadata": {
        "id": "wQbPWLsBPh6K",
        "colab_type": "code",
        "colab": {}
      },
      "source": [
        "# WEIGHT INITIALIZATION\n",
        "\n",
        "def weight_variable(shape):\n",
        "  initial = tf.truncated_normal(shape, stddev=0.1)\n",
        "  return tf.Variable(initial)\n",
        "\n",
        "def bias_variable(shape):\n",
        "  initial = tf.constant(0.1, shape=shape)\n",
        "  return tf.Variable(initial)"
      ],
      "execution_count": 0,
      "outputs": []
    },
    {
      "cell_type": "markdown",
      "metadata": {
        "id": "qE7kuh2MNFT2",
        "colab_type": "text"
      },
      "source": [
        "The convolution layer performs a mathematical operation on two variables (x_image & W_conv1) to produce a new feature map.\n",
        "\n",
        "The pooling layer down-samples an input (in this case the new feature map) to reduce the dimensionality and make assumptions about the features. The primary purpose is to reduce the computational cost."
      ]
    },
    {
      "cell_type": "code",
      "metadata": {
        "id": "P7I2ESZ2P1QS",
        "colab_type": "code",
        "colab": {}
      },
      "source": [
        "# CREATE CONVOLUTION AND POOLING LAYERS\n",
        "\n",
        "def conv2d(x, W):\n",
        "  return tf.nn.conv2d(x, W, strides=[1, 1, 1, 1], padding='SAME')\n",
        "\n",
        "def max_pool_2x2(x):\n",
        "  return tf.nn.max_pool(x, ksize=[1, 2, 2, 1],\n",
        "                        strides=[1, 2, 2, 1], padding='SAME')"
      ],
      "execution_count": 0,
      "outputs": []
    },
    {
      "cell_type": "code",
      "metadata": {
        "id": "9nR-H_aaP6EL",
        "colab_type": "code",
        "colab": {}
      },
      "source": [
        "# FIRST CONVOLUTION LAYER\n",
        "\n",
        "W_conv1 = weight_variable([5, 5, 1, 32])\n",
        "b_conv1 = bias_variable([32])\n",
        "\n",
        "x_image = tf.reshape(x, [-1, 28, 28, 1]) # BASE IMAGE SIZE OF 28 * 28\n",
        "\n",
        "h_conv1 = tf.nn.relu(conv2d(x_image, W_conv1) + b_conv1)\n",
        "h_pool1 = max_pool_2x2(h_conv1)  # RESULTING IMAGE SIZE IS 14 * 14\n"
      ],
      "execution_count": 0,
      "outputs": []
    },
    {
      "cell_type": "code",
      "metadata": {
        "id": "GgDWQIIWP7Wp",
        "colab_type": "code",
        "colab": {}
      },
      "source": [
        "# SECOND CONOLUTION LAYER \n",
        "# MORE THAN ONE LAYER?  DEEP LEARNING\n",
        "\n",
        "W_conv2 = weight_variable([5, 5, 32, 64])\n",
        "b_conv2 = bias_variable([64])\n",
        "\n",
        "h_conv2 = tf.nn.relu(conv2d(h_pool1, W_conv2) + b_conv2)\n",
        "h_pool2 = max_pool_2x2(h_conv2)"
      ],
      "execution_count": 0,
      "outputs": []
    },
    {
      "cell_type": "markdown",
      "metadata": {
        "id": "RfHUzNKKT_jX",
        "colab_type": "text"
      },
      "source": [
        "Fully connected implies that every neuron in the previous layer is connected to every layer in the next layer - in this case, we are using a ReLU activation function - convention is to use a softmax function here.\n",
        "\n",
        "Note:  (Goodfellow, Bengio, & Courville, 2016) provide a nice history of rectified linear units and their role in improving performance."
      ]
    },
    {
      "cell_type": "code",
      "metadata": {
        "id": "REp4WaT3P_EZ",
        "colab_type": "code",
        "colab": {}
      },
      "source": [
        "# FULLY CONNECTED LAYER - BEFORE OUTPUT\n",
        "\n",
        "W_fc1 = weight_variable([7 * 7 * 64, 1024])\n",
        "b_fc1 = bias_variable([1024])\n",
        "\n",
        "h_pool2_flat = tf.reshape(h_pool2, [-1, 7*7*64])\n",
        "h_fc1 = tf.nn.relu(tf.matmul(h_pool2_flat, W_fc1) + b_fc1)  # ADD THE RECTIFIED LINEAR UNIT\n"
      ],
      "execution_count": 0,
      "outputs": []
    },
    {
      "cell_type": "code",
      "metadata": {
        "id": "t3L7cCEhQBw8",
        "colab_type": "code",
        "colab": {}
      },
      "source": [
        "# DROP LAYER - REDUCE OVERFITTING\n",
        "# USE OF rate IS AN UPDATE BASED ON TF\n",
        "\n",
        "keep_prob = tf.placeholder(tf.float32)\n",
        "rate = 1 - keep_prob\n",
        "h_fc1_drop = tf.nn.dropout(h_fc1, rate)"
      ],
      "execution_count": 0,
      "outputs": []
    },
    {
      "cell_type": "code",
      "metadata": {
        "id": "HsNZP5KQQExy",
        "colab_type": "code",
        "colab": {}
      },
      "source": [
        "# LAST LAYER - OUTPUT\n",
        "\n",
        "W_fc2 = weight_variable([1024, 10])\n",
        "b_fc2 = bias_variable([10])\n",
        "\n",
        "y_conv = tf.matmul(h_fc1_drop, W_fc2) + b_fc2"
      ],
      "execution_count": 0,
      "outputs": []
    },
    {
      "cell_type": "code",
      "metadata": {
        "id": "6-WIa7cAQJVE",
        "colab_type": "code",
        "outputId": "a8e74cfe-4c27-460d-b402-a841c01984b4",
        "colab": {
          "base_uri": "https://localhost:8080/",
          "height": 1000
        }
      },
      "source": [
        "# RUN THE MODEL\n",
        "\n",
        "cross_entropy = tf.reduce_mean(\n",
        "    tf.nn.softmax_cross_entropy_with_logits(labels=y_, logits=y_conv))\n",
        "train_step = tf.train.AdamOptimizer(1e-4).minimize(cross_entropy)\n",
        "correct_prediction = tf.equal(tf.argmax(y_conv, 1), tf.argmax(y_, 1))\n",
        "accuracy = tf.reduce_mean(tf.cast(correct_prediction, tf.float32))\n",
        "\n",
        "with tf.Session() as sess:\n",
        "  sess.run(tf.global_variables_initializer())\n",
        "  for i in range(10000):\n",
        "    batch = mnist.train.next_batch(50)\n",
        "    if i % 100 == 0:\n",
        "      train_accuracy = accuracy.eval(feed_dict={\n",
        "          x: batch[0], y_: batch[1], rate: 1.0})\n",
        "      print('step %d, training accuracy %g' % (i, train_accuracy))\n",
        "    train_step.run(feed_dict={x: batch[0], y_: batch[1], rate: 0.5})\n",
        "\n",
        "  print('test accuracy %g' % accuracy.eval(feed_dict={\n",
        "      x: mnist.test.images, y_: mnist.test.labels, rate: 1.0}))"
      ],
      "execution_count": 38,
      "outputs": [
        {
          "output_type": "stream",
          "text": [
            "step 0, training accuracy 0.06\n",
            "step 100, training accuracy 0.84\n",
            "step 200, training accuracy 0.82\n",
            "step 300, training accuracy 0.9\n",
            "step 400, training accuracy 0.98\n",
            "step 500, training accuracy 0.92\n",
            "step 600, training accuracy 0.98\n",
            "step 700, training accuracy 0.96\n",
            "step 800, training accuracy 0.92\n",
            "step 900, training accuracy 0.98\n",
            "step 1000, training accuracy 1\n",
            "step 1100, training accuracy 1\n",
            "step 1200, training accuracy 1\n",
            "step 1300, training accuracy 0.96\n",
            "step 1400, training accuracy 1\n",
            "step 1500, training accuracy 0.98\n",
            "step 1600, training accuracy 0.9\n",
            "step 1700, training accuracy 0.92\n",
            "step 1800, training accuracy 0.94\n",
            "step 1900, training accuracy 0.98\n",
            "step 2000, training accuracy 0.96\n",
            "step 2100, training accuracy 1\n",
            "step 2200, training accuracy 0.98\n",
            "step 2300, training accuracy 0.94\n",
            "step 2400, training accuracy 1\n",
            "step 2500, training accuracy 0.98\n",
            "step 2600, training accuracy 0.98\n",
            "step 2700, training accuracy 1\n",
            "step 2800, training accuracy 0.98\n",
            "step 2900, training accuracy 1\n",
            "step 3000, training accuracy 0.98\n",
            "step 3100, training accuracy 0.98\n",
            "step 3200, training accuracy 1\n",
            "step 3300, training accuracy 1\n",
            "step 3400, training accuracy 1\n",
            "step 3500, training accuracy 0.96\n",
            "step 3600, training accuracy 1\n",
            "step 3700, training accuracy 0.96\n",
            "step 3800, training accuracy 0.96\n",
            "step 3900, training accuracy 1\n",
            "step 4000, training accuracy 1\n",
            "step 4100, training accuracy 1\n",
            "step 4200, training accuracy 1\n",
            "step 4300, training accuracy 0.98\n",
            "step 4400, training accuracy 1\n",
            "step 4500, training accuracy 0.98\n",
            "step 4600, training accuracy 0.96\n",
            "step 4700, training accuracy 0.98\n",
            "step 4800, training accuracy 1\n",
            "step 4900, training accuracy 1\n",
            "step 5000, training accuracy 0.98\n",
            "step 5100, training accuracy 0.98\n",
            "step 5200, training accuracy 0.98\n",
            "step 5300, training accuracy 0.98\n",
            "step 5400, training accuracy 1\n",
            "step 5500, training accuracy 1\n",
            "step 5600, training accuracy 0.98\n",
            "step 5700, training accuracy 1\n",
            "step 5800, training accuracy 1\n",
            "step 5900, training accuracy 1\n",
            "step 6000, training accuracy 1\n",
            "step 6100, training accuracy 1\n",
            "step 6200, training accuracy 0.98\n",
            "step 6300, training accuracy 1\n",
            "step 6400, training accuracy 1\n",
            "step 6500, training accuracy 1\n",
            "step 6600, training accuracy 1\n",
            "step 6700, training accuracy 0.98\n",
            "step 6800, training accuracy 1\n",
            "step 6900, training accuracy 1\n",
            "step 7000, training accuracy 1\n",
            "step 7100, training accuracy 1\n",
            "step 7200, training accuracy 1\n",
            "step 7300, training accuracy 1\n",
            "step 7400, training accuracy 1\n",
            "step 7500, training accuracy 0.98\n",
            "step 7600, training accuracy 1\n",
            "step 7700, training accuracy 1\n",
            "step 7800, training accuracy 0.94\n",
            "step 7900, training accuracy 1\n",
            "step 8000, training accuracy 1\n",
            "step 8100, training accuracy 1\n",
            "step 8200, training accuracy 1\n",
            "step 8300, training accuracy 0.98\n",
            "step 8400, training accuracy 1\n",
            "step 8500, training accuracy 1\n",
            "step 8600, training accuracy 1\n",
            "step 8700, training accuracy 1\n",
            "step 8800, training accuracy 1\n",
            "step 8900, training accuracy 1\n",
            "step 9000, training accuracy 1\n",
            "step 9100, training accuracy 1\n",
            "step 9200, training accuracy 1\n",
            "step 9300, training accuracy 1\n",
            "step 9400, training accuracy 1\n",
            "step 9500, training accuracy 1\n",
            "step 9600, training accuracy 1\n",
            "step 9700, training accuracy 1\n",
            "step 9800, training accuracy 1\n",
            "step 9900, training accuracy 0.98\n",
            "test accuracy 0.9894\n"
          ],
          "name": "stdout"
        }
      ]
    }
  ]
}