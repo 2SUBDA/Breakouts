{
  "nbformat": 4,
  "nbformat_minor": 0,
  "metadata": {
    "colab": {
      "name": "UsingBayesToClassify.ipynb",
      "provenance": [],
      "include_colab_link": true
    },
    "kernelspec": {
      "name": "python3",
      "display_name": "Python 3"
    }
  },
  "cells": [
    {
      "cell_type": "markdown",
      "metadata": {
        "id": "view-in-github",
        "colab_type": "text"
      },
      "source": [
        "<a href=\"https://colab.research.google.com/github/2SUBDA/Breakouts/blob/Week7/UsingBayesToClassify.ipynb\" target=\"_parent\"><img src=\"https://colab.research.google.com/assets/colab-badge.svg\" alt=\"Open In Colab\"/></a>"
      ]
    },
    {
      "cell_type": "markdown",
      "metadata": {
        "id": "vq2_8dUA25d0"
      },
      "source": [
        "Toy problem based on SKLEARN wine dataset"
      ]
    },
    {
      "cell_type": "code",
      "metadata": {
        "id": "PLWiTE4hbjWz"
      },
      "source": [
        "import sklearn\n",
        "from sklearn.datasets import load_wine\n",
        "from sklearn.model_selection import train_test_split\n",
        "from sklearn.naive_bayes import GaussianNB\n",
        "\n",
        "from sklearn.metrics import accuracy_score\n"
      ],
      "execution_count": 1,
      "outputs": []
    },
    {
      "cell_type": "code",
      "metadata": {
        "id": "B8VRyTMab0Pm"
      },
      "source": [
        "# OBTAIN\n",
        "\n",
        "data = load_wine()"
      ],
      "execution_count": 2,
      "outputs": []
    },
    {
      "cell_type": "code",
      "metadata": {
        "id": "aOsI1DdLc8l7"
      },
      "source": [
        "# SCRUB\n",
        "\n",
        "label_names = data['target_names']\n",
        "labels = data['target']\n",
        "feature_names = data['feature_names']\n",
        "features = data['data']"
      ],
      "execution_count": 3,
      "outputs": []
    },
    {
      "cell_type": "code",
      "metadata": {
        "id": "CqHKcm5pdecE",
        "outputId": "9db03846-9732-4869-b1cb-8398e3c1a75a",
        "colab": {
          "base_uri": "https://localhost:8080/"
        }
      },
      "source": [
        "# EXPLORE\n",
        "\n",
        "print(label_names)\n"
      ],
      "execution_count": 4,
      "outputs": [
        {
          "output_type": "stream",
          "name": "stdout",
          "text": [
            "['class_0' 'class_1' 'class_2']\n"
          ]
        }
      ]
    },
    {
      "cell_type": "code",
      "metadata": {
        "id": "pnDG-lNmdopE"
      },
      "source": [
        "# SCRUB / Prepare\n",
        "\n",
        "\n",
        "# Split our data\n",
        "train, test, train_labels, test_labels = train_test_split(features,\n",
        "                                                          labels,\n",
        "                                                          test_size=0.50,\n",
        "                                                          random_state=42)"
      ],
      "execution_count": 5,
      "outputs": []
    },
    {
      "cell_type": "code",
      "metadata": {
        "id": "Rnt3eNqhh66z"
      },
      "source": [
        "# MODEL - Declare - fit\n",
        "\n",
        "# Initialize our classifier\n",
        "gnb = GaussianNB()\n",
        "\n",
        "# Train our classifier\n",
        "model = gnb.fit(train, train_labels)"
      ],
      "execution_count": 6,
      "outputs": []
    },
    {
      "cell_type": "code",
      "metadata": {
        "id": "A1qgfDfch7WD",
        "outputId": "778afd51-2c8d-4d33-af8a-ace00507fb95",
        "colab": {
          "base_uri": "https://localhost:8080/"
        }
      },
      "source": [
        "# MODEL - Make predictions\n",
        "\n",
        "preds = gnb.predict(test)\n",
        "print(preds)"
      ],
      "execution_count": 7,
      "outputs": [
        {
          "output_type": "stream",
          "name": "stdout",
          "text": [
            "[0 0 2 0 1 0 1 2 1 2 0 2 0 1 0 1 1 1 0 1 0 1 1 2 2 2 1 1 1 0 0 1 2 0 0 0 2\n",
            " 2 1 2 0 1 1 1 2 0 1 1 2 0 1 0 0 2 2 1 1 0 1 0 2 1 1 2 0 0 0 2 0 0 1 2 1 0\n",
            " 2 1 0 2 1 1 0 1 0 0 1 1 0 2 1]\n"
          ]
        }
      ]
    },
    {
      "cell_type": "code",
      "metadata": {
        "id": "4c5wsw6Ph81T",
        "outputId": "d2d4880b-540e-4060-9f8e-0b578c557d26",
        "colab": {
          "base_uri": "https://localhost:8080/"
        }
      },
      "source": [
        "# MODEL - Evaluate\n",
        "\n",
        "print(accuracy_score(test_labels, preds))"
      ],
      "execution_count": 8,
      "outputs": [
        {
          "output_type": "stream",
          "name": "stdout",
          "text": [
            "0.9887640449438202\n"
          ]
        }
      ]
    },
    {
      "cell_type": "code",
      "metadata": {
        "id": "hZvaz2NpiAZK",
        "outputId": "cc060b72-12fd-4eb2-ae64-1f9713543332",
        "colab": {
          "base_uri": "https://localhost:8080/"
        }
      },
      "source": [
        "expected = test_labels\n",
        "predicted = preds\n",
        "print(sklearn.metrics.confusion_matrix(expected, predicted))"
      ],
      "execution_count": 9,
      "outputs": [
        {
          "output_type": "stream",
          "name": "stdout",
          "text": [
            "[[32  1  0]\n",
            " [ 0 34  0]\n",
            " [ 0  0 22]]\n"
          ]
        }
      ]
    },
    {
      "cell_type": "markdown",
      "metadata": {
        "id": "TbrT3dfsId-K"
      },
      "source": [
        "What would this look like for MNIST?"
      ]
    }
  ]
}