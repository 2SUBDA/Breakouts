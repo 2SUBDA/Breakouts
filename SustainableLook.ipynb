{
 "cells": [
  {
   "cell_type": "code",
   "execution_count": 1,
   "metadata": {},
   "outputs": [
    {
     "name": "stderr",
     "output_type": "stream",
     "text": [
      "C:\\Users\\datab\\Anaconda3\\lib\\site-packages\\statsmodels\\compat\\pandas.py:56: FutureWarning: The pandas.core.datetools module is deprecated and will be removed in a future version. Please use the pandas.tseries module instead.\n",
      "  from pandas.core import datetools\n"
     ]
    }
   ],
   "source": [
    "# Predictive Model for Sustainable Products (Python)\n",
    "\n",
    "# import packages for analysis and modeling\n",
    "import pandas as pd  # data frame operations\n",
    "\n",
    "import numpy as np  # arrays and math functions\n",
    "from scipy.stats import uniform  # for training-and-test split\n",
    "import statsmodels.api as sm  # statistical models (including regression)\n",
    "import statsmodels.formula.api as smf  # R-like model specification\n",
    "import matplotlib.pyplot as plt  # 2D plotting\n",
    "\n",
    "import seaborn as sns  # PROVIDES TRELLIS AND SMALL MULTIPLE PLOTTING\n",
    "\n",
    "# read in product sales data and create data frame\n",
    "susitems = pd.read_csv(\"Case3SalesProducts.csv\")\n"
   ]
  },
  {
   "cell_type": "code",
   "execution_count": 4,
   "metadata": {},
   "outputs": [],
   "source": [
    "susitemdf.to_csv('sustainitems', encoding='utf-8', index=False)"
   ]
  },
  {
   "cell_type": "code",
   "execution_count": 3,
   "metadata": {},
   "outputs": [
    {
     "name": "stdout",
     "output_type": "stream",
     "text": [
      "         Country OrderMethod   RetailerType        ProductLine    ProductType  \\\n",
      "0  United States         Fax  Outdoors Shop  Camping Equipment   Cooking Gear   \n",
      "1  United States         Fax  Outdoors Shop  Camping Equipment   Cooking Gear   \n",
      "2  United States         Fax  Outdoors Shop  Camping Equipment          Tents   \n",
      "3  United States         Fax  Outdoors Shop  Camping Equipment          Tents   \n",
      "4  United States         Fax  Outdoors Shop  Camping Equipment  Sleeping Bags   \n",
      "\n",
      "                     Product  Year  Quarter  SustainableClaim  \\\n",
      "0  TrailChef Deluxe Cook Set  2012  Q1 2012                 1   \n",
      "1     TrailChef Double Flame  2012  Q1 2012                 0   \n",
      "2                  Star Dome  2012  Q1 2012                 1   \n",
      "3               Star Gazer 2  2012  Q1 2012                 1   \n",
      "4            Hibernator Lite  2012  Q1 2012                 1   \n",
      "\n",
      "   SustainableMarketing    Revenue  Quantity  GrossMargin  \n",
      "0                     0   59628.66       489     0.347548  \n",
      "1                     1   35950.32       252     0.474274  \n",
      "2                     0   89940.48       147     0.352772  \n",
      "3                     0  165883.41       303     0.282938  \n",
      "4                     0  119822.20      1415     0.291450  \n"
     ]
    }
   ],
   "source": [
    "# print the first five rows of the data frame\n",
    "print(pd.DataFrame.head(susitems))\n",
    "susitemdf = pd.DataFrame(susitems)"
   ]
  },
  {
   "cell_type": "code",
   "execution_count": 6,
   "metadata": {},
   "outputs": [
    {
     "name": "stdout",
     "output_type": "stream",
     "text": [
      "                            OLS Regression Results                            \n",
      "==============================================================================\n",
      "Dep. Variable:                Revenue   R-squared:                       0.136\n",
      "Model:                            OLS   Adj. R-squared:                  0.136\n",
      "Method:                 Least Squares   F-statistic:                     3112.\n",
      "Date:                Wed, 31 Jan 2018   Prob (F-statistic):               0.00\n",
      "Time:                        19:41:23   Log-Likelihood:            -7.3728e+05\n",
      "No. Observations:               59273   AIC:                         1.475e+06\n",
      "Df Residuals:                   59269   BIC:                         1.475e+06\n",
      "Df Model:                           3                                         \n",
      "Covariance Type:            nonrobust                                         \n",
      "========================================================================================\n",
      "                           coef    std err          t      P>|t|      [0.025      0.975]\n",
      "----------------------------------------------------------------------------------------\n",
      "Intercept             2.546e+04    872.335     29.184      0.000    2.37e+04    2.72e+04\n",
      "Quantity                14.6617      0.166     88.080      0.000      14.335      14.988\n",
      "SustainableClaim      1.741e+04    749.616     23.228      0.000    1.59e+04    1.89e+04\n",
      "SustainableMarketing -4625.3628    781.817     -5.916      0.000   -6157.727   -3092.998\n",
      "==============================================================================\n",
      "Omnibus:                    61303.368   Durbin-Watson:                   1.235\n",
      "Prob(Omnibus):                  0.000   Jarque-Bera (JB):          7368770.263\n",
      "Skew:                           4.961   Prob(JB):                         0.00\n",
      "Kurtosis:                      56.714   Cond. No.                     8.91e+03\n",
      "==============================================================================\n",
      "\n",
      "Warnings:\n",
      "[1] Standard Errors assume that the covariance matrix of the errors is correctly specified.\n",
      "[2] The condition number is large, 8.91e+03. This might indicate that there are\n",
      "strong multicollinearity or other numerical problems.\n"
     ]
    }
   ],
   "source": [
    "np.random.seed(1234)\n",
    "susitemdf['runiform'] = uniform.rvs(loc = 0, scale = 1, size = len(susitemdf))\n",
    "susitemdf_train = susitemdf[susitemdf['runiform'] >= 0.33]\n",
    "susitemdf_test = susitemdf[susitemdf['runiform'] < 0.33]\n",
    "# check training data frame\n",
    "#print('\\SusItems_train data frame (rows, columns): ',susitemdf_train.shape)\n",
    "#print(susitemdf_train.head())\n",
    "# check test data frame\n",
    "#print('\\SusItems_test data frame (rows, columns): ',susitemdf_test.shape)\n",
    "#print(susitemdf_test.head())\n",
    "\n",
    "# specify a simple model with bobblehead entered last\n",
    "my_model = str('Revenue ~ Quantity + SustainableClaim + SustainableMarketing')\n",
    "\n",
    "# fit the model to the training set\n",
    "train_model_fit = smf.ols(my_model, data = susitemdf_train).fit()\n",
    "# summary of model fit to the training set\n",
    "print(train_model_fit.summary())"
   ]
  },
  {
   "cell_type": "code",
   "execution_count": 7,
   "metadata": {},
   "outputs": [
    {
     "name": "stdout",
     "output_type": "stream",
     "text": [
      "                            OLS Regression Results                            \n",
      "==============================================================================\n",
      "Dep. Variable:                Revenue   R-squared:                       0.147\n",
      "Model:                            OLS   Adj. R-squared:                  0.147\n",
      "Method:                 Least Squares   F-statistic:                     1020.\n",
      "Date:                Wed, 31 Jan 2018   Prob (F-statistic):               0.00\n",
      "Time:                        21:12:57   Log-Likelihood:            -7.3691e+05\n",
      "No. Observations:               59273   AIC:                         1.474e+06\n",
      "Df Residuals:                   59262   BIC:                         1.474e+06\n",
      "Df Model:                          10                                         \n",
      "Covariance Type:            nonrobust                                         \n",
      "==========================================================================================================\n",
      "                                             coef    std err          t      P>|t|      [0.025      0.975]\n",
      "----------------------------------------------------------------------------------------------------------\n",
      "Intercept                               2.064e+04    999.028     20.663      0.000    1.87e+04    2.26e+04\n",
      "RetailerType[T.Direct Marketing]       -1.278e+04   1430.377     -8.937      0.000   -1.56e+04   -9979.469\n",
      "RetailerType[T.Equipment Rental Store] -8493.4564   1876.465     -4.526      0.000   -1.22e+04   -4815.577\n",
      "RetailerType[T.Eyewear Store]          -2344.5349   1126.558     -2.081      0.037   -4552.593    -136.477\n",
      "RetailerType[T.Golf Shop]               1.623e+04    962.672     16.864      0.000    1.43e+04    1.81e+04\n",
      "RetailerType[T.Outdoors Shop]           9359.7049    719.468     13.009      0.000    7949.545    1.08e+04\n",
      "RetailerType[T.Sports Store]            1.014e+04    754.355     13.441      0.000    8660.841    1.16e+04\n",
      "RetailerType[T.Warehouse Store]         4243.7413   1188.013      3.572      0.000    1915.231    6572.251\n",
      "Quantity                                  14.4629      0.167     86.802      0.000      14.136      14.790\n",
      "SustainableClaim                        1.646e+04    749.111     21.976      0.000     1.5e+04    1.79e+04\n",
      "SustainableMarketing                   -5634.8412    783.653     -7.190      0.000   -7170.804   -4098.878\n",
      "==============================================================================\n",
      "Omnibus:                    61232.023   Durbin-Watson:                   1.250\n",
      "Prob(Omnibus):                  0.000   Jarque-Bera (JB):          7468735.088\n",
      "Skew:                           4.945   Prob(JB):                         0.00\n",
      "Kurtosis:                      57.096   Cond. No.                     1.38e+04\n",
      "==============================================================================\n",
      "\n",
      "Warnings:\n",
      "[1] Standard Errors assume that the covariance matrix of the errors is correctly specified.\n",
      "[2] The condition number is large, 1.38e+04. This might indicate that there are\n",
      "strong multicollinearity or other numerical problems.\n"
     ]
    }
   ],
   "source": [
    "# specify a simple model with bobblehead entered last\n",
    "my_model = str('Revenue ~ Quantity + RetailerType + SustainableClaim + SustainableMarketing')\n",
    "\n",
    "# fit the model to the training set\n",
    "train_model_fit = smf.ols(my_model, data = susitemdf_train).fit()\n",
    "# summary of model fit to the training set\n",
    "print(train_model_fit.summary())"
   ]
  },
  {
   "cell_type": "code",
   "execution_count": 5,
   "metadata": {},
   "outputs": [
    {
     "name": "stdout",
     "output_type": "stream",
     "text": [
      "                   Mixed Linear Model Regression Results\n",
      "============================================================================\n",
      "Model:                 MixedLM      Dependent Variable:      Revenue        \n",
      "No. Observations:      59273        Method:                  REML           \n",
      "No. Groups:            8            Scale:                   4152335332.1217\n",
      "Min. group size:       1144         Likelihood:              -740456.9507   \n",
      "Max. group size:       16984        Converged:               Yes            \n",
      "Mean group size:       7409.1                                               \n",
      "----------------------------------------------------------------------------\n",
      "                         Coef.     Std.Err.   z    P>|z|   [0.025    0.975] \n",
      "----------------------------------------------------------------------------\n",
      "Intercept                34224.764 3967.061  8.627 0.000 26449.468 42000.061\n",
      "SustainableClaim         14363.789  794.859 18.071 0.000 12805.894 15921.684\n",
      "SustainableMarketing     -6621.141  831.840 -7.960 0.000 -8251.517 -4990.764\n",
      "groups RE            118759189.499 1000.170                                 \n",
      "============================================================================\n",
      "\n"
     ]
    }
   ],
   "source": [
    "import statsmodels.formula.api as smf\n",
    "model2 = smf.mixedlm(\"Revenue ~ SustainableClaim + SustainableMarketing\", susitemdf_train, groups=susitemdf_train[\"RetailerType\"])\n",
    "\n",
    "model2f = model2.fit()\n",
    "\n",
    "print(model2f.summary())"
   ]
  },
  {
   "cell_type": "code",
   "execution_count": null,
   "metadata": {
    "collapsed": true
   },
   "outputs": [],
   "source": []
  }
 ],
 "metadata": {
  "kernelspec": {
   "display_name": "Python 3",
   "language": "python",
   "name": "python3"
  },
  "language_info": {
   "codemirror_mode": {
    "name": "ipython",
    "version": 3
   },
   "file_extension": ".py",
   "mimetype": "text/x-python",
   "name": "python",
   "nbconvert_exporter": "python",
   "pygments_lexer": "ipython3",
   "version": "3.6.2"
  }
 },
 "nbformat": 4,
 "nbformat_minor": 2
}
