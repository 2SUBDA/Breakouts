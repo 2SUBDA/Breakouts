{
  "nbformat": 4,
  "nbformat_minor": 0,
  "metadata": {
    "colab": {
      "name": "Week8_MLP_WalkThrough.ipynb",
      "version": "0.3.2",
      "provenance": [],
      "collapsed_sections": [],
      "include_colab_link": true
    },
    "kernelspec": {
      "name": "python3",
      "display_name": "Python 3"
    }
  },
  "cells": [
    {
      "cell_type": "markdown",
      "metadata": {
        "id": "view-in-github",
        "colab_type": "text"
      },
      "source": [
        "<a href=\"https://colab.research.google.com/github/2SUBDA/Breakouts/blob/Week8/Week8_MLP_WalkThrough.ipynb\" target=\"_parent\"><img src=\"https://colab.research.google.com/assets/colab-badge.svg\" alt=\"Open In Colab\"/></a>"
      ]
    },
    {
      "cell_type": "code",
      "metadata": {
        "id": "B5Ke9u1U5ToR",
        "colab_type": "code",
        "colab": {}
      },
      "source": [
        "# BASIC WALK THROUGH FOR FASHION-MNIST NN\n",
        "# BASED ON KERAS TUTORIALS (2019)\n",
        "\n",
        "from keras.datasets import mnist\n",
        "from keras.models import Sequential\n",
        "from keras.layers import Dense\n",
        "from keras.layers import Dropout\n",
        "from keras.utils import np_utils\n",
        "\n",
        "import os\n",
        "import struct\n",
        "import numpy as np\n",
        "import pandas\n",
        "\n",
        "import time\n",
        "import matplotlib.pyplot as plt\n",
        "%matplotlib inline"
      ],
      "execution_count": 0,
      "outputs": []
    },
    {
      "cell_type": "code",
      "metadata": {
        "id": "rk96egzq7HQQ",
        "colab_type": "code",
        "colab": {
          "base_uri": "https://localhost:8080/",
          "height": 50
        },
        "outputId": "06732d01-5023-4406-bc2c-6d0548e2fe42"
      },
      "source": [
        "# OBTAIN\n",
        "\n",
        "from keras.datasets import mnist\n",
        "\n",
        "(X_train, y_train), (X_test, y_test) = mnist.load_data()"
      ],
      "execution_count": 3,
      "outputs": [
        {
          "output_type": "stream",
          "text": [
            "Downloading data from https://s3.amazonaws.com/img-datasets/mnist.npz\n",
            "11493376/11490434 [==============================] - 0s 0us/step\n"
          ],
          "name": "stdout"
        }
      ]
    },
    {
      "cell_type": "code",
      "metadata": {
        "id": "STm-WioIDfNS",
        "colab_type": "code",
        "colab": {}
      },
      "source": [
        "# SCRUB\n",
        "# FLATTEN 28 x 28 IMAGE TO 784 VECTOR\n",
        "num_pixels = X_train.shape[1] * X_train.shape[2]\n",
        "X_train = X_train.reshape(X_train.shape[0], num_pixels).astype('float32')\n",
        "X_test = X_test.reshape(X_test.shape[0], num_pixels).astype('float32')"
      ],
      "execution_count": 0,
      "outputs": []
    },
    {
      "cell_type": "code",
      "metadata": {
        "id": "OXtHgiISDh65",
        "colab_type": "code",
        "colab": {}
      },
      "source": [
        "# SCRUB\n",
        "# NORMALIZE INPUTS FROM RGB COLOR TO 0-1\n",
        "X_train = X_train / 255\n",
        "X_test = X_test / 255"
      ],
      "execution_count": 0,
      "outputs": []
    },
    {
      "cell_type": "code",
      "metadata": {
        "id": "iFU1dADc-CDH",
        "colab_type": "code",
        "colab": {}
      },
      "source": [
        "# SHUFFLE TRAINING SEQUENCE\n",
        "# USING RANDOM SEQUENCE FROM NUMPY\n",
        "\n",
        "shuffle_index = np.random.permutation(60000)\n",
        "X_train, y_train = X_train[shuffle_index], y_train[shuffle_index]"
      ],
      "execution_count": 0,
      "outputs": []
    },
    {
      "cell_type": "code",
      "metadata": {
        "colab_type": "code",
        "id": "z7joNL4fZfLn",
        "outputId": "0dad2563-cb31-4717-f558-b14023416a26",
        "colab": {
          "base_uri": "https://localhost:8080/",
          "height": 34
        }
      },
      "source": [
        "print('Rows: %d, columns: %d' % (X_train.shape[0], X_train.shape[1]))"
      ],
      "execution_count": 7,
      "outputs": [
        {
          "output_type": "stream",
          "text": [
            "Rows: 60000, columns: 784\n"
          ],
          "name": "stdout"
        }
      ]
    },
    {
      "cell_type": "code",
      "metadata": {
        "id": "48Cq2D9UZ4Qk",
        "colab_type": "code",
        "outputId": "360da4b0-e86c-4dc1-d92c-588e6800da04",
        "colab": {
          "base_uri": "https://localhost:8080/",
          "height": 34
        }
      },
      "source": [
        "print('Rows: %d, columns: %d' % (X_test.shape[0], X_test.shape[1]))"
      ],
      "execution_count": 8,
      "outputs": [
        {
          "output_type": "stream",
          "text": [
            "Rows: 10000, columns: 784\n"
          ],
          "name": "stdout"
        }
      ]
    },
    {
      "cell_type": "code",
      "metadata": {
        "id": "iCOjApXBaJyR",
        "colab_type": "code",
        "colab": {}
      },
      "source": [
        "# FIRST PASS WITH MLP\n",
        "\n",
        "import numpy as np\n",
        "from scipy.special import expit\n",
        "import sys\n",
        "\n",
        "\n",
        "class NeuralNetMLP(object):\n",
        "       \"\"\" Feedforward neural network / Multi-layer perceptron classifier.\n",
        "\n",
        "    Parameters\n",
        "    ------------\n",
        "    n_output : int\n",
        "      Number of output units, should be equal to the\n",
        "      number of unique class labels.\n",
        "\n",
        "    n_features : int\n",
        "      Number of features (dimensions) in the target dataset.\n",
        "      Should be equal to the number of columns in the X array.\n",
        "\n",
        "    n_hidden : int (default: 30)\n",
        "      Number of hidden units.\n",
        "\n",
        "    l1 : float (default: 0.0)\n",
        "      Lambda value for L1-regularization.\n",
        "      No regularization if l1=0.0 (default)\n",
        "\n",
        "    l2 : float (default: 0.0)\n",
        "      Lambda value for L2-regularization.\n",
        "      No regularization if l2=0.0 (default)\n",
        "\n",
        "    epochs : int (default: 500)\n",
        "      Number of passes over the training set.\n",
        "\n",
        "    eta : float (default: 0.001)\n",
        "      Learning rate.\n",
        "\n",
        "    alpha : float (default: 0.0)\n",
        "      Momentum constant. Factor multiplied with the\n",
        "      gradient of the previous epoch t-1 to improve\n",
        "      learning speed\n",
        "      w(t) := w(t) - (grad(t) + alpha*grad(t-1))\n",
        "    \n",
        "    decrease_const : float (default: 0.0)\n",
        "      Decrease constant. Shrinks the learning rate\n",
        "      after each epoch via eta / (1 + epoch*decrease_const)\n",
        "\n",
        "    shuffle : bool (default: True)\n",
        "      Shuffles training data every epoch if True to prevent circles.\n",
        "\n",
        "    minibatches : int (default: 1)\n",
        "      Divides training data into k minibatches for efficiency.\n",
        "      Normal gradient descent learning if k=1 (default).\n",
        "\n",
        "    random_state : int (default: None)\n",
        "      Set random state for shuffling and initializing the weights.\n",
        "\n",
        "    Attributes\n",
        "    -----------\n",
        "    cost_ : list\n",
        "      Sum of squared errors after each epoch.\n",
        "\n",
        "    \"\"\"  \n",
        "    def __init__(self, n_output, n_features, n_hidden=30,\n",
        "                 l1=0.0, l2=0.0, epochs=500, eta=0.001, \n",
        "                 alpha=0.0, decrease_const=0.0, shuffle=True, \n",
        "                 minibatches=1, random_state=None):\n",
        "\n",
        "        np.random.seed(random_state)\n",
        "        self.n_output = n_output\n",
        "        self.n_features = n_features\n",
        "        self.n_hidden = n_hidden\n",
        "        self.w1, self.w2 = self._initialize_weights()\n",
        "        self.l1 = l1\n",
        "        self.l2 = l2\n",
        "        self.epochs = epochs\n",
        "        self.eta = eta\n",
        "        self.alpha = alpha\n",
        "        self.decrease_const = decrease_const\n",
        "        self.shuffle = shuffle\n",
        "        self.minibatches = minibatches\n",
        "\n",
        "    def _encode_labels(self, y, k):\n",
        "        \"\"\"Encode labels into one-hot representation\n",
        "\n",
        "        Parameters\n",
        "        ------------\n",
        "        y : array, shape = [n_samples]\n",
        "            Target values.\n",
        "\n",
        "        Returns\n",
        "        -----------\n",
        "        onehot : array, shape = (n_labels, n_samples)\n",
        "\n",
        "        \"\"\"\n",
        "        onehot = np.zeros((k, y.shape[0]))\n",
        "        for idx, val in enumerate(y):\n",
        "            onehot[val, idx] = 1.0\n",
        "        return onehot\n",
        "    def _initialize_weights(self):\n",
        "        \"\"\"Initialize weights with small random numbers.\"\"\"\n",
        "        w1 = np.random.uniform(-1.0, 1.0, size=self.n_hidden*(self.n_features + 1))\n",
        "        w1 = w1.reshape(self.n_hidden, self.n_features + 1)\n",
        "        w2 = np.random.uniform(-1.0, 1.0, size=self.n_output*(self.n_hidden + 1))\n",
        "        w2 = w2.reshape(self.n_output, self.n_hidden + 1)\n",
        "        return w1, w2\n",
        "\n",
        "    def _sigmoid(self, z):\n",
        "        \"\"\"Compute logistic function (sigmoid)\n",
        "\n",
        "        Uses scipy.special.expit to avoid overflow\n",
        "        error for very small input values z.\n",
        "\n",
        "        \"\"\"\n",
        "        # return 1.0 / (1.0 + np.exp(-z))\n",
        "        return expit(z)\n",
        "\n",
        "    def _sigmoid_gradient(self, z):\n",
        "        \"\"\"Compute gradient of the logistic function\"\"\"\n",
        "        sg = self._sigmoid(z)\n",
        "        return sg * (1 - sg)\n",
        "\n",
        "    def _add_bias_unit(self, X, how='column'):\n",
        "        \"\"\"Add bias unit (column or row of 1s) to array at index 0\"\"\"\n",
        "        if how == 'column':\n",
        "            X_new = np.ones((X.shape[0], X.shape[1]+1))\n",
        "            X_new[:, 1:] = X\n",
        "        elif how == 'row':\n",
        "            X_new = np.ones((X.shape[0]+1, X.shape[1]))\n",
        "            X_new[1:, :] = X\n",
        "        else:\n",
        "            raise AttributeError('`how` must be `column` or `row`')\n",
        "        return X_new\n",
        "\n",
        "    def _feedforward(self, X, w1, w2):\n",
        "        \"\"\"Compute feedforward step\"\"\"\n",
        "        a1 = self._add_bias_unit(X, how='column')\n",
        "        z2 = w1.dot(a1.T)\n",
        "        a2 = self._sigmoid(z2)\n",
        "        a2 = self._add_bias_unit(a2, how='row')\n",
        "        z3 = w2.dot(a2)\n",
        "        a3 = self._sigmoid(z3)\n",
        "        return a1, z2, a2, z3, a3\n",
        "\n",
        "    def _L2_reg(self, lambda_, w1, w2):\n",
        "        \"\"\"Compute L2-regularization cost\"\"\"\n",
        "        return (lambda_/2.0) * (np.sum(w1[:, 1:] ** 2) + np.sum(w2[:, 1:] ** 2))\n",
        "\n",
        "    def _L1_reg(self, lambda_, w1, w2):\n",
        "        \"\"\"Compute L1-regularization cost\"\"\"\n",
        "        return (lambda_/2.0) * (np.abs(w1[:, 1:]).sum() + np.abs(w2[:, 1:]).sum())\n",
        "\n",
        "    def _get_cost(self, y_enc, output, w1, w2):\n",
        "        \"\"\"Compute cost function\"\"\"\n",
        "        term1 = -y_enc * (np.log(output))\n",
        "        term2 = (1 - y_enc) * np.log(1 - output)\n",
        "        cost = np.sum(term1 - term2)\n",
        "        L1_term = self._L1_reg(self.l1, w1, w2)\n",
        "        L2_term = self._L2_reg(self.l2, w1, w2)\n",
        "        cost = cost + L1_term + L2_term\n",
        "        return cost\n",
        "\n",
        "    def _get_gradient(self, a1, a2, a3, z2, y_enc, w1, w2):\n",
        "        \"\"\" Compute gradient step using backpropagation.\"\"\"\n",
        "        # backpropagation\n",
        "        sigma3 = a3 - y_enc\n",
        "        z2 = self._add_bias_unit(z2, how='row')\n",
        "        sigma2 = w2.T.dot(sigma3) * self._sigmoid_gradient(z2)\n",
        "        sigma2 = sigma2[1:, :]\n",
        "        grad1 = sigma2.dot(a1)\n",
        "        grad2 = sigma3.dot(a2.T)\n",
        "\n",
        "        # regularize\n",
        "        grad1[:, 1:] += (w1[:, 1:] * (self.l1 + self.l2))\n",
        "        grad2[:, 1:] += (w2[:, 1:] * (self.l1 + self.l2))\n",
        "\n",
        "        return grad1, grad2\n",
        "    def predict(self, X):\n",
        "        \"\"\"Predict class labels\"\"\"\n",
        "        if len(X.shape) != 2:\n",
        "            raise AttributeError('X must be a [n_samples, n_features] array.\\n'\n",
        "                                 'Use X[:,None] for 1-feature classification,'\n",
        "                                 '\\nor X[[i]] for 1-sample classification')\n",
        "\n",
        "        a1, z2, a2, z3, a3 = self._feedforward(X, self.w1, self.w2)\n",
        "        y_pred = np.argmax(z3, axis=0)\n",
        "        return y_pred\n",
        "\n",
        "    # FUNCTION FOR FITTING MLP \n",
        "    \n",
        "    def fit(self, X, y, print_progress=False):\n",
        "        \"\"\" Learn weights from training data\"\"\"\n",
        "        self.cost_ = []\n",
        "        X_data, y_data = X.copy(), y.copy()\n",
        "        y_enc = self._encode_labels(y, self.n_output)\n",
        "\n",
        "        delta_w1_prev = np.zeros(self.w1.shape)\n",
        "        delta_w2_prev = np.zeros(self.w2.shape)\n",
        "\n",
        "        for i in range(self.epochs):\n",
        "            \n",
        "            # adaptive learning rate\n",
        "            self.eta /= (1 + self.decrease_const*i)\n",
        "\n",
        "            if print_progress:\n",
        "                sys.stderr.write('\\rEpoch: %d/%d' % (i+1, self.epochs))\n",
        "                sys.stderr.flush()\n",
        "\n",
        "            if self.shuffle:\n",
        "                idx = np.random.permutation(y_data.shape[0])\n",
        "                X_data, y_enc = X_data[idx], y_enc[:, idx]\n",
        "\n",
        "            mini = np.array_split(range(y_data.shape[0]), self.minibatches)\n",
        "            for idx in mini:\n",
        "\n",
        "                # feedforward\n",
        "                a1, z2, a2, z3, a3 = self._feedforward(X_data[idx], self.w1, self.w2)\n",
        "                cost = self._get_cost(y_enc=y_enc[:, idx],\n",
        "                                      output=a3,\n",
        "                                      w1=self.w1,\n",
        "                                      w2=self.w2)\n",
        "                self.cost_.append(cost)\n",
        "\n",
        "                # compute gradient via backpropagation\n",
        "                grad1, grad2 = self._get_gradient(a1=a1, a2=a2,\n",
        "                                                  a3=a3, z2=z2,\n",
        "                                                  y_enc=y_enc[:, idx],\n",
        "                                                  w1=self.w1,\n",
        "                                                  w2=self.w2)\n",
        "\n",
        "                delta_w1, delta_w2 = self.eta * grad1, self.eta * grad2\n",
        "                self.w1 -= (delta_w1 + (self.alpha * delta_w1_prev))\n",
        "                self.w2 -= (delta_w2 + (self.alpha * delta_w2_prev))\n",
        "                delta_w1_prev, delta_w2_prev = delta_w1, delta_w2\n",
        "\n",
        "        return self"
      ],
      "execution_count": 0,
      "outputs": []
    },
    {
      "cell_type": "code",
      "metadata": {
        "id": "HMmeGNiCkL9m",
        "colab_type": "code",
        "colab": {}
      },
      "source": [
        "#run a neural net. These are the different inputs for the classifier\n",
        "#defined above. Can take 10, 15, 20, 45 minutes to run 1000\n",
        "nn = NeuralNetMLP(n_output=10, #number of classes in the data set being examined (ex. for mnist 10 classes because 0,1,2,3,4,5,6,7,8,9). Note: this only works for fully labeled data sets.\n",
        "                  n_features=X_train.shape[1], \n",
        "                  n_hidden=30, #try 30, 50, 80, generally more hidden layers is more accurate\n",
        "                  l2=0.1, #Regularization cost, adjusting your weights \n",
        "                  l1=0.0, #Regularization cost, adjusting your weights \n",
        "                  epochs=1000, #iterations (backward and forwarded passes)\n",
        "                  eta=0.001, #learning rate, how fast and slow you go up and down your optimization curve\n",
        "                  alpha=0.001, #multiplying to improve the speed (weights are multiplied by this alpha). Improving speed of how well your model learns\n",
        "                  decrease_const=0.00001,#if you made your learning rate too high, it will shrink your learning rate so it doesn't bounce around too much\n",
        "                  minibatches=50, #chunk up my training data into groups of 50 (speeds up the performance since there are so many)\n",
        "                  shuffle=True, #for each epoch, it shuffles\n",
        "                  random_state=1) #set value for making the shuffle"
      ],
      "execution_count": 0,
      "outputs": []
    },
    {
      "cell_type": "code",
      "metadata": {
        "id": "Nnn-8q8PkRDC",
        "colab_type": "code",
        "outputId": "ac607622-f8fe-4ff9-8b96-722b43318cde",
        "colab": {
          "base_uri": "https://localhost:8080/",
          "height": 34
        }
      },
      "source": [
        "#Time the results of the nn - results in seconds\n",
        "\n",
        "start = time.time()\n",
        "\n",
        "nn.fit(X_train, y_train, print_progress=True)\n",
        "\n",
        "end = time.time()\n",
        "final_time = end-start\n",
        "\n",
        "print(final_time)"
      ],
      "execution_count": 11,
      "outputs": [
        {
          "output_type": "stream",
          "text": [
            "Epoch: 1000/1000"
          ],
          "name": "stderr"
        },
        {
          "output_type": "stream",
          "text": [
            "990.4555447101593\n"
          ],
          "name": "stdout"
        }
      ]
    },
    {
      "cell_type": "code",
      "metadata": {
        "id": "z8Xqs_t-kVRt",
        "colab_type": "code",
        "outputId": "c05320b5-e9a8-449d-890c-d20fc885a9b6",
        "colab": {
          "base_uri": "https://localhost:8080/",
          "height": 297
        }
      },
      "source": [
        "# ROUGH PLOT FOR EACH OF THE 50 BATCH RUNS\n",
        "\n",
        "plt.plot(range(len(nn.cost_)), nn.cost_)\n",
        "plt.ylim([0, 2000])\n",
        "plt.ylabel('Cost')\n",
        "plt.xlabel('Epochs * 50')\n",
        "plt.tight_layout()\n",
        "# plt.savefig('./figures/cost.png', dpi=300)\n",
        "plt.show()"
      ],
      "execution_count": 12,
      "outputs": [
        {
          "output_type": "display_data",
          "data": {
            "image/png": "[encoded data removed]",
            "text/plain": [
              "<Figure size 432x288 with 1 Axes>"
            ]
          },
          "metadata": {
            "tags": []
          }
        }
      ]
    },
    {
      "cell_type": "code",
      "metadata": {
        "id": "-zaB5GN-kaDb",
        "colab_type": "code",
        "colab": {}
      },
      "source": [
        "batches = np.array_split(range(len(nn.cost_)), 1000)\n",
        "cost_ary = np.array(nn.cost_)\n",
        "cost_avgs = [np.mean(cost_ary[i]) for i in batches]"
      ],
      "execution_count": 0,
      "outputs": []
    },
    {
      "cell_type": "code",
      "metadata": {
        "id": "UxjWFAcdka0J",
        "colab_type": "code",
        "outputId": "a3956c0e-0ddf-4393-b107-45226163010d",
        "colab": {
          "base_uri": "https://localhost:8080/",
          "height": 297
        }
      },
      "source": [
        "plt.plot(range(len(cost_avgs)), cost_avgs, color='red')\n",
        "plt.ylim([0, 2000])\n",
        "plt.ylabel('Cost')\n",
        "plt.xlabel('Epochs')\n",
        "plt.tight_layout()\n",
        "#plt.savefig('./figures/cost2.png', dpi=300)\n",
        "plt.show()"
      ],
      "execution_count": 14,
      "outputs": [
        {
          "output_type": "display_data",
          "data": {
            "image/png": "[encoded data removed]",
            "text/plain": [
              "<Figure size 432x288 with 1 Axes>"
            ]
          },
          "metadata": {
            "tags": []
          }
        }
      ]
    },
    {
      "cell_type": "code",
      "metadata": {
        "id": "KWrCxBmQkgHM",
        "colab_type": "code",
        "outputId": "b2a23d0b-1197-4151-bd4f-d64e7a7f954c",
        "colab": {
          "base_uri": "https://localhost:8080/",
          "height": 34
        }
      },
      "source": [
        "#see how we did on accuracy for training and test set.\n",
        "#want these to be higher than 97 and 96.\n",
        "import sys\n",
        "\n",
        "y_train_pred = nn.predict(X_train)\n",
        "\n",
        "if sys.version_info < (3, 0):\n",
        "    acc = (np.sum(y_train == y_train_pred, axis=0)).astype('float') / X_train.shape[0]\n",
        "else:\n",
        "    acc = np.sum(y_train == y_train_pred, axis=0) / X_train.shape[0]\n",
        "\n",
        "print('Training accuracy: %.2f%%' % (acc * 100))"
      ],
      "execution_count": 15,
      "outputs": [
        {
          "output_type": "stream",
          "text": [
            "Training accuracy: 98.17%\n"
          ],
          "name": "stdout"
        }
      ]
    },
    {
      "cell_type": "code",
      "metadata": {
        "id": "1LapbiFqkiEK",
        "colab_type": "code",
        "outputId": "182c311d-21e0-4a3d-c52b-9bbefe43120c",
        "colab": {
          "base_uri": "https://localhost:8080/",
          "height": 34
        }
      },
      "source": [
        "y_test_pred = nn.predict(X_test)\n",
        "\n",
        "if sys.version_info < (3, 0):\n",
        "    acc = (np.sum(y_test == y_test_pred, axis=0)).astype('float') / X_test.shape[0]\n",
        "else:\n",
        "    acc = np.sum(y_test == y_test_pred, axis=0) / X_test.shape[0]\n",
        "\n",
        "print('Test accuracy: %.2f%%' % (acc * 100))"
      ],
      "execution_count": 16,
      "outputs": [
        {
          "output_type": "stream",
          "text": [
            "Test accuracy: 96.60%\n"
          ],
          "name": "stdout"
        }
      ]
    },
    {
      "cell_type": "code",
      "metadata": {
        "id": "5Ywi2b-KPake",
        "colab_type": "code",
        "outputId": "3d3583cc-36d6-4651-b67b-a690987a60dc",
        "colab": {
          "base_uri": "https://localhost:8080/",
          "height": 297
        }
      },
      "source": [
        "#look at places we might have missed\n",
        "\n",
        "miscl_img = X_test[y_test != y_test_pred][:25]\n",
        "correct_lab = y_test[y_test != y_test_pred][:25]\n",
        "miscl_lab= y_test_pred[y_test != y_test_pred][:25]\n",
        "\n",
        "fig, ax = plt.subplots(nrows=5, ncols=5, sharex=True, sharey=True,)\n",
        "ax = ax.flatten()\n",
        "for i in range(25):\n",
        "    img = miscl_img[i].reshape(28, 28)\n",
        "    ax[i].imshow(img, cmap='Greys', interpolation='nearest')\n",
        "    ax[i].set_title('%d) t: %d p: %d' % (i+1, correct_lab[i], miscl_lab[i]))\n",
        "\n",
        "ax[0].set_xticks([])\n",
        "ax[0].set_yticks([])\n",
        "plt.tight_layout()\n",
        "# plt.savefig('./figures/mnist_miscl.png', dpi=300)\n",
        "plt.show()"
      ],
      "execution_count": 17,
      "outputs": [
        {
          "output_type": "display_data",
          "data": {
            "image/png": "[encoded data removed]",
            "text/plain": [
              "<Figure size 432x288 with 25 Axes>"
            ]
          },
          "metadata": {
            "tags": []
          }
        }
      ]
    },
    {
      "cell_type": "code",
      "metadata": {
        "id": "nRE91aA6PfHz",
        "colab_type": "code",
        "outputId": "a5f2dd12-84a9-4cb1-e8e4-dc76e31c7b34",
        "colab": {
          "base_uri": "https://localhost:8080/",
          "height": 297
        }
      },
      "source": [
        "miscl_img = X_test[y_test != y_test_pred][:25]\n",
        "correct_lab = y_test[y_test != y_test_pred][:25]\n",
        "miscl_lab= y_test_pred[y_test != y_test_pred][:25]\n",
        "\n",
        "fig, ax = plt.subplots(nrows=5, ncols=5, sharex=True, sharey=True,)\n",
        "ax = ax.flatten()\n",
        "for i in range(25):\n",
        "    img = miscl_img[i].reshape(28, 28)\n",
        "    ax[i].imshow(img, cmap='Greys', interpolation='nearest')\n",
        "    ax[i].set_title('%d) t: %d p: %d' % (i+1, correct_lab[i], miscl_lab[i]))\n",
        "\n",
        "ax[0].set_xticks([])\n",
        "ax[0].set_yticks([])\n",
        "plt.tight_layout()\n",
        "# plt.savefig('./figures/mnist_miscl.png', dpi=300)\n",
        "plt.show()"
      ],
      "execution_count": 18,
      "outputs": [
        {
          "output_type": "display_data",
          "data": {
            "image/png": "[encoded data removed]",
            "text/plain": [
              "<Figure size 432x288 with 25 Axes>"
            ]
          },
          "metadata": {
            "tags": []
          }
        }
      ]
    }
  ]
}