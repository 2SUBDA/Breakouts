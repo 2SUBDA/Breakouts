{
  "nbformat": 4,
  "nbformat_minor": 0,
  "metadata": {
    "colab": {
      "name": "EvidenceBasedInvesting.ipynb",
      "version": "0.3.2",
      "provenance": [],
      "collapsed_sections": [],
      "include_colab_link": true
    },
    "kernelspec": {
      "name": "python3",
      "display_name": "Python 3"
    }
  },
  "cells": [
    {
      "cell_type": "markdown",
      "metadata": {
        "id": "view-in-github",
        "colab_type": "text"
      },
      "source": [
        "<a href=\"https://colab.research.google.com/github/2SUBDA/Breakouts/blob/Week6/EvidenceBasedInvesting.ipynb\" target=\"_parent\"><img src=\"https://colab.research.google.com/assets/colab-badge.svg\" alt=\"Open In Colab\"/></a>"
      ]
    },
    {
      "metadata": {
        "id": "jAVh5Y-DLPgq",
        "colab_type": "text"
      },
      "cell_type": "markdown",
      "source": [
        "Based on the Monte Carlo Simulation notebook developed by Matt Macarty\n"
      ]
    },
    {
      "metadata": {
        "id": "Ot7AI1jLKzQ3",
        "colab_type": "code",
        "colab": {}
      },
      "cell_type": "code",
      "source": [
        "# Install base libraries\n",
        "\n",
        "import numpy as np\n",
        "from pandas import Series, DataFrame\n",
        "%matplotlib inline\n",
        "import matplotlib.pyplot as plots\n",
        "from babel.numbers import format_currency\n",
        "\n",
        "plots.style.use('fivethirtyeight')\n"
      ],
      "execution_count": 0,
      "outputs": []
    },
    {
      "metadata": {
        "id": "VAOtrdwcNn_g",
        "colab_type": "code",
        "colab": {
          "base_uri": "https://localhost:8080/",
          "height": 545
        },
        "outputId": "0efff3fc-cd89-4d31-ea34-edcd20a83959"
      },
      "cell_type": "code",
      "source": [
        "# OBTAIN - Build Base Investment and Calculate Growth\n",
        "\n",
        "pv = 10000\n",
        "time_horizon = 30\n",
        "i =.07\n",
        "additions = 10000\n",
        "\n",
        "for year in range(time_horizon):\n",
        "    ending = pv * (1+i) + additions\n",
        "    print(format_currency(ending, 'USD'))\n",
        "    pv = ending"
      ],
      "execution_count": 42,
      "outputs": [
        {
          "output_type": "stream",
          "text": [
            "$20,700.00\n",
            "$32,149.00\n",
            "$44,399.43\n",
            "$57,507.39\n",
            "$71,532.91\n",
            "$86,540.21\n",
            "$102,598.03\n",
            "$119,779.89\n",
            "$138,164.48\n",
            "$157,835.99\n",
            "$178,884.51\n",
            "$201,406.43\n",
            "$225,504.88\n",
            "$251,290.22\n",
            "$278,880.54\n",
            "$308,402.17\n",
            "$339,990.33\n",
            "$373,789.65\n",
            "$409,954.92\n",
            "$448,651.77\n",
            "$490,057.39\n",
            "$534,361.41\n",
            "$581,766.71\n",
            "$632,490.38\n",
            "$686,764.70\n",
            "$744,838.23\n",
            "$806,976.91\n",
            "$873,465.29\n",
            "$944,607.86\n",
            "$1,020,730.41\n"
          ],
          "name": "stdout"
        }
      ]
    },
    {
      "metadata": {
        "id": "spt0H7_UOZL4",
        "colab_type": "code",
        "colab": {
          "base_uri": "https://localhost:8080/",
          "height": 562
        },
        "outputId": "70b26cd7-9cc8-4b37-eab0-d39f273e1739"
      },
      "cell_type": "code",
      "source": [
        "# OBTAIN - Using random variation based on market history - 7.10% - S&P 500\n",
        "\n",
        "\n",
        "pv = 10000\n",
        "expected_return = .071\n",
        "volatility = .10\n",
        "time_horizon = 30\n",
        "annual_addition = 10000\n",
        "\n",
        "#print(\"\\tEnding Value\".rjust(9))\n",
        "print(\"\\tReturn\", \"\\t\\tEnding Value\".rjust(18))\n",
        "for year in range(time_horizon):\n",
        "    market_return = np.random.normal(expected_return, volatility)\n",
        "    fv = pv * (1 + market_return) + annual_addition\n",
        "    print(\"\\t{}\".ljust(10).format(round(market_return,4)), \"\\t{}\".rjust(10).format(format_currency(fv, 'USD')))\n",
        "    #print(format_currency(fv, 'USD') )\n",
        "    pv = fv"
      ],
      "execution_count": 43,
      "outputs": [
        {
          "output_type": "stream",
          "text": [
            "\tReturn     \t\tEnding Value\n",
            "\t0.0317               \t$20,317.41\n",
            "\t0.0557               \t$31,449.76\n",
            "\t0.1098               \t$44,903.96\n",
            "\t-0.0765               \t$51,470.68\n",
            "\t0.1252               \t$67,912.60\n",
            "\t0.1107               \t$85,432.10\n",
            "\t0.081               \t$102,351.21\n",
            "\t0.0399               \t$116,434.46\n",
            "\t0.0235               \t$129,170.87\n",
            "\t0.1704               \t$161,175.75\n",
            "\t0.0769               \t$183,576.78\n",
            "\t-0.0793               \t$179,016.29\n",
            "\t0.1084               \t$208,418.07\n",
            "\t0.0507               \t$228,975.08\n",
            "\t0.0924               \t$260,139.74\n",
            "\t-0.0668               \t$252,770.97\n",
            "\t0.1886               \t$310,432.06\n",
            "\t0.309               \t$416,353.55\n",
            "\t-0.0343               \t$412,065.00\n",
            "\t0.0973               \t$462,145.25\n",
            "\t-0.0385               \t$454,360.88\n",
            "\t0.1247               \t$521,017.22\n",
            "\t0.3162               \t$695,753.53\n",
            "\t0.0385               \t$732,554.17\n",
            "\t0.1957               \t$885,940.07\n",
            "\t0.0612               \t$950,203.43\n",
            "\t0.0009               \t$961,059.19\n",
            "\t-0.0252               \t$946,830.94\n",
            "\t0.0203               \t$976,052.51\n",
            "\t0.0796               \t$1,063,778.98\n"
          ],
          "name": "stdout"
        }
      ]
    },
    {
      "metadata": {
        "id": "snYB_SaxLXfb",
        "colab_type": "code",
        "colab": {}
      },
      "cell_type": "code",
      "source": [
        "# MODEL - Simulate Multiple Outcomes\n",
        "\n",
        "sim = DataFrame()\n",
        "iterations = 5000\n",
        "\n",
        "\n",
        "for x in range(iterations):\n",
        "    expected_return = .071 # Return of S&P 500 - 10 year avg\n",
        "    volatility = .208 # Frequency and severity that market price fluctuates\n",
        "    time_horizon = 30\n",
        "    pv = 10000\n",
        "    annual_investment = 10000\n",
        "    stream = []\n",
        "    for i in range(time_horizon):\n",
        "        end = round(pv * (1 + np.random.normal(expected_return,volatility)) + annual_investment,2)\n",
        "        \n",
        "        stream.append(end)\n",
        "\n",
        "        pv = end\n",
        "\n",
        "    \n",
        "    sim[x] = stream"
      ],
      "execution_count": 0,
      "outputs": []
    },
    {
      "metadata": {
        "id": "SMrs_2AELoEZ",
        "colab_type": "code",
        "colab": {
          "base_uri": "https://localhost:8080/",
          "height": 935
        },
        "outputId": "c10c8ef8-cf2e-4573-933b-4c5f812bc38c"
      },
      "cell_type": "code",
      "source": [
        "# EXPLORE  - Look at sample of annual ending values\n",
        "\n",
        "first_five = list(range(5))\n",
        "sim[first_five]\n"
      ],
      "execution_count": 38,
      "outputs": [
        {
          "output_type": "execute_result",
          "data": {
            "text/html": [
              "<div>\n",
              "<style scoped>\n",
              "    .dataframe tbody tr th:only-of-type {\n",
              "        vertical-align: middle;\n",
              "    }\n",
              "\n",
              "    .dataframe tbody tr th {\n",
              "        vertical-align: top;\n",
              "    }\n",
              "\n",
              "    .dataframe thead th {\n",
              "        text-align: right;\n",
              "    }\n",
              "</style>\n",
              "<table border=\"1\" class=\"dataframe\">\n",
              "  <thead>\n",
              "    <tr style=\"text-align: right;\">\n",
              "      <th></th>\n",
              "      <th>0</th>\n",
              "      <th>1</th>\n",
              "      <th>2</th>\n",
              "      <th>3</th>\n",
              "      <th>4</th>\n",
              "    </tr>\n",
              "  </thead>\n",
              "  <tbody>\n",
              "    <tr>\n",
              "      <th>0</th>\n",
              "      <td>21436.26</td>\n",
              "      <td>22303.83</td>\n",
              "      <td>20508.78</td>\n",
              "      <td>21384.32</td>\n",
              "      <td>22129.90</td>\n",
              "    </tr>\n",
              "    <tr>\n",
              "      <th>1</th>\n",
              "      <td>33028.02</td>\n",
              "      <td>40100.30</td>\n",
              "      <td>32590.32</td>\n",
              "      <td>30704.21</td>\n",
              "      <td>42667.50</td>\n",
              "    </tr>\n",
              "    <tr>\n",
              "      <th>2</th>\n",
              "      <td>45676.00</td>\n",
              "      <td>43154.83</td>\n",
              "      <td>49532.74</td>\n",
              "      <td>28144.76</td>\n",
              "      <td>70548.24</td>\n",
              "    </tr>\n",
              "    <tr>\n",
              "      <th>3</th>\n",
              "      <td>57534.74</td>\n",
              "      <td>62258.92</td>\n",
              "      <td>63137.96</td>\n",
              "      <td>38688.84</td>\n",
              "      <td>86360.05</td>\n",
              "    </tr>\n",
              "    <tr>\n",
              "      <th>4</th>\n",
              "      <td>79129.52</td>\n",
              "      <td>101011.12</td>\n",
              "      <td>49627.41</td>\n",
              "      <td>56127.40</td>\n",
              "      <td>94456.11</td>\n",
              "    </tr>\n",
              "    <tr>\n",
              "      <th>5</th>\n",
              "      <td>108927.21</td>\n",
              "      <td>113801.85</td>\n",
              "      <td>69690.25</td>\n",
              "      <td>64733.97</td>\n",
              "      <td>115247.36</td>\n",
              "    </tr>\n",
              "    <tr>\n",
              "      <th>6</th>\n",
              "      <td>119267.79</td>\n",
              "      <td>124038.08</td>\n",
              "      <td>91561.70</td>\n",
              "      <td>95406.33</td>\n",
              "      <td>149565.31</td>\n",
              "    </tr>\n",
              "    <tr>\n",
              "      <th>7</th>\n",
              "      <td>122476.76</td>\n",
              "      <td>131411.46</td>\n",
              "      <td>77484.56</td>\n",
              "      <td>90640.71</td>\n",
              "      <td>186447.35</td>\n",
              "    </tr>\n",
              "    <tr>\n",
              "      <th>8</th>\n",
              "      <td>113486.50</td>\n",
              "      <td>179771.31</td>\n",
              "      <td>79244.46</td>\n",
              "      <td>69602.33</td>\n",
              "      <td>243710.68</td>\n",
              "    </tr>\n",
              "    <tr>\n",
              "      <th>9</th>\n",
              "      <td>145317.49</td>\n",
              "      <td>122066.55</td>\n",
              "      <td>99693.54</td>\n",
              "      <td>93639.21</td>\n",
              "      <td>227027.17</td>\n",
              "    </tr>\n",
              "    <tr>\n",
              "      <th>10</th>\n",
              "      <td>130604.18</td>\n",
              "      <td>149971.60</td>\n",
              "      <td>120618.40</td>\n",
              "      <td>85363.00</td>\n",
              "      <td>225282.31</td>\n",
              "    </tr>\n",
              "    <tr>\n",
              "      <th>11</th>\n",
              "      <td>183227.20</td>\n",
              "      <td>190513.56</td>\n",
              "      <td>150854.24</td>\n",
              "      <td>100906.23</td>\n",
              "      <td>210855.73</td>\n",
              "    </tr>\n",
              "    <tr>\n",
              "      <th>12</th>\n",
              "      <td>193326.32</td>\n",
              "      <td>209171.75</td>\n",
              "      <td>175182.82</td>\n",
              "      <td>135812.63</td>\n",
              "      <td>218190.11</td>\n",
              "    </tr>\n",
              "    <tr>\n",
              "      <th>13</th>\n",
              "      <td>203814.55</td>\n",
              "      <td>227884.31</td>\n",
              "      <td>224492.28</td>\n",
              "      <td>129537.23</td>\n",
              "      <td>292265.81</td>\n",
              "    </tr>\n",
              "    <tr>\n",
              "      <th>14</th>\n",
              "      <td>188707.53</td>\n",
              "      <td>220304.68</td>\n",
              "      <td>246715.24</td>\n",
              "      <td>135847.63</td>\n",
              "      <td>422314.24</td>\n",
              "    </tr>\n",
              "    <tr>\n",
              "      <th>15</th>\n",
              "      <td>268458.99</td>\n",
              "      <td>274571.60</td>\n",
              "      <td>362294.74</td>\n",
              "      <td>186445.50</td>\n",
              "      <td>552361.16</td>\n",
              "    </tr>\n",
              "    <tr>\n",
              "      <th>16</th>\n",
              "      <td>227450.08</td>\n",
              "      <td>316764.39</td>\n",
              "      <td>416166.93</td>\n",
              "      <td>152942.66</td>\n",
              "      <td>592009.55</td>\n",
              "    </tr>\n",
              "    <tr>\n",
              "      <th>17</th>\n",
              "      <td>312214.03</td>\n",
              "      <td>262935.67</td>\n",
              "      <td>553253.24</td>\n",
              "      <td>128560.34</td>\n",
              "      <td>659610.40</td>\n",
              "    </tr>\n",
              "    <tr>\n",
              "      <th>18</th>\n",
              "      <td>191661.75</td>\n",
              "      <td>302722.80</td>\n",
              "      <td>569445.44</td>\n",
              "      <td>128105.20</td>\n",
              "      <td>802204.96</td>\n",
              "    </tr>\n",
              "    <tr>\n",
              "      <th>19</th>\n",
              "      <td>179618.57</td>\n",
              "      <td>475497.43</td>\n",
              "      <td>614797.89</td>\n",
              "      <td>162134.31</td>\n",
              "      <td>829210.52</td>\n",
              "    </tr>\n",
              "    <tr>\n",
              "      <th>20</th>\n",
              "      <td>207179.71</td>\n",
              "      <td>654878.41</td>\n",
              "      <td>777644.00</td>\n",
              "      <td>153543.90</td>\n",
              "      <td>873347.70</td>\n",
              "    </tr>\n",
              "    <tr>\n",
              "      <th>21</th>\n",
              "      <td>253758.36</td>\n",
              "      <td>722909.38</td>\n",
              "      <td>1045767.02</td>\n",
              "      <td>137672.52</td>\n",
              "      <td>849140.60</td>\n",
              "    </tr>\n",
              "    <tr>\n",
              "      <th>22</th>\n",
              "      <td>334667.20</td>\n",
              "      <td>793382.46</td>\n",
              "      <td>1332984.01</td>\n",
              "      <td>212373.75</td>\n",
              "      <td>771739.98</td>\n",
              "    </tr>\n",
              "    <tr>\n",
              "      <th>23</th>\n",
              "      <td>481816.75</td>\n",
              "      <td>963672.06</td>\n",
              "      <td>1577126.32</td>\n",
              "      <td>256761.50</td>\n",
              "      <td>1075445.62</td>\n",
              "    </tr>\n",
              "    <tr>\n",
              "      <th>24</th>\n",
              "      <td>557893.42</td>\n",
              "      <td>1207768.76</td>\n",
              "      <td>1502920.02</td>\n",
              "      <td>283005.65</td>\n",
              "      <td>1016455.80</td>\n",
              "    </tr>\n",
              "    <tr>\n",
              "      <th>25</th>\n",
              "      <td>889844.44</td>\n",
              "      <td>794033.84</td>\n",
              "      <td>1703513.63</td>\n",
              "      <td>266456.94</td>\n",
              "      <td>1107823.58</td>\n",
              "    </tr>\n",
              "    <tr>\n",
              "      <th>26</th>\n",
              "      <td>1258173.97</td>\n",
              "      <td>854086.52</td>\n",
              "      <td>1684661.66</td>\n",
              "      <td>332719.36</td>\n",
              "      <td>1193082.10</td>\n",
              "    </tr>\n",
              "    <tr>\n",
              "      <th>27</th>\n",
              "      <td>1789302.97</td>\n",
              "      <td>1163254.68</td>\n",
              "      <td>1748669.65</td>\n",
              "      <td>255727.20</td>\n",
              "      <td>1372814.63</td>\n",
              "    </tr>\n",
              "    <tr>\n",
              "      <th>28</th>\n",
              "      <td>1890918.61</td>\n",
              "      <td>1207265.04</td>\n",
              "      <td>1706342.22</td>\n",
              "      <td>280786.61</td>\n",
              "      <td>1718953.99</td>\n",
              "    </tr>\n",
              "    <tr>\n",
              "      <th>29</th>\n",
              "      <td>2101414.04</td>\n",
              "      <td>747666.21</td>\n",
              "      <td>2086147.34</td>\n",
              "      <td>341615.67</td>\n",
              "      <td>1392125.24</td>\n",
              "    </tr>\n",
              "  </tbody>\n",
              "</table>\n",
              "</div>"
            ],
            "text/plain": [
              "             0           1           2          3           4\n",
              "0     21436.26    22303.83    20508.78   21384.32    22129.90\n",
              "1     33028.02    40100.30    32590.32   30704.21    42667.50\n",
              "2     45676.00    43154.83    49532.74   28144.76    70548.24\n",
              "3     57534.74    62258.92    63137.96   38688.84    86360.05\n",
              "4     79129.52   101011.12    49627.41   56127.40    94456.11\n",
              "5    108927.21   113801.85    69690.25   64733.97   115247.36\n",
              "6    119267.79   124038.08    91561.70   95406.33   149565.31\n",
              "7    122476.76   131411.46    77484.56   90640.71   186447.35\n",
              "8    113486.50   179771.31    79244.46   69602.33   243710.68\n",
              "9    145317.49   122066.55    99693.54   93639.21   227027.17\n",
              "10   130604.18   149971.60   120618.40   85363.00   225282.31\n",
              "11   183227.20   190513.56   150854.24  100906.23   210855.73\n",
              "12   193326.32   209171.75   175182.82  135812.63   218190.11\n",
              "13   203814.55   227884.31   224492.28  129537.23   292265.81\n",
              "14   188707.53   220304.68   246715.24  135847.63   422314.24\n",
              "15   268458.99   274571.60   362294.74  186445.50   552361.16\n",
              "16   227450.08   316764.39   416166.93  152942.66   592009.55\n",
              "17   312214.03   262935.67   553253.24  128560.34   659610.40\n",
              "18   191661.75   302722.80   569445.44  128105.20   802204.96\n",
              "19   179618.57   475497.43   614797.89  162134.31   829210.52\n",
              "20   207179.71   654878.41   777644.00  153543.90   873347.70\n",
              "21   253758.36   722909.38  1045767.02  137672.52   849140.60\n",
              "22   334667.20   793382.46  1332984.01  212373.75   771739.98\n",
              "23   481816.75   963672.06  1577126.32  256761.50  1075445.62\n",
              "24   557893.42  1207768.76  1502920.02  283005.65  1016455.80\n",
              "25   889844.44   794033.84  1703513.63  266456.94  1107823.58\n",
              "26  1258173.97   854086.52  1684661.66  332719.36  1193082.10\n",
              "27  1789302.97  1163254.68  1748669.65  255727.20  1372814.63\n",
              "28  1890918.61  1207265.04  1706342.22  280786.61  1718953.99\n",
              "29  2101414.04   747666.21  2086147.34  341615.67  1392125.24"
            ]
          },
          "metadata": {
            "tags": []
          },
          "execution_count": 38
        }
      ]
    },
    {
      "metadata": {
        "id": "vLLsR_NwRvEv",
        "colab_type": "code",
        "colab": {
          "base_uri": "https://localhost:8080/",
          "height": 369
        },
        "outputId": "b84a7c2f-7892-485e-ff12-7bec6be86fc3"
      },
      "cell_type": "code",
      "source": [
        "# EXPLORE - Plot simulated portfolios\n",
        "\n",
        "plots.plot(sim[first_five])\n"
      ],
      "execution_count": 39,
      "outputs": [
        {
          "output_type": "execute_result",
          "data": {
            "text/plain": [
              "[<matplotlib.lines.Line2D at 0x7f6b51d0d6d8>,\n",
              " <matplotlib.lines.Line2D at 0x7f6b51d0d860>,\n",
              " <matplotlib.lines.Line2D at 0x7f6b51d0d9e8>,\n",
              " <matplotlib.lines.Line2D at 0x7f6b51d0db70>,\n",
              " <matplotlib.lines.Line2D at 0x7f6b51d0dcf8>]"
            ]
          },
          "metadata": {
            "tags": []
          },
          "execution_count": 39
        },
        {
          "output_type": "display_data",
          "data": {
            "image/png": "[encoded data removed]",
            "text/plain": [
              "<Figure size 432x288 with 1 Axes>"
            ]
          },
          "metadata": {
            "tags": []
          }
        }
      ]
    },
    {
      "metadata": {
        "id": "zJ5D1ZPSSH6n",
        "colab_type": "code",
        "colab": {
          "base_uri": "https://localhost:8080/",
          "height": 105
        },
        "outputId": "5d78bd75-f893-43a9-856c-fb773e6f2391"
      },
      "cell_type": "code",
      "source": [
        "# EXPLORE - Look at summary statistics\n",
        "\n",
        "\n",
        "print(\"Count:\", len(sim.loc[29]))\n",
        "print(\"Mean: \", format_currency(np.mean(sim.loc[29]), 'USD'))\n",
        "print(\"SD: \",format_currency(np.std(sim.loc[29]),'USD'))\n",
        "print(\"Max: \",format_currency(np.max(sim.loc[29]), 'USD'))\n",
        "print(\"Min: \", format_currency(np.min(sim.loc[29]), 'USD'))"
      ],
      "execution_count": 45,
      "outputs": [
        {
          "output_type": "stream",
          "text": [
            "Count: 5000\n",
            "Mean:  $1,056,988.49\n",
            "SD:  $1,010,828.07\n",
            "Max:  $15,059,951.93\n",
            "Min:  $65,030.29\n"
          ],
          "name": "stdout"
        }
      ]
    },
    {
      "metadata": {
        "id": "bMQhmsZcSoYv",
        "colab_type": "code",
        "colab": {
          "base_uri": "https://localhost:8080/",
          "height": 175
        },
        "outputId": "7d38fbb6-5455-43d0-e17c-9598b0666363"
      },
      "cell_type": "code",
      "source": [
        "# EXPLORE - Look at summary statistics with Pandas\n",
        "\n",
        "ending_values = sim.loc[29]\n",
        "ending_values.describe()"
      ],
      "execution_count": 30,
      "outputs": [
        {
          "output_type": "execute_result",
          "data": {
            "text/plain": [
              "count    5.000000e+03\n",
              "mean     7.221060e+05\n",
              "std      6.257133e+05\n",
              "min      5.504150e+04\n",
              "25%      3.297169e+05\n",
              "50%      5.345772e+05\n",
              "75%      9.002735e+05\n",
              "max      7.040723e+06\n",
              "Name: 29, dtype: float64"
            ]
          },
          "metadata": {
            "tags": []
          },
          "execution_count": 30
        }
      ]
    },
    {
      "metadata": {
        "id": "ZqghCrqFTR9v",
        "colab_type": "code",
        "colab": {
          "base_uri": "https://localhost:8080/",
          "height": 897
        },
        "outputId": "bf9f6acb-6bba-4512-8943-a26dc592e43d"
      },
      "cell_type": "code",
      "source": [
        "# EXPLORE - Look at histogram\n",
        "\n",
        "plots.hist(ending_values, bins=100)\n"
      ],
      "execution_count": 31,
      "outputs": [
        {
          "output_type": "execute_result",
          "data": {
            "text/plain": [
              "(array([ 85., 258., 447., 498., 431., 441., 389., 302., 282., 238., 203.,\n",
              "        158., 150., 153., 108.,  98.,  80.,  82.,  71.,  48.,  41.,  45.,\n",
              "         36.,  40.,  23.,  37.,  23.,  23.,  24.,  15.,  20.,  18.,  16.,\n",
              "          6.,   6.,   6.,   6.,  10.,   3.,   9.,   7.,   3.,   6.,   7.,\n",
              "          4.,   1.,   6.,   1.,   3.,   1.,   3.,   2.,   1.,   1.,   1.,\n",
              "          0.,   2.,   1.,   2.,   1.,   0.,   1.,   1.,   0.,   3.,   0.,\n",
              "          1.,   0.,   0.,   0.,   2.,   0.,   2.,   0.,   1.,   1.,   0.,\n",
              "          0.,   0.,   1.,   0.,   1.,   0.,   0.,   0.,   0.,   0.,   0.,\n",
              "          0.,   0.,   0.,   2.,   0.,   0.,   0.,   0.,   0.,   1.,   0.,\n",
              "          1.]), array([  55041.5   ,  124898.3165,  194755.133 ,  264611.9495,\n",
              "         334468.766 ,  404325.5825,  474182.399 ,  544039.2155,\n",
              "         613896.032 ,  683752.8485,  753609.665 ,  823466.4815,\n",
              "         893323.298 ,  963180.1145, 1033036.931 , 1102893.7475,\n",
              "        1172750.564 , 1242607.3805, 1312464.197 , 1382321.0135,\n",
              "        1452177.83  , 1522034.6465, 1591891.463 , 1661748.2795,\n",
              "        1731605.096 , 1801461.9125, 1871318.729 , 1941175.5455,\n",
              "        2011032.362 , 2080889.1785, 2150745.995 , 2220602.8115,\n",
              "        2290459.628 , 2360316.4445, 2430173.261 , 2500030.0775,\n",
              "        2569886.894 , 2639743.7105, 2709600.527 , 2779457.3435,\n",
              "        2849314.16  , 2919170.9765, 2989027.793 , 3058884.6095,\n",
              "        3128741.426 , 3198598.2425, 3268455.059 , 3338311.8755,\n",
              "        3408168.692 , 3478025.5085, 3547882.325 , 3617739.1415,\n",
              "        3687595.958 , 3757452.7745, 3827309.591 , 3897166.4075,\n",
              "        3967023.224 , 4036880.0405, 4106736.857 , 4176593.6735,\n",
              "        4246450.49  , 4316307.3065, 4386164.123 , 4456020.9395,\n",
              "        4525877.756 , 4595734.5725, 4665591.389 , 4735448.2055,\n",
              "        4805305.022 , 4875161.8385, 4945018.655 , 5014875.4715,\n",
              "        5084732.288 , 5154589.1045, 5224445.921 , 5294302.7375,\n",
              "        5364159.554 , 5434016.3705, 5503873.187 , 5573730.0035,\n",
              "        5643586.82  , 5713443.6365, 5783300.453 , 5853157.2695,\n",
              "        5923014.086 , 5992870.9025, 6062727.719 , 6132584.5355,\n",
              "        6202441.352 , 6272298.1685, 6342154.985 , 6412011.8015,\n",
              "        6481868.618 , 6551725.4345, 6621582.251 , 6691439.0675,\n",
              "        6761295.884 , 6831152.7005, 6901009.517 , 6970866.3335,\n",
              "        7040723.15  ]), <a list of 100 Patch objects>)"
            ]
          },
          "metadata": {
            "tags": []
          },
          "execution_count": 31
        },
        {
          "output_type": "display_data",
          "data": {
            "image/png": "[encoded data removed]",
            "text/plain": [
              "<Figure size 432x288 with 1 Axes>"
            ]
          },
          "metadata": {
            "tags": []
          }
        }
      ]
    },
    {
      "metadata": {
        "id": "8OJoMk71TaMX",
        "colab_type": "code",
        "colab": {
          "base_uri": "https://localhost:8080/",
          "height": 34
        },
        "outputId": "fb343679-d8fa-479c-cb88-1bba275e3341"
      },
      "cell_type": "code",
      "source": [
        "# ANALYZE - Probability of seeing specific value?\n",
        "\n",
        "len(ending_values[ending_values<1000000]) / len(ending_values)\n"
      ],
      "execution_count": 32,
      "outputs": [
        {
          "output_type": "execute_result",
          "data": {
            "text/plain": [
              "0.792"
            ]
          },
          "metadata": {
            "tags": []
          },
          "execution_count": 32
        }
      ]
    },
    {
      "metadata": {
        "id": "WRiuD-tITki2",
        "colab_type": "code",
        "colab": {
          "base_uri": "https://localhost:8080/",
          "height": 158
        },
        "outputId": "64abc420-dc3b-4b64-ec98-046b41c996ba"
      },
      "cell_type": "code",
      "source": [
        "# ANALYZE - Tableof all percentiles\n",
        "\n",
        "\n",
        "p_tiles = np.percentile(ending_values,[5,10,15,25,75,85,90, 95])\n",
        "for p in range(len(p_tiles)):\n",
        "    l = [5,10,15,25,75,85,90,95]\n",
        "    print( \"{}%-ile: \".format(l[p]).rjust(15),\"{}\".format(format_currency(p_tiles[p], 'USD')))"
      ],
      "execution_count": 33,
      "outputs": [
        {
          "output_type": "stream",
          "text": [
            "       5%-ile:  $172,712.38\n",
            "      10%-ile:  $222,212.59\n",
            "      15%-ile:  $258,709.43\n",
            "      25%-ile:  $329,716.94\n",
            "      75%-ile:  $900,273.51\n",
            "      85%-ile:  $1,179,694.75\n",
            "      90%-ile:  $1,424,308.36\n",
            "      95%-ile:  $1,876,512.30\n"
          ],
          "name": "stdout"
        }
      ]
    }
  ]
}