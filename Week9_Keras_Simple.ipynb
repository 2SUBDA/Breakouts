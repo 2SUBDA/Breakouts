{
  "nbformat": 4,
  "nbformat_minor": 0,
  "metadata": {
    "colab": {
      "name": "Week9_Keras_Simple.ipynb",
      "provenance": [],
      "collapsed_sections": [],
      "include_colab_link": true
    },
    "kernelspec": {
      "name": "python3",
      "display_name": "Python 3"
    },
    "accelerator": "GPU"
  },
  "cells": [
    {
      "cell_type": "markdown",
      "metadata": {
        "id": "view-in-github",
        "colab_type": "text"
      },
      "source": [
        "<a href=\"https://colab.research.google.com/github/2SUBDA/Breakouts/blob/Week9/Week9_Keras_Simple.ipynb\" target=\"_parent\"><img src=\"https://colab.research.google.com/assets/colab-badge.svg\" alt=\"Open In Colab\"/></a>"
      ]
    },
    {
      "cell_type": "code",
      "metadata": {
        "id": "B5Ke9u1U5ToR"
      },
      "source": [
        "# BASIC WALK THROUGH FOR MNIST NN\n",
        "# BASED ON TENSORFLOW TUTORIALS (2019)\n",
        "\n",
        "import tensorflow as tf\n",
        "from tensorflow import keras\n",
        "from tensorflow.keras.datasets import mnist\n",
        "from tensorflow.keras.models import Sequential\n",
        "from tensorflow.keras.layers import Dense\n",
        "from tensorflow.keras.layers import Dropout\n",
        "from tensorflow.keras.layers import Flatten\n",
        "from tensorflow.keras.layers import Conv2D\n",
        "from tensorflow.keras.layers import MaxPooling2D\n",
        "from tensorflow.keras import utils\n",
        "from tensorflow.keras import backend as K\n",
        "K.image_data_format()\n",
        "\n",
        "import matplotlib.pyplot as plt\n",
        "import time\n"
      ],
      "execution_count": 1,
      "outputs": []
    },
    {
      "cell_type": "code",
      "metadata": {
        "id": "70CoqaiePRXC",
        "colab": {
          "base_uri": "https://localhost:8080/"
        },
        "outputId": "bbf1097f-b3ff-480b-f78a-40bd70df6f55"
      },
      "source": [
        "# My test to make sure TF is working\n",
        "# Updated for TF 2 - Hat tip to @Casey Mok\n",
        "\n",
        "hello = tf.constant('Hello, TensorFlow!')\n",
        "tf.print(hello)\n"
      ],
      "execution_count": 2,
      "outputs": [
        {
          "output_type": "stream",
          "text": [
            "Hello, TensorFlow!\n"
          ],
          "name": "stdout"
        }
      ]
    },
    {
      "cell_type": "code",
      "metadata": {
        "id": "KuSKU2ojOXF-",
        "outputId": "da10f5b2-088e-4ae8-9323-03ce0297934d",
        "colab": {
          "base_uri": "https://localhost:8080/"
        }
      },
      "source": [
        "# WHAT TYPE OF GPU ARE YOU USING\n",
        "!nvidia-smi"
      ],
      "execution_count": 3,
      "outputs": [
        {
          "output_type": "stream",
          "text": [
            "Sun Aug 15 00:32:34 2021       \n",
            "+-----------------------------------------------------------------------------+\n",
            "| NVIDIA-SMI 470.42.01    Driver Version: 460.32.03    CUDA Version: 11.2     |\n",
            "|-------------------------------+----------------------+----------------------+\n",
            "| GPU  Name        Persistence-M| Bus-Id        Disp.A | Volatile Uncorr. ECC |\n",
            "| Fan  Temp  Perf  Pwr:Usage/Cap|         Memory-Usage | GPU-Util  Compute M. |\n",
            "|                               |                      |               MIG M. |\n",
            "|===============================+======================+======================|\n",
            "|   0  Tesla P100-PCIE...  Off  | 00000000:00:04.0 Off |                    0 |\n",
            "| N/A   43C    P0    34W / 250W |    347MiB / 16280MiB |      0%      Default |\n",
            "|                               |                      |                  N/A |\n",
            "+-------------------------------+----------------------+----------------------+\n",
            "                                                                               \n",
            "+-----------------------------------------------------------------------------+\n",
            "| Processes:                                                                  |\n",
            "|  GPU   GI   CI        PID   Type   Process name                  GPU Memory |\n",
            "|        ID   ID                                                   Usage      |\n",
            "|=============================================================================|\n",
            "|  No running processes found                                                 |\n",
            "+-----------------------------------------------------------------------------+\n"
          ],
          "name": "stdout"
        }
      ]
    },
    {
      "cell_type": "code",
      "metadata": {
        "id": "rk96egzq7HQQ",
        "colab": {
          "base_uri": "https://localhost:8080/"
        },
        "outputId": "eaad8261-ab77-420d-865f-24b4a84017f9"
      },
      "source": [
        "# OBTAIN - THERE ARE MANY WAYS TO OBTAIN MNIST - THIS IS ONE\n",
        "\n",
        "(X_train, y_train), (X_test, y_test) = mnist.load_data()\n",
        "\n",
        "print('Rows: %d, columns: %d' % (X_train.shape[0], X_train.shape[1]))\n",
        "\n",
        "print('Rows: %d, columns: %d' % (X_test.shape[0], X_test.shape[1]))"
      ],
      "execution_count": 4,
      "outputs": [
        {
          "output_type": "stream",
          "text": [
            "Downloading data from https://storage.googleapis.com/tensorflow/tf-keras-datasets/mnist.npz\n",
            "11493376/11490434 [==============================] - 0s 0us/step\n",
            "Rows: 60000, columns: 28\n",
            "Rows: 10000, columns: 28\n"
          ],
          "name": "stdout"
        }
      ]
    },
    {
      "cell_type": "code",
      "metadata": {
        "id": "OXtHgiISDh65",
        "colab": {
          "base_uri": "https://localhost:8080/",
          "height": 297
        },
        "outputId": "713a081c-3431-41d1-fb13-b058197d85b4"
      },
      "source": [
        "# EXPLORE - VISUALIZE DIFFERENT VARIATIONS OF 5\n",
        "\n",
        "fig, ax = plt.subplots(nrows=5, ncols=5, sharex=True, sharey=True,)\n",
        "ax = ax.flatten()\n",
        "for i in range(25):\n",
        "    img = X_train[y_train == 5][i].reshape(28, 28)\n",
        "    ax[i].imshow(img, cmap='Greys', interpolation='nearest')\n",
        "\n",
        "ax[0].set_xticks([])\n",
        "ax[0].set_yticks([])\n",
        "plt.tight_layout()"
      ],
      "execution_count": null,
      "outputs": [
        {
          "output_type": "display_data",
          "data": {
            "image/png": "[encoded data removed]",
            "text/plain": [
              "<Figure size 432x288 with 25 Axes>"
            ]
          },
          "metadata": {
            "tags": []
          }
        }
      ]
    },
    {
      "cell_type": "code",
      "metadata": {
        "id": "STm-WioIDfNS"
      },
      "source": [
        "# SCRUB - FLATTENING FROM 28 x 28 TO 784\n",
        "# THERE ARE MANY WAYS TO RESHAPE - THIS IS ONE\n",
        "\n",
        "num_pixels = X_train.shape[1] * X_train.shape[2]\n",
        "X_train = X_train.reshape(X_train.shape[0], num_pixels).astype('float32')\n",
        "X_test = X_test.reshape(X_test.shape[0], num_pixels).astype('float32')\n",
        "\n",
        "# print('Rows: %d, columns: %d' % (X_train.shape[0], X_train.shape[1]))\n",
        "\n",
        "# print('Rows: %d, columns: %d' % (X_test.shape[0], X_test.shape[1]))"
      ],
      "execution_count": null,
      "outputs": []
    },
    {
      "cell_type": "code",
      "metadata": {
        "id": "EzS0FG8NGxto"
      },
      "source": [
        "# SCRUB - NORMALIZE INTENSITY VALUE\n",
        "\n",
        "X_train = X_train / 255\n",
        "X_test = X_test / 255"
      ],
      "execution_count": null,
      "outputs": []
    },
    {
      "cell_type": "code",
      "metadata": {
        "id": "RnczHRZcG6ba"
      },
      "source": [
        "# SCRUB - ENCODE FOR LABEL\n",
        "\n",
        "y_train = utils.to_categorical(y_train)\n",
        "y_test = utils.to_categorical(y_test)\n",
        "num_classes = y_test.shape[1]"
      ],
      "execution_count": null,
      "outputs": []
    },
    {
      "cell_type": "code",
      "metadata": {
        "id": "Y5XfBGYtDoqA"
      },
      "source": [
        "# MODEL - BUILD THE BASELINE\n",
        "\n",
        "def baseline_model():\n",
        "    # create model\n",
        "    model = Sequential()\n",
        "    model.add(Dense(num_pixels, input_dim=num_pixels, kernel_initializer='normal', activation='relu'))\n",
        "    model.add(Dense(num_classes, kernel_initializer='normal', activation='softmax'))\n",
        "    # Compile model\n",
        "    model.compile(loss='categorical_crossentropy', optimizer='adam', metrics=['accuracy'])\n",
        "    return model\n"
      ],
      "execution_count": null,
      "outputs": []
    },
    {
      "cell_type": "markdown",
      "metadata": {
        "id": "hmzpeon4OMwk"
      },
      "source": [
        "The following code actually runs the model - notice small number of epochs & lack of auto-stopping rule!\n",
        "\n",
        "NOTE:  This is where the GPU comes in handy - running on CPU will take about 40 seconds - not bad but switching the runtime to GPU should bring the runtime down to ~ 15 secs!"
      ]
    },
    {
      "cell_type": "code",
      "metadata": {
        "id": "HzyhYCN02_2V",
        "colab": {
          "base_uri": "https://localhost:8080/"
        },
        "outputId": "73ecf9fb-271d-4566-a993-885736254ed9"
      },
      "source": [
        "# MODEL - FIT THE BASE MODEL\n",
        "\n",
        "start = time.time()  # TRACK TIME\n",
        "\n",
        "model = baseline_model()\n",
        "model.fit(X_train, y_train, validation_data=(X_test, y_test), epochs=10, batch_size=200, verbose=2)\n",
        "\n",
        "# MODEL - RESULTS\n",
        "\n",
        "scores = model.evaluate(X_test, y_test, verbose=0)\n",
        "print(\"Baseline Error: %.2f%%\" % (100-scores[1]*100))\n",
        "\n",
        "end = time.time()\n",
        "final_time = end-start\n",
        "print(final_time)  # RUN TIME OF BLOCK"
      ],
      "execution_count": null,
      "outputs": [
        {
          "output_type": "stream",
          "text": [
            "Epoch 1/10\n",
            "300/300 - 4s - loss: 0.2812 - accuracy: 0.9198 - val_loss: 0.1406 - val_accuracy: 0.9589\n",
            "Epoch 2/10\n",
            "300/300 - 4s - loss: 0.1108 - accuracy: 0.9678 - val_loss: 0.0921 - val_accuracy: 0.9727\n",
            "Epoch 3/10\n",
            "300/300 - 4s - loss: 0.0714 - accuracy: 0.9792 - val_loss: 0.0779 - val_accuracy: 0.9765\n",
            "Epoch 4/10\n",
            "300/300 - 4s - loss: 0.0500 - accuracy: 0.9854 - val_loss: 0.0655 - val_accuracy: 0.9788\n",
            "Epoch 5/10\n",
            "300/300 - 4s - loss: 0.0364 - accuracy: 0.9895 - val_loss: 0.0646 - val_accuracy: 0.9791\n",
            "Epoch 6/10\n",
            "300/300 - 4s - loss: 0.0264 - accuracy: 0.9929 - val_loss: 0.0626 - val_accuracy: 0.9802\n",
            "Epoch 7/10\n",
            "300/300 - 4s - loss: 0.0194 - accuracy: 0.9952 - val_loss: 0.0596 - val_accuracy: 0.9821\n",
            "Epoch 8/10\n",
            "300/300 - 4s - loss: 0.0139 - accuracy: 0.9971 - val_loss: 0.0577 - val_accuracy: 0.9821\n",
            "Epoch 9/10\n",
            "300/300 - 4s - loss: 0.0107 - accuracy: 0.9977 - val_loss: 0.0624 - val_accuracy: 0.9798\n",
            "Epoch 10/10\n",
            "300/300 - 4s - loss: 0.0078 - accuracy: 0.9986 - val_loss: 0.0551 - val_accuracy: 0.9843\n",
            "Baseline Error: 1.57%\n",
            "39.13474082946777\n"
          ],
          "name": "stdout"
        }
      ]
    },
    {
      "cell_type": "code",
      "metadata": {
        "id": "XVw-Fnx3S-Li",
        "colab": {
          "base_uri": "https://localhost:8080/"
        },
        "outputId": "ae1d82d2-698c-41ba-c516-524b37384620"
      },
      "source": [
        "# MODEL - TWO WAYS TO VISUALIZE\n",
        "\n",
        "# tf.keras.utils.plot_model(model, show_shapes=True)\n",
        "print(model.summary())"
      ],
      "execution_count": null,
      "outputs": [
        {
          "output_type": "stream",
          "text": [
            "Model: \"sequential\"\n",
            "_________________________________________________________________\n",
            "Layer (type)                 Output Shape              Param #   \n",
            "=================================================================\n",
            "dense (Dense)                (None, 784)               615440    \n",
            "_________________________________________________________________\n",
            "dense_1 (Dense)              (None, 10)                7850      \n",
            "=================================================================\n",
            "Total params: 623,290\n",
            "Trainable params: 623,290\n",
            "Non-trainable params: 0\n",
            "_________________________________________________________________\n",
            "None\n"
          ],
          "name": "stdout"
        }
      ]
    },
    {
      "cell_type": "code",
      "metadata": {
        "id": "_Df2GIr4DrTy",
        "colab": {
          "base_uri": "https://localhost:8080/",
          "height": 1000
        },
        "outputId": "3b042320-cb57-4a78-ddf8-8f46770a719e"
      },
      "source": [
        "# MODEL\n",
        "# RUN THE MODEL\n",
        "\n",
        "model = baseline_model()\n",
        "\n",
        "# FIT THE MODEL\n",
        "# STORE THE MODEL RESULTS IN history TO USE FOR BUILDING ROC PLOT\n",
        "\n",
        "history  = model.fit(X_train, y_train, validation_data=(X_test, y_test), epochs=100)\n",
        "\n",
        "# EVALUATE THE MODEL\n",
        "scores = model.evaluate(X_test, y_test, verbose=0)\n",
        "print(\"Baseline Error: %.2f%%\" % (100-scores[1]*100))"
      ],
      "execution_count": null,
      "outputs": [
        {
          "output_type": "stream",
          "text": [
            "Epoch 1/100\n",
            "1875/1875 [==============================] - 4s 2ms/step - loss: 0.1885 - accuracy: 0.9427 - val_loss: 0.0857 - val_accuracy: 0.9729\n",
            "Epoch 2/100\n",
            "1875/1875 [==============================] - 4s 2ms/step - loss: 0.0755 - accuracy: 0.9765 - val_loss: 0.0797 - val_accuracy: 0.9743\n",
            "Epoch 3/100\n",
            "1875/1875 [==============================] - 4s 2ms/step - loss: 0.0492 - accuracy: 0.9841 - val_loss: 0.0790 - val_accuracy: 0.9769\n",
            "Epoch 4/100\n",
            "1875/1875 [==============================] - 4s 2ms/step - loss: 0.0344 - accuracy: 0.9887 - val_loss: 0.0678 - val_accuracy: 0.9782\n",
            "Epoch 5/100\n",
            "1875/1875 [==============================] - 4s 2ms/step - loss: 0.0266 - accuracy: 0.9914 - val_loss: 0.0612 - val_accuracy: 0.9818\n",
            "Epoch 6/100\n",
            "1875/1875 [==============================] - 4s 2ms/step - loss: 0.0195 - accuracy: 0.9939 - val_loss: 0.0852 - val_accuracy: 0.9765\n",
            "Epoch 7/100\n",
            "1875/1875 [==============================] - 4s 2ms/step - loss: 0.0175 - accuracy: 0.9939 - val_loss: 0.0778 - val_accuracy: 0.9824\n",
            "Epoch 8/100\n",
            "1875/1875 [==============================] - 4s 2ms/step - loss: 0.0128 - accuracy: 0.9955 - val_loss: 0.0893 - val_accuracy: 0.9785\n",
            "Epoch 9/100\n",
            "1875/1875 [==============================] - 4s 2ms/step - loss: 0.0138 - accuracy: 0.9955 - val_loss: 0.0804 - val_accuracy: 0.9817\n",
            "Epoch 10/100\n",
            "1875/1875 [==============================] - 4s 2ms/step - loss: 0.0110 - accuracy: 0.9963 - val_loss: 0.0816 - val_accuracy: 0.9828\n",
            "Epoch 11/100\n",
            "1875/1875 [==============================] - 4s 2ms/step - loss: 0.0100 - accuracy: 0.9967 - val_loss: 0.0776 - val_accuracy: 0.9814\n",
            "Epoch 12/100\n",
            "1875/1875 [==============================] - 4s 2ms/step - loss: 0.0099 - accuracy: 0.9966 - val_loss: 0.0903 - val_accuracy: 0.9809\n",
            "Epoch 13/100\n",
            "1875/1875 [==============================] - 4s 2ms/step - loss: 0.0084 - accuracy: 0.9976 - val_loss: 0.0950 - val_accuracy: 0.9807\n",
            "Epoch 14/100\n",
            "1875/1875 [==============================] - 4s 2ms/step - loss: 0.0092 - accuracy: 0.9968 - val_loss: 0.1073 - val_accuracy: 0.9821\n",
            "Epoch 15/100\n",
            "1875/1875 [==============================] - 4s 2ms/step - loss: 0.0086 - accuracy: 0.9973 - val_loss: 0.1030 - val_accuracy: 0.9811\n",
            "Epoch 16/100\n",
            "1875/1875 [==============================] - 4s 2ms/step - loss: 0.0075 - accuracy: 0.9973 - val_loss: 0.0934 - val_accuracy: 0.9835\n",
            "Epoch 17/100\n",
            "1875/1875 [==============================] - 4s 2ms/step - loss: 0.0086 - accuracy: 0.9973 - val_loss: 0.0881 - val_accuracy: 0.9854\n",
            "Epoch 18/100\n",
            "1875/1875 [==============================] - 4s 2ms/step - loss: 0.0060 - accuracy: 0.9979 - val_loss: 0.1035 - val_accuracy: 0.9830\n",
            "Epoch 19/100\n",
            "1875/1875 [==============================] - 4s 2ms/step - loss: 0.0059 - accuracy: 0.9981 - val_loss: 0.1215 - val_accuracy: 0.9823\n",
            "Epoch 20/100\n",
            "1875/1875 [==============================] - 4s 2ms/step - loss: 0.0067 - accuracy: 0.9980 - val_loss: 0.0980 - val_accuracy: 0.9842\n",
            "Epoch 21/100\n",
            "1875/1875 [==============================] - 4s 2ms/step - loss: 0.0059 - accuracy: 0.9982 - val_loss: 0.1186 - val_accuracy: 0.9832\n",
            "Epoch 22/100\n",
            "1875/1875 [==============================] - 5s 3ms/step - loss: 0.0069 - accuracy: 0.9978 - val_loss: 0.1224 - val_accuracy: 0.9822\n",
            "Epoch 23/100\n",
            "1875/1875 [==============================] - 5s 2ms/step - loss: 0.0076 - accuracy: 0.9976 - val_loss: 0.1221 - val_accuracy: 0.9834\n",
            "Epoch 24/100\n",
            "1875/1875 [==============================] - 4s 2ms/step - loss: 0.0046 - accuracy: 0.9989 - val_loss: 0.1405 - val_accuracy: 0.9813\n",
            "Epoch 25/100\n",
            "1875/1875 [==============================] - 4s 2ms/step - loss: 0.0080 - accuracy: 0.9977 - val_loss: 0.1217 - val_accuracy: 0.9839\n",
            "Epoch 26/100\n",
            "1875/1875 [==============================] - 4s 2ms/step - loss: 0.0060 - accuracy: 0.9983 - val_loss: 0.1563 - val_accuracy: 0.9798\n",
            "Epoch 27/100\n",
            "1875/1875 [==============================] - 4s 2ms/step - loss: 0.0056 - accuracy: 0.9984 - val_loss: 0.1346 - val_accuracy: 0.9816\n",
            "Epoch 28/100\n",
            "1875/1875 [==============================] - 4s 2ms/step - loss: 0.0059 - accuracy: 0.9984 - val_loss: 0.1376 - val_accuracy: 0.9826\n",
            "Epoch 29/100\n",
            "1875/1875 [==============================] - 4s 2ms/step - loss: 0.0052 - accuracy: 0.9983 - val_loss: 0.1444 - val_accuracy: 0.9836\n",
            "Epoch 30/100\n",
            "1875/1875 [==============================] - 4s 2ms/step - loss: 0.0053 - accuracy: 0.9983 - val_loss: 0.1445 - val_accuracy: 0.9821\n",
            "Epoch 31/100\n",
            "1875/1875 [==============================] - 4s 2ms/step - loss: 0.0054 - accuracy: 0.9986 - val_loss: 0.1700 - val_accuracy: 0.9823\n",
            "Epoch 32/100\n",
            "1875/1875 [==============================] - 4s 2ms/step - loss: 0.0043 - accuracy: 0.9986 - val_loss: 0.1535 - val_accuracy: 0.9824\n",
            "Epoch 33/100\n",
            "1875/1875 [==============================] - 4s 2ms/step - loss: 0.0048 - accuracy: 0.9985 - val_loss: 0.1720 - val_accuracy: 0.9811\n",
            "Epoch 34/100\n",
            "1875/1875 [==============================] - 4s 2ms/step - loss: 0.0068 - accuracy: 0.9981 - val_loss: 0.1628 - val_accuracy: 0.9815\n",
            "Epoch 35/100\n",
            "1875/1875 [==============================] - 4s 2ms/step - loss: 0.0053 - accuracy: 0.9987 - val_loss: 0.1824 - val_accuracy: 0.9800\n",
            "Epoch 36/100\n",
            "1875/1875 [==============================] - 4s 2ms/step - loss: 0.0059 - accuracy: 0.9985 - val_loss: 0.1463 - val_accuracy: 0.9831\n",
            "Epoch 37/100\n",
            "1875/1875 [==============================] - 4s 2ms/step - loss: 0.0040 - accuracy: 0.9989 - val_loss: 0.1737 - val_accuracy: 0.9806\n",
            "Epoch 38/100\n",
            "1875/1875 [==============================] - 4s 2ms/step - loss: 0.0069 - accuracy: 0.9982 - val_loss: 0.1524 - val_accuracy: 0.9824\n",
            "Epoch 39/100\n",
            "1875/1875 [==============================] - 4s 2ms/step - loss: 0.0048 - accuracy: 0.9987 - val_loss: 0.1841 - val_accuracy: 0.9807\n",
            "Epoch 40/100\n",
            "1875/1875 [==============================] - 4s 2ms/step - loss: 0.0052 - accuracy: 0.9989 - val_loss: 0.1863 - val_accuracy: 0.9814\n",
            "Epoch 41/100\n",
            "1875/1875 [==============================] - 4s 2ms/step - loss: 0.0045 - accuracy: 0.9990 - val_loss: 0.1737 - val_accuracy: 0.9830\n",
            "Epoch 42/100\n",
            "1875/1875 [==============================] - 4s 2ms/step - loss: 0.0076 - accuracy: 0.9980 - val_loss: 0.1771 - val_accuracy: 0.9821\n",
            "Epoch 43/100\n",
            "1875/1875 [==============================] - 4s 2ms/step - loss: 0.0047 - accuracy: 0.9987 - val_loss: 0.1611 - val_accuracy: 0.9839\n",
            "Epoch 44/100\n",
            "1875/1875 [==============================] - 4s 2ms/step - loss: 0.0039 - accuracy: 0.9990 - val_loss: 0.1922 - val_accuracy: 0.9825\n",
            "Epoch 45/100\n",
            "1875/1875 [==============================] - 4s 2ms/step - loss: 0.0052 - accuracy: 0.9990 - val_loss: 0.2344 - val_accuracy: 0.9808\n",
            "Epoch 46/100\n",
            "1875/1875 [==============================] - 4s 2ms/step - loss: 0.0068 - accuracy: 0.9984 - val_loss: 0.1981 - val_accuracy: 0.9829\n",
            "Epoch 47/100\n",
            "1875/1875 [==============================] - 4s 2ms/step - loss: 0.0053 - accuracy: 0.9988 - val_loss: 0.2033 - val_accuracy: 0.9823\n",
            "Epoch 48/100\n",
            "1875/1875 [==============================] - 4s 2ms/step - loss: 0.0029 - accuracy: 0.9993 - val_loss: 0.1884 - val_accuracy: 0.9840\n",
            "Epoch 49/100\n",
            "1875/1875 [==============================] - 4s 2ms/step - loss: 0.0048 - accuracy: 0.9988 - val_loss: 0.1736 - val_accuracy: 0.9833\n",
            "Epoch 50/100\n",
            "1875/1875 [==============================] - 4s 2ms/step - loss: 0.0042 - accuracy: 0.9990 - val_loss: 0.1917 - val_accuracy: 0.9828\n",
            "Epoch 51/100\n",
            "1875/1875 [==============================] - 4s 2ms/step - loss: 0.0053 - accuracy: 0.9988 - val_loss: 0.1825 - val_accuracy: 0.9843\n",
            "Epoch 52/100\n",
            "1875/1875 [==============================] - 4s 2ms/step - loss: 0.0039 - accuracy: 0.9990 - val_loss: 0.1855 - val_accuracy: 0.9841\n",
            "Epoch 53/100\n",
            "1875/1875 [==============================] - 4s 2ms/step - loss: 0.0035 - accuracy: 0.9992 - val_loss: 0.2131 - val_accuracy: 0.9815\n",
            "Epoch 54/100\n",
            "1875/1875 [==============================] - 4s 2ms/step - loss: 0.0075 - accuracy: 0.9987 - val_loss: 0.1847 - val_accuracy: 0.9848\n",
            "Epoch 55/100\n",
            "1875/1875 [==============================] - 4s 2ms/step - loss: 0.0016 - accuracy: 0.9995 - val_loss: 0.2045 - val_accuracy: 0.9841\n",
            "Epoch 56/100\n",
            "1875/1875 [==============================] - 4s 2ms/step - loss: 0.0072 - accuracy: 0.9985 - val_loss: 0.2233 - val_accuracy: 0.9816\n",
            "Epoch 57/100\n",
            "1875/1875 [==============================] - 4s 2ms/step - loss: 0.0015 - accuracy: 0.9996 - val_loss: 0.2153 - val_accuracy: 0.9824\n",
            "Epoch 58/100\n",
            "1875/1875 [==============================] - 4s 2ms/step - loss: 0.0026 - accuracy: 0.9995 - val_loss: 0.2270 - val_accuracy: 0.9821\n",
            "Epoch 59/100\n",
            "1875/1875 [==============================] - 4s 2ms/step - loss: 0.0060 - accuracy: 0.9990 - val_loss: 0.2491 - val_accuracy: 0.9820\n",
            "Epoch 60/100\n",
            "1875/1875 [==============================] - 4s 2ms/step - loss: 0.0043 - accuracy: 0.9990 - val_loss: 0.2161 - val_accuracy: 0.9819\n",
            "Epoch 61/100\n",
            "1875/1875 [==============================] - 4s 2ms/step - loss: 0.0047 - accuracy: 0.9989 - val_loss: 0.2030 - val_accuracy: 0.9845\n",
            "Epoch 62/100\n",
            "1875/1875 [==============================] - 4s 2ms/step - loss: 0.0027 - accuracy: 0.9993 - val_loss: 0.2378 - val_accuracy: 0.9819\n",
            "Epoch 63/100\n",
            "1875/1875 [==============================] - 4s 2ms/step - loss: 0.0041 - accuracy: 0.9990 - val_loss: 0.2722 - val_accuracy: 0.9818\n",
            "Epoch 64/100\n",
            "1875/1875 [==============================] - 4s 2ms/step - loss: 0.0048 - accuracy: 0.9991 - val_loss: 0.2406 - val_accuracy: 0.9814\n",
            "Epoch 65/100\n",
            "1875/1875 [==============================] - 4s 2ms/step - loss: 0.0038 - accuracy: 0.9992 - val_loss: 0.2522 - val_accuracy: 0.9820\n",
            "Epoch 66/100\n",
            "1875/1875 [==============================] - 4s 2ms/step - loss: 0.0047 - accuracy: 0.9991 - val_loss: 0.2308 - val_accuracy: 0.9839\n",
            "Epoch 67/100\n",
            "1875/1875 [==============================] - 4s 2ms/step - loss: 0.0019 - accuracy: 0.9995 - val_loss: 0.2235 - val_accuracy: 0.9837\n",
            "Epoch 68/100\n",
            "1875/1875 [==============================] - 4s 2ms/step - loss: 0.0030 - accuracy: 0.9994 - val_loss: 0.2674 - val_accuracy: 0.9806\n",
            "Epoch 69/100\n",
            "1875/1875 [==============================] - 4s 2ms/step - loss: 0.0058 - accuracy: 0.9988 - val_loss: 0.2557 - val_accuracy: 0.9820\n",
            "Epoch 70/100\n",
            "1875/1875 [==============================] - 4s 2ms/step - loss: 0.0024 - accuracy: 0.9994 - val_loss: 0.2623 - val_accuracy: 0.9826\n",
            "Epoch 71/100\n",
            "1875/1875 [==============================] - 4s 2ms/step - loss: 0.0036 - accuracy: 0.9993 - val_loss: 0.2596 - val_accuracy: 0.9829\n",
            "Epoch 72/100\n",
            "1875/1875 [==============================] - 4s 2ms/step - loss: 0.0034 - accuracy: 0.9994 - val_loss: 0.2372 - val_accuracy: 0.9842\n",
            "Epoch 73/100\n",
            "1875/1875 [==============================] - 4s 2ms/step - loss: 0.0041 - accuracy: 0.9991 - val_loss: 0.3036 - val_accuracy: 0.9808\n",
            "Epoch 74/100\n",
            "1875/1875 [==============================] - 5s 2ms/step - loss: 0.0040 - accuracy: 0.9992 - val_loss: 0.2690 - val_accuracy: 0.9824\n",
            "Epoch 75/100\n",
            "1875/1875 [==============================] - 4s 2ms/step - loss: 0.0029 - accuracy: 0.9993 - val_loss: 0.2698 - val_accuracy: 0.9831\n",
            "Epoch 76/100\n",
            "1875/1875 [==============================] - 4s 2ms/step - loss: 0.0033 - accuracy: 0.9993 - val_loss: 0.2529 - val_accuracy: 0.9848\n",
            "Epoch 77/100\n",
            "1875/1875 [==============================] - 4s 2ms/step - loss: 0.0031 - accuracy: 0.9994 - val_loss: 0.2644 - val_accuracy: 0.9809\n",
            "Epoch 78/100\n",
            "1875/1875 [==============================] - 4s 2ms/step - loss: 0.0038 - accuracy: 0.9992 - val_loss: 0.2784 - val_accuracy: 0.9823\n",
            "Epoch 79/100\n",
            "1875/1875 [==============================] - 4s 2ms/step - loss: 0.0042 - accuracy: 0.9989 - val_loss: 0.2421 - val_accuracy: 0.9837\n",
            "Epoch 80/100\n",
            "1875/1875 [==============================] - 4s 2ms/step - loss: 0.0045 - accuracy: 0.9992 - val_loss: 0.2645 - val_accuracy: 0.9833\n",
            "Epoch 81/100\n",
            "1875/1875 [==============================] - 4s 2ms/step - loss: 0.0043 - accuracy: 0.9994 - val_loss: 0.2957 - val_accuracy: 0.9829\n",
            "Epoch 82/100\n",
            "1875/1875 [==============================] - 4s 2ms/step - loss: 0.0045 - accuracy: 0.9992 - val_loss: 0.2780 - val_accuracy: 0.9834\n",
            "Epoch 83/100\n",
            "1875/1875 [==============================] - 4s 2ms/step - loss: 0.0022 - accuracy: 0.9995 - val_loss: 0.2694 - val_accuracy: 0.9843\n",
            "Epoch 84/100\n",
            "1875/1875 [==============================] - 4s 2ms/step - loss: 0.0042 - accuracy: 0.9993 - val_loss: 0.2803 - val_accuracy: 0.9844\n",
            "Epoch 85/100\n",
            "1875/1875 [==============================] - 4s 2ms/step - loss: 0.0041 - accuracy: 0.9995 - val_loss: 0.2822 - val_accuracy: 0.9832\n",
            "Epoch 86/100\n",
            "1875/1875 [==============================] - 4s 2ms/step - loss: 0.0056 - accuracy: 0.9992 - val_loss: 0.2923 - val_accuracy: 0.9831\n",
            "Epoch 87/100\n",
            "1875/1875 [==============================] - 4s 2ms/step - loss: 0.0012 - accuracy: 0.9998 - val_loss: 0.3034 - val_accuracy: 0.9833\n",
            "Epoch 88/100\n",
            "1875/1875 [==============================] - 4s 2ms/step - loss: 0.0054 - accuracy: 0.9991 - val_loss: 0.2948 - val_accuracy: 0.9817\n",
            "Epoch 89/100\n",
            "1875/1875 [==============================] - 4s 2ms/step - loss: 0.0043 - accuracy: 0.9992 - val_loss: 0.3217 - val_accuracy: 0.9791\n",
            "Epoch 90/100\n",
            "1875/1875 [==============================] - 4s 2ms/step - loss: 0.0033 - accuracy: 0.9993 - val_loss: 0.3141 - val_accuracy: 0.9821\n",
            "Epoch 91/100\n",
            "1875/1875 [==============================] - 4s 2ms/step - loss: 0.0031 - accuracy: 0.9994 - val_loss: 0.3319 - val_accuracy: 0.9820\n",
            "Epoch 92/100\n",
            "1875/1875 [==============================] - 4s 2ms/step - loss: 0.0050 - accuracy: 0.9991 - val_loss: 0.3235 - val_accuracy: 0.9818\n",
            "Epoch 93/100\n",
            "1875/1875 [==============================] - 4s 2ms/step - loss: 0.0040 - accuracy: 0.9993 - val_loss: 0.2983 - val_accuracy: 0.9819\n",
            "Epoch 94/100\n",
            "1875/1875 [==============================] - 4s 2ms/step - loss: 0.0033 - accuracy: 0.9994 - val_loss: 0.3375 - val_accuracy: 0.9818\n",
            "Epoch 95/100\n",
            "1875/1875 [==============================] - 5s 2ms/step - loss: 0.0039 - accuracy: 0.9994 - val_loss: 0.3332 - val_accuracy: 0.9818\n",
            "Epoch 96/100\n",
            "1875/1875 [==============================] - 5s 3ms/step - loss: 0.0018 - accuracy: 0.9997 - val_loss: 0.3087 - val_accuracy: 0.9839\n",
            "Epoch 97/100\n",
            "1875/1875 [==============================] - 4s 2ms/step - loss: 0.0035 - accuracy: 0.9995 - val_loss: 0.3039 - val_accuracy: 0.9846\n",
            "Epoch 98/100\n",
            "1875/1875 [==============================] - 4s 2ms/step - loss: 0.0051 - accuracy: 0.9990 - val_loss: 0.3399 - val_accuracy: 0.9834\n",
            "Epoch 99/100\n",
            "1875/1875 [==============================] - 5s 2ms/step - loss: 0.0040 - accuracy: 0.9992 - val_loss: 0.3220 - val_accuracy: 0.9852\n",
            "Epoch 100/100\n",
            "1875/1875 [==============================] - 4s 2ms/step - loss: 0.0033 - accuracy: 0.9995 - val_loss: 0.3337 - val_accuracy: 0.9836\n",
            "Baseline Error: 1.64%\n"
          ],
          "name": "stdout"
        }
      ]
    },
    {
      "cell_type": "code",
      "metadata": {
        "id": "cmXnvyHCDv-g",
        "colab": {
          "base_uri": "https://localhost:8080/",
          "height": 651
        },
        "outputId": "6567ec2e-c3f7-4f42-f12c-53a920095574"
      },
      "source": [
        "# INTERPRET \n",
        "# BUILD FUNCTION FOR PLOTTING THE RESULTS OF THE MODEL\n",
        "\n",
        "def plot_train_curve(history):\n",
        "    colors = ['#e66101','#fdb863','#b2abd2','#5e3c99']\n",
        "    accuracy = history.history['accuracy']\n",
        "    val_accuracy = history.history['val_accuracy']\n",
        "    loss = history.history['loss']\n",
        "    val_loss = history.history['val_loss']\n",
        "    epochs = range(len(accuracy))\n",
        "    with plt.style.context(\"ggplot\"):\n",
        "        plt.figure(figsize=(8, 8/1.618))\n",
        "        plt.plot(epochs, accuracy, marker='o', c=colors[3], label='Training accuracy')\n",
        "        plt.plot(epochs, val_accuracy, c=colors[0], label='Validation accuracy')\n",
        "        plt.title('Training and validation accuracy')\n",
        "        plt.legend()\n",
        "        plt.figure(figsize=(8, 8/1.618))\n",
        "        plt.plot(epochs, loss, marker='o', c=colors[3], label='Training loss')\n",
        "        plt.plot(epochs, val_loss, c=colors[0], label='Validation loss')\n",
        "        plt.title('Training and validation loss')\n",
        "        plt.legend()\n",
        "        plt.show()\n",
        "    \n",
        "plot_train_curve(history)"
      ],
      "execution_count": null,
      "outputs": [
        {
          "output_type": "display_data",
          "data": {
            "image/png": "[encoded data removed]",
            "text/plain": [
              "<Figure size 576x355.995 with 1 Axes>"
            ]
          },
          "metadata": {
            "tags": []
          }
        },
        {
          "output_type": "display_data",
          "data": {
            "image/png": "[encoded data removed]",
            "text/plain": [
              "<Figure size 576x355.995 with 1 Axes>"
            ]
          },
          "metadata": {
            "tags": []
          }
        }
      ]
    },
    {
      "cell_type": "markdown",
      "metadata": {
        "id": "Ti4jqs-TVn2u"
      },
      "source": [
        "Now let us explore if adding some layers to the model can we fix that weird validation line above?\n"
      ]
    },
    {
      "cell_type": "code",
      "metadata": {
        "id": "k4PqQO37V3mz"
      },
      "source": [
        "# MODEL - ADD DROPOUT LAYER\n",
        "\n",
        "def updated_model():\n",
        "    # create model\n",
        "    model = Sequential()\n",
        "    model.add(Dense(num_pixels, input_dim=num_pixels, kernel_initializer='normal', activation='relu'))\n",
        "    # DROPOUT LAYER - SHOULD REDUCE OVERFITTING\n",
        "    model.add(Dropout(0.15))\n",
        "    model.add(Dense(num_classes, kernel_initializer='normal', activation='softmax'))\n",
        "    # COMPILE MODEL\n",
        "    # OPTIMIZER - SGD\n",
        "    model.compile(loss='categorical_crossentropy', optimizer='sgd', metrics=['accuracy'])\n",
        "    return model"
      ],
      "execution_count": null,
      "outputs": []
    },
    {
      "cell_type": "code",
      "metadata": {
        "id": "w-6gJrsYW-gh",
        "colab": {
          "base_uri": "https://localhost:8080/",
          "height": 370
        },
        "outputId": "43265bb5-fe61-4bf9-d86f-5dc96eb369ab"
      },
      "source": [
        "# MODEL - FIT - https://keras.io/models/model/\n",
        "\n",
        "start = time.time()  # TRACK TIME\n",
        "\n",
        "model = updated_model()\n",
        "\n",
        "model.fit(X_train, y_train, validation_data=(X_test, y_test), epochs=10, batch_size=200, verbose=2)  \n",
        "\n",
        "# BATCH SIZE CAN HELP WITH MEMORY - HOWEVER SMALLER BATCH MIGHT REDUCE ACCURACY\n",
        "# NUMBER OF EPOCHS IS NUMBER OF TIMES THROUGH NETWORK   \n",
        "\n",
        "end = time.time()\n",
        "final_time = end-start\n",
        "print(final_time)  # RUN TIME OF BLOCK"
      ],
      "execution_count": null,
      "outputs": [
        {
          "output_type": "stream",
          "text": [
            "Epoch 1/10\n",
            "300/300 - 1s - loss: 1.2539 - accuracy: 0.6858 - val_loss: 0.7142 - val_accuracy: 0.8495\n",
            "Epoch 2/10\n",
            "300/300 - 1s - loss: 0.6320 - accuracy: 0.8477 - val_loss: 0.4997 - val_accuracy: 0.8804\n",
            "Epoch 3/10\n",
            "300/300 - 1s - loss: 0.4997 - accuracy: 0.8705 - val_loss: 0.4214 - val_accuracy: 0.8931\n",
            "Epoch 4/10\n",
            "300/300 - 1s - loss: 0.4393 - accuracy: 0.8815 - val_loss: 0.3796 - val_accuracy: 0.9006\n",
            "Epoch 5/10\n",
            "300/300 - 1s - loss: 0.4026 - accuracy: 0.8895 - val_loss: 0.3521 - val_accuracy: 0.9053\n",
            "Epoch 6/10\n",
            "300/300 - 1s - loss: 0.3773 - accuracy: 0.8958 - val_loss: 0.3322 - val_accuracy: 0.9097\n",
            "Epoch 7/10\n",
            "300/300 - 1s - loss: 0.3593 - accuracy: 0.8999 - val_loss: 0.3169 - val_accuracy: 0.9132\n",
            "Epoch 8/10\n",
            "300/300 - 1s - loss: 0.3442 - accuracy: 0.9031 - val_loss: 0.3056 - val_accuracy: 0.9160\n",
            "Epoch 9/10\n",
            "300/300 - 1s - loss: 0.3324 - accuracy: 0.9061 - val_loss: 0.2949 - val_accuracy: 0.9193\n",
            "Epoch 10/10\n",
            "300/300 - 1s - loss: 0.3209 - accuracy: 0.9092 - val_loss: 0.2860 - val_accuracy: 0.9212\n",
            "8.454988241195679\n"
          ],
          "name": "stdout"
        }
      ]
    },
    {
      "cell_type": "code",
      "metadata": {
        "id": "1LkvRAySZ850",
        "colab": {
          "base_uri": "https://localhost:8080/",
          "height": 269
        },
        "outputId": "25db2ad0-ed29-4850-9e96-1cea19ece244"
      },
      "source": [
        "# MODEL - TWO WAYS TO VISUALIZE\n",
        "\n",
        "# tf.keras.utils.plot_model(model, show_shapes=True)\n",
        "print(model.summary())\n",
        "\n",
        "# NOTICE NO CHANGE TO TOTAL NUMBER OF PARAMETERS"
      ],
      "execution_count": null,
      "outputs": [
        {
          "output_type": "stream",
          "text": [
            "Model: \"sequential_7\"\n",
            "_________________________________________________________________\n",
            "Layer (type)                 Output Shape              Param #   \n",
            "=================================================================\n",
            "dense_13 (Dense)             (None, 784)               615440    \n",
            "_________________________________________________________________\n",
            "dropout_4 (Dropout)          (None, 784)               0         \n",
            "_________________________________________________________________\n",
            "dense_14 (Dense)             (None, 10)                7850      \n",
            "=================================================================\n",
            "Total params: 623,290\n",
            "Trainable params: 623,290\n",
            "Non-trainable params: 0\n",
            "_________________________________________________________________\n",
            "None\n"
          ],
          "name": "stdout"
        }
      ]
    },
    {
      "cell_type": "code",
      "metadata": {
        "id": "IKJnrqMDaw0_",
        "colab": {
          "base_uri": "https://localhost:8080/",
          "height": 1000
        },
        "outputId": "6b17de5d-61d0-4b81-c725-b9ccf3e05130"
      },
      "source": [
        "# MODEL\n",
        "# RUN THE MODEL\n",
        "\n",
        "model = updated_model()\n",
        "\n",
        "# FIT THE MODEL\n",
        "# STORE THE MODEL RESULTS IN history TO USE FOR BUILDING ROC PLOT\n",
        "\n",
        "history  = model.fit(X_train, y_train, validation_data=(X_test, y_test), epochs=50)\n",
        "\n",
        "# EVALUATE THE MODEL\n",
        "scores = model.evaluate(X_test, y_test, verbose=0)\n",
        "print(\"Baseline Error: %.2f%%\" % (100-scores[1]*100))"
      ],
      "execution_count": null,
      "outputs": [
        {
          "output_type": "stream",
          "text": [
            "Epoch 1/50\n",
            "1875/1875 [==============================] - 4s 2ms/step - loss: 0.5944 - accuracy: 0.8456 - val_loss: 0.3345 - val_accuracy: 0.9087\n",
            "Epoch 2/50\n",
            "1875/1875 [==============================] - 4s 2ms/step - loss: 0.3291 - accuracy: 0.9074 - val_loss: 0.2744 - val_accuracy: 0.9227\n",
            "Epoch 3/50\n",
            "1875/1875 [==============================] - 4s 2ms/step - loss: 0.2783 - accuracy: 0.9206 - val_loss: 0.2380 - val_accuracy: 0.9338\n",
            "Epoch 4/50\n",
            "1875/1875 [==============================] - 4s 2ms/step - loss: 0.2447 - accuracy: 0.9309 - val_loss: 0.2143 - val_accuracy: 0.9411\n",
            "Epoch 5/50\n",
            "1875/1875 [==============================] - 4s 2ms/step - loss: 0.2218 - accuracy: 0.9374 - val_loss: 0.1946 - val_accuracy: 0.9463\n",
            "Epoch 6/50\n",
            "1875/1875 [==============================] - 4s 2ms/step - loss: 0.2004 - accuracy: 0.9434 - val_loss: 0.1808 - val_accuracy: 0.9490\n",
            "Epoch 7/50\n",
            "1875/1875 [==============================] - 4s 2ms/step - loss: 0.1854 - accuracy: 0.9483 - val_loss: 0.1680 - val_accuracy: 0.9529\n",
            "Epoch 8/50\n",
            "1875/1875 [==============================] - 4s 2ms/step - loss: 0.1710 - accuracy: 0.9521 - val_loss: 0.1576 - val_accuracy: 0.9562\n",
            "Epoch 9/50\n",
            "1875/1875 [==============================] - 4s 2ms/step - loss: 0.1602 - accuracy: 0.9549 - val_loss: 0.1486 - val_accuracy: 0.9587\n",
            "Epoch 10/50\n",
            "1875/1875 [==============================] - 4s 2ms/step - loss: 0.1491 - accuracy: 0.9589 - val_loss: 0.1397 - val_accuracy: 0.9601\n",
            "Epoch 11/50\n",
            "1875/1875 [==============================] - 4s 2ms/step - loss: 0.1415 - accuracy: 0.9602 - val_loss: 0.1344 - val_accuracy: 0.9608\n",
            "Epoch 12/50\n",
            "1875/1875 [==============================] - 4s 2ms/step - loss: 0.1330 - accuracy: 0.9635 - val_loss: 0.1282 - val_accuracy: 0.9643\n",
            "Epoch 13/50\n",
            "1875/1875 [==============================] - 4s 2ms/step - loss: 0.1264 - accuracy: 0.9651 - val_loss: 0.1220 - val_accuracy: 0.9654\n",
            "Epoch 14/50\n",
            "1875/1875 [==============================] - 4s 2ms/step - loss: 0.1201 - accuracy: 0.9669 - val_loss: 0.1179 - val_accuracy: 0.9666\n",
            "Epoch 15/50\n",
            "1875/1875 [==============================] - 4s 2ms/step - loss: 0.1157 - accuracy: 0.9676 - val_loss: 0.1136 - val_accuracy: 0.9677\n",
            "Epoch 16/50\n",
            "1875/1875 [==============================] - 4s 2ms/step - loss: 0.1095 - accuracy: 0.9693 - val_loss: 0.1098 - val_accuracy: 0.9682\n",
            "Epoch 17/50\n",
            "1875/1875 [==============================] - 4s 2ms/step - loss: 0.1049 - accuracy: 0.9718 - val_loss: 0.1074 - val_accuracy: 0.9687\n",
            "Epoch 18/50\n",
            "1875/1875 [==============================] - 4s 2ms/step - loss: 0.1004 - accuracy: 0.9720 - val_loss: 0.1037 - val_accuracy: 0.9704\n",
            "Epoch 19/50\n",
            "1875/1875 [==============================] - 4s 2ms/step - loss: 0.0976 - accuracy: 0.9730 - val_loss: 0.1004 - val_accuracy: 0.9709\n",
            "Epoch 20/50\n",
            "1875/1875 [==============================] - 4s 2ms/step - loss: 0.0931 - accuracy: 0.9747 - val_loss: 0.0973 - val_accuracy: 0.9719\n",
            "Epoch 21/50\n",
            "1875/1875 [==============================] - 4s 2ms/step - loss: 0.0896 - accuracy: 0.9758 - val_loss: 0.0957 - val_accuracy: 0.9721\n",
            "Epoch 22/50\n",
            "1875/1875 [==============================] - 4s 2ms/step - loss: 0.0864 - accuracy: 0.9762 - val_loss: 0.0943 - val_accuracy: 0.9737\n",
            "Epoch 23/50\n",
            "1875/1875 [==============================] - 4s 2ms/step - loss: 0.0834 - accuracy: 0.9771 - val_loss: 0.0918 - val_accuracy: 0.9730\n",
            "Epoch 24/50\n",
            "1875/1875 [==============================] - 4s 2ms/step - loss: 0.0814 - accuracy: 0.9772 - val_loss: 0.0896 - val_accuracy: 0.9737\n",
            "Epoch 25/50\n",
            "1875/1875 [==============================] - 4s 2ms/step - loss: 0.0779 - accuracy: 0.9783 - val_loss: 0.0883 - val_accuracy: 0.9740\n",
            "Epoch 26/50\n",
            "1875/1875 [==============================] - 4s 2ms/step - loss: 0.0758 - accuracy: 0.9794 - val_loss: 0.0864 - val_accuracy: 0.9748\n",
            "Epoch 27/50\n",
            "1875/1875 [==============================] - 4s 2ms/step - loss: 0.0735 - accuracy: 0.9804 - val_loss: 0.0849 - val_accuracy: 0.9752\n",
            "Epoch 28/50\n",
            "1875/1875 [==============================] - 4s 2ms/step - loss: 0.0711 - accuracy: 0.9808 - val_loss: 0.0837 - val_accuracy: 0.9750\n",
            "Epoch 29/50\n",
            "1875/1875 [==============================] - 4s 2ms/step - loss: 0.0691 - accuracy: 0.9810 - val_loss: 0.0827 - val_accuracy: 0.9753\n",
            "Epoch 30/50\n",
            "1875/1875 [==============================] - 4s 2ms/step - loss: 0.0676 - accuracy: 0.9819 - val_loss: 0.0816 - val_accuracy: 0.9762\n",
            "Epoch 31/50\n",
            "1875/1875 [==============================] - 4s 2ms/step - loss: 0.0655 - accuracy: 0.9822 - val_loss: 0.0804 - val_accuracy: 0.9767\n",
            "Epoch 32/50\n",
            "1875/1875 [==============================] - 4s 2ms/step - loss: 0.0637 - accuracy: 0.9829 - val_loss: 0.0789 - val_accuracy: 0.9770\n",
            "Epoch 33/50\n",
            "1875/1875 [==============================] - 4s 2ms/step - loss: 0.0625 - accuracy: 0.9827 - val_loss: 0.0782 - val_accuracy: 0.9773\n",
            "Epoch 34/50\n",
            "1875/1875 [==============================] - 4s 2ms/step - loss: 0.0601 - accuracy: 0.9834 - val_loss: 0.0774 - val_accuracy: 0.9774\n",
            "Epoch 35/50\n",
            "1875/1875 [==============================] - 4s 2ms/step - loss: 0.0589 - accuracy: 0.9840 - val_loss: 0.0763 - val_accuracy: 0.9773\n",
            "Epoch 36/50\n",
            "1875/1875 [==============================] - 4s 2ms/step - loss: 0.0578 - accuracy: 0.9843 - val_loss: 0.0754 - val_accuracy: 0.9779\n",
            "Epoch 37/50\n",
            "1875/1875 [==============================] - 4s 2ms/step - loss: 0.0561 - accuracy: 0.9847 - val_loss: 0.0748 - val_accuracy: 0.9775\n",
            "Epoch 38/50\n",
            "1875/1875 [==============================] - 4s 2ms/step - loss: 0.0547 - accuracy: 0.9851 - val_loss: 0.0738 - val_accuracy: 0.9779\n",
            "Epoch 39/50\n",
            "1875/1875 [==============================] - 4s 2ms/step - loss: 0.0536 - accuracy: 0.9859 - val_loss: 0.0737 - val_accuracy: 0.9783\n",
            "Epoch 40/50\n",
            "1875/1875 [==============================] - 4s 2ms/step - loss: 0.0521 - accuracy: 0.9862 - val_loss: 0.0735 - val_accuracy: 0.9778\n",
            "Epoch 41/50\n",
            "1875/1875 [==============================] - 4s 2ms/step - loss: 0.0507 - accuracy: 0.9866 - val_loss: 0.0731 - val_accuracy: 0.9776\n",
            "Epoch 42/50\n",
            "1875/1875 [==============================] - 4s 2ms/step - loss: 0.0496 - accuracy: 0.9869 - val_loss: 0.0717 - val_accuracy: 0.9782\n",
            "Epoch 43/50\n",
            "1875/1875 [==============================] - 4s 2ms/step - loss: 0.0487 - accuracy: 0.9872 - val_loss: 0.0718 - val_accuracy: 0.9779\n",
            "Epoch 44/50\n",
            "1875/1875 [==============================] - 4s 2ms/step - loss: 0.0476 - accuracy: 0.9876 - val_loss: 0.0704 - val_accuracy: 0.9788\n",
            "Epoch 45/50\n",
            "1875/1875 [==============================] - 4s 2ms/step - loss: 0.0463 - accuracy: 0.9882 - val_loss: 0.0701 - val_accuracy: 0.9786\n",
            "Epoch 46/50\n",
            "1875/1875 [==============================] - 4s 2ms/step - loss: 0.0451 - accuracy: 0.9882 - val_loss: 0.0696 - val_accuracy: 0.9786\n",
            "Epoch 47/50\n",
            "1875/1875 [==============================] - 4s 2ms/step - loss: 0.0452 - accuracy: 0.9882 - val_loss: 0.0691 - val_accuracy: 0.9784\n",
            "Epoch 48/50\n",
            "1875/1875 [==============================] - 4s 2ms/step - loss: 0.0440 - accuracy: 0.9881 - val_loss: 0.0686 - val_accuracy: 0.9788\n",
            "Epoch 49/50\n",
            "1875/1875 [==============================] - 4s 2ms/step - loss: 0.0436 - accuracy: 0.9889 - val_loss: 0.0676 - val_accuracy: 0.9800\n",
            "Epoch 50/50\n",
            "1875/1875 [==============================] - 4s 2ms/step - loss: 0.0421 - accuracy: 0.9889 - val_loss: 0.0672 - val_accuracy: 0.9789\n",
            "Baseline Error: 2.11%\n"
          ],
          "name": "stdout"
        }
      ]
    },
    {
      "cell_type": "code",
      "metadata": {
        "id": "_gBQbRnLbD7O",
        "colab": {
          "base_uri": "https://localhost:8080/",
          "height": 651
        },
        "outputId": "d34f6e95-9934-4be9-9a48-a2dbc8737243"
      },
      "source": [
        "# INTERPRET \n",
        "# DID ADDING DROPOUT FUNCTION HELP WITH OVERFITTING?\n",
        "\n",
        "def plot_train_curve(history):\n",
        "    colors = ['#e66101','#fdb863','#b2abd2','#5e3c99']\n",
        "    accuracy = history.history['accuracy']\n",
        "    val_accuracy = history.history['val_accuracy']\n",
        "    loss = history.history['loss']\n",
        "    val_loss = history.history['val_loss']\n",
        "    epochs = range(len(accuracy))\n",
        "    with plt.style.context(\"ggplot\"):\n",
        "        plt.figure(figsize=(8, 8/1.618))\n",
        "        plt.plot(epochs, accuracy, marker='o', c=colors[3], label='Training accuracy')\n",
        "        plt.plot(epochs, val_accuracy, c=colors[0], label='Validation accuracy')\n",
        "        plt.title('Training and validation accuracy')\n",
        "        plt.legend()\n",
        "        plt.figure(figsize=(8, 8/1.618))\n",
        "        plt.plot(epochs, loss, marker='o', c=colors[3], label='Training loss')\n",
        "        plt.plot(epochs, val_loss, c=colors[0], label='Validation loss')\n",
        "        plt.title('Training and validation loss')\n",
        "        plt.legend()\n",
        "        plt.show()\n",
        "    \n",
        "plot_train_curve(history)"
      ],
      "execution_count": null,
      "outputs": [
        {
          "output_type": "display_data",
          "data": {
            "image/png": "[encoded data removed]",
            "text/plain": [
              "<Figure size 576x355.995 with 1 Axes>"
            ]
          },
          "metadata": {
            "tags": []
          }
        },
        {
          "output_type": "display_data",
          "data": {
            "image/png": "[encoded data removed]",
            "text/plain": [
              "<Figure size 576x355.995 with 1 Axes>"
            ]
          },
          "metadata": {
            "tags": []
          }
        }
      ]
    }
  ]
}