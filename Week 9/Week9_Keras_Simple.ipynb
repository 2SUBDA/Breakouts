{
  "nbformat": 4,
  "nbformat_minor": 0,
  "metadata": {
    "colab": {
      "name": "Week9_Keras_Simple.ipynb",
      "provenance": [],
      "collapsed_sections": [],
      "include_colab_link": true
    },
    "kernelspec": {
      "name": "python3",
      "display_name": "Python 3"
    },
    "accelerator": "GPU"
  },
  "cells": [
    {
      "cell_type": "markdown",
      "metadata": {
        "id": "view-in-github",
        "colab_type": "text"
      },
      "source": [
        "<a href=\"https://colab.research.google.com/github/2SUBDA/Breakouts/blob/Week9/Week9_Keras_Simple.ipynb\" target=\"_parent\"><img src=\"https://colab.research.google.com/assets/colab-badge.svg\" alt=\"Open In Colab\"/></a>"
      ]
    },
    {
      "cell_type": "markdown",
      "source": [
        "Using Keras to build a \"simple\" dense neural network "
      ],
      "metadata": {
        "id": "mM_l65iYSaxd"
      }
    },
    {
      "cell_type": "code",
      "metadata": {
        "id": "B5Ke9u1U5ToR"
      },
      "source": [
        "# BASIC WALK THROUGH FOR MNIST NN\n",
        "# BASED ON TENSORFLOW TUTORIALS (2019)\n",
        "\n",
        "import tensorflow as tf\n",
        "from tensorflow import keras\n",
        "from tensorflow.keras.datasets import mnist\n",
        "from tensorflow.keras.models import Sequential\n",
        "from tensorflow.keras.layers import Dense\n",
        "from tensorflow.keras.layers import Dropout\n",
        "from tensorflow.keras.layers import Flatten\n",
        "from tensorflow.keras.layers import Conv2D\n",
        "from tensorflow.keras.layers import MaxPooling2D\n",
        "from tensorflow.keras import utils\n",
        "from tensorflow.keras import backend as K\n",
        "K.image_data_format()\n",
        "\n",
        "import matplotlib.pyplot as plt\n",
        "import time\n"
      ],
      "execution_count": 1,
      "outputs": []
    },
    {
      "cell_type": "code",
      "metadata": {
        "id": "70CoqaiePRXC",
        "colab": {
          "base_uri": "https://localhost:8080/"
        },
        "outputId": "a23c36bd-ee02-4e6a-df96-102eaaa9edee"
      },
      "source": [
        "# My test to make sure TF is working\n",
        "# Updated for TF 2 - Hat tip to @Casey Mok\n",
        "\n",
        "hello = tf.constant('Hello, TensorFlow!')\n",
        "tf.print(hello)\n"
      ],
      "execution_count": 2,
      "outputs": [
        {
          "output_type": "stream",
          "name": "stdout",
          "text": [
            "Hello, TensorFlow!\n"
          ]
        }
      ]
    },
    {
      "cell_type": "code",
      "metadata": {
        "id": "KuSKU2ojOXF-",
        "outputId": "3a01ce1e-f379-4428-f4fc-bf4961c8ea56",
        "colab": {
          "base_uri": "https://localhost:8080/"
        }
      },
      "source": [
        "# WHAT TYPE OF GPU ARE YOU USING\n",
        "!nvidia-smi"
      ],
      "execution_count": 3,
      "outputs": [
        {
          "output_type": "stream",
          "name": "stdout",
          "text": [
            "Thu Sep  1 23:07:56 2022       \n",
            "+-----------------------------------------------------------------------------+\n",
            "| NVIDIA-SMI 460.32.03    Driver Version: 460.32.03    CUDA Version: 11.2     |\n",
            "|-------------------------------+----------------------+----------------------+\n",
            "| GPU  Name        Persistence-M| Bus-Id        Disp.A | Volatile Uncorr. ECC |\n",
            "| Fan  Temp  Perf  Pwr:Usage/Cap|         Memory-Usage | GPU-Util  Compute M. |\n",
            "|                               |                      |               MIG M. |\n",
            "|===============================+======================+======================|\n",
            "|   0  Tesla P100-PCIE...  Off  | 00000000:00:04.0 Off |                    0 |\n",
            "| N/A   36C    P0    33W / 250W |    391MiB / 16280MiB |      0%      Default |\n",
            "|                               |                      |                  N/A |\n",
            "+-------------------------------+----------------------+----------------------+\n",
            "                                                                               \n",
            "+-----------------------------------------------------------------------------+\n",
            "| Processes:                                                                  |\n",
            "|  GPU   GI   CI        PID   Type   Process name                  GPU Memory |\n",
            "|        ID   ID                                                   Usage      |\n",
            "|=============================================================================|\n",
            "+-----------------------------------------------------------------------------+\n"
          ]
        }
      ]
    },
    {
      "cell_type": "code",
      "metadata": {
        "id": "rk96egzq7HQQ",
        "colab": {
          "base_uri": "https://localhost:8080/"
        },
        "outputId": "ef1140e4-80c4-4ad0-eff4-156507a115bb"
      },
      "source": [
        "# OBTAIN - THERE ARE MANY WAYS TO OBTAIN MNIST - THIS IS ONE\n",
        "\n",
        "(X_train, y_train), (X_test, y_test) = mnist.load_data()\n",
        "\n",
        "print('Rows: %d, columns: %d' % (X_train.shape[0], X_train.shape[1]))\n",
        "\n",
        "print('Rows: %d, columns: %d' % (X_test.shape[0], X_test.shape[1]))\n",
        "\n",
        "print(X_train.shape)"
      ],
      "execution_count": 17,
      "outputs": [
        {
          "output_type": "stream",
          "name": "stdout",
          "text": [
            "Rows: 60000, columns: 28\n",
            "Rows: 10000, columns: 28\n",
            "(60000, 28, 28)\n"
          ]
        }
      ]
    },
    {
      "cell_type": "code",
      "metadata": {
        "id": "OXtHgiISDh65",
        "colab": {
          "base_uri": "https://localhost:8080/",
          "height": 297
        },
        "outputId": "da45f7c2-5c78-4926-9e3f-b44edb333c49"
      },
      "source": [
        "# EXPLORE - VISUALIZE DIFFERENT VARIATIONS OF 5\n",
        "\n",
        "fig, ax = plt.subplots(nrows=5, ncols=5, sharex=True, sharey=True,)\n",
        "ax = ax.flatten()\n",
        "for i in range(25):\n",
        "    img = X_train[y_train == 5][i].reshape(28, 28)\n",
        "    ax[i].imshow(img, cmap='Greys', interpolation='nearest')\n",
        "\n",
        "ax[0].set_xticks([])\n",
        "ax[0].set_yticks([])\n",
        "plt.tight_layout()"
      ],
      "execution_count": 18,
      "outputs": [
        {
          "output_type": "display_data",
          "data": {
            "text/plain": [
              "<Figure size 432x288 with 25 Axes>"
            ],
            "image/png": "[encoded data removed]"
          },
          "metadata": {}
        }
      ]
    },
    {
      "cell_type": "code",
      "metadata": {
        "id": "STm-WioIDfNS",
        "outputId": "90128925-680e-446f-96d5-2d872db7a0ea",
        "colab": {
          "base_uri": "https://localhost:8080/"
        }
      },
      "source": [
        "# SCRUB - FLATTENING FROM 28 x 28 TO 784\n",
        "# THERE ARE MANY WAYS TO RESHAPE - THIS IS ONE\n",
        "\n",
        "num_pixels = X_train.shape[1] * X_train.shape[2]\n",
        "X_train = X_train.reshape(X_train.shape[0], num_pixels).astype('float32')\n",
        "X_test = X_test.reshape(X_test.shape[0], num_pixels).astype('float32')\n",
        "\n",
        "print(X_train.shape)\n"
      ],
      "execution_count": 19,
      "outputs": [
        {
          "output_type": "stream",
          "name": "stdout",
          "text": [
            "(60000, 784)\n"
          ]
        }
      ]
    },
    {
      "cell_type": "code",
      "metadata": {
        "id": "EzS0FG8NGxto"
      },
      "source": [
        "# SCRUB - NORMALIZE INTENSITY VALUE\n",
        "\n",
        "X_train = X_train / 255\n",
        "X_test = X_test / 255"
      ],
      "execution_count": 20,
      "outputs": []
    },
    {
      "cell_type": "code",
      "metadata": {
        "id": "RnczHRZcG6ba"
      },
      "source": [
        "# SCRUB - ENCODE FOR LABEL\n",
        "\n",
        "y_train = utils.to_categorical(y_train)\n",
        "y_test = utils.to_categorical(y_test)\n",
        "num_classes = y_test.shape[1]"
      ],
      "execution_count": 21,
      "outputs": []
    },
    {
      "cell_type": "code",
      "metadata": {
        "id": "Y5XfBGYtDoqA"
      },
      "source": [
        "# MODEL - BUILD THE BASELINE\n",
        "\n",
        "def baseline_model():\n",
        "    # create model\n",
        "    model = Sequential()\n",
        "    model.add(Dense(num_pixels, input_dim=num_pixels, kernel_initializer='normal', activation='relu'))\n",
        "    model.add(Dense(num_classes, kernel_initializer='normal', activation='softmax'))\n",
        "    # Compile model\n",
        "    model.compile(loss='categorical_crossentropy', optimizer='adam', metrics=['accuracy'])\n",
        "    return model\n"
      ],
      "execution_count": 22,
      "outputs": []
    },
    {
      "cell_type": "markdown",
      "metadata": {
        "id": "hmzpeon4OMwk"
      },
      "source": [
        "The following code actually runs the model - notice small number of epochs & lack of auto-stopping rule!\n",
        "\n",
        "NOTE:  This is where the GPU comes in handy - running on CPU will take about 40 seconds - not bad but switching the runtime to GPU should bring the runtime down to ~ 15 secs!"
      ]
    },
    {
      "cell_type": "code",
      "metadata": {
        "id": "HzyhYCN02_2V",
        "colab": {
          "base_uri": "https://localhost:8080/"
        },
        "outputId": "f3e58109-6f87-4001-b368-898f19e62ad6"
      },
      "source": [
        "# MODEL - FIT THE BASE MODEL\n",
        "\n",
        "start = time.time()  # TRACK TIME\n",
        "\n",
        "model = baseline_model()\n",
        "model.fit(X_train, y_train, validation_data=(X_test, y_test), epochs=10, batch_size=200, verbose=2)\n",
        "\n",
        "# MODEL - RESULTS\n",
        "\n",
        "scores = model.evaluate(X_test, y_test, verbose=0)\n",
        "print(\"Baseline Error: %.2f%%\" % (100-scores[1]*100))\n",
        "\n",
        "end = time.time()\n",
        "final_time = end-start\n",
        "print(final_time)  # RUN TIME OF BLOCK"
      ],
      "execution_count": 23,
      "outputs": [
        {
          "output_type": "stream",
          "name": "stdout",
          "text": [
            "Epoch 1/10\n",
            "300/300 - 3s - loss: 0.2800 - accuracy: 0.9202 - val_loss: 0.1351 - val_accuracy: 0.9599 - 3s/epoch - 11ms/step\n",
            "Epoch 2/10\n",
            "300/300 - 1s - loss: 0.1103 - accuracy: 0.9681 - val_loss: 0.0935 - val_accuracy: 0.9716 - 736ms/epoch - 2ms/step\n",
            "Epoch 3/10\n",
            "300/300 - 1s - loss: 0.0708 - accuracy: 0.9796 - val_loss: 0.0770 - val_accuracy: 0.9754 - 725ms/epoch - 2ms/step\n",
            "Epoch 4/10\n",
            "300/300 - 1s - loss: 0.0492 - accuracy: 0.9860 - val_loss: 0.0737 - val_accuracy: 0.9768 - 710ms/epoch - 2ms/step\n",
            "Epoch 5/10\n",
            "300/300 - 1s - loss: 0.0360 - accuracy: 0.9897 - val_loss: 0.0672 - val_accuracy: 0.9779 - 657ms/epoch - 2ms/step\n",
            "Epoch 6/10\n",
            "300/300 - 1s - loss: 0.0262 - accuracy: 0.9934 - val_loss: 0.0562 - val_accuracy: 0.9824 - 646ms/epoch - 2ms/step\n",
            "Epoch 7/10\n",
            "300/300 - 1s - loss: 0.0196 - accuracy: 0.9952 - val_loss: 0.0643 - val_accuracy: 0.9799 - 684ms/epoch - 2ms/step\n",
            "Epoch 8/10\n",
            "300/300 - 1s - loss: 0.0151 - accuracy: 0.9965 - val_loss: 0.0572 - val_accuracy: 0.9820 - 664ms/epoch - 2ms/step\n",
            "Epoch 9/10\n",
            "300/300 - 1s - loss: 0.0104 - accuracy: 0.9979 - val_loss: 0.0623 - val_accuracy: 0.9820 - 725ms/epoch - 2ms/step\n",
            "Epoch 10/10\n",
            "300/300 - 1s - loss: 0.0088 - accuracy: 0.9982 - val_loss: 0.0667 - val_accuracy: 0.9805 - 711ms/epoch - 2ms/step\n",
            "Baseline Error: 1.95%\n",
            "12.485929489135742\n"
          ]
        }
      ]
    },
    {
      "cell_type": "code",
      "metadata": {
        "id": "XVw-Fnx3S-Li",
        "colab": {
          "base_uri": "https://localhost:8080/"
        },
        "outputId": "ad4a1730-1210-4fa7-894e-81f3d5829bd2"
      },
      "source": [
        "# MODEL - TWO WAYS TO VISUALIZE\n",
        "\n",
        "# tf.keras.utils.plot_model(model, show_shapes=True)\n",
        "print(model.summary())"
      ],
      "execution_count": 24,
      "outputs": [
        {
          "output_type": "stream",
          "name": "stdout",
          "text": [
            "Model: \"sequential\"\n",
            "_________________________________________________________________\n",
            " Layer (type)                Output Shape              Param #   \n",
            "=================================================================\n",
            " dense (Dense)               (None, 784)               615440    \n",
            "                                                                 \n",
            " dense_1 (Dense)             (None, 10)                7850      \n",
            "                                                                 \n",
            "=================================================================\n",
            "Total params: 623,290\n",
            "Trainable params: 623,290\n",
            "Non-trainable params: 0\n",
            "_________________________________________________________________\n",
            "None\n"
          ]
        }
      ]
    },
    {
      "cell_type": "code",
      "metadata": {
        "id": "_Df2GIr4DrTy",
        "colab": {
          "base_uri": "https://localhost:8080/"
        },
        "outputId": "204095d9-5a20-4c06-c324-9f945f561357"
      },
      "source": [
        "# MODEL\n",
        "# RUN THE MODEL\n",
        "\n",
        "model = baseline_model()\n",
        "\n",
        "# FIT THE MODEL\n",
        "# STORE THE MODEL RESULTS IN history TO USE FOR BUILDING ROC PLOT\n",
        "\n",
        "history  = model.fit(X_train, y_train, validation_data=(X_test, y_test), epochs=100)\n",
        "\n",
        "# EVALUATE THE MODEL\n",
        "scores = model.evaluate(X_test, y_test, verbose=0)\n",
        "print(\"Baseline Error: %.2f%%\" % (100-scores[1]*100))"
      ],
      "execution_count": 25,
      "outputs": [
        {
          "output_type": "stream",
          "name": "stdout",
          "text": [
            "Epoch 1/100\n",
            "1875/1875 [==============================] - 5s 2ms/step - loss: 0.1903 - accuracy: 0.9428 - val_loss: 0.1138 - val_accuracy: 0.9642\n",
            "Epoch 2/100\n",
            "1875/1875 [==============================] - 5s 2ms/step - loss: 0.0739 - accuracy: 0.9776 - val_loss: 0.0740 - val_accuracy: 0.9772\n",
            "Epoch 3/100\n",
            "1875/1875 [==============================] - 4s 2ms/step - loss: 0.0491 - accuracy: 0.9848 - val_loss: 0.0745 - val_accuracy: 0.9762\n",
            "Epoch 4/100\n",
            "1875/1875 [==============================] - 5s 2ms/step - loss: 0.0342 - accuracy: 0.9892 - val_loss: 0.0794 - val_accuracy: 0.9771\n",
            "Epoch 5/100\n",
            "1875/1875 [==============================] - 4s 2ms/step - loss: 0.0258 - accuracy: 0.9919 - val_loss: 0.0664 - val_accuracy: 0.9813\n",
            "Epoch 6/100\n",
            "1875/1875 [==============================] - 5s 3ms/step - loss: 0.0211 - accuracy: 0.9930 - val_loss: 0.0717 - val_accuracy: 0.9800\n",
            "Epoch 7/100\n",
            "1875/1875 [==============================] - 4s 2ms/step - loss: 0.0155 - accuracy: 0.9948 - val_loss: 0.0687 - val_accuracy: 0.9830\n",
            "Epoch 8/100\n",
            "1875/1875 [==============================] - 5s 2ms/step - loss: 0.0136 - accuracy: 0.9956 - val_loss: 0.0702 - val_accuracy: 0.9813\n",
            "Epoch 9/100\n",
            "1875/1875 [==============================] - 4s 2ms/step - loss: 0.0112 - accuracy: 0.9965 - val_loss: 0.0858 - val_accuracy: 0.9819\n",
            "Epoch 10/100\n",
            "1875/1875 [==============================] - 5s 2ms/step - loss: 0.0126 - accuracy: 0.9958 - val_loss: 0.0695 - val_accuracy: 0.9834\n",
            "Epoch 11/100\n",
            "1875/1875 [==============================] - 5s 2ms/step - loss: 0.0089 - accuracy: 0.9970 - val_loss: 0.0807 - val_accuracy: 0.9828\n",
            "Epoch 12/100\n",
            "1875/1875 [==============================] - 4s 2ms/step - loss: 0.0087 - accuracy: 0.9973 - val_loss: 0.0858 - val_accuracy: 0.9824\n",
            "Epoch 13/100\n",
            "1875/1875 [==============================] - 5s 2ms/step - loss: 0.0087 - accuracy: 0.9971 - val_loss: 0.1014 - val_accuracy: 0.9807\n",
            "Epoch 14/100\n",
            "1875/1875 [==============================] - 5s 2ms/step - loss: 0.0086 - accuracy: 0.9970 - val_loss: 0.1032 - val_accuracy: 0.9804\n",
            "Epoch 15/100\n",
            "1875/1875 [==============================] - 5s 2ms/step - loss: 0.0072 - accuracy: 0.9977 - val_loss: 0.0941 - val_accuracy: 0.9846\n",
            "Epoch 16/100\n",
            "1875/1875 [==============================] - 4s 2ms/step - loss: 0.0072 - accuracy: 0.9974 - val_loss: 0.1064 - val_accuracy: 0.9817\n",
            "Epoch 17/100\n",
            "1875/1875 [==============================] - 4s 2ms/step - loss: 0.0076 - accuracy: 0.9977 - val_loss: 0.1228 - val_accuracy: 0.9792\n",
            "Epoch 18/100\n",
            "1875/1875 [==============================] - 5s 2ms/step - loss: 0.0073 - accuracy: 0.9975 - val_loss: 0.1043 - val_accuracy: 0.9836\n",
            "Epoch 19/100\n",
            "1875/1875 [==============================] - 5s 2ms/step - loss: 0.0067 - accuracy: 0.9979 - val_loss: 0.1000 - val_accuracy: 0.9842\n",
            "Epoch 20/100\n",
            "1875/1875 [==============================] - 5s 2ms/step - loss: 0.0068 - accuracy: 0.9980 - val_loss: 0.1442 - val_accuracy: 0.9794\n",
            "Epoch 21/100\n",
            "1875/1875 [==============================] - 5s 2ms/step - loss: 0.0076 - accuracy: 0.9977 - val_loss: 0.1140 - val_accuracy: 0.9841\n",
            "Epoch 22/100\n",
            "1875/1875 [==============================] - 5s 2ms/step - loss: 0.0040 - accuracy: 0.9988 - val_loss: 0.1518 - val_accuracy: 0.9793\n",
            "Epoch 23/100\n",
            "1875/1875 [==============================] - 5s 2ms/step - loss: 0.0075 - accuracy: 0.9978 - val_loss: 0.1329 - val_accuracy: 0.9825\n",
            "Epoch 24/100\n",
            "1875/1875 [==============================] - 5s 2ms/step - loss: 0.0065 - accuracy: 0.9980 - val_loss: 0.1266 - val_accuracy: 0.9826\n",
            "Epoch 25/100\n",
            "1875/1875 [==============================] - 5s 2ms/step - loss: 0.0064 - accuracy: 0.9980 - val_loss: 0.1314 - val_accuracy: 0.9834\n",
            "Epoch 26/100\n",
            "1875/1875 [==============================] - 5s 3ms/step - loss: 0.0072 - accuracy: 0.9978 - val_loss: 0.1415 - val_accuracy: 0.9812\n",
            "Epoch 27/100\n",
            "1875/1875 [==============================] - 5s 3ms/step - loss: 0.0040 - accuracy: 0.9988 - val_loss: 0.1177 - val_accuracy: 0.9852\n",
            "Epoch 28/100\n",
            "1875/1875 [==============================] - 5s 2ms/step - loss: 0.0071 - accuracy: 0.9979 - val_loss: 0.1468 - val_accuracy: 0.9806\n",
            "Epoch 29/100\n",
            "1875/1875 [==============================] - 5s 2ms/step - loss: 0.0050 - accuracy: 0.9985 - val_loss: 0.1336 - val_accuracy: 0.9834\n",
            "Epoch 30/100\n",
            "1875/1875 [==============================] - 5s 2ms/step - loss: 0.0046 - accuracy: 0.9988 - val_loss: 0.1482 - val_accuracy: 0.9816\n",
            "Epoch 31/100\n",
            "1875/1875 [==============================] - 5s 2ms/step - loss: 0.0068 - accuracy: 0.9981 - val_loss: 0.1547 - val_accuracy: 0.9828\n",
            "Epoch 32/100\n",
            "1875/1875 [==============================] - 5s 2ms/step - loss: 0.0040 - accuracy: 0.9988 - val_loss: 0.1571 - val_accuracy: 0.9820\n",
            "Epoch 33/100\n",
            "1875/1875 [==============================] - 5s 2ms/step - loss: 0.0047 - accuracy: 0.9987 - val_loss: 0.1748 - val_accuracy: 0.9816\n",
            "Epoch 34/100\n",
            "1875/1875 [==============================] - 5s 2ms/step - loss: 0.0039 - accuracy: 0.9991 - val_loss: 0.1640 - val_accuracy: 0.9822\n",
            "Epoch 35/100\n",
            "1875/1875 [==============================] - 5s 2ms/step - loss: 0.0058 - accuracy: 0.9983 - val_loss: 0.1528 - val_accuracy: 0.9825\n",
            "Epoch 36/100\n",
            "1875/1875 [==============================] - 5s 2ms/step - loss: 0.0041 - accuracy: 0.9992 - val_loss: 0.1605 - val_accuracy: 0.9805\n",
            "Epoch 37/100\n",
            "1875/1875 [==============================] - 5s 2ms/step - loss: 0.0062 - accuracy: 0.9983 - val_loss: 0.1859 - val_accuracy: 0.9803\n",
            "Epoch 38/100\n",
            "1875/1875 [==============================] - 5s 2ms/step - loss: 0.0038 - accuracy: 0.9989 - val_loss: 0.1744 - val_accuracy: 0.9820\n",
            "Epoch 39/100\n",
            "1875/1875 [==============================] - 5s 2ms/step - loss: 0.0031 - accuracy: 0.9991 - val_loss: 0.1806 - val_accuracy: 0.9827\n",
            "Epoch 40/100\n",
            "1875/1875 [==============================] - 5s 2ms/step - loss: 0.0065 - accuracy: 0.9984 - val_loss: 0.1770 - val_accuracy: 0.9817\n",
            "Epoch 41/100\n",
            "1875/1875 [==============================] - 4s 2ms/step - loss: 0.0054 - accuracy: 0.9987 - val_loss: 0.2140 - val_accuracy: 0.9805\n",
            "Epoch 42/100\n",
            "1875/1875 [==============================] - 5s 2ms/step - loss: 0.0034 - accuracy: 0.9991 - val_loss: 0.1947 - val_accuracy: 0.9820\n",
            "Epoch 43/100\n",
            "1875/1875 [==============================] - 4s 2ms/step - loss: 0.0054 - accuracy: 0.9987 - val_loss: 0.1580 - val_accuracy: 0.9837\n",
            "Epoch 44/100\n",
            "1875/1875 [==============================] - 5s 2ms/step - loss: 0.0049 - accuracy: 0.9987 - val_loss: 0.1752 - val_accuracy: 0.9833\n",
            "Epoch 45/100\n",
            "1875/1875 [==============================] - 5s 2ms/step - loss: 0.0047 - accuracy: 0.9988 - val_loss: 0.1909 - val_accuracy: 0.9837\n",
            "Epoch 46/100\n",
            "1875/1875 [==============================] - 5s 2ms/step - loss: 0.0041 - accuracy: 0.9990 - val_loss: 0.1959 - val_accuracy: 0.9829\n",
            "Epoch 47/100\n",
            "1875/1875 [==============================] - 5s 3ms/step - loss: 0.0037 - accuracy: 0.9990 - val_loss: 0.2098 - val_accuracy: 0.9813\n",
            "Epoch 48/100\n",
            "1875/1875 [==============================] - 5s 2ms/step - loss: 0.0025 - accuracy: 0.9992 - val_loss: 0.2453 - val_accuracy: 0.9777\n",
            "Epoch 49/100\n",
            "1875/1875 [==============================] - 5s 2ms/step - loss: 0.0037 - accuracy: 0.9991 - val_loss: 0.2213 - val_accuracy: 0.9809\n",
            "Epoch 50/100\n",
            "1875/1875 [==============================] - 5s 2ms/step - loss: 0.0055 - accuracy: 0.9988 - val_loss: 0.1781 - val_accuracy: 0.9839\n",
            "Epoch 51/100\n",
            "1875/1875 [==============================] - 5s 3ms/step - loss: 0.0038 - accuracy: 0.9991 - val_loss: 0.2085 - val_accuracy: 0.9809\n",
            "Epoch 52/100\n",
            "1875/1875 [==============================] - 5s 2ms/step - loss: 0.0042 - accuracy: 0.9987 - val_loss: 0.2065 - val_accuracy: 0.9816\n",
            "Epoch 53/100\n",
            "1875/1875 [==============================] - 5s 2ms/step - loss: 0.0042 - accuracy: 0.9991 - val_loss: 0.2097 - val_accuracy: 0.9809\n",
            "Epoch 54/100\n",
            "1875/1875 [==============================] - 5s 2ms/step - loss: 0.0028 - accuracy: 0.9994 - val_loss: 0.1845 - val_accuracy: 0.9838\n",
            "Epoch 55/100\n",
            "1875/1875 [==============================] - 5s 2ms/step - loss: 0.0041 - accuracy: 0.9992 - val_loss: 0.2241 - val_accuracy: 0.9806\n",
            "Epoch 56/100\n",
            "1875/1875 [==============================] - 5s 2ms/step - loss: 0.0035 - accuracy: 0.9992 - val_loss: 0.2061 - val_accuracy: 0.9837\n",
            "Epoch 57/100\n",
            "1875/1875 [==============================] - 5s 2ms/step - loss: 0.0038 - accuracy: 0.9990 - val_loss: 0.2194 - val_accuracy: 0.9843\n",
            "Epoch 58/100\n",
            "1875/1875 [==============================] - 5s 2ms/step - loss: 0.0038 - accuracy: 0.9992 - val_loss: 0.2416 - val_accuracy: 0.9820\n",
            "Epoch 59/100\n",
            "1875/1875 [==============================] - 5s 2ms/step - loss: 0.0025 - accuracy: 0.9995 - val_loss: 0.2231 - val_accuracy: 0.9842\n",
            "Epoch 60/100\n",
            "1875/1875 [==============================] - 5s 2ms/step - loss: 0.0053 - accuracy: 0.9988 - val_loss: 0.2232 - val_accuracy: 0.9819\n",
            "Epoch 61/100\n",
            "1875/1875 [==============================] - 4s 2ms/step - loss: 0.0034 - accuracy: 0.9994 - val_loss: 0.1935 - val_accuracy: 0.9840\n",
            "Epoch 62/100\n",
            "1875/1875 [==============================] - 5s 2ms/step - loss: 0.0053 - accuracy: 0.9991 - val_loss: 0.2409 - val_accuracy: 0.9816\n",
            "Epoch 63/100\n",
            "1875/1875 [==============================] - 5s 2ms/step - loss: 0.0038 - accuracy: 0.9990 - val_loss: 0.2169 - val_accuracy: 0.9827\n",
            "Epoch 64/100\n",
            "1875/1875 [==============================] - 5s 3ms/step - loss: 0.0036 - accuracy: 0.9993 - val_loss: 0.2308 - val_accuracy: 0.9828\n",
            "Epoch 65/100\n",
            "1875/1875 [==============================] - 5s 2ms/step - loss: 0.0011 - accuracy: 0.9998 - val_loss: 0.2200 - val_accuracy: 0.9836\n",
            "Epoch 66/100\n",
            "1875/1875 [==============================] - 5s 2ms/step - loss: 0.0058 - accuracy: 0.9990 - val_loss: 0.2826 - val_accuracy: 0.9804\n",
            "Epoch 67/100\n",
            "1875/1875 [==============================] - 5s 3ms/step - loss: 0.0040 - accuracy: 0.9991 - val_loss: 0.2672 - val_accuracy: 0.9808\n",
            "Epoch 68/100\n",
            "1875/1875 [==============================] - 5s 2ms/step - loss: 0.0053 - accuracy: 0.9988 - val_loss: 0.2369 - val_accuracy: 0.9817\n",
            "Epoch 69/100\n",
            "1875/1875 [==============================] - 5s 2ms/step - loss: 0.0029 - accuracy: 0.9993 - val_loss: 0.2371 - val_accuracy: 0.9833\n",
            "Epoch 70/100\n",
            "1875/1875 [==============================] - 5s 2ms/step - loss: 0.0028 - accuracy: 0.9992 - val_loss: 0.2585 - val_accuracy: 0.9823\n",
            "Epoch 71/100\n",
            "1875/1875 [==============================] - 5s 2ms/step - loss: 0.0038 - accuracy: 0.9992 - val_loss: 0.2502 - val_accuracy: 0.9822\n",
            "Epoch 72/100\n",
            "1875/1875 [==============================] - 5s 2ms/step - loss: 0.0033 - accuracy: 0.9995 - val_loss: 0.2354 - val_accuracy: 0.9834\n",
            "Epoch 73/100\n",
            "1875/1875 [==============================] - 5s 2ms/step - loss: 0.0038 - accuracy: 0.9993 - val_loss: 0.2876 - val_accuracy: 0.9811\n",
            "Epoch 74/100\n",
            "1875/1875 [==============================] - 5s 2ms/step - loss: 0.0018 - accuracy: 0.9996 - val_loss: 0.2572 - val_accuracy: 0.9835\n",
            "Epoch 75/100\n",
            "1875/1875 [==============================] - 5s 2ms/step - loss: 0.0067 - accuracy: 0.9986 - val_loss: 0.2697 - val_accuracy: 0.9827\n",
            "Epoch 76/100\n",
            "1875/1875 [==============================] - 5s 2ms/step - loss: 0.0018 - accuracy: 0.9996 - val_loss: 0.2625 - val_accuracy: 0.9832\n",
            "Epoch 77/100\n",
            "1875/1875 [==============================] - 5s 2ms/step - loss: 0.0044 - accuracy: 0.9991 - val_loss: 0.2839 - val_accuracy: 0.9819\n",
            "Epoch 78/100\n",
            "1875/1875 [==============================] - 5s 2ms/step - loss: 0.0048 - accuracy: 0.9992 - val_loss: 0.2836 - val_accuracy: 0.9815\n",
            "Epoch 79/100\n",
            "1875/1875 [==============================] - 5s 2ms/step - loss: 0.0031 - accuracy: 0.9993 - val_loss: 0.2470 - val_accuracy: 0.9841\n",
            "Epoch 80/100\n",
            "1875/1875 [==============================] - 5s 2ms/step - loss: 0.0036 - accuracy: 0.9993 - val_loss: 0.2787 - val_accuracy: 0.9831\n",
            "Epoch 81/100\n",
            "1875/1875 [==============================] - 5s 2ms/step - loss: 0.0048 - accuracy: 0.9990 - val_loss: 0.2726 - val_accuracy: 0.9828\n",
            "Epoch 82/100\n",
            "1875/1875 [==============================] - 5s 2ms/step - loss: 0.0033 - accuracy: 0.9993 - val_loss: 0.2802 - val_accuracy: 0.9836\n",
            "Epoch 83/100\n",
            "1875/1875 [==============================] - 5s 2ms/step - loss: 0.0033 - accuracy: 0.9994 - val_loss: 0.2713 - val_accuracy: 0.9846\n",
            "Epoch 84/100\n",
            "1875/1875 [==============================] - 5s 2ms/step - loss: 0.0026 - accuracy: 0.9995 - val_loss: 0.2883 - val_accuracy: 0.9844\n",
            "Epoch 85/100\n",
            "1875/1875 [==============================] - 5s 2ms/step - loss: 0.0013 - accuracy: 0.9998 - val_loss: 0.2848 - val_accuracy: 0.9832\n",
            "Epoch 86/100\n",
            "1875/1875 [==============================] - 5s 2ms/step - loss: 0.0031 - accuracy: 0.9994 - val_loss: 0.3210 - val_accuracy: 0.9822\n",
            "Epoch 87/100\n",
            "1875/1875 [==============================] - 5s 3ms/step - loss: 0.0049 - accuracy: 0.9992 - val_loss: 0.2866 - val_accuracy: 0.9826\n",
            "Epoch 88/100\n",
            "1875/1875 [==============================] - 5s 3ms/step - loss: 0.0041 - accuracy: 0.9992 - val_loss: 0.3112 - val_accuracy: 0.9814\n",
            "Epoch 89/100\n",
            "1875/1875 [==============================] - 5s 2ms/step - loss: 0.0034 - accuracy: 0.9993 - val_loss: 0.2653 - val_accuracy: 0.9842\n",
            "Epoch 90/100\n",
            "1875/1875 [==============================] - 5s 2ms/step - loss: 0.0015 - accuracy: 0.9997 - val_loss: 0.2852 - val_accuracy: 0.9840\n",
            "Epoch 91/100\n",
            "1875/1875 [==============================] - 5s 2ms/step - loss: 0.0029 - accuracy: 0.9995 - val_loss: 0.2853 - val_accuracy: 0.9837\n",
            "Epoch 92/100\n",
            "1875/1875 [==============================] - 5s 2ms/step - loss: 0.0024 - accuracy: 0.9995 - val_loss: 0.2777 - val_accuracy: 0.9846\n",
            "Epoch 93/100\n",
            "1875/1875 [==============================] - 5s 2ms/step - loss: 0.0031 - accuracy: 0.9995 - val_loss: 0.2983 - val_accuracy: 0.9818\n",
            "Epoch 94/100\n",
            "1875/1875 [==============================] - 5s 2ms/step - loss: 0.0051 - accuracy: 0.9991 - val_loss: 0.2980 - val_accuracy: 0.9838\n",
            "Epoch 95/100\n",
            "1875/1875 [==============================] - 5s 2ms/step - loss: 0.0028 - accuracy: 0.9994 - val_loss: 0.3144 - val_accuracy: 0.9841\n",
            "Epoch 96/100\n",
            "1875/1875 [==============================] - 5s 2ms/step - loss: 0.0026 - accuracy: 0.9995 - val_loss: 0.3133 - val_accuracy: 0.9830\n",
            "Epoch 97/100\n",
            "1875/1875 [==============================] - 8s 4ms/step - loss: 0.0045 - accuracy: 0.9992 - val_loss: 0.2944 - val_accuracy: 0.9844\n",
            "Epoch 98/100\n",
            "1875/1875 [==============================] - 5s 3ms/step - loss: 0.0022 - accuracy: 0.9997 - val_loss: 0.3516 - val_accuracy: 0.9829\n",
            "Epoch 99/100\n",
            "1875/1875 [==============================] - 5s 2ms/step - loss: 0.0045 - accuracy: 0.9993 - val_loss: 0.3777 - val_accuracy: 0.9828\n",
            "Epoch 100/100\n",
            "1875/1875 [==============================] - 5s 2ms/step - loss: 0.0029 - accuracy: 0.9995 - val_loss: 0.3116 - val_accuracy: 0.9839\n",
            "Baseline Error: 1.61%\n"
          ]
        }
      ]
    },
    {
      "cell_type": "code",
      "metadata": {
        "id": "cmXnvyHCDv-g",
        "colab": {
          "base_uri": "https://localhost:8080/",
          "height": 651
        },
        "outputId": "1287021f-5eb8-4979-cf10-394be463dcb0"
      },
      "source": [
        "# INTERPRET \n",
        "# BUILD FUNCTION FOR PLOTTING THE RESULTS OF THE MODEL\n",
        "\n",
        "def plot_train_curve(history):\n",
        "    colors = ['#e66101','#fdb863','#b2abd2','#5e3c99']\n",
        "    accuracy = history.history['accuracy']\n",
        "    val_accuracy = history.history['val_accuracy']\n",
        "    loss = history.history['loss']\n",
        "    val_loss = history.history['val_loss']\n",
        "    epochs = range(len(accuracy))\n",
        "    with plt.style.context(\"ggplot\"):\n",
        "        plt.figure(figsize=(8, 8/1.618))\n",
        "        plt.plot(epochs, accuracy, marker='o', c=colors[3], label='Training accuracy')\n",
        "        plt.plot(epochs, val_accuracy, c=colors[0], label='Validation accuracy')\n",
        "        plt.title('Training and validation accuracy')\n",
        "        plt.legend()\n",
        "        plt.figure(figsize=(8, 8/1.618))\n",
        "        plt.plot(epochs, loss, marker='o', c=colors[3], label='Training loss')\n",
        "        plt.plot(epochs, val_loss, c=colors[0], label='Validation loss')\n",
        "        plt.title('Training and validation loss')\n",
        "        plt.legend()\n",
        "        plt.show()\n",
        "    \n",
        "plot_train_curve(history)"
      ],
      "execution_count": 26,
      "outputs": [
        {
          "output_type": "display_data",
          "data": {
            "text/plain": [
              "<Figure size 576x355.995 with 1 Axes>"
            ],
            "image/png": "[encoded data removed]"
          },
          "metadata": {}
        },
        {
          "output_type": "display_data",
          "data": {
            "text/plain": [
              "<Figure size 576x355.995 with 1 Axes>"
            ],
            "image/png": "[encoded data removed]"
          },
          "metadata": {}
        }
      ]
    },
    {
      "cell_type": "markdown",
      "metadata": {
        "id": "Ti4jqs-TVn2u"
      },
      "source": [
        "Now let us explore if adding some layers to the model can we fix that weird validation line above?\n"
      ]
    },
    {
      "cell_type": "code",
      "metadata": {
        "id": "k4PqQO37V3mz"
      },
      "source": [
        "# MODEL - ADD DROPOUT LAYER\n",
        "\n",
        "def updated_model():\n",
        "    # create model\n",
        "    model = Sequential()\n",
        "    model.add(Dense(num_pixels, input_dim=num_pixels, kernel_initializer='normal', activation='relu'))\n",
        "    # DROPOUT LAYER - SHOULD REDUCE OVERFITTING\n",
        "    model.add(Dropout(0.15))\n",
        "    model.add(Dense(num_classes, kernel_initializer='normal', activation='softmax'))\n",
        "    # COMPILE MODEL\n",
        "    # OPTIMIZER - SGD\n",
        "    model.compile(loss='categorical_crossentropy', optimizer='sgd', metrics=['accuracy'])\n",
        "    return model"
      ],
      "execution_count": 27,
      "outputs": []
    },
    {
      "cell_type": "markdown",
      "source": [
        "NOTE:  In the model above - we added the dropout layer - in the code below, we mention changing batch_size but we keep @ 200 so our comparisons are the proverbial \"apples to apples\" "
      ],
      "metadata": {
        "id": "seFnqVd1Y45_"
      }
    },
    {
      "cell_type": "code",
      "metadata": {
        "id": "w-6gJrsYW-gh",
        "colab": {
          "base_uri": "https://localhost:8080/"
        },
        "outputId": "34db4291-2061-47d9-c2d2-7c4f6a66638b"
      },
      "source": [
        "# MODEL - FIT - https://keras.io/models/model/\n",
        "\n",
        "start = time.time()  # TRACK TIME\n",
        "\n",
        "model = updated_model()\n",
        "\n",
        "model.fit(X_train, y_train, validation_data=(X_test, y_test), epochs=10, batch_size=200, verbose=2)  \n",
        "\n",
        "# BATCH SIZE CAN HELP WITH MEMORY - HOWEVER SMALLER BATCH MIGHT REDUCE ACCURACY\n",
        "# NUMBER OF EPOCHS IS NUMBER OF TIMES THROUGH NETWORK   \n",
        "\n",
        "end = time.time()\n",
        "final_time = end-start\n",
        "print(final_time)  # RUN TIME OF BLOCK"
      ],
      "execution_count": 28,
      "outputs": [
        {
          "output_type": "stream",
          "name": "stdout",
          "text": [
            "Epoch 1/10\n",
            "300/300 - 1s - loss: 1.2166 - accuracy: 0.7042 - val_loss: 0.6998 - val_accuracy: 0.8511 - 1s/epoch - 4ms/step\n",
            "Epoch 2/10\n",
            "300/300 - 1s - loss: 0.6185 - accuracy: 0.8509 - val_loss: 0.4954 - val_accuracy: 0.8800 - 686ms/epoch - 2ms/step\n",
            "Epoch 3/10\n",
            "300/300 - 1s - loss: 0.4912 - accuracy: 0.8722 - val_loss: 0.4192 - val_accuracy: 0.8921 - 651ms/epoch - 2ms/step\n",
            "Epoch 4/10\n",
            "300/300 - 1s - loss: 0.4336 - accuracy: 0.8834 - val_loss: 0.3777 - val_accuracy: 0.9011 - 729ms/epoch - 2ms/step\n",
            "Epoch 5/10\n",
            "300/300 - 1s - loss: 0.3987 - accuracy: 0.8902 - val_loss: 0.3515 - val_accuracy: 0.9067 - 727ms/epoch - 2ms/step\n",
            "Epoch 6/10\n",
            "300/300 - 1s - loss: 0.3751 - accuracy: 0.8965 - val_loss: 0.3323 - val_accuracy: 0.9110 - 656ms/epoch - 2ms/step\n",
            "Epoch 7/10\n",
            "300/300 - 1s - loss: 0.3576 - accuracy: 0.9011 - val_loss: 0.3173 - val_accuracy: 0.9142 - 732ms/epoch - 2ms/step\n",
            "Epoch 8/10\n",
            "300/300 - 1s - loss: 0.3428 - accuracy: 0.9050 - val_loss: 0.3061 - val_accuracy: 0.9167 - 729ms/epoch - 2ms/step\n",
            "Epoch 9/10\n",
            "300/300 - 1s - loss: 0.3289 - accuracy: 0.9085 - val_loss: 0.2961 - val_accuracy: 0.9197 - 684ms/epoch - 2ms/step\n",
            "Epoch 10/10\n",
            "300/300 - 1s - loss: 0.3177 - accuracy: 0.9109 - val_loss: 0.2872 - val_accuracy: 0.9211 - 710ms/epoch - 2ms/step\n",
            "7.7984702587127686\n"
          ]
        }
      ]
    },
    {
      "cell_type": "code",
      "metadata": {
        "id": "1LkvRAySZ850",
        "colab": {
          "base_uri": "https://localhost:8080/"
        },
        "outputId": "fcb7ea29-1b0b-4eb7-bd47-834361dd91c4"
      },
      "source": [
        "# MODEL - TWO WAYS TO VISUALIZE\n",
        "\n",
        "# tf.keras.utils.plot_model(model, show_shapes=True)\n",
        "print(model.summary())\n",
        "\n",
        "# NOTICE NO CHANGE TO TOTAL NUMBER OF PARAMETERS"
      ],
      "execution_count": null,
      "outputs": [
        {
          "output_type": "stream",
          "name": "stdout",
          "text": [
            "Model: \"sequential_2\"\n",
            "_________________________________________________________________\n",
            " Layer (type)                Output Shape              Param #   \n",
            "=================================================================\n",
            " dense_4 (Dense)             (None, 784)               615440    \n",
            "                                                                 \n",
            " dropout (Dropout)           (None, 784)               0         \n",
            "                                                                 \n",
            " dense_5 (Dense)             (None, 10)                7850      \n",
            "                                                                 \n",
            "=================================================================\n",
            "Total params: 623,290\n",
            "Trainable params: 623,290\n",
            "Non-trainable params: 0\n",
            "_________________________________________________________________\n",
            "None\n"
          ]
        }
      ]
    },
    {
      "cell_type": "code",
      "metadata": {
        "id": "IKJnrqMDaw0_",
        "colab": {
          "base_uri": "https://localhost:8080/"
        },
        "outputId": "2c622e6e-f104-4f7c-b693-8259d88ffc1f"
      },
      "source": [
        "# MODEL\n",
        "# RUN THE MODEL\n",
        "\n",
        "model = updated_model()\n",
        "\n",
        "# FIT THE MODEL\n",
        "# STORE THE MODEL RESULTS IN history TO USE FOR BUILDING ROC PLOT\n",
        "\n",
        "history  = model.fit(X_train, y_train, validation_data=(X_test, y_test), epochs=100)\n",
        "\n",
        "# EVALUATE THE MODEL\n",
        "scores = model.evaluate(X_test, y_test, verbose=0)\n",
        "print(\"Baseline Error: %.2f%%\" % (100-scores[1]*100))"
      ],
      "execution_count": 29,
      "outputs": [
        {
          "output_type": "stream",
          "name": "stdout",
          "text": [
            "Epoch 1/100\n",
            "1875/1875 [==============================] - 6s 3ms/step - loss: 0.5926 - accuracy: 0.8453 - val_loss: 0.3256 - val_accuracy: 0.9110\n",
            "Epoch 2/100\n",
            "1875/1875 [==============================] - 5s 2ms/step - loss: 0.3235 - accuracy: 0.9095 - val_loss: 0.2674 - val_accuracy: 0.9248\n",
            "Epoch 3/100\n",
            "1875/1875 [==============================] - 4s 2ms/step - loss: 0.2736 - accuracy: 0.9225 - val_loss: 0.2341 - val_accuracy: 0.9344\n",
            "Epoch 4/100\n",
            "1875/1875 [==============================] - 4s 2ms/step - loss: 0.2420 - accuracy: 0.9315 - val_loss: 0.2110 - val_accuracy: 0.9411\n",
            "Epoch 5/100\n",
            "1875/1875 [==============================] - 5s 2ms/step - loss: 0.2191 - accuracy: 0.9384 - val_loss: 0.1930 - val_accuracy: 0.9451\n",
            "Epoch 6/100\n",
            "1875/1875 [==============================] - 4s 2ms/step - loss: 0.2001 - accuracy: 0.9442 - val_loss: 0.1794 - val_accuracy: 0.9497\n",
            "Epoch 7/100\n",
            "1875/1875 [==============================] - 4s 2ms/step - loss: 0.1845 - accuracy: 0.9488 - val_loss: 0.1658 - val_accuracy: 0.9525\n",
            "Epoch 8/100\n",
            "1875/1875 [==============================] - 5s 2ms/step - loss: 0.1710 - accuracy: 0.9528 - val_loss: 0.1556 - val_accuracy: 0.9553\n",
            "Epoch 9/100\n",
            "1875/1875 [==============================] - 5s 2ms/step - loss: 0.1592 - accuracy: 0.9551 - val_loss: 0.1467 - val_accuracy: 0.9583\n",
            "Epoch 10/100\n",
            "1875/1875 [==============================] - 4s 2ms/step - loss: 0.1491 - accuracy: 0.9580 - val_loss: 0.1393 - val_accuracy: 0.9591\n",
            "Epoch 11/100\n",
            "1875/1875 [==============================] - 4s 2ms/step - loss: 0.1404 - accuracy: 0.9606 - val_loss: 0.1328 - val_accuracy: 0.9615\n",
            "Epoch 12/100\n",
            "1875/1875 [==============================] - 5s 2ms/step - loss: 0.1332 - accuracy: 0.9626 - val_loss: 0.1288 - val_accuracy: 0.9631\n",
            "Epoch 13/100\n",
            "1875/1875 [==============================] - 5s 2ms/step - loss: 0.1264 - accuracy: 0.9651 - val_loss: 0.1210 - val_accuracy: 0.9645\n",
            "Epoch 14/100\n",
            "1875/1875 [==============================] - 4s 2ms/step - loss: 0.1209 - accuracy: 0.9659 - val_loss: 0.1168 - val_accuracy: 0.9661\n",
            "Epoch 15/100\n",
            "1875/1875 [==============================] - 4s 2ms/step - loss: 0.1152 - accuracy: 0.9680 - val_loss: 0.1125 - val_accuracy: 0.9675\n",
            "Epoch 16/100\n",
            "1875/1875 [==============================] - 5s 2ms/step - loss: 0.1101 - accuracy: 0.9700 - val_loss: 0.1097 - val_accuracy: 0.9687\n",
            "Epoch 17/100\n",
            "1875/1875 [==============================] - 5s 2ms/step - loss: 0.1043 - accuracy: 0.9711 - val_loss: 0.1052 - val_accuracy: 0.9691\n",
            "Epoch 18/100\n",
            "1875/1875 [==============================] - 6s 3ms/step - loss: 0.1008 - accuracy: 0.9715 - val_loss: 0.1029 - val_accuracy: 0.9687\n",
            "Epoch 19/100\n",
            "1875/1875 [==============================] - 4s 2ms/step - loss: 0.0975 - accuracy: 0.9731 - val_loss: 0.1004 - val_accuracy: 0.9708\n",
            "Epoch 20/100\n",
            "1875/1875 [==============================] - 5s 2ms/step - loss: 0.0936 - accuracy: 0.9744 - val_loss: 0.0964 - val_accuracy: 0.9711\n",
            "Epoch 21/100\n",
            "1875/1875 [==============================] - 4s 2ms/step - loss: 0.0900 - accuracy: 0.9749 - val_loss: 0.0943 - val_accuracy: 0.9723\n",
            "Epoch 22/100\n",
            "1875/1875 [==============================] - 5s 2ms/step - loss: 0.0864 - accuracy: 0.9764 - val_loss: 0.0931 - val_accuracy: 0.9726\n",
            "Epoch 23/100\n",
            "1875/1875 [==============================] - 4s 2ms/step - loss: 0.0840 - accuracy: 0.9768 - val_loss: 0.0904 - val_accuracy: 0.9730\n",
            "Epoch 24/100\n",
            "1875/1875 [==============================] - 5s 2ms/step - loss: 0.0812 - accuracy: 0.9777 - val_loss: 0.0899 - val_accuracy: 0.9738\n",
            "Epoch 25/100\n",
            "1875/1875 [==============================] - 5s 2ms/step - loss: 0.0777 - accuracy: 0.9790 - val_loss: 0.0871 - val_accuracy: 0.9731\n",
            "Epoch 26/100\n",
            "1875/1875 [==============================] - 4s 2ms/step - loss: 0.0759 - accuracy: 0.9794 - val_loss: 0.0855 - val_accuracy: 0.9747\n",
            "Epoch 27/100\n",
            "1875/1875 [==============================] - 5s 2ms/step - loss: 0.0737 - accuracy: 0.9795 - val_loss: 0.0830 - val_accuracy: 0.9744\n",
            "Epoch 28/100\n",
            "1875/1875 [==============================] - 5s 2ms/step - loss: 0.0715 - accuracy: 0.9804 - val_loss: 0.0829 - val_accuracy: 0.9743\n",
            "Epoch 29/100\n",
            "1875/1875 [==============================] - 5s 2ms/step - loss: 0.0703 - accuracy: 0.9808 - val_loss: 0.0804 - val_accuracy: 0.9755\n",
            "Epoch 30/100\n",
            "1875/1875 [==============================] - 4s 2ms/step - loss: 0.0680 - accuracy: 0.9815 - val_loss: 0.0799 - val_accuracy: 0.9764\n",
            "Epoch 31/100\n",
            "1875/1875 [==============================] - 5s 2ms/step - loss: 0.0662 - accuracy: 0.9822 - val_loss: 0.0786 - val_accuracy: 0.9758\n",
            "Epoch 32/100\n",
            "1875/1875 [==============================] - 5s 2ms/step - loss: 0.0636 - accuracy: 0.9829 - val_loss: 0.0782 - val_accuracy: 0.9769\n",
            "Epoch 33/100\n",
            "1875/1875 [==============================] - 4s 2ms/step - loss: 0.0623 - accuracy: 0.9833 - val_loss: 0.0767 - val_accuracy: 0.9766\n",
            "Epoch 34/100\n",
            "1875/1875 [==============================] - 5s 2ms/step - loss: 0.0600 - accuracy: 0.9841 - val_loss: 0.0759 - val_accuracy: 0.9770\n",
            "Epoch 35/100\n",
            "1875/1875 [==============================] - 4s 2ms/step - loss: 0.0588 - accuracy: 0.9840 - val_loss: 0.0749 - val_accuracy: 0.9774\n",
            "Epoch 36/100\n",
            "1875/1875 [==============================] - 5s 2ms/step - loss: 0.0575 - accuracy: 0.9849 - val_loss: 0.0738 - val_accuracy: 0.9777\n",
            "Epoch 37/100\n",
            "1875/1875 [==============================] - 5s 2ms/step - loss: 0.0570 - accuracy: 0.9845 - val_loss: 0.0732 - val_accuracy: 0.9777\n",
            "Epoch 38/100\n",
            "1875/1875 [==============================] - 5s 2ms/step - loss: 0.0558 - accuracy: 0.9848 - val_loss: 0.0729 - val_accuracy: 0.9782\n",
            "Epoch 39/100\n",
            "1875/1875 [==============================] - 5s 3ms/step - loss: 0.0529 - accuracy: 0.9862 - val_loss: 0.0721 - val_accuracy: 0.9780\n",
            "Epoch 40/100\n",
            "1875/1875 [==============================] - 5s 2ms/step - loss: 0.0522 - accuracy: 0.9862 - val_loss: 0.0712 - val_accuracy: 0.9786\n",
            "Epoch 41/100\n",
            "1875/1875 [==============================] - 4s 2ms/step - loss: 0.0509 - accuracy: 0.9864 - val_loss: 0.0702 - val_accuracy: 0.9789\n",
            "Epoch 42/100\n",
            "1875/1875 [==============================] - 4s 2ms/step - loss: 0.0507 - accuracy: 0.9862 - val_loss: 0.0699 - val_accuracy: 0.9791\n",
            "Epoch 43/100\n",
            "1875/1875 [==============================] - 5s 2ms/step - loss: 0.0490 - accuracy: 0.9870 - val_loss: 0.0695 - val_accuracy: 0.9793\n",
            "Epoch 44/100\n",
            "1875/1875 [==============================] - 5s 2ms/step - loss: 0.0481 - accuracy: 0.9869 - val_loss: 0.0688 - val_accuracy: 0.9794\n",
            "Epoch 45/100\n",
            "1875/1875 [==============================] - 5s 2ms/step - loss: 0.0471 - accuracy: 0.9874 - val_loss: 0.0682 - val_accuracy: 0.9797\n",
            "Epoch 46/100\n",
            "1875/1875 [==============================] - 5s 2ms/step - loss: 0.0457 - accuracy: 0.9881 - val_loss: 0.0678 - val_accuracy: 0.9800\n",
            "Epoch 47/100\n",
            "1875/1875 [==============================] - 5s 2ms/step - loss: 0.0454 - accuracy: 0.9878 - val_loss: 0.0668 - val_accuracy: 0.9801\n",
            "Epoch 48/100\n",
            "1875/1875 [==============================] - 4s 2ms/step - loss: 0.0442 - accuracy: 0.9886 - val_loss: 0.0665 - val_accuracy: 0.9796\n",
            "Epoch 49/100\n",
            "1875/1875 [==============================] - 5s 2ms/step - loss: 0.0433 - accuracy: 0.9886 - val_loss: 0.0663 - val_accuracy: 0.9802\n",
            "Epoch 50/100\n",
            "1875/1875 [==============================] - 5s 2ms/step - loss: 0.0421 - accuracy: 0.9890 - val_loss: 0.0661 - val_accuracy: 0.9804\n",
            "Epoch 51/100\n",
            "1875/1875 [==============================] - 5s 2ms/step - loss: 0.0411 - accuracy: 0.9893 - val_loss: 0.0648 - val_accuracy: 0.9801\n",
            "Epoch 52/100\n",
            "1875/1875 [==============================] - 5s 2ms/step - loss: 0.0402 - accuracy: 0.9897 - val_loss: 0.0652 - val_accuracy: 0.9804\n",
            "Epoch 53/100\n",
            "1875/1875 [==============================] - 4s 2ms/step - loss: 0.0400 - accuracy: 0.9900 - val_loss: 0.0645 - val_accuracy: 0.9803\n",
            "Epoch 54/100\n",
            "1875/1875 [==============================] - 5s 2ms/step - loss: 0.0392 - accuracy: 0.9897 - val_loss: 0.0651 - val_accuracy: 0.9806\n",
            "Epoch 55/100\n",
            "1875/1875 [==============================] - 5s 2ms/step - loss: 0.0387 - accuracy: 0.9900 - val_loss: 0.0646 - val_accuracy: 0.9803\n",
            "Epoch 56/100\n",
            "1875/1875 [==============================] - 5s 2ms/step - loss: 0.0377 - accuracy: 0.9901 - val_loss: 0.0638 - val_accuracy: 0.9800\n",
            "Epoch 57/100\n",
            "1875/1875 [==============================] - 5s 2ms/step - loss: 0.0362 - accuracy: 0.9911 - val_loss: 0.0633 - val_accuracy: 0.9813\n",
            "Epoch 58/100\n",
            "1875/1875 [==============================] - 5s 2ms/step - loss: 0.0356 - accuracy: 0.9909 - val_loss: 0.0628 - val_accuracy: 0.9806\n",
            "Epoch 59/100\n",
            "1875/1875 [==============================] - 5s 2ms/step - loss: 0.0354 - accuracy: 0.9909 - val_loss: 0.0623 - val_accuracy: 0.9801\n",
            "Epoch 60/100\n",
            "1875/1875 [==============================] - 5s 3ms/step - loss: 0.0343 - accuracy: 0.9915 - val_loss: 0.0622 - val_accuracy: 0.9804\n",
            "Epoch 61/100\n",
            "1875/1875 [==============================] - 5s 2ms/step - loss: 0.0340 - accuracy: 0.9920 - val_loss: 0.0617 - val_accuracy: 0.9808\n",
            "Epoch 62/100\n",
            "1875/1875 [==============================] - 5s 2ms/step - loss: 0.0339 - accuracy: 0.9912 - val_loss: 0.0619 - val_accuracy: 0.9813\n",
            "Epoch 63/100\n",
            "1875/1875 [==============================] - 5s 2ms/step - loss: 0.0331 - accuracy: 0.9917 - val_loss: 0.0610 - val_accuracy: 0.9808\n",
            "Epoch 64/100\n",
            "1875/1875 [==============================] - 5s 2ms/step - loss: 0.0326 - accuracy: 0.9920 - val_loss: 0.0618 - val_accuracy: 0.9811\n",
            "Epoch 65/100\n",
            "1875/1875 [==============================] - 5s 2ms/step - loss: 0.0321 - accuracy: 0.9917 - val_loss: 0.0605 - val_accuracy: 0.9805\n",
            "Epoch 66/100\n",
            "1875/1875 [==============================] - 5s 2ms/step - loss: 0.0317 - accuracy: 0.9920 - val_loss: 0.0610 - val_accuracy: 0.9809\n",
            "Epoch 67/100\n",
            "1875/1875 [==============================] - 5s 2ms/step - loss: 0.0314 - accuracy: 0.9923 - val_loss: 0.0605 - val_accuracy: 0.9811\n",
            "Epoch 68/100\n",
            "1875/1875 [==============================] - 4s 2ms/step - loss: 0.0304 - accuracy: 0.9931 - val_loss: 0.0608 - val_accuracy: 0.9809\n",
            "Epoch 69/100\n",
            "1875/1875 [==============================] - 4s 2ms/step - loss: 0.0298 - accuracy: 0.9931 - val_loss: 0.0601 - val_accuracy: 0.9813\n",
            "Epoch 70/100\n",
            "1875/1875 [==============================] - 5s 2ms/step - loss: 0.0299 - accuracy: 0.9925 - val_loss: 0.0599 - val_accuracy: 0.9804\n",
            "Epoch 71/100\n",
            "1875/1875 [==============================] - 5s 2ms/step - loss: 0.0295 - accuracy: 0.9926 - val_loss: 0.0604 - val_accuracy: 0.9811\n",
            "Epoch 72/100\n",
            "1875/1875 [==============================] - 4s 2ms/step - loss: 0.0285 - accuracy: 0.9933 - val_loss: 0.0599 - val_accuracy: 0.9814\n",
            "Epoch 73/100\n",
            "1875/1875 [==============================] - 5s 2ms/step - loss: 0.0277 - accuracy: 0.9934 - val_loss: 0.0596 - val_accuracy: 0.9812\n",
            "Epoch 74/100\n",
            "1875/1875 [==============================] - 5s 2ms/step - loss: 0.0272 - accuracy: 0.9940 - val_loss: 0.0598 - val_accuracy: 0.9812\n",
            "Epoch 75/100\n",
            "1875/1875 [==============================] - 4s 2ms/step - loss: 0.0266 - accuracy: 0.9944 - val_loss: 0.0594 - val_accuracy: 0.9810\n",
            "Epoch 76/100\n",
            "1875/1875 [==============================] - 5s 2ms/step - loss: 0.0263 - accuracy: 0.9941 - val_loss: 0.0585 - val_accuracy: 0.9816\n",
            "Epoch 77/100\n",
            "1875/1875 [==============================] - 5s 2ms/step - loss: 0.0256 - accuracy: 0.9941 - val_loss: 0.0588 - val_accuracy: 0.9809\n",
            "Epoch 78/100\n",
            "1875/1875 [==============================] - 5s 2ms/step - loss: 0.0257 - accuracy: 0.9938 - val_loss: 0.0591 - val_accuracy: 0.9817\n",
            "Epoch 79/100\n",
            "1875/1875 [==============================] - 5s 2ms/step - loss: 0.0251 - accuracy: 0.9941 - val_loss: 0.0582 - val_accuracy: 0.9817\n",
            "Epoch 80/100\n",
            "1875/1875 [==============================] - 5s 3ms/step - loss: 0.0250 - accuracy: 0.9944 - val_loss: 0.0593 - val_accuracy: 0.9817\n",
            "Epoch 81/100\n",
            "1875/1875 [==============================] - 5s 2ms/step - loss: 0.0243 - accuracy: 0.9944 - val_loss: 0.0581 - val_accuracy: 0.9817\n",
            "Epoch 82/100\n",
            "1875/1875 [==============================] - 5s 2ms/step - loss: 0.0244 - accuracy: 0.9943 - val_loss: 0.0586 - val_accuracy: 0.9818\n",
            "Epoch 83/100\n",
            "1875/1875 [==============================] - 5s 2ms/step - loss: 0.0238 - accuracy: 0.9947 - val_loss: 0.0578 - val_accuracy: 0.9819\n",
            "Epoch 84/100\n",
            "1875/1875 [==============================] - 5s 2ms/step - loss: 0.0238 - accuracy: 0.9947 - val_loss: 0.0580 - val_accuracy: 0.9816\n",
            "Epoch 85/100\n",
            "1875/1875 [==============================] - 5s 2ms/step - loss: 0.0230 - accuracy: 0.9948 - val_loss: 0.0578 - val_accuracy: 0.9819\n",
            "Epoch 86/100\n",
            "1875/1875 [==============================] - 5s 2ms/step - loss: 0.0229 - accuracy: 0.9951 - val_loss: 0.0579 - val_accuracy: 0.9814\n",
            "Epoch 87/100\n",
            "1875/1875 [==============================] - 5s 2ms/step - loss: 0.0228 - accuracy: 0.9948 - val_loss: 0.0578 - val_accuracy: 0.9816\n",
            "Epoch 88/100\n",
            "1875/1875 [==============================] - 4s 2ms/step - loss: 0.0221 - accuracy: 0.9953 - val_loss: 0.0577 - val_accuracy: 0.9824\n",
            "Epoch 89/100\n",
            "1875/1875 [==============================] - 5s 2ms/step - loss: 0.0216 - accuracy: 0.9952 - val_loss: 0.0575 - val_accuracy: 0.9815\n",
            "Epoch 90/100\n",
            "1875/1875 [==============================] - 5s 2ms/step - loss: 0.0220 - accuracy: 0.9953 - val_loss: 0.0572 - val_accuracy: 0.9817\n",
            "Epoch 91/100\n",
            "1875/1875 [==============================] - 5s 2ms/step - loss: 0.0213 - accuracy: 0.9954 - val_loss: 0.0575 - val_accuracy: 0.9814\n",
            "Epoch 92/100\n",
            "1875/1875 [==============================] - 5s 2ms/step - loss: 0.0206 - accuracy: 0.9957 - val_loss: 0.0575 - val_accuracy: 0.9815\n",
            "Epoch 93/100\n",
            "1875/1875 [==============================] - 5s 2ms/step - loss: 0.0212 - accuracy: 0.9954 - val_loss: 0.0573 - val_accuracy: 0.9821\n",
            "Epoch 94/100\n",
            "1875/1875 [==============================] - 5s 2ms/step - loss: 0.0200 - accuracy: 0.9960 - val_loss: 0.0564 - val_accuracy: 0.9819\n",
            "Epoch 95/100\n",
            "1875/1875 [==============================] - 5s 2ms/step - loss: 0.0201 - accuracy: 0.9962 - val_loss: 0.0565 - val_accuracy: 0.9819\n",
            "Epoch 96/100\n",
            "1875/1875 [==============================] - 5s 3ms/step - loss: 0.0200 - accuracy: 0.9955 - val_loss: 0.0567 - val_accuracy: 0.9819\n",
            "Epoch 97/100\n",
            "1875/1875 [==============================] - 5s 2ms/step - loss: 0.0194 - accuracy: 0.9959 - val_loss: 0.0568 - val_accuracy: 0.9818\n",
            "Epoch 98/100\n",
            "1875/1875 [==============================] - 5s 2ms/step - loss: 0.0192 - accuracy: 0.9963 - val_loss: 0.0564 - val_accuracy: 0.9820\n",
            "Epoch 99/100\n",
            "1875/1875 [==============================] - 5s 2ms/step - loss: 0.0190 - accuracy: 0.9961 - val_loss: 0.0572 - val_accuracy: 0.9818\n",
            "Epoch 100/100\n",
            "1875/1875 [==============================] - 5s 2ms/step - loss: 0.0190 - accuracy: 0.9963 - val_loss: 0.0566 - val_accuracy: 0.9820\n",
            "Baseline Error: 1.80%\n"
          ]
        }
      ]
    },
    {
      "cell_type": "code",
      "metadata": {
        "id": "_gBQbRnLbD7O",
        "colab": {
          "base_uri": "https://localhost:8080/",
          "height": 651
        },
        "outputId": "ab0b8f46-9eb5-4ad4-8cb8-e33b581a9de4"
      },
      "source": [
        "# INTERPRET \n",
        "# DID ADDING DROPOUT FUNCTION HELP WITH OVERFITTING?\n",
        "\n",
        "def plot_train_curve(history):\n",
        "    colors = ['#e66101','#fdb863','#b2abd2','#5e3c99']\n",
        "    accuracy = history.history['accuracy']\n",
        "    val_accuracy = history.history['val_accuracy']\n",
        "    loss = history.history['loss']\n",
        "    val_loss = history.history['val_loss']\n",
        "    epochs = range(len(accuracy))\n",
        "    with plt.style.context(\"ggplot\"):\n",
        "        plt.figure(figsize=(8, 8/1.618))\n",
        "        plt.plot(epochs, accuracy, marker='o', c=colors[3], label='Training accuracy')\n",
        "        plt.plot(epochs, val_accuracy, c=colors[0], label='Validation accuracy')\n",
        "        plt.title('Training and validation accuracy')\n",
        "        plt.legend()\n",
        "        plt.figure(figsize=(8, 8/1.618))\n",
        "        plt.plot(epochs, loss, marker='o', c=colors[3], label='Training loss')\n",
        "        plt.plot(epochs, val_loss, c=colors[0], label='Validation loss')\n",
        "        plt.title('Training and validation loss')\n",
        "        plt.legend()\n",
        "        plt.show()\n",
        "    \n",
        "plot_train_curve(history)"
      ],
      "execution_count": 30,
      "outputs": [
        {
          "output_type": "display_data",
          "data": {
            "text/plain": [
              "<Figure size 576x355.995 with 1 Axes>"
            ],
            "image/png": "[encoded data removed]"
          },
          "metadata": {}
        },
        {
          "output_type": "display_data",
          "data": {
            "text/plain": [
              "<Figure size 576x355.995 with 1 Axes>"
            ],
            "image/png": "[encoded data removed]"
          },
          "metadata": {}
        }
      ]
    }
  ]
}