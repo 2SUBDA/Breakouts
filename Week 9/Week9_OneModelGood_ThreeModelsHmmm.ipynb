{
  "nbformat": 4,
  "nbformat_minor": 0,
  "metadata": {
    "colab": {
      "name": "Week9_OneModelGood_ThreeModelsHmmm.ipynb",
      "provenance": [],
      "authorship_tag": "ABX9TyMxJz/STf7Vus1PSdmBbLAX",
      "include_colab_link": true
    },
    "kernelspec": {
      "name": "python3",
      "display_name": "Python 3"
    },
    "language_info": {
      "name": "python"
    }
  },
  "cells": [
    {
      "cell_type": "markdown",
      "metadata": {
        "id": "view-in-github",
        "colab_type": "text"
      },
      "source": [
        "<a href=\"https://colab.research.google.com/github/2SUBDA/Breakouts/blob/Week9/Week9_OneModelGood_ThreeModelsHmmm.ipynb\" target=\"_parent\"><img src=\"https://colab.research.google.com/assets/colab-badge.svg\" alt=\"Open In Colab\"/></a>"
      ]
    },
    {
      "cell_type": "markdown",
      "metadata": {
        "id": "Chwf3zNr2GXa"
      },
      "source": [
        "Based on examples from sklearn - consider how to plot comparison tables or charts across models.\n",
        "\n",
        "More details [here](https://scikit-learn.org/stable/modules/generated/sklearn.ensemble.VotingClassifier.html) and [here](https://scikit-learn.org/stable/auto_examples/ensemble/plot_voting_decision_regions.html#sphx-glr-auto-examples-ensemble-plot-voting-decision-regions-py)"
      ]
    },
    {
      "cell_type": "code",
      "metadata": {
        "id": "S-7t-Hi-AuG3"
      },
      "source": [
        "import numpy as np\n",
        "import pandas as pd\n",
        "import sklearn\n",
        "\n",
        "\n",
        "from sklearn.neighbors import KNeighborsClassifier\n",
        "from sklearn.ensemble import RandomForestClassifier \n",
        "from sklearn.naive_bayes import GaussianNB\n",
        "from sklearn.ensemble import VotingClassifier\n",
        "\n",
        "from sklearn.datasets import fetch_openml\n",
        "from sklearn.utils import check_random_state\n",
        "from sklearn.model_selection import train_test_split\n",
        "from sklearn.metrics import accuracy_score"
      ],
      "execution_count": 10,
      "outputs": []
    },
    {
      "cell_type": "markdown",
      "metadata": {
        "id": "fESmB75b-OTd"
      },
      "source": [
        "# The Data"
      ]
    },
    {
      "cell_type": "markdown",
      "metadata": {
        "id": "K1Lv1RWL-RGN"
      },
      "source": [
        "The MNIST dataset consists of 70,000 handwritten digits used to evaluate algorithms for classification - more details can be found [here](http://yann.lecun.com/exdb/mnist/)."
      ]
    },
    {
      "cell_type": "code",
      "metadata": {
        "id": "yhbHcgR46CwS"
      },
      "source": [
        "# OBTAIN\n",
        "\n",
        "# DATA AVAILABLE @ https://www.openml.org/d/554\n",
        "# THERE ARE MANY SOURCES OF THE MNIST DATA - THIS IS ONE\n",
        "\n",
        "X, y = fetch_openml('mnist_784', version=1, return_X_y=True)\n"
      ],
      "execution_count": 3,
      "outputs": []
    },
    {
      "cell_type": "markdown",
      "metadata": {
        "id": "dRK_n325DP8e"
      },
      "source": [
        "# Scrub\n"
      ]
    },
    {
      "cell_type": "code",
      "metadata": {
        "id": "WzKjRDhYDP8f"
      },
      "source": [
        "# SCRUB\n",
        "random_state = check_random_state(0)\n",
        "permutation = random_state.permutation(X.shape[0])\n",
        "X = X[permutation]\n",
        "y = y[permutation]\n",
        "X = X.reshape((X.shape[0], -1))"
      ],
      "execution_count": 4,
      "outputs": []
    },
    {
      "cell_type": "code",
      "metadata": {
        "id": "4HuTagzNDP8h"
      },
      "source": [
        "# SCRUB - FOR TESTING USE SMALLER\n",
        "# k-nearest neighbor algo runtime >= 150 mins | train_samples = 60000\n",
        "\n",
        "train_samples=6000\n",
        "# train_samples = 60000"
      ],
      "execution_count": 5,
      "outputs": []
    },
    {
      "cell_type": "code",
      "metadata": {
        "id": "-qJYLj1WDP8i"
      },
      "source": [
        "# SCRUB - TEST / TRAIN SPLIT\n",
        "\n",
        "X_train, X_test, y_train, y_test = train_test_split(\n",
        "    X, y, train_size=train_samples, test_size=1000)"
      ],
      "execution_count": 6,
      "outputs": []
    },
    {
      "cell_type": "code",
      "metadata": {
        "id": "oUCDt2TLDP8j"
      },
      "source": [
        "# SCRUB - HOW MIGHT WE NORMALIZE THE DATA TO IMPROVE CLASSIFICATON PERFORMANCE?\n",
        "\n",
        "# from sklearn.preprocessing import StandardScaler\n",
        "# X_train = scaler.fit_transform(X_train)\n",
        "\n",
        "# WHAT DOES THIS DO EXACTLY?\n"
      ],
      "execution_count": 7,
      "outputs": []
    },
    {
      "cell_type": "markdown",
      "metadata": {
        "id": "j8nmUFcE99FU"
      },
      "source": [
        "# The Models\n"
      ]
    },
    {
      "cell_type": "code",
      "metadata": {
        "id": "nJprBlZ36rJ4"
      },
      "source": [
        "# MODELS\n",
        "\n",
        "gnb_clf = GaussianNB()\n",
        "forest_clf = RandomForestClassifier(n_estimators = 100)\n",
        "neigh_clf = KNeighborsClassifier(n_neighbors=3)\n"
      ],
      "execution_count": 22,
      "outputs": []
    },
    {
      "cell_type": "code",
      "metadata": {
        "id": "G4zi_6OFn6-o",
        "colab": {
          "base_uri": "https://localhost:8080/"
        },
        "outputId": "09a6875d-4cfd-49f6-a968-f6d4e41b82be"
      },
      "source": [
        "# VOTING\n",
        "\n",
        "voting = VotingClassifier(\n",
        "    estimators = [('gb',gnb_clf), ('rf', forest_clf), ('nb', neigh_clf)], \n",
        "    voting = 'hard', n_jobs = -1\n",
        ")\n",
        "\n",
        "voting.fit(X_train, y_train)\n",
        "\n"
      ],
      "execution_count": 30,
      "outputs": [
        {
          "output_type": "execute_result",
          "data": {
            "text/plain": [
              "VotingClassifier(estimators=[('gb',\n",
              "                              GaussianNB(priors=None, var_smoothing=1e-09)),\n",
              "                             ('rf',\n",
              "                              RandomForestClassifier(bootstrap=True,\n",
              "                                                     ccp_alpha=0.0,\n",
              "                                                     class_weight=None,\n",
              "                                                     criterion='gini',\n",
              "                                                     max_depth=None,\n",
              "                                                     max_features='auto',\n",
              "                                                     max_leaf_nodes=None,\n",
              "                                                     max_samples=None,\n",
              "                                                     min_impurity_decrease=0.0,\n",
              "                                                     min_impurity_split=None,\n",
              "                                                     min_samples_leaf=1,\n",
              "                                                     min_samples_split=2,\n",
              "                                                     min_weight_fraction_leaf=0.0,\n",
              "                                                     n_estimators=100,\n",
              "                                                     n_jobs=None,\n",
              "                                                     oob_score=False,\n",
              "                                                     random_state=None,\n",
              "                                                     verbose=0,\n",
              "                                                     warm_start=False)),\n",
              "                             ('nb',\n",
              "                              KNeighborsClassifier(algorithm='auto',\n",
              "                                                   leaf_size=30,\n",
              "                                                   metric='minkowski',\n",
              "                                                   metric_params=None,\n",
              "                                                   n_jobs=None, n_neighbors=3,\n",
              "                                                   p=2, weights='uniform'))],\n",
              "                 flatten_transform=True, n_jobs=-1, voting='hard',\n",
              "                 weights=None)"
            ]
          },
          "metadata": {
            "tags": []
          },
          "execution_count": 30
        }
      ]
    },
    {
      "cell_type": "code",
      "metadata": {
        "colab": {
          "base_uri": "https://localhost:8080/"
        },
        "id": "KMm7FeGsFs1e",
        "outputId": "f906f59e-8162-4b4a-e4b8-324c03743651"
      },
      "source": [
        "for clf in (gnb_clf, forest_clf, neigh_clf, voting):\n",
        "  clf.fit(X_train, y_train)\n",
        "  y_pred = clf.predict(X_test)\n",
        "  print(clf, accuracy_score(y_test, y_pred))\n"
      ],
      "execution_count": 31,
      "outputs": [
        {
          "output_type": "stream",
          "text": [
            "GaussianNB(priors=None, var_smoothing=1e-09) 0.589\n",
            "RandomForestClassifier(bootstrap=True, ccp_alpha=0.0, class_weight=None,\n",
            "                       criterion='gini', max_depth=None, max_features='auto',\n",
            "                       max_leaf_nodes=None, max_samples=None,\n",
            "                       min_impurity_decrease=0.0, min_impurity_split=None,\n",
            "                       min_samples_leaf=1, min_samples_split=2,\n",
            "                       min_weight_fraction_leaf=0.0, n_estimators=100,\n",
            "                       n_jobs=None, oob_score=False, random_state=None,\n",
            "                       verbose=0, warm_start=False) 0.93\n",
            "KNeighborsClassifier(algorithm='auto', leaf_size=30, metric='minkowski',\n",
            "                     metric_params=None, n_jobs=None, n_neighbors=3, p=2,\n",
            "                     weights='uniform') 0.934\n",
            "VotingClassifier(estimators=[('gb',\n",
            "                              GaussianNB(priors=None, var_smoothing=1e-09)),\n",
            "                             ('rf',\n",
            "                              RandomForestClassifier(bootstrap=True,\n",
            "                                                     ccp_alpha=0.0,\n",
            "                                                     class_weight=None,\n",
            "                                                     criterion='gini',\n",
            "                                                     max_depth=None,\n",
            "                                                     max_features='auto',\n",
            "                                                     max_leaf_nodes=None,\n",
            "                                                     max_samples=None,\n",
            "                                                     min_impurity_decrease=0.0,\n",
            "                                                     min_impurity_split=None,\n",
            "                                                     min_samples_leaf=1,\n",
            "                                                     min_samples_split=2,\n",
            "                                                     min_weight_fraction_leaf=0.0,\n",
            "                                                     n_estimators=100,\n",
            "                                                     n_jobs=None,\n",
            "                                                     oob_score=False,\n",
            "                                                     random_state=None,\n",
            "                                                     verbose=0,\n",
            "                                                     warm_start=False)),\n",
            "                             ('nb',\n",
            "                              KNeighborsClassifier(algorithm='auto',\n",
            "                                                   leaf_size=30,\n",
            "                                                   metric='minkowski',\n",
            "                                                   metric_params=None,\n",
            "                                                   n_jobs=None, n_neighbors=3,\n",
            "                                                   p=2, weights='uniform'))],\n",
            "                 flatten_transform=True, n_jobs=-1, voting='hard',\n",
            "                 weights=None) 0.924\n"
          ],
          "name": "stdout"
        }
      ]
    }
  ]
}