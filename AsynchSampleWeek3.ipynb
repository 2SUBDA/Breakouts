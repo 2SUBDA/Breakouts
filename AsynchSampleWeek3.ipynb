{
  "nbformat": 4,
  "nbformat_minor": 0,
  "metadata": {
    "colab": {
      "name": "AsynchSampleWeek3.ipynb",
      "provenance": [],
      "authorship_tag": "ABX9TyPgtd5e/RjTGdJ0ZQHxSUr4",
      "include_colab_link": true
    },
    "kernelspec": {
      "name": "python3",
      "display_name": "Python 3"
    }
  },
  "cells": [
    {
      "cell_type": "markdown",
      "metadata": {
        "id": "view-in-github",
        "colab_type": "text"
      },
      "source": [
        "<a href=\"https://colab.research.google.com/github/2SUBDA/Breakouts/blob/Week3/AsynchSampleWeek3.ipynb\" target=\"_parent\"><img src=\"https://colab.research.google.com/assets/colab-badge.svg\" alt=\"Open In Colab\"/></a>"
      ]
    },
    {
      "cell_type": "code",
      "metadata": {
        "id": "yKDuCbGyVUN5",
        "colab_type": "code",
        "colab": {}
      },
      "source": [
        "# BASED ON EXHIBIT 2.1 FROM MILLER (2015)\n",
        "\n",
        "# import packages for analysis and modeling\n",
        "import pandas as pd  # data frame operations\n",
        "\n",
        "import numpy as np  # arrays and math functions\n",
        "from scipy.stats import uniform  # for training-and-test split\n",
        "import statsmodels.api as sm  # statistical models (including regression)\n",
        "import statsmodels.formula.api as smf  # R-like model specification\n",
        "import matplotlib.pyplot as plt  # 2D plotting\n",
        "\n",
        "import seaborn as sns  # PROVIDES TRELLIS AND SMALL MULTIPLE PLOTTING"
      ],
      "execution_count": 0,
      "outputs": []
    },
    {
      "cell_type": "code",
      "metadata": {
        "id": "iHfULorxVbip",
        "colab_type": "code",
        "colab": {}
      },
      "source": [
        "# OBTAIN\n",
        "\n",
        "dodgers = pd.read_csv(\"https://raw.githubusercontent.com/2SUBDA/IST_718/master/dodgers.csv\", error_bad_lines=False)"
      ],
      "execution_count": 0,
      "outputs": []
    },
    {
      "cell_type": "code",
      "metadata": {
        "id": "3D8hs4EgVgFi",
        "colab_type": "code",
        "colab": {
          "base_uri": "https://localhost:8080/",
          "height": 199
        },
        "outputId": "ca3c2ff3-6e4d-44e0-b45f-e293b93aa799"
      },
      "source": [
        "# SCRUB / EXPLORE\n",
        "\n",
        "print(\"\\nContents of dodgers data frame ---------------\")\n",
        "\n",
        "# attendance in thousands for plotting \n",
        "dodgers['attend_000'] = dodgers['attend']/1000\n",
        "\n",
        "# print the first five rows of the data frame\n",
        "print(pd.DataFrame.head(dodgers))\n",
        "dodgerDF = pd.DataFrame(dodgers)"
      ],
      "execution_count": 3,
      "outputs": [
        {
          "output_type": "stream",
          "text": [
            "\n",
            "Contents of dodgers data frame ---------------\n",
            "  month  day  attend day_of_week  ... fireworks  bobblehead    division attend_000\n",
            "0   APR   10   56000     Tuesday  ...        NO          NO  Divisional     56.000\n",
            "1   APR   11   29729   Wednesday  ...        NO          NO       Cross     29.729\n",
            "2   APR   12   28328    Thursday  ...        NO          NO       Cross     28.328\n",
            "3   APR   13   31601      Friday  ...       YES          NO       Cross     31.601\n",
            "4   APR   14   46549    Saturday  ...        NO          NO  Divisional     46.549\n",
            "\n",
            "[5 rows x 14 columns]\n"
          ],
          "name": "stdout"
        }
      ]
    },
    {
      "cell_type": "code",
      "metadata": {
        "id": "ckUSUIHPVjax",
        "colab_type": "code",
        "colab": {
          "base_uri": "https://localhost:8080/",
          "height": 163
        },
        "outputId": "85159ab0-3bf4-4eec-b784-47afff0d2993"
      },
      "source": [
        "# SCRUB\n",
        "\n",
        "mondays = dodgers[dodgers['day_of_week'] == 'Monday']\n",
        "tuesdays = dodgers[dodgers['day_of_week'] == 'Tuesday']\n",
        "wednesdays = dodgers[dodgers['day_of_week'] == 'Wednesday']\n",
        "thursdays = dodgers[dodgers['day_of_week'] == 'Thursday']\n",
        "fridays = dodgers[dodgers['day_of_week'] == 'Friday']\n",
        "saturdays = dodgers[dodgers['day_of_week'] == 'Saturday']\n",
        "sundays = dodgers[dodgers['day_of_week'] == 'Sunday']\n",
        "\n",
        "# convert days' attendance into list of vectors for box plot\n",
        "data = [mondays['attend_000'], tuesdays['attend_000'], \n",
        "    wednesdays['attend_000'], thursdays['attend_000'], \n",
        "    fridays['attend_000'], saturdays['attend_000'], \n",
        "    sundays['attend_000']]\n",
        "ordered_day_names = ['Mon', 'Tue', 'Wed', 'Thur', 'Fri', 'Sat', 'Sun']\n",
        "\n",
        "ordered_team_names = (sorted(set(dodgers['opponent']), reverse = True))\n",
        "\n",
        "# print the first five rows of the data frame\n",
        "print(pd.DataFrame.head(dodgers))\n",
        "dodgerDF = pd.DataFrame(dodgers)"
      ],
      "execution_count": 4,
      "outputs": [
        {
          "output_type": "stream",
          "text": [
            "  month  day  attend day_of_week  ... fireworks  bobblehead    division attend_000\n",
            "0   APR   10   56000     Tuesday  ...        NO          NO  Divisional     56.000\n",
            "1   APR   11   29729   Wednesday  ...        NO          NO       Cross     29.729\n",
            "2   APR   12   28328    Thursday  ...        NO          NO       Cross     28.328\n",
            "3   APR   13   31601      Friday  ...       YES          NO       Cross     31.601\n",
            "4   APR   14   46549    Saturday  ...        NO          NO  Divisional     46.549\n",
            "\n",
            "[5 rows x 14 columns]\n"
          ],
          "name": "stdout"
        }
      ]
    },
    {
      "cell_type": "code",
      "metadata": {
        "id": "EX6oWqZaVqkp",
        "colab_type": "code",
        "colab": {
          "base_uri": "https://localhost:8080/",
          "height": 777
        },
        "outputId": "aa656f56-b1de-4701-f073-6f4873a9ff37"
      },
      "source": [
        "## SUMMARY STATISTICS\n",
        "\n",
        "np.mean(dodgers['attend'])\n",
        "# np.min(dodgers['attend'])\n",
        "# np.max(dodgers['attend'])\n",
        "\n",
        "sns.boxplot(y=\"attend\", data=dodgers)\n",
        "plt.show()\n",
        "\n",
        "sns.boxplot(x=\"day_of_week\", y=\"attend\", data=dodgers, color = \"gray\");\n",
        "plt.show()\n",
        "\n",
        "# NUMBER OF PROMOTIONS - ONLY WORKS WITH BINARY VARIABLES\n",
        "\n",
        "#cap = np.count_nonzero(dodgers['cap'])\n",
        "#print(cap)\n",
        "#shirt = np.count_nonzero(dodgers['shirt'])\n",
        "#print(shirt)\n",
        "#fire = np.count_nonzero(dodgers['fireworks'])\n",
        "#print(fire)\n",
        "#bob = np.count_nonzero(dodgers['bobblehead'])\n",
        "#print(bob)\n",
        "\n",
        "#print(cap + shirt + fire + bob)\n",
        "\n",
        "sns.boxplot(x=\"month\", y=\"attend\", data=dodgers, color = \"gray\")\n",
        "plt.show()"
      ],
      "execution_count": 5,
      "outputs": [
        {
          "output_type": "display_data",
          "data": {
            "image/png": "[encoded data removed]",
            "text/plain": [
              "<Figure size 432x288 with 1 Axes>"
            ]
          },
          "metadata": {
            "tags": []
          }
        },
        {
          "output_type": "display_data",
          "data": {
            "image/png": "[encoded data removed]",
            "text/plain": [
              "<Figure size 432x288 with 1 Axes>"
            ]
          },
          "metadata": {
            "tags": []
          }
        },
        {
          "output_type": "display_data",
          "data": {
            "image/png": "[encoded data removed]",
            "text/plain": [
              "<Figure size 432x288 with 1 Axes>"
            ]
          },
          "metadata": {
            "tags": []
          }
        }
      ]
    },
    {
      "cell_type": "code",
      "metadata": {
        "id": "ie9OKHS5VxyC",
        "colab_type": "code",
        "colab": {
          "base_uri": "https://localhost:8080/",
          "height": 354
        },
        "outputId": "3ac4b75f-8435-4c53-948b-ed9efa58a26c"
      },
      "source": [
        "# EXPLORE\n",
        "# FROM MILLER (2015)\n",
        "fig, axis = plt.subplots()\n",
        "axis.set_xlabel('Day of Week')\n",
        "axis.set_ylabel('Attendance (thousands)')\n",
        "day_plot = plt.boxplot(data, sym='o', vert=1, whis=1.5)\n",
        "plt.setp(day_plot['boxes'], color = 'black')    \n",
        "plt.setp(day_plot['whiskers'], color = 'black')    \n",
        "plt.setp(day_plot['fliers'], color = 'black', marker = 'o')\n",
        "axis.set_xticklabels(ordered_day_names)\n",
        "#plt.show()\n",
        "plt.savefig('fig_advert_promo_dodgers_eda_day_of_week_Python.pdf', \n",
        "    bbox_inches = 'tight', dpi=None, facecolor='w', edgecolor='b', \n",
        "    orientation='portrait', papertype=None, format=None, \n",
        "    transparent=True, pad_inches=0.25, frameon=None) \n",
        "plt.show()"
      ],
      "execution_count": 6,
      "outputs": [
        {
          "output_type": "stream",
          "text": [
            "/usr/local/lib/python3.6/dist-packages/ipykernel_launcher.py:13: MatplotlibDeprecationWarning: \n",
            "The frameon kwarg was deprecated in Matplotlib 3.1 and will be removed in 3.3. Use facecolor instead.\n",
            "  del sys.path[0]\n"
          ],
          "name": "stderr"
        },
        {
          "output_type": "display_data",
          "data": {
            "image/png": "[encoded data removed]",
            "text/plain": [
              "<Figure size 432x288 with 1 Axes>"
            ]
          },
          "metadata": {
            "tags": []
          }
        }
      ]
    },
    {
      "cell_type": "code",
      "metadata": {
        "id": "exh5vdOTWGMC",
        "colab_type": "code",
        "colab": {
          "base_uri": "https://localhost:8080/",
          "height": 629
        },
        "outputId": "8d7ed77b-94b0-4919-e726-f31f13c7b0d3"
      },
      "source": [
        "# EXPLORE\n",
        "# trellis/lattice plot attendance by temp, conditioning on skies \n",
        "# and day_night with bobblehead NO/YES shown in distinct colors\n",
        "import seaborn as sns\n",
        "\n",
        "sns.set(style=\"darkgrid\")\n",
        "\n",
        "g = sns.FacetGrid(dodgers, col=\"skies\", hue=\"fireworks\", \n",
        "                  hue_order=[\"YES\", \"NO\"],\n",
        "                  hue_kws=dict(marker=[\"^\", \"v\"]))\n",
        "g.map(plt.scatter, \"temp\", \"attend\", alpha=.7)\n",
        "g.add_legend();\n",
        "plt.show()\n",
        "\n",
        "g = sns.FacetGrid(dodgers, col=\"day_night\", hue=\"fireworks\",\n",
        "                hue_order=[\"YES\", \"NO\"],)\n",
        "g.map(plt.scatter, \"temp\", \"attend\", alpha=.7)\n",
        "g.add_legend();\n",
        "plt.show()\n",
        "\n",
        "g = sns.FacetGrid(dodgers, col=\"day_night\", hue=\"bobblehead\",\n",
        "                hue_order=[\"YES\", \"NO\"],)\n",
        "g.map(plt.scatter, \"temp\", \"attend\", alpha=.7)\n",
        "g.add_legend();\n",
        "plt.show()"
      ],
      "execution_count": 7,
      "outputs": [
        {
          "output_type": "display_data",
          "data": {
            "image/png": "[encoded data removed]",
            "text/plain": [
              "<Figure size 492.35x216 with 2 Axes>"
            ]
          },
          "metadata": {
            "tags": []
          }
        },
        {
          "output_type": "display_data",
          "data": {
            "image/png": "[encoded data removed]",
            "text/plain": [
              "<Figure size 492.35x216 with 2 Axes>"
            ]
          },
          "metadata": {
            "tags": []
          }
        },
        {
          "output_type": "display_data",
          "data": {
            "image/png": "[encoded data removed]",
            "text/plain": [
              "<Figure size 501.05x216 with 2 Axes>"
            ]
          },
          "metadata": {
            "tags": []
          }
        }
      ]
    },
    {
      "cell_type": "code",
      "metadata": {
        "id": "QYa1EGYMWMW6",
        "colab_type": "code",
        "colab": {
          "base_uri": "https://localhost:8080/",
          "height": 553
        },
        "outputId": "386f32db-f402-44cf-85a7-37930ab23d95"
      },
      "source": [
        "# EXPLORE - DODGER PROMOTIONS BY TYPE\n",
        "\n",
        "sns.countplot(y=\"fireworks\", data=dodgers, palette=\"Blues_d\",\n",
        "             order=[\"YES\", \"NO\"])\n",
        "#g.add_legend();\n",
        "plt.show()\n",
        "\n",
        "sns.countplot(y=\"bobblehead\", hue=\"day_night\",\n",
        "                data=dodgers, palette=\"Blues_d\",\n",
        "                order=[\"YES\", \"NO\"])\n",
        "#g.add_legend();\n",
        "plt.show()"
      ],
      "execution_count": 8,
      "outputs": [
        {
          "output_type": "display_data",
          "data": {
            "image/png": "[encoded data removed]",
            "text/plain": [
              "<Figure size 432x288 with 1 Axes>"
            ]
          },
          "metadata": {
            "tags": []
          }
        },
        {
          "output_type": "display_data",
          "data": {
            "image/png": "[encoded data removed]",
            "text/plain": [
              "<Figure size 432x288 with 1 Axes>"
            ]
          },
          "metadata": {
            "tags": []
          }
        }
      ]
    },
    {
      "cell_type": "code",
      "metadata": {
        "id": "96GUG_V7WSHy",
        "colab_type": "code",
        "colab": {
          "base_uri": "https://localhost:8080/",
          "height": 285
        },
        "outputId": "9bfeb020-4bdb-4a20-dfc7-2f7bbf537321"
      },
      "source": [
        "# EXPLORE - Dodgers attendance by Visiting Team\n",
        "# Figure 2.4 from Miller\n",
        "\n",
        "# teams = sorted([\"opponent\"], reverse=True)\n",
        "sns.swarmplot(x=\"attend\", y=\"opponent\", hue=\"day_night\", \n",
        "              data=dodgers, order =ordered_team_names)\n",
        "#g.add_legend();\n",
        "plt.show()"
      ],
      "execution_count": 9,
      "outputs": [
        {
          "output_type": "display_data",
          "data": {
            "image/png": "[encoded data removed]",
            "text/plain": [
              "<Figure size 432x288 with 1 Axes>"
            ]
          },
          "metadata": {
            "tags": []
          }
        }
      ]
    },
    {
      "cell_type": "code",
      "metadata": {
        "id": "ou_D-kg6WXhq",
        "colab_type": "code",
        "colab": {
          "base_uri": "https://localhost:8080/",
          "height": 301
        },
        "outputId": "a3bdc4f4-2d8d-4f5c-800b-07b804e4a985"
      },
      "source": [
        "# EXPLORE - CREATE A HISTOGRAM OF ATTENDANCE\n",
        "\n",
        "# CREATE BINS\n",
        "\n",
        "plt.hist(dodgers['attend'], density= False, stacked = False, rwidth = .9)\n",
        "plt.title(\"Attendance Histogram\")\n",
        "plt.xlabel('Attendance')\n",
        "plt.ylabel('Frequency')\n",
        "\n",
        "plt.show()"
      ],
      "execution_count": 10,
      "outputs": [
        {
          "output_type": "display_data",
          "data": {
            "image/png": "[encoded data removed]",
            "text/plain": [
              "<Figure size 432x288 with 1 Axes>"
            ]
          },
          "metadata": {
            "tags": []
          }
        }
      ]
    },
    {
      "cell_type": "code",
      "metadata": {
        "id": "TOrY8FXhWeEz",
        "colab_type": "code",
        "colab": {}
      },
      "source": [
        "# SCRUB\n",
        "\n",
        "# BLOCK FOR ORDERING DATA\n",
        "\n",
        "# map day_of_week to ordered_day_of_week \n",
        "day_to_ordered_day = {'Monday' : '1Monday', \n",
        "    'Tuesday' : '2Tuesday', \n",
        "    'Wednesday' : '3Wednesday', \n",
        "    'Thursday' : '4Thursday', \n",
        "    'Friday' : '5Friday',\n",
        "    'Saturday' : '6Saturday',\n",
        "    'Sunday' : '7Sunday'}\n",
        "dodgers['ordered_day_of_week'] = dodgers['day_of_week'].map(day_to_ordered_day)   \n",
        "\n",
        "# map month to ordered_month\n",
        "month_to_ordered_month = {'APR' : '1April', \n",
        "     'MAY' : '2May', \n",
        "     'JUN' : '3June', \n",
        "     'JUL' : '4July', \n",
        "     'AUG' : '5Aug',\n",
        "     'SEP' : '6Sept',\n",
        "     'OCT' : '7Oct'}\n",
        "dodgers['ordered_month'] = dodgers['month'].map(month_to_ordered_month)"
      ],
      "execution_count": 0,
      "outputs": []
    },
    {
      "cell_type": "code",
      "metadata": {
        "id": "5ctA5LHSWiTC",
        "colab_type": "code",
        "colab": {
          "base_uri": "https://localhost:8080/",
          "height": 381
        },
        "outputId": "bac44dfc-03d5-481c-eeb9-c15ab07f6351"
      },
      "source": [
        "# SCRUB\n",
        "\n",
        "# employ training-and-test regimen for model validation\n",
        "np.random.seed(1234)\n",
        "dodgers['runiform'] = uniform.rvs(loc = 0, scale = 1, size = len(dodgers))\n",
        "dodgers_train = dodgers[dodgers['runiform'] >= 0.33]\n",
        "dodgers_test = dodgers[dodgers['runiform'] < 0.33]\n",
        "# check training data frame\n",
        "print('\\ndodgers_train data frame (rows, columns): ',dodgers_train.shape)\n",
        "print(dodgers_train.head())\n",
        "# check test data frame\n",
        "print('\\ndodgers_test data frame (rows, columns): ',dodgers_test.shape)\n",
        "print(dodgers_test.head())"
      ],
      "execution_count": 12,
      "outputs": [
        {
          "output_type": "stream",
          "text": [
            "\n",
            "dodgers_train data frame (rows, columns):  (57, 17)\n",
            "  month  day  attend  ... ordered_day_of_week ordered_month  runiform\n",
            "1   APR   11   29729  ...          3Wednesday        1April  0.622109\n",
            "2   APR   12   28328  ...           4Thursday        1April  0.437728\n",
            "3   APR   13   31601  ...             5Friday        1April  0.785359\n",
            "4   APR   14   46549  ...           6Saturday        1April  0.779976\n",
            "7   APR   24   44014  ...            2Tuesday        1April  0.801872\n",
            "\n",
            "[5 rows x 17 columns]\n",
            "\n",
            "dodgers_test data frame (rows, columns):  (24, 17)\n",
            "   month  day  attend  ... ordered_day_of_week ordered_month  runiform\n",
            "0    APR   10   56000  ...            2Tuesday        1April  0.191519\n",
            "5    APR   15   38359  ...             7Sunday        1April  0.272593\n",
            "6    APR   23   26376  ...             1Monday        1April  0.276464\n",
            "17   MAY   13   49124  ...             7Sunday          2May  0.013768\n",
            "22   MAY   20   44005  ...             7Sunday          2May  0.075381\n",
            "\n",
            "[5 rows x 17 columns]\n"
          ],
          "name": "stdout"
        }
      ]
    },
    {
      "cell_type": "markdown",
      "metadata": {
        "id": "2XkZLzjzWnI6",
        "colab_type": "text"
      },
      "source": [
        "What is the difference between continuous and categorical variables?¶\n"
      ]
    },
    {
      "cell_type": "markdown",
      "metadata": {
        "id": "fDNf1QY2WtcR",
        "colab_type": "text"
      },
      "source": [
        "# And why should we care?¶\n"
      ]
    },
    {
      "cell_type": "code",
      "metadata": {
        "id": "bIqOLslgWzDK",
        "colab_type": "code",
        "colab": {
          "base_uri": "https://localhost:8080/",
          "height": 710
        },
        "outputId": "d90294ba-98cd-4817-912f-2f4e5cc97b82"
      },
      "source": [
        "# MODEL\n",
        "\n",
        "# specify a simple model with attend as a function of temp\n",
        "my_model_simple = str('attend ~ temp')\n",
        "\n",
        "# fit the model to the training set\n",
        "train_model_fit = smf.ols(my_model_simple, data = dodgers_train).fit()\n",
        "# summary of model fit to the training set\n",
        "print(train_model_fit.summary())\n",
        "# training set predictions from the model fit to the training set\n",
        "dodgers_train['predict_attend'] = train_model_fit.fittedvalues\n",
        "\n",
        "# test set predictions from the model fit to the training set\n",
        "dodgers_test['predict_attend'] = train_model_fit.predict(dodgers_test)"
      ],
      "execution_count": 13,
      "outputs": [
        {
          "output_type": "stream",
          "text": [
            "                            OLS Regression Results                            \n",
            "==============================================================================\n",
            "Dep. Variable:                 attend   R-squared:                       0.016\n",
            "Model:                            OLS   Adj. R-squared:                 -0.002\n",
            "Method:                 Least Squares   F-statistic:                    0.9075\n",
            "Date:                Thu, 23 Jan 2020   Prob (F-statistic):              0.345\n",
            "Time:                        03:04:06   Log-Likelihood:                -595.47\n",
            "No. Observations:                  57   AIC:                             1195.\n",
            "Df Residuals:                      55   BIC:                             1199.\n",
            "Df Model:                           1                                         \n",
            "Covariance Type:            nonrobust                                         \n",
            "==============================================================================\n",
            "                 coef    std err          t      P>|t|      [0.025      0.975]\n",
            "------------------------------------------------------------------------------\n",
            "Intercept   3.192e+04   9899.922      3.225      0.002    1.21e+04    5.18e+04\n",
            "temp         129.4781    135.915      0.953      0.345    -142.902     401.858\n",
            "==============================================================================\n",
            "Omnibus:                        6.787   Durbin-Watson:                   1.868\n",
            "Prob(Omnibus):                  0.034   Jarque-Bera (JB):                2.633\n",
            "Skew:                           0.160   Prob(JB):                        0.268\n",
            "Kurtosis:                       1.997   Cond. No.                         642.\n",
            "==============================================================================\n",
            "\n",
            "Warnings:\n",
            "[1] Standard Errors assume that the covariance matrix of the errors is correctly specified.\n"
          ],
          "name": "stdout"
        },
        {
          "output_type": "stream",
          "text": [
            "/usr/local/lib/python3.6/dist-packages/ipykernel_launcher.py:8: SettingWithCopyWarning: \n",
            "A value is trying to be set on a copy of a slice from a DataFrame.\n",
            "Try using .loc[row_indexer,col_indexer] = value instead\n",
            "\n",
            "See the caveats in the documentation: http://pandas.pydata.org/pandas-docs/stable/user_guide/indexing.html#returning-a-view-versus-a-copy\n",
            "  \n",
            "/usr/local/lib/python3.6/dist-packages/ipykernel_launcher.py:11: SettingWithCopyWarning: \n",
            "A value is trying to be set on a copy of a slice from a DataFrame.\n",
            "Try using .loc[row_indexer,col_indexer] = value instead\n",
            "\n",
            "See the caveats in the documentation: http://pandas.pydata.org/pandas-docs/stable/user_guide/indexing.html#returning-a-view-versus-a-copy\n",
            "  # This is added back by InteractiveShellApp.init_path()\n"
          ],
          "name": "stderr"
        }
      ]
    },
    {
      "cell_type": "code",
      "metadata": {
        "id": "R9VgJfx8W8ta",
        "colab_type": "code",
        "colab": {
          "base_uri": "https://localhost:8080/",
          "height": 965
        },
        "outputId": "1d30c2e6-2c0e-49fd-e171-3ad1f529c41b"
      },
      "source": [
        "# MODEL\n",
        "\n",
        "my_model = str('attend ~ ordered_month + ordered_day_of_week + temp')\n",
        "\n",
        "# fit the model to the training set\n",
        "train_model_fit = smf.ols(my_model, data = dodgers_train).fit()\n",
        "# summary of model fit to the training set\n",
        "print(train_model_fit.summary())\n",
        "# training set predictions from the model fit to the training set\n",
        "dodgers_train['predict_attend'] = train_model_fit.fittedvalues\n",
        "\n",
        "# test set predictions from the model fit to the training set\n",
        "dodgers_test['predict_attend'] = train_model_fit.predict(dodgers_test)"
      ],
      "execution_count": 14,
      "outputs": [
        {
          "output_type": "stream",
          "text": [
            "                            OLS Regression Results                            \n",
            "==============================================================================\n",
            "Dep. Variable:                 attend   R-squared:                       0.468\n",
            "Model:                            OLS   Adj. R-squared:                  0.307\n",
            "Method:                 Least Squares   F-statistic:                     2.910\n",
            "Date:                Thu, 23 Jan 2020   Prob (F-statistic):            0.00420\n",
            "Time:                        03:04:39   Log-Likelihood:                -577.95\n",
            "No. Observations:                  57   AIC:                             1184.\n",
            "Df Residuals:                      43   BIC:                             1213.\n",
            "Df Model:                          13                                         \n",
            "Covariance Type:            nonrobust                                         \n",
            "=====================================================================================================\n",
            "                                        coef    std err          t      P>|t|      [0.025      0.975]\n",
            "-----------------------------------------------------------------------------------------------------\n",
            "Intercept                           2.49e+04   1.52e+04      1.638      0.109   -5759.104    5.56e+04\n",
            "ordered_month[T.2May]             -3869.7993   3288.457     -1.177      0.246   -1.05e+04    2762.006\n",
            "ordered_month[T.3June]             8052.7382   3972.408      2.027      0.049      41.613    1.61e+04\n",
            "ordered_month[T.4July]             4781.6755   4482.399      1.067      0.292   -4257.943    1.38e+04\n",
            "ordered_month[T.5Aug]              1682.8983   4677.278      0.360      0.721   -7749.732    1.11e+04\n",
            "ordered_month[T.6Sept]            -2775.6537   5823.370     -0.477      0.636   -1.45e+04    8968.292\n",
            "ordered_month[T.7Oct]             -3809.4764   8977.180     -0.424      0.673   -2.19e+04    1.43e+04\n",
            "ordered_day_of_week[T.2Tuesday]    1.252e+04   3667.325      3.413      0.001    5121.774    1.99e+04\n",
            "ordered_day_of_week[T.3Wednesday]   -84.0097   3926.058     -0.021      0.983   -8001.660    7833.641\n",
            "ordered_day_of_week[T.4Thursday]   3216.5549   4587.057      0.701      0.487   -6034.127    1.25e+04\n",
            "ordered_day_of_week[T.5Friday]     4513.4709   3602.427      1.253      0.217   -2751.516    1.18e+04\n",
            "ordered_day_of_week[T.6Saturday]   6213.1215   3538.844      1.756      0.086    -923.638    1.33e+04\n",
            "ordered_day_of_week[T.7Sunday]     3777.7044   3978.672      0.949      0.348   -4246.053    1.18e+04\n",
            "temp                                158.6002    231.180      0.686      0.496    -307.618     624.819\n",
            "==============================================================================\n",
            "Omnibus:                        2.027   Durbin-Watson:                   2.235\n",
            "Prob(Omnibus):                  0.363   Jarque-Bera (JB):                1.870\n",
            "Skew:                           0.432   Prob(JB):                        0.393\n",
            "Kurtosis:                       2.794   Cond. No.                     1.34e+03\n",
            "==============================================================================\n",
            "\n",
            "Warnings:\n",
            "[1] Standard Errors assume that the covariance matrix of the errors is correctly specified.\n",
            "[2] The condition number is large, 1.34e+03. This might indicate that there are\n",
            "strong multicollinearity or other numerical problems.\n"
          ],
          "name": "stdout"
        },
        {
          "output_type": "stream",
          "text": [
            "/usr/local/lib/python3.6/dist-packages/ipykernel_launcher.py:9: SettingWithCopyWarning: \n",
            "A value is trying to be set on a copy of a slice from a DataFrame.\n",
            "Try using .loc[row_indexer,col_indexer] = value instead\n",
            "\n",
            "See the caveats in the documentation: http://pandas.pydata.org/pandas-docs/stable/user_guide/indexing.html#returning-a-view-versus-a-copy\n",
            "  if __name__ == '__main__':\n",
            "/usr/local/lib/python3.6/dist-packages/ipykernel_launcher.py:12: SettingWithCopyWarning: \n",
            "A value is trying to be set on a copy of a slice from a DataFrame.\n",
            "Try using .loc[row_indexer,col_indexer] = value instead\n",
            "\n",
            "See the caveats in the documentation: http://pandas.pydata.org/pandas-docs/stable/user_guide/indexing.html#returning-a-view-versus-a-copy\n",
            "  if sys.path[0] == '':\n"
          ],
          "name": "stderr"
        }
      ]
    },
    {
      "cell_type": "code",
      "metadata": {
        "id": "xlJleSJNXCwL",
        "colab_type": "code",
        "colab": {
          "base_uri": "https://localhost:8080/",
          "height": 983
        },
        "outputId": "7828f401-2c6b-4ce8-be2c-c00056dc626f"
      },
      "source": [
        "# MODEL\n",
        "\n",
        "my_model = str('attend ~ ordered_month + ordered_day_of_week + temp + division')\n",
        "\n",
        "# fit the model to the training set\n",
        "train_model_fit = smf.ols(my_model, data = dodgers_train).fit()\n",
        "# summary of model fit to the training set\n",
        "print(train_model_fit.summary())\n",
        "# training set predictions from the model fit to the training set\n",
        "dodgers_train['predict_attend'] = train_model_fit.fittedvalues\n",
        "\n",
        "# test set predictions from the model fit to the training set\n",
        "dodgers_test['predict_attend'] = train_model_fit.predict(dodgers_test)"
      ],
      "execution_count": 15,
      "outputs": [
        {
          "output_type": "stream",
          "text": [
            "                            OLS Regression Results                            \n",
            "==============================================================================\n",
            "Dep. Variable:                 attend   R-squared:                       0.773\n",
            "Model:                            OLS   Adj. R-squared:                  0.697\n",
            "Method:                 Least Squares   F-statistic:                     10.21\n",
            "Date:                Thu, 23 Jan 2020   Prob (F-statistic):           2.08e-09\n",
            "Time:                        03:05:04   Log-Likelihood:                -553.69\n",
            "No. Observations:                  57   AIC:                             1137.\n",
            "Df Residuals:                      42   BIC:                             1168.\n",
            "Df Model:                          14                                         \n",
            "Covariance Type:            nonrobust                                         \n",
            "=====================================================================================================\n",
            "                                        coef    std err          t      P>|t|      [0.025      0.975]\n",
            "-----------------------------------------------------------------------------------------------------\n",
            "Intercept                          2.929e+04   1.01e+04      2.909      0.006    8973.306    4.96e+04\n",
            "ordered_month[T.2May]               584.6644   2253.704      0.259      0.797   -3963.494    5132.822\n",
            "ordered_month[T.3June]             3813.9370   2686.405      1.420      0.163   -1607.447    9235.321\n",
            "ordered_month[T.4July]             5009.7775   2963.749      1.690      0.098    -971.311     1.1e+04\n",
            "ordered_month[T.5Aug]              3604.4688   3103.014      1.162      0.252   -2657.667    9866.605\n",
            "ordered_month[T.6Sept]              300.9676   3871.940      0.078      0.938   -7512.924    8114.859\n",
            "ordered_month[T.7Oct]              1950.9041   5984.759      0.326      0.746   -1.01e+04     1.4e+04\n",
            "ordered_day_of_week[T.2Tuesday]    5762.4878   2586.253      2.228      0.031     543.219     1.1e+04\n",
            "ordered_day_of_week[T.3Wednesday]   649.0205   2597.598      0.250      0.804   -4593.144    5891.185\n",
            "ordered_day_of_week[T.4Thursday]    145.1171   3060.257      0.047      0.962   -6030.732    6320.966\n",
            "ordered_day_of_week[T.5Friday]     1186.3441   2422.665      0.490      0.627   -3702.793    6075.481\n",
            "ordered_day_of_week[T.6Saturday]   2565.0273   2389.673      1.073      0.289   -2257.529    7387.583\n",
            "ordered_day_of_week[T.7Sunday]     3021.4421   2632.477      1.148      0.258   -2291.111    8333.995\n",
            "division[T.Divisional]             1.168e+04   1555.994      7.508      0.000    8542.026    1.48e+04\n",
            "temp                                 25.8578    153.867      0.168      0.867    -284.658     336.373\n",
            "==============================================================================\n",
            "Omnibus:                        1.599   Durbin-Watson:                   2.251\n",
            "Prob(Omnibus):                  0.450   Jarque-Bera (JB):                1.171\n",
            "Skew:                          -0.068   Prob(JB):                        0.557\n",
            "Kurtosis:                       2.311   Cond. No.                     1.34e+03\n",
            "==============================================================================\n",
            "\n",
            "Warnings:\n",
            "[1] Standard Errors assume that the covariance matrix of the errors is correctly specified.\n",
            "[2] The condition number is large, 1.34e+03. This might indicate that there are\n",
            "strong multicollinearity or other numerical problems.\n"
          ],
          "name": "stdout"
        },
        {
          "output_type": "stream",
          "text": [
            "/usr/local/lib/python3.6/dist-packages/ipykernel_launcher.py:9: SettingWithCopyWarning: \n",
            "A value is trying to be set on a copy of a slice from a DataFrame.\n",
            "Try using .loc[row_indexer,col_indexer] = value instead\n",
            "\n",
            "See the caveats in the documentation: http://pandas.pydata.org/pandas-docs/stable/user_guide/indexing.html#returning-a-view-versus-a-copy\n",
            "  if __name__ == '__main__':\n",
            "/usr/local/lib/python3.6/dist-packages/ipykernel_launcher.py:12: SettingWithCopyWarning: \n",
            "A value is trying to be set on a copy of a slice from a DataFrame.\n",
            "Try using .loc[row_indexer,col_indexer] = value instead\n",
            "\n",
            "See the caveats in the documentation: http://pandas.pydata.org/pandas-docs/stable/user_guide/indexing.html#returning-a-view-versus-a-copy\n",
            "  if sys.path[0] == '':\n"
          ],
          "name": "stderr"
        }
      ]
    },
    {
      "cell_type": "code",
      "metadata": {
        "id": "UlwqfbLlXHPj",
        "colab_type": "code",
        "colab": {
          "base_uri": "https://localhost:8080/",
          "height": 285
        },
        "outputId": "61857559-2ff4-46e3-afc7-c85d20b9cabf"
      },
      "source": [
        "# WHY DOES THIS WORK?\n",
        "\n",
        "# EXPLORE\n",
        "\n",
        "sns.boxplot(x=\"division\", y=\"attend\", data=dodgers, color = \"gray\")\n",
        "plt.show()"
      ],
      "execution_count": 16,
      "outputs": [
        {
          "output_type": "display_data",
          "data": {
            "image/png": "[encoded data removed]",
            "text/plain": [
              "<Figure size 432x288 with 1 Axes>"
            ]
          },
          "metadata": {
            "tags": []
          }
        }
      ]
    },
    {
      "cell_type": "code",
      "metadata": {
        "id": "Em3o9aZMXLX9",
        "colab_type": "code",
        "colab": {
          "base_uri": "https://localhost:8080/",
          "height": 837
        },
        "outputId": "f3e5cb80-e64d-42fd-bac1-3e14a6e6904a"
      },
      "source": [
        "# MODEL\n",
        "# compute the proportion of response variance\n",
        "# accounted for when predicting out-of-sample\n",
        "print('\\nProportion of Test Set Variance Accounted for: ',\\\n",
        "    round(np.power(dodgers_test['attend'].corr(dodgers_test['predict_attend']),2),3))\n",
        "\n",
        "# use the full data set to obtain an estimate of the increase in\n",
        "# attendance due to bobbleheads, controlling for other factors \n",
        "my_model_fit = smf.ols(my_model, data = dodgers).fit()\n",
        "print(my_model_fit.summary())\n",
        "\n",
        "print('\\nEstimated Effect of Bobblehead Promotion on Attendance: ',\\\n",
        "    round(my_model_fit.params[13],0))\n",
        "    \n",
        "# Suggestions for the student: Reproduce the figures in this chapter\n",
        "# using matplotlib, ggplot, and/or rpy2 calls to R graphics. \n",
        "# Examine regression diagnostics for the fitted model.\n",
        "# Examine other linear predictors and other explanatory variables.\n",
        "# See if you can improve upon the model with variable transformations."
      ],
      "execution_count": 17,
      "outputs": [
        {
          "output_type": "stream",
          "text": [
            "\n",
            "Proportion of Test Set Variance Accounted for:  0.654\n",
            "                            OLS Regression Results                            \n",
            "==============================================================================\n",
            "Dep. Variable:                 attend   R-squared:                       0.740\n",
            "Model:                            OLS   Adj. R-squared:                  0.684\n",
            "Method:                 Least Squares   F-statistic:                     13.39\n",
            "Date:                Thu, 23 Jan 2020   Prob (F-statistic):           2.96e-14\n",
            "Time:                        03:05:44   Log-Likelihood:                -790.86\n",
            "No. Observations:                  81   AIC:                             1612.\n",
            "Df Residuals:                      66   BIC:                             1648.\n",
            "Df Model:                          14                                         \n",
            "Covariance Type:            nonrobust                                         \n",
            "=====================================================================================================\n",
            "                                        coef    std err          t      P>|t|      [0.025      0.975]\n",
            "-----------------------------------------------------------------------------------------------------\n",
            "Intercept                          2.385e+04   8129.380      2.933      0.005    7614.677    4.01e+04\n",
            "ordered_month[T.2May]              -964.9691   1898.582     -0.508      0.613   -4755.610    2825.672\n",
            "ordered_month[T.3June]             1971.3590   2362.316      0.835      0.407   -2745.157    6687.875\n",
            "ordered_month[T.4July]             3075.5584   2306.266      1.334      0.187   -1529.050    7680.167\n",
            "ordered_month[T.5Aug]               556.2247   2584.157      0.215      0.830   -4603.211    5715.660\n",
            "ordered_month[T.6Sept]            -3238.4359   3272.364     -0.990      0.326   -9771.922    3295.051\n",
            "ordered_month[T.7Oct]             -3222.6851   4077.866     -0.790      0.432   -1.14e+04    4919.037\n",
            "ordered_day_of_week[T.2Tuesday]    5107.2349   2057.841      2.482      0.016     998.622    9215.848\n",
            "ordered_day_of_week[T.3Wednesday]   840.9701   1923.721      0.437      0.663   -2999.862    4681.803\n",
            "ordered_day_of_week[T.4Thursday]   1169.0782   2578.512      0.453      0.652   -3979.086    6317.243\n",
            "ordered_day_of_week[T.5Friday]     1627.1233   1985.461      0.820      0.415   -2336.978    5591.225\n",
            "ordered_day_of_week[T.6Saturday]   2762.5645   2013.754      1.372      0.175   -1258.026    6783.154\n",
            "ordered_day_of_week[T.7Sunday]     2941.9877   2053.540      1.433      0.157   -1158.037    7042.012\n",
            "division[T.Divisional]             1.132e+04   1269.521      8.921      0.000    8790.297    1.39e+04\n",
            "temp                                123.3839    126.935      0.972      0.335    -130.050     376.818\n",
            "==============================================================================\n",
            "Omnibus:                       13.469   Durbin-Watson:                   2.315\n",
            "Prob(Omnibus):                  0.001   Jarque-Bera (JB):                3.798\n",
            "Skew:                          -0.025   Prob(JB):                        0.150\n",
            "Kurtosis:                       1.940   Cond. No.                     1.32e+03\n",
            "==============================================================================\n",
            "\n",
            "Warnings:\n",
            "[1] Standard Errors assume that the covariance matrix of the errors is correctly specified.\n",
            "[2] The condition number is large, 1.32e+03. This might indicate that there are\n",
            "strong multicollinearity or other numerical problems.\n",
            "\n",
            "Estimated Effect of Bobblehead Promotion on Attendance:  11325.0\n"
          ],
          "name": "stdout"
        }
      ]
    },
    {
      "cell_type": "code",
      "metadata": {
        "id": "wemxxtv3XQhM",
        "colab_type": "code",
        "colab": {
          "base_uri": "https://localhost:8080/",
          "height": 321
        },
        "outputId": "80bca59f-02b9-4b99-9eb0-ae608f06ca3a"
      },
      "source": [
        "# EXPLORE\n",
        "corr = dodgerDF.corr()\n",
        "\n",
        "# Generate a mask for the upper triangle\n",
        "mask = np.zeros_like(corr, dtype=np.bool)\n",
        "mask[np.triu_indices_from(mask)] = True\n",
        "\n",
        "# Set up the matplotlib figure\n",
        "#f, ax = plt.subplots(figsize=(11, 9))\n",
        "\n",
        "# Generate a custom diverging colormap\n",
        "cmap = sns.diverging_palette(220, 10, as_cmap=True)\n",
        "\n",
        "# Draw the heatmap with the mask and correct aspect ratio\n",
        "sns.heatmap(corr, mask=mask, cmap=cmap, vmax=.3, center=0,\n",
        "            square=True, linewidths=.5, cbar_kws={\"shrink\": .5})\n",
        "plt.show()"
      ],
      "execution_count": 18,
      "outputs": [
        {
          "output_type": "display_data",
          "data": {
            "image/png": "[encoded data removed]",
            "text/plain": [
              "<Figure size 432x288 with 2 Axes>"
            ]
          },
          "metadata": {
            "tags": []
          }
        }
      ]
    },
    {
      "cell_type": "markdown",
      "metadata": {
        "id": "kZidijBhXc0b",
        "colab_type": "text"
      },
      "source": [
        "# Do we have to use statsmodel?\n",
        "Don't we have other choices?"
      ]
    },
    {
      "cell_type": "code",
      "metadata": {
        "id": "kldJbIsxXjjD",
        "colab_type": "code",
        "colab": {
          "base_uri": "https://localhost:8080/",
          "height": 218
        },
        "outputId": "7818d658-d175-4b69-c897-5df0affab105"
      },
      "source": [
        "# EXPLORE\n",
        "dodgers.head()\n"
      ],
      "execution_count": 19,
      "outputs": [
        {
          "output_type": "execute_result",
          "data": {
            "text/html": [
              "<div>\n",
              "<style scoped>\n",
              "    .dataframe tbody tr th:only-of-type {\n",
              "        vertical-align: middle;\n",
              "    }\n",
              "\n",
              "    .dataframe tbody tr th {\n",
              "        vertical-align: top;\n",
              "    }\n",
              "\n",
              "    .dataframe thead th {\n",
              "        text-align: right;\n",
              "    }\n",
              "</style>\n",
              "<table border=\"1\" class=\"dataframe\">\n",
              "  <thead>\n",
              "    <tr style=\"text-align: right;\">\n",
              "      <th></th>\n",
              "      <th>month</th>\n",
              "      <th>day</th>\n",
              "      <th>attend</th>\n",
              "      <th>day_of_week</th>\n",
              "      <th>opponent</th>\n",
              "      <th>temp</th>\n",
              "      <th>skies</th>\n",
              "      <th>day_night</th>\n",
              "      <th>cap</th>\n",
              "      <th>shirt</th>\n",
              "      <th>fireworks</th>\n",
              "      <th>bobblehead</th>\n",
              "      <th>division</th>\n",
              "      <th>attend_000</th>\n",
              "      <th>ordered_day_of_week</th>\n",
              "      <th>ordered_month</th>\n",
              "      <th>runiform</th>\n",
              "    </tr>\n",
              "  </thead>\n",
              "  <tbody>\n",
              "    <tr>\n",
              "      <th>0</th>\n",
              "      <td>APR</td>\n",
              "      <td>10</td>\n",
              "      <td>56000</td>\n",
              "      <td>Tuesday</td>\n",
              "      <td>Pirates</td>\n",
              "      <td>67</td>\n",
              "      <td>Clear</td>\n",
              "      <td>Day</td>\n",
              "      <td>NO</td>\n",
              "      <td>NO</td>\n",
              "      <td>NO</td>\n",
              "      <td>NO</td>\n",
              "      <td>Divisional</td>\n",
              "      <td>56.000</td>\n",
              "      <td>2Tuesday</td>\n",
              "      <td>1April</td>\n",
              "      <td>0.191519</td>\n",
              "    </tr>\n",
              "    <tr>\n",
              "      <th>1</th>\n",
              "      <td>APR</td>\n",
              "      <td>11</td>\n",
              "      <td>29729</td>\n",
              "      <td>Wednesday</td>\n",
              "      <td>Pirates</td>\n",
              "      <td>58</td>\n",
              "      <td>Cloudy</td>\n",
              "      <td>Night</td>\n",
              "      <td>NO</td>\n",
              "      <td>NO</td>\n",
              "      <td>NO</td>\n",
              "      <td>NO</td>\n",
              "      <td>Cross</td>\n",
              "      <td>29.729</td>\n",
              "      <td>3Wednesday</td>\n",
              "      <td>1April</td>\n",
              "      <td>0.622109</td>\n",
              "    </tr>\n",
              "    <tr>\n",
              "      <th>2</th>\n",
              "      <td>APR</td>\n",
              "      <td>12</td>\n",
              "      <td>28328</td>\n",
              "      <td>Thursday</td>\n",
              "      <td>Pirates</td>\n",
              "      <td>57</td>\n",
              "      <td>Cloudy</td>\n",
              "      <td>Night</td>\n",
              "      <td>NO</td>\n",
              "      <td>NO</td>\n",
              "      <td>NO</td>\n",
              "      <td>NO</td>\n",
              "      <td>Cross</td>\n",
              "      <td>28.328</td>\n",
              "      <td>4Thursday</td>\n",
              "      <td>1April</td>\n",
              "      <td>0.437728</td>\n",
              "    </tr>\n",
              "    <tr>\n",
              "      <th>3</th>\n",
              "      <td>APR</td>\n",
              "      <td>13</td>\n",
              "      <td>31601</td>\n",
              "      <td>Friday</td>\n",
              "      <td>Padres</td>\n",
              "      <td>54</td>\n",
              "      <td>Cloudy</td>\n",
              "      <td>Night</td>\n",
              "      <td>NO</td>\n",
              "      <td>NO</td>\n",
              "      <td>YES</td>\n",
              "      <td>NO</td>\n",
              "      <td>Cross</td>\n",
              "      <td>31.601</td>\n",
              "      <td>5Friday</td>\n",
              "      <td>1April</td>\n",
              "      <td>0.785359</td>\n",
              "    </tr>\n",
              "    <tr>\n",
              "      <th>4</th>\n",
              "      <td>APR</td>\n",
              "      <td>14</td>\n",
              "      <td>46549</td>\n",
              "      <td>Saturday</td>\n",
              "      <td>Padres</td>\n",
              "      <td>57</td>\n",
              "      <td>Cloudy</td>\n",
              "      <td>Night</td>\n",
              "      <td>NO</td>\n",
              "      <td>NO</td>\n",
              "      <td>NO</td>\n",
              "      <td>NO</td>\n",
              "      <td>Divisional</td>\n",
              "      <td>46.549</td>\n",
              "      <td>6Saturday</td>\n",
              "      <td>1April</td>\n",
              "      <td>0.779976</td>\n",
              "    </tr>\n",
              "  </tbody>\n",
              "</table>\n",
              "</div>"
            ],
            "text/plain": [
              "  month  day  attend  ... ordered_day_of_week ordered_month  runiform\n",
              "0   APR   10   56000  ...            2Tuesday        1April  0.191519\n",
              "1   APR   11   29729  ...          3Wednesday        1April  0.622109\n",
              "2   APR   12   28328  ...           4Thursday        1April  0.437728\n",
              "3   APR   13   31601  ...             5Friday        1April  0.785359\n",
              "4   APR   14   46549  ...           6Saturday        1April  0.779976\n",
              "\n",
              "[5 rows x 17 columns]"
            ]
          },
          "metadata": {
            "tags": []
          },
          "execution_count": 19
        }
      ]
    },
    {
      "cell_type": "code",
      "metadata": {
        "id": "2Qqtx8oBXpcD",
        "colab_type": "code",
        "colab": {}
      },
      "source": [
        "# SCRUB\n",
        "\n",
        "from sklearn import preprocessing\n",
        "from sklearn.linear_model import LinearRegression\n",
        "\n",
        "# There are many ways to subset data - this is one\n",
        "dodgersX = dodgers[['temp']]\n",
        "dodgersY = dodgers[['attend']]"
      ],
      "execution_count": 0,
      "outputs": []
    },
    {
      "cell_type": "code",
      "metadata": {
        "id": "3HmkvfIgXvDr",
        "colab_type": "code",
        "colab": {
          "base_uri": "https://localhost:8080/",
          "height": 35
        },
        "outputId": "2766ebf3-f896-491f-9e2a-4faaa75e40bd"
      },
      "source": [
        "# MODEL\n",
        "\n",
        "# Create a basic linear model\n",
        "\n",
        "model_new = LinearRegression().fit(dodgersX, dodgersY)\n",
        "\n",
        "model_new.score(dodgersX, dodgersY)"
      ],
      "execution_count": 21,
      "outputs": [
        {
          "output_type": "execute_result",
          "data": {
            "text/plain": [
              "0.009791247146878956"
            ]
          },
          "metadata": {
            "tags": []
          },
          "execution_count": 21
        }
      ]
    },
    {
      "cell_type": "code",
      "metadata": {
        "id": "lLC1PPUfYXs-",
        "colab_type": "code",
        "colab": {}
      },
      "source": [
        "model_new.coef()"
      ],
      "execution_count": 0,
      "outputs": []
    }
  ]
}