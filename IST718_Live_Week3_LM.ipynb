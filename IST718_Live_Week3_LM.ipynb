{
  "nbformat": 4,
  "nbformat_minor": 0,
  "metadata": {
    "colab": {
      "name": "IST718_Live_Week3_LM.ipynb",
      "provenance": [],
      "collapsed_sections": [],
      "include_colab_link": true
    },
    "kernelspec": {
      "name": "python3",
      "display_name": "Python 3"
    }
  },
  "cells": [
    {
      "cell_type": "markdown",
      "metadata": {
        "id": "view-in-github",
        "colab_type": "text"
      },
      "source": [
        "<a href=\"https://colab.research.google.com/github/2SUBDA/Breakouts/blob/Week3/IST718_Live_Week3_LM.ipynb\" target=\"_parent\"><img src=\"https://colab.research.google.com/assets/colab-badge.svg\" alt=\"Open In Colab\"/></a>"
      ]
    },
    {
      "cell_type": "markdown",
      "metadata": {
        "id": "BxwuKeq71rL-",
        "colab_type": "text"
      },
      "source": [
        "IST718 | \n",
        "Live Week 3 - LM - Housing"
      ]
    },
    {
      "cell_type": "code",
      "metadata": {
        "id": "mB1l6qgfzMVh",
        "colab_type": "code",
        "colab": {}
      },
      "source": [
        "import pandas as pd \n",
        "import numpy as np \n",
        "from scipy.stats import uniform \n",
        "import statsmodels.api as sm \n",
        "import statsmodels.formula.api as smf \n",
        "import matplotlib.pyplot as plt \n",
        "import seaborn as sns\n",
        "import requests\n",
        "import bs4\n",
        "from bs4 import BeautifulSoup\n",
        "import urllib.request\n",
        "from IPython.display import HTML\n"
      ],
      "execution_count": 0,
      "outputs": []
    },
    {
      "cell_type": "markdown",
      "metadata": {
        "id": "iGcw4stA4djr",
        "colab_type": "text"
      },
      "source": [
        "## Data Acquisition, Inspection and Cleaning\n",
        "\n",
        "\n"
      ]
    },
    {
      "cell_type": "markdown",
      "metadata": {
        "id": "DRx1GlCr6pul",
        "colab_type": "text"
      },
      "source": [
        "Load the housing data file and inspect the information. "
      ]
    },
    {
      "cell_type": "markdown",
      "metadata": {
        "id": "ZjYXSYRl6Tje",
        "colab_type": "text"
      },
      "source": [
        "Call in the data and inspect it to assess changes that need to be made. \n",
        "Consider adding more detail to variable name:\n",
        "gashw - gashotwater |\n",
        "airco - aircondition\n",
        "\n"
      ]
    },
    {
      "cell_type": "code",
      "metadata": {
        "id": "eEOBHLEm2X8c",
        "colab_type": "code",
        "outputId": "4043a594-c94d-40bf-d9fe-172104d81952",
        "colab": {
          "base_uri": "https://localhost:8080/",
          "height": 163
        }
      },
      "source": [
        "housing = pd.read_csv(\"https://raw.githubusercontent.com/vincentarelbundock/Rdatasets/master/csv/Ecdat/Housing.csv\")\n",
        "\n",
        "print(pd.DataFrame.head(housing))\n"
      ],
      "execution_count": 4,
      "outputs": [
        {
          "output_type": "stream",
          "text": [
            "   Unnamed: 0    price  lotsize  bedrooms  ...  gashw  airco garagepl prefarea\n",
            "0           1  42000.0     5850         3  ...     no     no        1       no\n",
            "1           2  38500.0     4000         2  ...     no     no        0       no\n",
            "2           3  49500.0     3060         3  ...     no     no        0       no\n",
            "3           4  60500.0     6650         3  ...     no     no        0       no\n",
            "4           5  61000.0     6360         2  ...     no     no        0       no\n",
            "\n",
            "[5 rows x 13 columns]\n"
          ],
          "name": "stdout"
        }
      ]
    },
    {
      "cell_type": "markdown",
      "metadata": {
        "id": "PIdOJzmqqyf_",
        "colab_type": "text"
      },
      "source": [
        "**NOTE:** Many of the steps needed for scubbing / converting the data are not reviewed in this sample code - consider the steps you might need to take depending on your data:  replace missing data, change data types, remove special characters, etc.\n"
      ]
    },
    {
      "cell_type": "markdown",
      "metadata": {
        "id": "VnuYWZwy5FRv",
        "colab_type": "text"
      },
      "source": [
        "## Analysis and Modeling Section"
      ]
    },
    {
      "cell_type": "code",
      "metadata": {
        "id": "_GO1L1eP67Yp",
        "colab_type": "code",
        "outputId": "2c1e1704-0282-438b-cd19-50752c0e477d",
        "colab": {
          "base_uri": "https://localhost:8080/",
          "height": 288
        }
      },
      "source": [
        "housing.describe()"
      ],
      "execution_count": 5,
      "outputs": [
        {
          "output_type": "execute_result",
          "data": {
            "text/html": [
              "<div>\n",
              "<style scoped>\n",
              "    .dataframe tbody tr th:only-of-type {\n",
              "        vertical-align: middle;\n",
              "    }\n",
              "\n",
              "    .dataframe tbody tr th {\n",
              "        vertical-align: top;\n",
              "    }\n",
              "\n",
              "    .dataframe thead th {\n",
              "        text-align: right;\n",
              "    }\n",
              "</style>\n",
              "<table border=\"1\" class=\"dataframe\">\n",
              "  <thead>\n",
              "    <tr style=\"text-align: right;\">\n",
              "      <th></th>\n",
              "      <th>Unnamed: 0</th>\n",
              "      <th>price</th>\n",
              "      <th>lotsize</th>\n",
              "      <th>bedrooms</th>\n",
              "      <th>bathrms</th>\n",
              "      <th>stories</th>\n",
              "      <th>garagepl</th>\n",
              "    </tr>\n",
              "  </thead>\n",
              "  <tbody>\n",
              "    <tr>\n",
              "      <th>count</th>\n",
              "      <td>546.000000</td>\n",
              "      <td>546.000000</td>\n",
              "      <td>546.000000</td>\n",
              "      <td>546.000000</td>\n",
              "      <td>546.000000</td>\n",
              "      <td>546.000000</td>\n",
              "      <td>546.000000</td>\n",
              "    </tr>\n",
              "    <tr>\n",
              "      <th>mean</th>\n",
              "      <td>273.500000</td>\n",
              "      <td>68121.597070</td>\n",
              "      <td>5150.265568</td>\n",
              "      <td>2.965201</td>\n",
              "      <td>1.285714</td>\n",
              "      <td>1.807692</td>\n",
              "      <td>0.692308</td>\n",
              "    </tr>\n",
              "    <tr>\n",
              "      <th>std</th>\n",
              "      <td>157.760895</td>\n",
              "      <td>26702.670926</td>\n",
              "      <td>2168.158725</td>\n",
              "      <td>0.737388</td>\n",
              "      <td>0.502158</td>\n",
              "      <td>0.868203</td>\n",
              "      <td>0.861307</td>\n",
              "    </tr>\n",
              "    <tr>\n",
              "      <th>min</th>\n",
              "      <td>1.000000</td>\n",
              "      <td>25000.000000</td>\n",
              "      <td>1650.000000</td>\n",
              "      <td>1.000000</td>\n",
              "      <td>1.000000</td>\n",
              "      <td>1.000000</td>\n",
              "      <td>0.000000</td>\n",
              "    </tr>\n",
              "    <tr>\n",
              "      <th>25%</th>\n",
              "      <td>137.250000</td>\n",
              "      <td>49125.000000</td>\n",
              "      <td>3600.000000</td>\n",
              "      <td>2.000000</td>\n",
              "      <td>1.000000</td>\n",
              "      <td>1.000000</td>\n",
              "      <td>0.000000</td>\n",
              "    </tr>\n",
              "    <tr>\n",
              "      <th>50%</th>\n",
              "      <td>273.500000</td>\n",
              "      <td>62000.000000</td>\n",
              "      <td>4600.000000</td>\n",
              "      <td>3.000000</td>\n",
              "      <td>1.000000</td>\n",
              "      <td>2.000000</td>\n",
              "      <td>0.000000</td>\n",
              "    </tr>\n",
              "    <tr>\n",
              "      <th>75%</th>\n",
              "      <td>409.750000</td>\n",
              "      <td>82000.000000</td>\n",
              "      <td>6360.000000</td>\n",
              "      <td>3.000000</td>\n",
              "      <td>2.000000</td>\n",
              "      <td>2.000000</td>\n",
              "      <td>1.000000</td>\n",
              "    </tr>\n",
              "    <tr>\n",
              "      <th>max</th>\n",
              "      <td>546.000000</td>\n",
              "      <td>190000.000000</td>\n",
              "      <td>16200.000000</td>\n",
              "      <td>6.000000</td>\n",
              "      <td>4.000000</td>\n",
              "      <td>4.000000</td>\n",
              "      <td>3.000000</td>\n",
              "    </tr>\n",
              "  </tbody>\n",
              "</table>\n",
              "</div>"
            ],
            "text/plain": [
              "       Unnamed: 0          price  ...     stories    garagepl\n",
              "count  546.000000     546.000000  ...  546.000000  546.000000\n",
              "mean   273.500000   68121.597070  ...    1.807692    0.692308\n",
              "std    157.760895   26702.670926  ...    0.868203    0.861307\n",
              "min      1.000000   25000.000000  ...    1.000000    0.000000\n",
              "25%    137.250000   49125.000000  ...    1.000000    0.000000\n",
              "50%    273.500000   62000.000000  ...    2.000000    0.000000\n",
              "75%    409.750000   82000.000000  ...    2.000000    1.000000\n",
              "max    546.000000  190000.000000  ...    4.000000    3.000000\n",
              "\n",
              "[8 rows x 7 columns]"
            ]
          },
          "metadata": {
            "tags": []
          },
          "execution_count": 5
        }
      ]
    },
    {
      "cell_type": "code",
      "metadata": {
        "id": "dulvczm0_iHF",
        "colab_type": "code",
        "colab": {
          "base_uri": "https://localhost:8080/",
          "height": 599
        },
        "outputId": "ea67f796-515c-46b6-b155-7fc9757568b0"
      },
      "source": [
        "np.random.seed(4202)\n",
        "model_1 = str('price ~ lotsize +\tbedrooms + bathrms +\tstories +\tgaragepl +\tprefarea')\n",
        "model_1_fit = smf.ols(model_1, data = housing).fit()\n",
        "print(model_1_fit.summary())"
      ],
      "execution_count": 7,
      "outputs": [
        {
          "output_type": "stream",
          "text": [
            "                            OLS Regression Results                            \n",
            "==============================================================================\n",
            "Dep. Variable:                  price   R-squared:                       0.598\n",
            "Model:                            OLS   Adj. R-squared:                  0.594\n",
            "Method:                 Least Squares   F-statistic:                     133.9\n",
            "Date:                Wed, 15 Apr 2020   Prob (F-statistic):          2.07e-103\n",
            "Time:                        22:02:16   Log-Likelihood:                -6090.2\n",
            "No. Observations:                 546   AIC:                         1.219e+04\n",
            "Df Residuals:                     539   BIC:                         1.222e+04\n",
            "Df Model:                           6                                         \n",
            "Covariance Type:            nonrobust                                         \n",
            "===================================================================================\n",
            "                      coef    std err          t      P>|t|      [0.025      0.975]\n",
            "-----------------------------------------------------------------------------------\n",
            "Intercept       -1167.8588   3374.916     -0.346      0.729   -7797.460    5461.742\n",
            "prefarea[T.yes]   1.25e+04   1770.032      7.063      0.000    9024.939     1.6e+04\n",
            "lotsize             4.1823      0.372     11.243      0.000       3.452       4.913\n",
            "bedrooms         2098.2969   1134.756      1.849      0.065    -130.789    4327.382\n",
            "bathrms          1.613e+04   1623.787      9.932      0.000    1.29e+04    1.93e+04\n",
            "stories          7838.4452    939.860      8.340      0.000    5992.208    9684.682\n",
            "garagepl         5331.4387    913.102      5.839      0.000    3537.764    7125.113\n",
            "==============================================================================\n",
            "Omnibus:                       81.022   Durbin-Watson:                   1.586\n",
            "Prob(Omnibus):                  0.000   Jarque-Bera (JB):              189.068\n",
            "Skew:                           0.786   Prob(JB):                     8.80e-42\n",
            "Kurtosis:                       5.417   Cond. No.                     2.66e+04\n",
            "==============================================================================\n",
            "\n",
            "Warnings:\n",
            "[1] Standard Errors assume that the covariance matrix of the errors is correctly specified.\n",
            "[2] The condition number is large, 2.66e+04. This might indicate that there are\n",
            "strong multicollinearity or other numerical problems.\n"
          ],
          "name": "stdout"
        }
      ]
    },
    {
      "cell_type": "markdown",
      "metadata": {
        "id": "f4zPPKJtDGOk",
        "colab_type": "text"
      },
      "source": [
        "An initial run of the linear regression with all variables was helpful to begin trimming the variables that are less than helpful to train a model. Given the small number of variables building multiple models allow us to explore not only best fit but also which variables contribute the most to the model.\n"
      ]
    },
    {
      "cell_type": "code",
      "metadata": {
        "id": "v-iLi5RKWgx0",
        "colab_type": "code",
        "colab": {
          "base_uri": "https://localhost:8080/",
          "height": 645
        },
        "outputId": "21b3e383-a33b-4fb4-9331-c9cfa8353ace"
      },
      "source": [
        "# OBSERVE\n",
        "\n",
        "plt.figure(figsize=(15,10))\n",
        "sns.set(style=\"ticks\", palette=\"bright\")\n",
        "sns.boxplot(x='prefarea',\n",
        "               y='price', \n",
        "              data=housing) \n",
        " \n",
        "plt.title('Housing Price by Preferred Area')"
      ],
      "execution_count": 20,
      "outputs": [
        {
          "output_type": "execute_result",
          "data": {
            "text/plain": [
              "Text(0.5, 1.0, 'Housing Price by Preferred Area')"
            ]
          },
          "metadata": {
            "tags": []
          },
          "execution_count": 20
        },
        {
          "output_type": "display_data",
          "data": {
            "image/png": "[encoded data removed]",
            "text/plain": [
              "<Figure size 1080x720 with 1 Axes>"
            ]
          },
          "metadata": {
            "tags": [],
            "needs_background": "light"
          }
        }
      ]
    },
    {
      "cell_type": "markdown",
      "metadata": {
        "id": "N39ty_HYSzxv",
        "colab_type": "text"
      },
      "source": [
        "**NOTE:** Additional steps might be needed to select the best model and combination of variables - those steps are NOT reviewed in this sample code - consider the steps you might need to take for model evaluation (training/test set); variable selection; feature engineering; etc."
      ]
    },
    {
      "cell_type": "markdown",
      "metadata": {
        "id": "3W7w7Hu5Iw_2",
        "colab_type": "text"
      },
      "source": [
        "Second attempt at a model with a different library."
      ]
    },
    {
      "cell_type": "code",
      "metadata": {
        "id": "lrJDUgo6Tp0E",
        "colab_type": "code",
        "colab": {}
      },
      "source": [
        "from sklearn.model_selection import train_test_split \n",
        "from sklearn.linear_model import LinearRegression\n",
        "from sklearn import metrics"
      ],
      "execution_count": 0,
      "outputs": []
    },
    {
      "cell_type": "code",
      "metadata": {
        "id": "TJ7F2j10Txp0",
        "colab_type": "code",
        "colab": {
          "base_uri": "https://localhost:8080/",
          "height": 295
        },
        "outputId": "54a47532-5d6b-4043-f048-3b2b6f905ace"
      },
      "source": [
        "# EXPLORE\n",
        "\n",
        "housing.plot(x='lotsize', y='price', style='o')  \n",
        "plt.title('Lot Size vs Price')  \n",
        "plt.xlabel('Lot Size')  \n",
        "plt.ylabel('Price')  \n",
        "plt.show()"
      ],
      "execution_count": 9,
      "outputs": [
        {
          "output_type": "display_data",
          "data": {
            "image/png": "[encoded data removed]",
            "text/plain": [
              "<Figure size 432x288 with 1 Axes>"
            ]
          },
          "metadata": {
            "tags": [],
            "needs_background": "light"
          }
        }
      ]
    },
    {
      "cell_type": "code",
      "metadata": {
        "id": "rLzRcfODUPkE",
        "colab_type": "code",
        "colab": {}
      },
      "source": [
        "# SCRUB\n",
        "\n",
        "X = housing['lotsize'].values.reshape(-1,1)\n",
        "y = housing['price'].values.reshape(-1,1)"
      ],
      "execution_count": 0,
      "outputs": []
    },
    {
      "cell_type": "code",
      "metadata": {
        "id": "kzGMMm6TUwbs",
        "colab_type": "code",
        "colab": {}
      },
      "source": [
        "# SCRUB\n",
        "\n",
        "X_train, X_test, y_train, y_test = train_test_split(X, y, test_size=0.2, random_state=0)"
      ],
      "execution_count": 0,
      "outputs": []
    },
    {
      "cell_type": "code",
      "metadata": {
        "id": "xNba7gVtULJl",
        "colab_type": "code",
        "colab": {
          "base_uri": "https://localhost:8080/",
          "height": 35
        },
        "outputId": "df8883c4-5dce-4aad-dac9-c6a515d799ca"
      },
      "source": [
        "# MODEL\n",
        "\n",
        "regressor = LinearRegression()  \n",
        "regressor.fit(X_train, y_train)"
      ],
      "execution_count": 15,
      "outputs": [
        {
          "output_type": "execute_result",
          "data": {
            "text/plain": [
              "LinearRegression(copy_X=True, fit_intercept=True, n_jobs=None, normalize=False)"
            ]
          },
          "metadata": {
            "tags": []
          },
          "execution_count": 15
        }
      ]
    },
    {
      "cell_type": "code",
      "metadata": {
        "id": "QSdMKdDMVGbP",
        "colab_type": "code",
        "colab": {
          "base_uri": "https://localhost:8080/",
          "height": 54
        },
        "outputId": "79cc3946-f167-4875-bbd7-2cc7473cd10e"
      },
      "source": [
        "# ANALYZE\n",
        "\n",
        "print(regressor.intercept_)\n",
        "\n",
        "print(regressor.coef_)"
      ],
      "execution_count": 16,
      "outputs": [
        {
          "output_type": "stream",
          "text": [
            "[32139.51578209]\n",
            "[[7.00022888]]\n"
          ],
          "name": "stdout"
        }
      ]
    },
    {
      "cell_type": "code",
      "metadata": {
        "id": "0x5ivtpDInse",
        "colab_type": "code",
        "colab": {
          "base_uri": "https://localhost:8080/",
          "height": 508
        },
        "outputId": "c3332694-1133-4f28-96ad-56b79fa04378"
      },
      "source": [
        "model_2 = str('price ~ lotsize')\n",
        "model_2_fit = smf.ols(model_2, data = housing).fit()\n",
        "print(model_2_fit.summary())"
      ],
      "execution_count": 19,
      "outputs": [
        {
          "output_type": "stream",
          "text": [
            "                            OLS Regression Results                            \n",
            "==============================================================================\n",
            "Dep. Variable:                  price   R-squared:                       0.287\n",
            "Model:                            OLS   Adj. R-squared:                  0.286\n",
            "Method:                 Least Squares   F-statistic:                     219.1\n",
            "Date:                Thu, 16 Apr 2020   Prob (F-statistic):           6.77e-42\n",
            "Time:                        00:17:27   Log-Likelihood:                -6247.0\n",
            "No. Observations:                 546   AIC:                         1.250e+04\n",
            "Df Residuals:                     544   BIC:                         1.251e+04\n",
            "Df Model:                           1                                         \n",
            "Covariance Type:            nonrobust                                         \n",
            "==============================================================================\n",
            "                 coef    std err          t      P>|t|      [0.025      0.975]\n",
            "------------------------------------------------------------------------------\n",
            "Intercept   3.414e+04   2491.064     13.703      0.000    2.92e+04     3.9e+04\n",
            "lotsize        6.5988      0.446     14.801      0.000       5.723       7.475\n",
            "==============================================================================\n",
            "Omnibus:                       92.458   Durbin-Watson:                   1.089\n",
            "Prob(Omnibus):                  0.000   Jarque-Bera (JB):              183.169\n",
            "Skew:                           0.951   Prob(JB):                     1.68e-40\n",
            "Kurtosis:                       5.105   Cond. No.                     1.44e+04\n",
            "==============================================================================\n",
            "\n",
            "Warnings:\n",
            "[1] Standard Errors assume that the covariance matrix of the errors is correctly specified.\n",
            "[2] The condition number is large, 1.44e+04. This might indicate that there are\n",
            "strong multicollinearity or other numerical problems.\n"
          ],
          "name": "stdout"
        }
      ]
    },
    {
      "cell_type": "markdown",
      "metadata": {
        "id": "XcU9K9b1JUYW",
        "colab_type": "text"
      },
      "source": [
        "How do the models compare?  Is this a fair comparison?"
      ]
    }
  ]
}